{
 "cells": [
  {
   "cell_type": "code",
   "execution_count": 1,
   "id": "undefined-template",
   "metadata": {},
   "outputs": [],
   "source": [
    "import pandas as pd\n",
    "import numpy as np\n",
    "import json\n",
    "from datetime import date, datetime\n",
    "import seaborn as sns\n",
    "import math\n",
    "import matplotlib.pyplot as plt"
   ]
  },
  {
   "cell_type": "markdown",
   "id": "immune-heart",
   "metadata": {},
   "source": [
    "# Carregando a base"
   ]
  },
  {
   "cell_type": "markdown",
   "id": "specified-affairs",
   "metadata": {},
   "source": [
    "## Carregando ocorrências de 2010 até 2015"
   ]
  },
  {
   "cell_type": "code",
   "execution_count": 2,
   "id": "convenient-episode",
   "metadata": {},
   "outputs": [
    {
     "name": "stderr",
     "output_type": "stream",
     "text": [
      "/usr/local/lib/python3.8/dist-packages/IPython/core/interactiveshell.py:3165: DtypeWarning: Columns (5,6) have mixed types.Specify dtype option on import or set low_memory=False.\n",
      "  has_raised = await self.run_ast_nodes(code_ast.body, cell_name,\n"
     ]
    }
   ],
   "source": [
    "df_ocorrencias_2010_original = pd.read_csv('./dataset/por_ocorrencias/datatran2010.csv', header=0, sep=';', encoding='latin-1')\n",
    "df_ocorrencias_2011_original = pd.read_csv('./dataset/por_ocorrencias/datatran2011.csv', header=0, sep=';', encoding='latin-1')\n",
    "df_ocorrencias_2012_original = pd.read_csv('./dataset/por_ocorrencias/datatran2012.csv', header=0, sep=';', encoding='latin-1')\n",
    "df_ocorrencias_2013_original = pd.read_csv('./dataset/por_ocorrencias/datatran2013.csv', header=0, sep=';', encoding='latin-1')\n",
    "df_ocorrencias_2014_original = pd.read_csv('./dataset/por_ocorrencias/datatran2014.csv', header=0, sep=';', encoding='latin-1')\n",
    "df_ocorrencias_2015_original = pd.read_csv('./dataset/por_ocorrencias/datatran2015.csv', header=0, sep=';', encoding='latin-1')"
   ]
  },
  {
   "cell_type": "code",
   "execution_count": 3,
   "id": "aging-tooth",
   "metadata": {},
   "outputs": [],
   "source": [
    "df_ocorrencias_2010_original['ano'] = np.repeat('2010', df_ocorrencias_2010_original.shape[0])\n",
    "df_ocorrencias_2011_original['ano'] = np.repeat('2011', df_ocorrencias_2011_original.shape[0])\n",
    "df_ocorrencias_2012_original['ano'] = np.repeat('2012', df_ocorrencias_2012_original.shape[0])\n",
    "df_ocorrencias_2013_original['ano'] = np.repeat('2013', df_ocorrencias_2013_original.shape[0])\n",
    "df_ocorrencias_2014_original['ano'] = np.repeat('2014', df_ocorrencias_2014_original.shape[0])\n",
    "df_ocorrencias_2015_original['ano'] = np.repeat('2015', df_ocorrencias_2015_original.shape[0])"
   ]
  },
  {
   "cell_type": "code",
   "execution_count": 4,
   "id": "athletic-intermediate",
   "metadata": {},
   "outputs": [
    {
     "data": {
      "text/html": [
       "<div>\n",
       "<style scoped>\n",
       "    .dataframe tbody tr th:only-of-type {\n",
       "        vertical-align: middle;\n",
       "    }\n",
       "\n",
       "    .dataframe tbody tr th {\n",
       "        vertical-align: top;\n",
       "    }\n",
       "\n",
       "    .dataframe thead th {\n",
       "        text-align: right;\n",
       "    }\n",
       "</style>\n",
       "<table border=\"1\" class=\"dataframe\">\n",
       "  <thead>\n",
       "    <tr style=\"text-align: right;\">\n",
       "      <th></th>\n",
       "      <th>id</th>\n",
       "      <th>data_inversa</th>\n",
       "      <th>dia_semana</th>\n",
       "      <th>horario</th>\n",
       "      <th>uf</th>\n",
       "      <th>br</th>\n",
       "      <th>km</th>\n",
       "      <th>municipio</th>\n",
       "      <th>causa_acidente</th>\n",
       "      <th>tipo_acidente</th>\n",
       "      <th>...</th>\n",
       "      <th>uso_solo</th>\n",
       "      <th>ano</th>\n",
       "      <th>pessoas</th>\n",
       "      <th>mortos</th>\n",
       "      <th>feridos_leves</th>\n",
       "      <th>feridos_graves</th>\n",
       "      <th>ilesos</th>\n",
       "      <th>ignorados</th>\n",
       "      <th>feridos</th>\n",
       "      <th>veiculos</th>\n",
       "    </tr>\n",
       "  </thead>\n",
       "  <tbody>\n",
       "    <tr>\n",
       "      <th>0</th>\n",
       "      <td>83298209</td>\n",
       "      <td>2015-01-01</td>\n",
       "      <td>Quinta</td>\n",
       "      <td>00:05:00</td>\n",
       "      <td>RJ</td>\n",
       "      <td>101</td>\n",
       "      <td>327.0</td>\n",
       "      <td>NITEROI</td>\n",
       "      <td>Outras</td>\n",
       "      <td>Colisão traseira</td>\n",
       "      <td>...</td>\n",
       "      <td>Urbano</td>\n",
       "      <td>2015</td>\n",
       "      <td>2</td>\n",
       "      <td>0</td>\n",
       "      <td>0</td>\n",
       "      <td>0</td>\n",
       "      <td>2</td>\n",
       "      <td>0</td>\n",
       "      <td>0</td>\n",
       "      <td>2</td>\n",
       "    </tr>\n",
       "    <tr>\n",
       "      <th>1</th>\n",
       "      <td>83298218</td>\n",
       "      <td>2015-01-01</td>\n",
       "      <td>Quinta</td>\n",
       "      <td>01:20:00</td>\n",
       "      <td>MS</td>\n",
       "      <td>163</td>\n",
       "      <td>434.4</td>\n",
       "      <td>CAMPO GRANDE</td>\n",
       "      <td>Animais na Pista</td>\n",
       "      <td>Saída de Pista</td>\n",
       "      <td>...</td>\n",
       "      <td>Rural</td>\n",
       "      <td>2015</td>\n",
       "      <td>2</td>\n",
       "      <td>0</td>\n",
       "      <td>1</td>\n",
       "      <td>0</td>\n",
       "      <td>1</td>\n",
       "      <td>0</td>\n",
       "      <td>1</td>\n",
       "      <td>1</td>\n",
       "    </tr>\n",
       "    <tr>\n",
       "      <th>2</th>\n",
       "      <td>83298220</td>\n",
       "      <td>2015-01-01</td>\n",
       "      <td>Quinta</td>\n",
       "      <td>01:45:00</td>\n",
       "      <td>RJ</td>\n",
       "      <td>40</td>\n",
       "      <td>64.0</td>\n",
       "      <td>PETROPOLIS</td>\n",
       "      <td>Outras</td>\n",
       "      <td>Colisão com objeto fixo</td>\n",
       "      <td>...</td>\n",
       "      <td>Urbano</td>\n",
       "      <td>2015</td>\n",
       "      <td>2</td>\n",
       "      <td>0</td>\n",
       "      <td>0</td>\n",
       "      <td>0</td>\n",
       "      <td>2</td>\n",
       "      <td>0</td>\n",
       "      <td>0</td>\n",
       "      <td>2</td>\n",
       "    </tr>\n",
       "    <tr>\n",
       "      <th>3</th>\n",
       "      <td>83298221</td>\n",
       "      <td>2015-01-01</td>\n",
       "      <td>Quinta</td>\n",
       "      <td>02:50:00</td>\n",
       "      <td>SC</td>\n",
       "      <td>101</td>\n",
       "      <td>356.1</td>\n",
       "      <td>SANGAO</td>\n",
       "      <td>Falta de atenção</td>\n",
       "      <td>Saída de Pista</td>\n",
       "      <td>...</td>\n",
       "      <td>Urbano</td>\n",
       "      <td>2015</td>\n",
       "      <td>4</td>\n",
       "      <td>0</td>\n",
       "      <td>4</td>\n",
       "      <td>0</td>\n",
       "      <td>0</td>\n",
       "      <td>0</td>\n",
       "      <td>4</td>\n",
       "      <td>1</td>\n",
       "    </tr>\n",
       "    <tr>\n",
       "      <th>4</th>\n",
       "      <td>83298222</td>\n",
       "      <td>2015-01-01</td>\n",
       "      <td>Quinta</td>\n",
       "      <td>02:50:00</td>\n",
       "      <td>RS</td>\n",
       "      <td>101</td>\n",
       "      <td>25.9</td>\n",
       "      <td>TRES CACHOEIRAS</td>\n",
       "      <td>Falta de atenção</td>\n",
       "      <td>Saída de Pista</td>\n",
       "      <td>...</td>\n",
       "      <td>Urbano</td>\n",
       "      <td>2015</td>\n",
       "      <td>1</td>\n",
       "      <td>0</td>\n",
       "      <td>0</td>\n",
       "      <td>0</td>\n",
       "      <td>1</td>\n",
       "      <td>0</td>\n",
       "      <td>0</td>\n",
       "      <td>1</td>\n",
       "    </tr>\n",
       "  </tbody>\n",
       "</table>\n",
       "<p>5 rows × 26 columns</p>\n",
       "</div>"
      ],
      "text/plain": [
       "         id data_inversa dia_semana   horario  uf   br     km  \\\n",
       "0  83298209   2015-01-01     Quinta  00:05:00  RJ  101  327.0   \n",
       "1  83298218   2015-01-01     Quinta  01:20:00  MS  163  434.4   \n",
       "2  83298220   2015-01-01     Quinta  01:45:00  RJ   40   64.0   \n",
       "3  83298221   2015-01-01     Quinta  02:50:00  SC  101  356.1   \n",
       "4  83298222   2015-01-01     Quinta  02:50:00  RS  101   25.9   \n",
       "\n",
       "         municipio    causa_acidente            tipo_acidente  ... uso_solo  \\\n",
       "0          NITEROI            Outras         Colisão traseira  ...   Urbano   \n",
       "1     CAMPO GRANDE  Animais na Pista           Saída de Pista  ...    Rural   \n",
       "2       PETROPOLIS            Outras  Colisão com objeto fixo  ...   Urbano   \n",
       "3           SANGAO  Falta de atenção           Saída de Pista  ...   Urbano   \n",
       "4  TRES CACHOEIRAS  Falta de atenção           Saída de Pista  ...   Urbano   \n",
       "\n",
       "    ano pessoas mortos feridos_leves feridos_graves ilesos ignorados  feridos  \\\n",
       "0  2015       2      0             0              0      2         0        0   \n",
       "1  2015       2      0             1              0      1         0        1   \n",
       "2  2015       2      0             0              0      2         0        0   \n",
       "3  2015       4      0             4              0      0         0        4   \n",
       "4  2015       1      0             0              0      1         0        0   \n",
       "\n",
       "   veiculos  \n",
       "0         2  \n",
       "1         1  \n",
       "2         2  \n",
       "3         1  \n",
       "4         1  \n",
       "\n",
       "[5 rows x 26 columns]"
      ]
     },
     "execution_count": 4,
     "metadata": {},
     "output_type": "execute_result"
    }
   ],
   "source": [
    "df_ocorrencias_2015_original.head()"
   ]
  },
  {
   "cell_type": "markdown",
   "id": "comparable-absorption",
   "metadata": {},
   "source": [
    "#### Concatenando todas as bases"
   ]
  },
  {
   "cell_type": "code",
   "execution_count": 5,
   "id": "innocent-yellow",
   "metadata": {},
   "outputs": [
    {
     "name": "stdout",
     "output_type": "stream",
     "text": [
      "Total de Linhas:\t 1038473\n",
      "Total de Colunas:\t 26\n"
     ]
    }
   ],
   "source": [
    "df_ocorrencias_original = pd.concat([df_ocorrencias_2010_original, \n",
    "                                     df_ocorrencias_2011_original, \n",
    "                                     df_ocorrencias_2012_original, \n",
    "                                     df_ocorrencias_2013_original, \n",
    "                                     df_ocorrencias_2014_original, \n",
    "                                     df_ocorrencias_2015_original]).reset_index()\n",
    "df_ocorrencias_original.drop(columns='index', inplace=True)\n",
    "print(f'Total de Linhas:\\t {df_ocorrencias_original.shape[0]}\\nTotal de Colunas:\\t {df_ocorrencias_original.shape[1]}')"
   ]
  },
  {
   "cell_type": "markdown",
   "id": "handy-thickness",
   "metadata": {},
   "source": [
    "#### Listando as colunas da base"
   ]
  },
  {
   "cell_type": "code",
   "execution_count": 6,
   "id": "eleven-theme",
   "metadata": {},
   "outputs": [
    {
     "name": "stdout",
     "output_type": "stream",
     "text": [
      "<class 'pandas.core.frame.DataFrame'>\n",
      "RangeIndex: 1038473 entries, 0 to 1038472\n",
      "Data columns (total 26 columns):\n",
      " #   Column                  Non-Null Count    Dtype \n",
      "---  ------                  --------------    ----- \n",
      " 0   id                      1038473 non-null  int64 \n",
      " 1   data_inversa            1038473 non-null  object\n",
      " 2   dia_semana              1038473 non-null  object\n",
      " 3   horario                 1038473 non-null  object\n",
      " 4   uf                      1038473 non-null  object\n",
      " 5   br                      1038473 non-null  object\n",
      " 6   km                      1038473 non-null  object\n",
      " 7   municipio               1038473 non-null  object\n",
      " 8   causa_acidente          1038473 non-null  object\n",
      " 9   tipo_acidente           1038473 non-null  object\n",
      " 10  classificacao_acidente  1038473 non-null  object\n",
      " 11  fase_dia                1038473 non-null  object\n",
      " 12  sentido_via             1038473 non-null  object\n",
      " 13  condicao_metereologica  1038473 non-null  object\n",
      " 14  tipo_pista              1038473 non-null  object\n",
      " 15  tracado_via             1038473 non-null  object\n",
      " 16  uso_solo                1038473 non-null  object\n",
      " 17  ano                     1038473 non-null  object\n",
      " 18  pessoas                 1038473 non-null  int64 \n",
      " 19  mortos                  1038473 non-null  int64 \n",
      " 20  feridos_leves           1038473 non-null  int64 \n",
      " 21  feridos_graves          1038473 non-null  int64 \n",
      " 22  ilesos                  1038473 non-null  int64 \n",
      " 23  ignorados               1038473 non-null  int64 \n",
      " 24  feridos                 1038473 non-null  int64 \n",
      " 25  veiculos                1038473 non-null  int64 \n",
      "dtypes: int64(9), object(17)\n",
      "memory usage: 206.0+ MB\n"
     ]
    }
   ],
   "source": [
    "df_ocorrencias_original.info()"
   ]
  },
  {
   "cell_type": "markdown",
   "id": "automatic-merit",
   "metadata": {},
   "source": [
    "A coluna 'condicao_metereologica' está com a grafia errada"
   ]
  },
  {
   "cell_type": "code",
   "execution_count": 7,
   "id": "scientific-cabin",
   "metadata": {},
   "outputs": [],
   "source": [
    "df_ocorrencias_original.rename(columns = {'condicao_metereologica':'condicao_meteorologica'}, inplace=True)"
   ]
  },
  {
   "cell_type": "markdown",
   "id": "rental-arlington",
   "metadata": {},
   "source": [
    "# Entendimento e Pré-Processamento"
   ]
  },
  {
   "cell_type": "markdown",
   "id": "sudden-thanks",
   "metadata": {},
   "source": [
    "## Criando cópia para limpeza"
   ]
  },
  {
   "cell_type": "code",
   "execution_count": 8,
   "id": "different-republican",
   "metadata": {},
   "outputs": [],
   "source": [
    "df_ocorrencias_limpo = df_ocorrencias_original.copy()"
   ]
  },
  {
   "cell_type": "markdown",
   "id": "victorian-image",
   "metadata": {},
   "source": [
    "## Criando tabela para analisar entender quais são os tipos de cada coluna e um exemplo do conteúdo"
   ]
  },
  {
   "cell_type": "code",
   "execution_count": 9,
   "id": "apart-grounds",
   "metadata": {},
   "outputs": [
    {
     "data": {
      "text/html": [
       "<div>\n",
       "<style scoped>\n",
       "    .dataframe tbody tr th:only-of-type {\n",
       "        vertical-align: middle;\n",
       "    }\n",
       "\n",
       "    .dataframe tbody tr th {\n",
       "        vertical-align: top;\n",
       "    }\n",
       "\n",
       "    .dataframe thead th {\n",
       "        text-align: right;\n",
       "    }\n",
       "</style>\n",
       "<table border=\"1\" class=\"dataframe\">\n",
       "  <thead>\n",
       "    <tr style=\"text-align: right;\">\n",
       "      <th></th>\n",
       "      <th>coluna</th>\n",
       "      <th>tipo</th>\n",
       "      <th>exemplo</th>\n",
       "    </tr>\n",
       "  </thead>\n",
       "  <tbody>\n",
       "    <tr>\n",
       "      <th>0</th>\n",
       "      <td>id</td>\n",
       "      <td>int64</td>\n",
       "      <td>1000329</td>\n",
       "    </tr>\n",
       "    <tr>\n",
       "      <th>1</th>\n",
       "      <td>data_inversa</td>\n",
       "      <td>object</td>\n",
       "      <td>29/10/2010</td>\n",
       "    </tr>\n",
       "    <tr>\n",
       "      <th>2</th>\n",
       "      <td>dia_semana</td>\n",
       "      <td>object</td>\n",
       "      <td>Sexta</td>\n",
       "    </tr>\n",
       "    <tr>\n",
       "      <th>3</th>\n",
       "      <td>horario</td>\n",
       "      <td>object</td>\n",
       "      <td>14:20:00</td>\n",
       "    </tr>\n",
       "    <tr>\n",
       "      <th>4</th>\n",
       "      <td>uf</td>\n",
       "      <td>object</td>\n",
       "      <td>RS</td>\n",
       "    </tr>\n",
       "    <tr>\n",
       "      <th>5</th>\n",
       "      <td>br</td>\n",
       "      <td>object</td>\n",
       "      <td>285</td>\n",
       "    </tr>\n",
       "    <tr>\n",
       "      <th>6</th>\n",
       "      <td>km</td>\n",
       "      <td>object</td>\n",
       "      <td>397.3</td>\n",
       "    </tr>\n",
       "    <tr>\n",
       "      <th>7</th>\n",
       "      <td>municipio</td>\n",
       "      <td>object</td>\n",
       "      <td>SANTA BARBARA DO SUL</td>\n",
       "    </tr>\n",
       "    <tr>\n",
       "      <th>8</th>\n",
       "      <td>causa_acidente</td>\n",
       "      <td>object</td>\n",
       "      <td>Velocidade incompatível</td>\n",
       "    </tr>\n",
       "    <tr>\n",
       "      <th>9</th>\n",
       "      <td>tipo_acidente</td>\n",
       "      <td>object</td>\n",
       "      <td>Saída de Pista</td>\n",
       "    </tr>\n",
       "    <tr>\n",
       "      <th>10</th>\n",
       "      <td>classificacao_acidente</td>\n",
       "      <td>object</td>\n",
       "      <td>Sem Vítimas</td>\n",
       "    </tr>\n",
       "    <tr>\n",
       "      <th>11</th>\n",
       "      <td>fase_dia</td>\n",
       "      <td>object</td>\n",
       "      <td>Pleno dia</td>\n",
       "    </tr>\n",
       "    <tr>\n",
       "      <th>12</th>\n",
       "      <td>sentido_via</td>\n",
       "      <td>object</td>\n",
       "      <td>Crescente</td>\n",
       "    </tr>\n",
       "    <tr>\n",
       "      <th>13</th>\n",
       "      <td>condicao_meteorologica</td>\n",
       "      <td>object</td>\n",
       "      <td>Chuva</td>\n",
       "    </tr>\n",
       "    <tr>\n",
       "      <th>14</th>\n",
       "      <td>tipo_pista</td>\n",
       "      <td>object</td>\n",
       "      <td>Simples</td>\n",
       "    </tr>\n",
       "    <tr>\n",
       "      <th>15</th>\n",
       "      <td>tracado_via</td>\n",
       "      <td>object</td>\n",
       "      <td>Curva</td>\n",
       "    </tr>\n",
       "    <tr>\n",
       "      <th>16</th>\n",
       "      <td>uso_solo</td>\n",
       "      <td>object</td>\n",
       "      <td>Rural</td>\n",
       "    </tr>\n",
       "    <tr>\n",
       "      <th>17</th>\n",
       "      <td>ano</td>\n",
       "      <td>object</td>\n",
       "      <td>2010</td>\n",
       "    </tr>\n",
       "    <tr>\n",
       "      <th>18</th>\n",
       "      <td>pessoas</td>\n",
       "      <td>int64</td>\n",
       "      <td>5</td>\n",
       "    </tr>\n",
       "    <tr>\n",
       "      <th>19</th>\n",
       "      <td>mortos</td>\n",
       "      <td>int64</td>\n",
       "      <td>0</td>\n",
       "    </tr>\n",
       "    <tr>\n",
       "      <th>20</th>\n",
       "      <td>feridos_leves</td>\n",
       "      <td>int64</td>\n",
       "      <td>0</td>\n",
       "    </tr>\n",
       "    <tr>\n",
       "      <th>21</th>\n",
       "      <td>feridos_graves</td>\n",
       "      <td>int64</td>\n",
       "      <td>0</td>\n",
       "    </tr>\n",
       "    <tr>\n",
       "      <th>22</th>\n",
       "      <td>ilesos</td>\n",
       "      <td>int64</td>\n",
       "      <td>5</td>\n",
       "    </tr>\n",
       "    <tr>\n",
       "      <th>23</th>\n",
       "      <td>ignorados</td>\n",
       "      <td>int64</td>\n",
       "      <td>0</td>\n",
       "    </tr>\n",
       "    <tr>\n",
       "      <th>24</th>\n",
       "      <td>feridos</td>\n",
       "      <td>int64</td>\n",
       "      <td>0</td>\n",
       "    </tr>\n",
       "    <tr>\n",
       "      <th>25</th>\n",
       "      <td>veiculos</td>\n",
       "      <td>int64</td>\n",
       "      <td>1</td>\n",
       "    </tr>\n",
       "  </tbody>\n",
       "</table>\n",
       "</div>"
      ],
      "text/plain": [
       "                    coluna    tipo                  exemplo\n",
       "0                       id   int64                  1000329\n",
       "1             data_inversa  object               29/10/2010\n",
       "2               dia_semana  object                    Sexta\n",
       "3                  horario  object                 14:20:00\n",
       "4                       uf  object                       RS\n",
       "5                       br  object                      285\n",
       "6                       km  object                    397.3\n",
       "7                municipio  object     SANTA BARBARA DO SUL\n",
       "8           causa_acidente  object  Velocidade incompatível\n",
       "9            tipo_acidente  object           Saída de Pista\n",
       "10  classificacao_acidente  object              Sem Vítimas\n",
       "11                fase_dia  object                Pleno dia\n",
       "12             sentido_via  object                Crescente\n",
       "13  condicao_meteorologica  object                    Chuva\n",
       "14              tipo_pista  object                  Simples\n",
       "15             tracado_via  object                    Curva\n",
       "16                uso_solo  object                    Rural\n",
       "17                     ano  object                     2010\n",
       "18                 pessoas   int64                        5\n",
       "19                  mortos   int64                        0\n",
       "20           feridos_leves   int64                        0\n",
       "21          feridos_graves   int64                        0\n",
       "22                  ilesos   int64                        5\n",
       "23               ignorados   int64                        0\n",
       "24                 feridos   int64                        0\n",
       "25                veiculos   int64                        1"
      ]
     },
     "execution_count": 9,
     "metadata": {},
     "output_type": "execute_result"
    }
   ],
   "source": [
    "df_ocorrencias_informativo = pd.DataFrame(df_ocorrencias_original.dtypes).reset_index()\n",
    "df_ocorrencias_informativo.columns = ['coluna', 'tipo']\n",
    "df_ocorrencias_informativo['exemplo'] = list(df_ocorrencias_original.iloc[0])\n",
    "df_ocorrencias_informativo"
   ]
  },
  {
   "cell_type": "markdown",
   "id": "encouraging-membrane",
   "metadata": {},
   "source": [
    "## Analisando campos nulos"
   ]
  },
  {
   "cell_type": "code",
   "execution_count": 10,
   "id": "pressed-works",
   "metadata": {},
   "outputs": [
    {
     "data": {
      "text/html": [
       "<div>\n",
       "<style scoped>\n",
       "    .dataframe tbody tr th:only-of-type {\n",
       "        vertical-align: middle;\n",
       "    }\n",
       "\n",
       "    .dataframe tbody tr th {\n",
       "        vertical-align: top;\n",
       "    }\n",
       "\n",
       "    .dataframe thead th {\n",
       "        text-align: right;\n",
       "    }\n",
       "</style>\n",
       "<table border=\"1\" class=\"dataframe\">\n",
       "  <thead>\n",
       "    <tr style=\"text-align: right;\">\n",
       "      <th></th>\n",
       "      <th>coluna</th>\n",
       "      <th>qtd_vazio</th>\n",
       "    </tr>\n",
       "  </thead>\n",
       "  <tbody>\n",
       "    <tr>\n",
       "      <th>0</th>\n",
       "      <td>id</td>\n",
       "      <td>0.0</td>\n",
       "    </tr>\n",
       "    <tr>\n",
       "      <th>1</th>\n",
       "      <td>data_inversa</td>\n",
       "      <td>0.0</td>\n",
       "    </tr>\n",
       "    <tr>\n",
       "      <th>2</th>\n",
       "      <td>dia_semana</td>\n",
       "      <td>0.0</td>\n",
       "    </tr>\n",
       "    <tr>\n",
       "      <th>3</th>\n",
       "      <td>horario</td>\n",
       "      <td>0.0</td>\n",
       "    </tr>\n",
       "    <tr>\n",
       "      <th>4</th>\n",
       "      <td>uf</td>\n",
       "      <td>0.0</td>\n",
       "    </tr>\n",
       "  </tbody>\n",
       "</table>\n",
       "</div>"
      ],
      "text/plain": [
       "         coluna  qtd_vazio\n",
       "0            id        0.0\n",
       "1  data_inversa        0.0\n",
       "2    dia_semana        0.0\n",
       "3       horario        0.0\n",
       "4            uf        0.0"
      ]
     },
     "execution_count": 10,
     "metadata": {},
     "output_type": "execute_result"
    }
   ],
   "source": [
    "df_qtd_campos_vazios_por_coluna = pd.DataFrame({\n",
    "    'coluna':[],\n",
    "    'qtd_vazio':[]\n",
    "})\n",
    "\n",
    "for column in df_ocorrencias_original.columns:\n",
    "    df_aux = pd.DataFrame({\n",
    "        'coluna': [column],\n",
    "        'qtd_vazio': [df_ocorrencias_original[column].isnull().sum()]\n",
    "    })\n",
    "    df_qtd_campos_vazios_por_coluna = pd.concat([df_qtd_campos_vazios_por_coluna, df_aux])\n",
    "\n",
    "df_qtd_campos_vazios_por_coluna.reset_index().drop(columns=['index']).head()"
   ]
  },
  {
   "cell_type": "markdown",
   "id": "acute-patio",
   "metadata": {},
   "source": [
    "Atualizando base informativa"
   ]
  },
  {
   "cell_type": "code",
   "execution_count": 11,
   "id": "working-penny",
   "metadata": {},
   "outputs": [
    {
     "data": {
      "text/html": [
       "<div>\n",
       "<style scoped>\n",
       "    .dataframe tbody tr th:only-of-type {\n",
       "        vertical-align: middle;\n",
       "    }\n",
       "\n",
       "    .dataframe tbody tr th {\n",
       "        vertical-align: top;\n",
       "    }\n",
       "\n",
       "    .dataframe thead th {\n",
       "        text-align: right;\n",
       "    }\n",
       "</style>\n",
       "<table border=\"1\" class=\"dataframe\">\n",
       "  <thead>\n",
       "    <tr style=\"text-align: right;\">\n",
       "      <th></th>\n",
       "      <th>coluna</th>\n",
       "      <th>tipo</th>\n",
       "      <th>exemplo</th>\n",
       "      <th>qtd_vazio</th>\n",
       "    </tr>\n",
       "  </thead>\n",
       "  <tbody>\n",
       "    <tr>\n",
       "      <th>0</th>\n",
       "      <td>id</td>\n",
       "      <td>int64</td>\n",
       "      <td>1000329</td>\n",
       "      <td>0.0</td>\n",
       "    </tr>\n",
       "    <tr>\n",
       "      <th>1</th>\n",
       "      <td>data_inversa</td>\n",
       "      <td>object</td>\n",
       "      <td>29/10/2010</td>\n",
       "      <td>0.0</td>\n",
       "    </tr>\n",
       "    <tr>\n",
       "      <th>2</th>\n",
       "      <td>dia_semana</td>\n",
       "      <td>object</td>\n",
       "      <td>Sexta</td>\n",
       "      <td>0.0</td>\n",
       "    </tr>\n",
       "    <tr>\n",
       "      <th>3</th>\n",
       "      <td>horario</td>\n",
       "      <td>object</td>\n",
       "      <td>14:20:00</td>\n",
       "      <td>0.0</td>\n",
       "    </tr>\n",
       "    <tr>\n",
       "      <th>4</th>\n",
       "      <td>uf</td>\n",
       "      <td>object</td>\n",
       "      <td>RS</td>\n",
       "      <td>0.0</td>\n",
       "    </tr>\n",
       "    <tr>\n",
       "      <th>5</th>\n",
       "      <td>br</td>\n",
       "      <td>object</td>\n",
       "      <td>285</td>\n",
       "      <td>0.0</td>\n",
       "    </tr>\n",
       "    <tr>\n",
       "      <th>6</th>\n",
       "      <td>km</td>\n",
       "      <td>object</td>\n",
       "      <td>397.3</td>\n",
       "      <td>0.0</td>\n",
       "    </tr>\n",
       "    <tr>\n",
       "      <th>7</th>\n",
       "      <td>municipio</td>\n",
       "      <td>object</td>\n",
       "      <td>SANTA BARBARA DO SUL</td>\n",
       "      <td>0.0</td>\n",
       "    </tr>\n",
       "    <tr>\n",
       "      <th>8</th>\n",
       "      <td>causa_acidente</td>\n",
       "      <td>object</td>\n",
       "      <td>Velocidade incompatível</td>\n",
       "      <td>0.0</td>\n",
       "    </tr>\n",
       "    <tr>\n",
       "      <th>9</th>\n",
       "      <td>tipo_acidente</td>\n",
       "      <td>object</td>\n",
       "      <td>Saída de Pista</td>\n",
       "      <td>0.0</td>\n",
       "    </tr>\n",
       "    <tr>\n",
       "      <th>10</th>\n",
       "      <td>classificacao_acidente</td>\n",
       "      <td>object</td>\n",
       "      <td>Sem Vítimas</td>\n",
       "      <td>0.0</td>\n",
       "    </tr>\n",
       "    <tr>\n",
       "      <th>11</th>\n",
       "      <td>fase_dia</td>\n",
       "      <td>object</td>\n",
       "      <td>Pleno dia</td>\n",
       "      <td>0.0</td>\n",
       "    </tr>\n",
       "    <tr>\n",
       "      <th>12</th>\n",
       "      <td>sentido_via</td>\n",
       "      <td>object</td>\n",
       "      <td>Crescente</td>\n",
       "      <td>0.0</td>\n",
       "    </tr>\n",
       "    <tr>\n",
       "      <th>13</th>\n",
       "      <td>condicao_meteorologica</td>\n",
       "      <td>object</td>\n",
       "      <td>Chuva</td>\n",
       "      <td>0.0</td>\n",
       "    </tr>\n",
       "    <tr>\n",
       "      <th>14</th>\n",
       "      <td>tipo_pista</td>\n",
       "      <td>object</td>\n",
       "      <td>Simples</td>\n",
       "      <td>0.0</td>\n",
       "    </tr>\n",
       "    <tr>\n",
       "      <th>15</th>\n",
       "      <td>tracado_via</td>\n",
       "      <td>object</td>\n",
       "      <td>Curva</td>\n",
       "      <td>0.0</td>\n",
       "    </tr>\n",
       "    <tr>\n",
       "      <th>16</th>\n",
       "      <td>uso_solo</td>\n",
       "      <td>object</td>\n",
       "      <td>Rural</td>\n",
       "      <td>0.0</td>\n",
       "    </tr>\n",
       "    <tr>\n",
       "      <th>17</th>\n",
       "      <td>ano</td>\n",
       "      <td>object</td>\n",
       "      <td>2010</td>\n",
       "      <td>0.0</td>\n",
       "    </tr>\n",
       "    <tr>\n",
       "      <th>18</th>\n",
       "      <td>pessoas</td>\n",
       "      <td>int64</td>\n",
       "      <td>5</td>\n",
       "      <td>0.0</td>\n",
       "    </tr>\n",
       "    <tr>\n",
       "      <th>19</th>\n",
       "      <td>mortos</td>\n",
       "      <td>int64</td>\n",
       "      <td>0</td>\n",
       "      <td>0.0</td>\n",
       "    </tr>\n",
       "    <tr>\n",
       "      <th>20</th>\n",
       "      <td>feridos_leves</td>\n",
       "      <td>int64</td>\n",
       "      <td>0</td>\n",
       "      <td>0.0</td>\n",
       "    </tr>\n",
       "    <tr>\n",
       "      <th>21</th>\n",
       "      <td>feridos_graves</td>\n",
       "      <td>int64</td>\n",
       "      <td>0</td>\n",
       "      <td>0.0</td>\n",
       "    </tr>\n",
       "    <tr>\n",
       "      <th>22</th>\n",
       "      <td>ilesos</td>\n",
       "      <td>int64</td>\n",
       "      <td>5</td>\n",
       "      <td>0.0</td>\n",
       "    </tr>\n",
       "    <tr>\n",
       "      <th>23</th>\n",
       "      <td>ignorados</td>\n",
       "      <td>int64</td>\n",
       "      <td>0</td>\n",
       "      <td>0.0</td>\n",
       "    </tr>\n",
       "    <tr>\n",
       "      <th>24</th>\n",
       "      <td>feridos</td>\n",
       "      <td>int64</td>\n",
       "      <td>0</td>\n",
       "      <td>0.0</td>\n",
       "    </tr>\n",
       "    <tr>\n",
       "      <th>25</th>\n",
       "      <td>veiculos</td>\n",
       "      <td>int64</td>\n",
       "      <td>1</td>\n",
       "      <td>0.0</td>\n",
       "    </tr>\n",
       "  </tbody>\n",
       "</table>\n",
       "</div>"
      ],
      "text/plain": [
       "                    coluna    tipo                  exemplo  qtd_vazio\n",
       "0                       id   int64                  1000329        0.0\n",
       "1             data_inversa  object               29/10/2010        0.0\n",
       "2               dia_semana  object                    Sexta        0.0\n",
       "3                  horario  object                 14:20:00        0.0\n",
       "4                       uf  object                       RS        0.0\n",
       "5                       br  object                      285        0.0\n",
       "6                       km  object                    397.3        0.0\n",
       "7                municipio  object     SANTA BARBARA DO SUL        0.0\n",
       "8           causa_acidente  object  Velocidade incompatível        0.0\n",
       "9            tipo_acidente  object           Saída de Pista        0.0\n",
       "10  classificacao_acidente  object              Sem Vítimas        0.0\n",
       "11                fase_dia  object                Pleno dia        0.0\n",
       "12             sentido_via  object                Crescente        0.0\n",
       "13  condicao_meteorologica  object                    Chuva        0.0\n",
       "14              tipo_pista  object                  Simples        0.0\n",
       "15             tracado_via  object                    Curva        0.0\n",
       "16                uso_solo  object                    Rural        0.0\n",
       "17                     ano  object                     2010        0.0\n",
       "18                 pessoas   int64                        5        0.0\n",
       "19                  mortos   int64                        0        0.0\n",
       "20           feridos_leves   int64                        0        0.0\n",
       "21          feridos_graves   int64                        0        0.0\n",
       "22                  ilesos   int64                        5        0.0\n",
       "23               ignorados   int64                        0        0.0\n",
       "24                 feridos   int64                        0        0.0\n",
       "25                veiculos   int64                        1        0.0"
      ]
     },
     "execution_count": 11,
     "metadata": {},
     "output_type": "execute_result"
    }
   ],
   "source": [
    "df_ocorrencias_informativo.set_index('coluna').merge(df_qtd_campos_vazios_por_coluna.set_index('coluna'), on='coluna').reset_index()"
   ]
  },
  {
   "cell_type": "markdown",
   "id": "fancy-circuit",
   "metadata": {},
   "source": [
    "Aparentemente não existem campos nulos na base."
   ]
  },
  {
   "cell_type": "markdown",
   "id": "architectural-accident",
   "metadata": {},
   "source": [
    "## Iniciando análise individual por colunas do tipo object"
   ]
  },
  {
   "cell_type": "markdown",
   "id": "honey-notice",
   "metadata": {},
   "source": [
    "### data_inversa"
   ]
  },
  {
   "cell_type": "code",
   "execution_count": 12,
   "id": "peaceful-train",
   "metadata": {},
   "outputs": [
    {
     "data": {
      "text/html": [
       "<div>\n",
       "<style scoped>\n",
       "    .dataframe tbody tr th:only-of-type {\n",
       "        vertical-align: middle;\n",
       "    }\n",
       "\n",
       "    .dataframe tbody tr th {\n",
       "        vertical-align: top;\n",
       "    }\n",
       "\n",
       "    .dataframe thead th {\n",
       "        text-align: right;\n",
       "    }\n",
       "</style>\n",
       "<table border=\"1\" class=\"dataframe\">\n",
       "  <thead>\n",
       "    <tr style=\"text-align: right;\">\n",
       "      <th></th>\n",
       "      <th>data_inversa</th>\n",
       "    </tr>\n",
       "  </thead>\n",
       "  <tbody>\n",
       "    <tr>\n",
       "      <th>0</th>\n",
       "      <td>29/10/2010</td>\n",
       "    </tr>\n",
       "    <tr>\n",
       "      <th>1</th>\n",
       "      <td>14/12/2010</td>\n",
       "    </tr>\n",
       "    <tr>\n",
       "      <th>2</th>\n",
       "      <td>07/03/2010</td>\n",
       "    </tr>\n",
       "    <tr>\n",
       "      <th>3</th>\n",
       "      <td>26/10/2010</td>\n",
       "    </tr>\n",
       "    <tr>\n",
       "      <th>4</th>\n",
       "      <td>15/09/2010</td>\n",
       "    </tr>\n",
       "    <tr>\n",
       "      <th>...</th>\n",
       "      <td>...</td>\n",
       "    </tr>\n",
       "    <tr>\n",
       "      <th>1038468</th>\n",
       "      <td>2015-12-05</td>\n",
       "    </tr>\n",
       "    <tr>\n",
       "      <th>1038469</th>\n",
       "      <td>2015-11-23</td>\n",
       "    </tr>\n",
       "    <tr>\n",
       "      <th>1038470</th>\n",
       "      <td>2015-12-24</td>\n",
       "    </tr>\n",
       "    <tr>\n",
       "      <th>1038471</th>\n",
       "      <td>2015-07-13</td>\n",
       "    </tr>\n",
       "    <tr>\n",
       "      <th>1038472</th>\n",
       "      <td>2015-07-13</td>\n",
       "    </tr>\n",
       "  </tbody>\n",
       "</table>\n",
       "<p>1038473 rows × 1 columns</p>\n",
       "</div>"
      ],
      "text/plain": [
       "        data_inversa\n",
       "0         29/10/2010\n",
       "1         14/12/2010\n",
       "2         07/03/2010\n",
       "3         26/10/2010\n",
       "4         15/09/2010\n",
       "...              ...\n",
       "1038468   2015-12-05\n",
       "1038469   2015-11-23\n",
       "1038470   2015-12-24\n",
       "1038471   2015-07-13\n",
       "1038472   2015-07-13\n",
       "\n",
       "[1038473 rows x 1 columns]"
      ]
     },
     "execution_count": 12,
     "metadata": {},
     "output_type": "execute_result"
    }
   ],
   "source": [
    "df_ocorrencias_original[['data_inversa']]"
   ]
  },
  {
   "cell_type": "code",
   "execution_count": 13,
   "id": "aggregate-component",
   "metadata": {},
   "outputs": [
    {
     "data": {
      "text/plain": [
       "2191"
      ]
     },
     "execution_count": 13,
     "metadata": {},
     "output_type": "execute_result"
    }
   ],
   "source": [
    "len(df_ocorrencias_original.data_inversa.unique())"
   ]
  },
  {
   "cell_type": "markdown",
   "id": "seasonal-appendix",
   "metadata": {},
   "source": [
    "Existem 2191 datas diferentes. Estamos analisando 6 anos (2010 até 2015). Pesquisando no Google, o ano de 2012 teve 366 dias, enquanto os outros 5 tiveram 365."
   ]
  },
  {
   "cell_type": "code",
   "execution_count": 14,
   "id": "bulgarian-candle",
   "metadata": {},
   "outputs": [
    {
     "name": "stdout",
     "output_type": "stream",
     "text": [
      "(365 * 5) + 366 = 2191\n"
     ]
    }
   ],
   "source": [
    "print(f'(365 * 5) + 366 = {(365 * 5) + 366}')"
   ]
  },
  {
   "cell_type": "markdown",
   "id": "beneficial-audio",
   "metadata": {},
   "source": [
    "Temos registro de ocorrências todos os dias.\n",
    "\n",
    "Imprimindo a tabela, notamos que as datas do head() possuem o padrão dd/mm/yyyy, enquanto as do tail() possuem o padrão yyyy-mm-dd. Em quais anos cada padrão se aplica?"
   ]
  },
  {
   "cell_type": "code",
   "execution_count": 15,
   "id": "enclosed-kruger",
   "metadata": {},
   "outputs": [
    {
     "name": "stdout",
     "output_type": "stream",
     "text": [
      "CPU times: user 1min 3s, sys: 168 ms, total: 1min 3s\n",
      "Wall time: 1min 3s\n"
     ]
    },
    {
     "data": {
      "text/plain": [
       "1038473"
      ]
     },
     "execution_count": 15,
     "metadata": {},
     "output_type": "execute_result"
    }
   ],
   "source": [
    "%%time\n",
    "import re\n",
    "\n",
    "# buscando datas no formato dd/mm/yyyy\n",
    "padrao_data = re.compile(\"([0-3][0-9])(/)([0-1][0-9])(/)(20[0-9][0-9])\")\n",
    "\n",
    "formato_esperado = []\n",
    "for idx, row in df_ocorrencias_original.iterrows():\n",
    "    padrao_encontrado = re.search(padrao_data, row['data_inversa'])\n",
    "    if padrao_encontrado:\n",
    "        formato_esperado.append(True)\n",
    "    else:\n",
    "        formato_esperado.append(False)\n",
    "\n",
    "len(formato_esperado)"
   ]
  },
  {
   "cell_type": "code",
   "execution_count": 16,
   "id": "second-detroit",
   "metadata": {},
   "outputs": [
    {
     "data": {
      "text/html": [
       "<div>\n",
       "<style scoped>\n",
       "    .dataframe tbody tr th:only-of-type {\n",
       "        vertical-align: middle;\n",
       "    }\n",
       "\n",
       "    .dataframe tbody tr th {\n",
       "        vertical-align: top;\n",
       "    }\n",
       "\n",
       "    .dataframe thead th {\n",
       "        text-align: right;\n",
       "    }\n",
       "</style>\n",
       "<table border=\"1\" class=\"dataframe\">\n",
       "  <thead>\n",
       "    <tr style=\"text-align: right;\">\n",
       "      <th></th>\n",
       "      <th>id</th>\n",
       "      <th>data_inversa</th>\n",
       "      <th>ano</th>\n",
       "      <th>ddMMyyyy</th>\n",
       "    </tr>\n",
       "  </thead>\n",
       "  <tbody>\n",
       "    <tr>\n",
       "      <th>0</th>\n",
       "      <td>1000329</td>\n",
       "      <td>29/10/2010</td>\n",
       "      <td>2010</td>\n",
       "      <td>True</td>\n",
       "    </tr>\n",
       "    <tr>\n",
       "      <th>1</th>\n",
       "      <td>1000837</td>\n",
       "      <td>14/12/2010</td>\n",
       "      <td>2010</td>\n",
       "      <td>True</td>\n",
       "    </tr>\n",
       "    <tr>\n",
       "      <th>2</th>\n",
       "      <td>1002150</td>\n",
       "      <td>07/03/2010</td>\n",
       "      <td>2010</td>\n",
       "      <td>True</td>\n",
       "    </tr>\n",
       "    <tr>\n",
       "      <th>3</th>\n",
       "      <td>1003283</td>\n",
       "      <td>26/10/2010</td>\n",
       "      <td>2010</td>\n",
       "      <td>True</td>\n",
       "    </tr>\n",
       "    <tr>\n",
       "      <th>4</th>\n",
       "      <td>1004212</td>\n",
       "      <td>15/09/2010</td>\n",
       "      <td>2010</td>\n",
       "      <td>True</td>\n",
       "    </tr>\n",
       "  </tbody>\n",
       "</table>\n",
       "</div>"
      ],
      "text/plain": [
       "        id data_inversa   ano  ddMMyyyy\n",
       "0  1000329   29/10/2010  2010      True\n",
       "1  1000837   14/12/2010  2010      True\n",
       "2  1002150   07/03/2010  2010      True\n",
       "3  1003283   26/10/2010  2010      True\n",
       "4  1004212   15/09/2010  2010      True"
      ]
     },
     "execution_count": 16,
     "metadata": {},
     "output_type": "execute_result"
    }
   ],
   "source": [
    "df_analise_data = df_ocorrencias_original[['id', 'data_inversa', 'ano']].copy()\n",
    "df_analise_data['ddMMyyyy'] = formato_esperado\n",
    "df_analise_data.head()"
   ]
  },
  {
   "cell_type": "code",
   "execution_count": 17,
   "id": "amateur-welsh",
   "metadata": {},
   "outputs": [
    {
     "data": {
      "text/html": [
       "<div>\n",
       "<style scoped>\n",
       "    .dataframe tbody tr th:only-of-type {\n",
       "        vertical-align: middle;\n",
       "    }\n",
       "\n",
       "    .dataframe tbody tr th {\n",
       "        vertical-align: top;\n",
       "    }\n",
       "\n",
       "    .dataframe thead th {\n",
       "        text-align: right;\n",
       "    }\n",
       "</style>\n",
       "<table border=\"1\" class=\"dataframe\">\n",
       "  <thead>\n",
       "    <tr style=\"text-align: right;\">\n",
       "      <th></th>\n",
       "      <th>ano</th>\n",
       "      <th>dd/MM/yyyy</th>\n",
       "    </tr>\n",
       "  </thead>\n",
       "  <tbody>\n",
       "    <tr>\n",
       "      <th>0</th>\n",
       "      <td>2010</td>\n",
       "      <td>183469</td>\n",
       "    </tr>\n",
       "    <tr>\n",
       "      <th>1</th>\n",
       "      <td>2011</td>\n",
       "      <td>192326</td>\n",
       "    </tr>\n",
       "  </tbody>\n",
       "</table>\n",
       "</div>"
      ],
      "text/plain": [
       "    ano  dd/MM/yyyy\n",
       "0  2010      183469\n",
       "1  2011      192326"
      ]
     },
     "execution_count": 17,
     "metadata": {},
     "output_type": "execute_result"
    }
   ],
   "source": [
    "df_by_ano_com_padrao_ddMMyyyy = df_analise_data.query('ddMMyyyy == True').groupby('ano').agg({'id':'count'}).reset_index().rename(columns={'id':'dd/MM/yyyy'})\n",
    "df_by_ano_com_padrao_ddMMyyyy"
   ]
  },
  {
   "cell_type": "code",
   "execution_count": 18,
   "id": "earned-intermediate",
   "metadata": {},
   "outputs": [
    {
     "name": "stdout",
     "output_type": "stream",
     "text": [
      "CPU times: user 1min 3s, sys: 110 ms, total: 1min 3s\n",
      "Wall time: 1min 3s\n"
     ]
    },
    {
     "data": {
      "text/plain": [
       "1038473"
      ]
     },
     "execution_count": 18,
     "metadata": {},
     "output_type": "execute_result"
    }
   ],
   "source": [
    "%%time\n",
    "import re\n",
    "\n",
    "# buscando datas no formato yyyy-dd-mm\n",
    "padrao_data = re.compile(\"(20[0-9][0-9])(-)([0-1][0-9])(-)([0-3][0-9])\")\n",
    "\n",
    "formato_esperado = []\n",
    "for idx, row in df_ocorrencias_original.iterrows():\n",
    "    padrao_encontrado = re.search(padrao_data, row['data_inversa'])\n",
    "    if padrao_encontrado:\n",
    "        formato_esperado.append(True)\n",
    "    else:\n",
    "        formato_esperado.append(False)\n",
    "\n",
    "len(formato_esperado)"
   ]
  },
  {
   "cell_type": "code",
   "execution_count": 19,
   "id": "steady-sampling",
   "metadata": {},
   "outputs": [
    {
     "data": {
      "text/html": [
       "<div>\n",
       "<style scoped>\n",
       "    .dataframe tbody tr th:only-of-type {\n",
       "        vertical-align: middle;\n",
       "    }\n",
       "\n",
       "    .dataframe tbody tr th {\n",
       "        vertical-align: top;\n",
       "    }\n",
       "\n",
       "    .dataframe thead th {\n",
       "        text-align: right;\n",
       "    }\n",
       "</style>\n",
       "<table border=\"1\" class=\"dataframe\">\n",
       "  <thead>\n",
       "    <tr style=\"text-align: right;\">\n",
       "      <th></th>\n",
       "      <th>id</th>\n",
       "      <th>data_inversa</th>\n",
       "      <th>ano</th>\n",
       "      <th>ddMMyyyy</th>\n",
       "      <th>yyyyMMdd</th>\n",
       "    </tr>\n",
       "  </thead>\n",
       "  <tbody>\n",
       "    <tr>\n",
       "      <th>0</th>\n",
       "      <td>1000329</td>\n",
       "      <td>29/10/2010</td>\n",
       "      <td>2010</td>\n",
       "      <td>True</td>\n",
       "      <td>False</td>\n",
       "    </tr>\n",
       "    <tr>\n",
       "      <th>1</th>\n",
       "      <td>1000837</td>\n",
       "      <td>14/12/2010</td>\n",
       "      <td>2010</td>\n",
       "      <td>True</td>\n",
       "      <td>False</td>\n",
       "    </tr>\n",
       "    <tr>\n",
       "      <th>2</th>\n",
       "      <td>1002150</td>\n",
       "      <td>07/03/2010</td>\n",
       "      <td>2010</td>\n",
       "      <td>True</td>\n",
       "      <td>False</td>\n",
       "    </tr>\n",
       "    <tr>\n",
       "      <th>3</th>\n",
       "      <td>1003283</td>\n",
       "      <td>26/10/2010</td>\n",
       "      <td>2010</td>\n",
       "      <td>True</td>\n",
       "      <td>False</td>\n",
       "    </tr>\n",
       "    <tr>\n",
       "      <th>4</th>\n",
       "      <td>1004212</td>\n",
       "      <td>15/09/2010</td>\n",
       "      <td>2010</td>\n",
       "      <td>True</td>\n",
       "      <td>False</td>\n",
       "    </tr>\n",
       "  </tbody>\n",
       "</table>\n",
       "</div>"
      ],
      "text/plain": [
       "        id data_inversa   ano  ddMMyyyy  yyyyMMdd\n",
       "0  1000329   29/10/2010  2010      True     False\n",
       "1  1000837   14/12/2010  2010      True     False\n",
       "2  1002150   07/03/2010  2010      True     False\n",
       "3  1003283   26/10/2010  2010      True     False\n",
       "4  1004212   15/09/2010  2010      True     False"
      ]
     },
     "execution_count": 19,
     "metadata": {},
     "output_type": "execute_result"
    }
   ],
   "source": [
    "df_analise_data['yyyyMMdd'] = formato_esperado\n",
    "df_analise_data.head()"
   ]
  },
  {
   "cell_type": "code",
   "execution_count": 20,
   "id": "deadly-increase",
   "metadata": {},
   "outputs": [
    {
     "data": {
      "text/html": [
       "<div>\n",
       "<style scoped>\n",
       "    .dataframe tbody tr th:only-of-type {\n",
       "        vertical-align: middle;\n",
       "    }\n",
       "\n",
       "    .dataframe tbody tr th {\n",
       "        vertical-align: top;\n",
       "    }\n",
       "\n",
       "    .dataframe thead th {\n",
       "        text-align: right;\n",
       "    }\n",
       "</style>\n",
       "<table border=\"1\" class=\"dataframe\">\n",
       "  <thead>\n",
       "    <tr style=\"text-align: right;\">\n",
       "      <th></th>\n",
       "      <th>ano</th>\n",
       "      <th>yyyy-MM-dd</th>\n",
       "    </tr>\n",
       "  </thead>\n",
       "  <tbody>\n",
       "    <tr>\n",
       "      <th>0</th>\n",
       "      <td>2012</td>\n",
       "      <td>184568</td>\n",
       "    </tr>\n",
       "    <tr>\n",
       "      <th>1</th>\n",
       "      <td>2013</td>\n",
       "      <td>186748</td>\n",
       "    </tr>\n",
       "    <tr>\n",
       "      <th>2</th>\n",
       "      <td>2014</td>\n",
       "      <td>169201</td>\n",
       "    </tr>\n",
       "    <tr>\n",
       "      <th>3</th>\n",
       "      <td>2015</td>\n",
       "      <td>122161</td>\n",
       "    </tr>\n",
       "  </tbody>\n",
       "</table>\n",
       "</div>"
      ],
      "text/plain": [
       "    ano  yyyy-MM-dd\n",
       "0  2012      184568\n",
       "1  2013      186748\n",
       "2  2014      169201\n",
       "3  2015      122161"
      ]
     },
     "execution_count": 20,
     "metadata": {},
     "output_type": "execute_result"
    }
   ],
   "source": [
    "df_by_ano_com_padrao_yyyyMMdd = df_analise_data.query('yyyyMMdd == True').groupby('ano').agg({'id':'count'}).reset_index().rename(columns={'id':'yyyy-MM-dd'})\n",
    "df_by_ano_com_padrao_yyyyMMdd"
   ]
  },
  {
   "cell_type": "code",
   "execution_count": 21,
   "id": "homeless-greeting",
   "metadata": {},
   "outputs": [
    {
     "data": {
      "text/html": [
       "<div>\n",
       "<style scoped>\n",
       "    .dataframe tbody tr th:only-of-type {\n",
       "        vertical-align: middle;\n",
       "    }\n",
       "\n",
       "    .dataframe tbody tr th {\n",
       "        vertical-align: top;\n",
       "    }\n",
       "\n",
       "    .dataframe thead th {\n",
       "        text-align: right;\n",
       "    }\n",
       "</style>\n",
       "<table border=\"1\" class=\"dataframe\">\n",
       "  <thead>\n",
       "    <tr style=\"text-align: right;\">\n",
       "      <th></th>\n",
       "      <th>ano</th>\n",
       "      <th>total_registros</th>\n",
       "    </tr>\n",
       "  </thead>\n",
       "  <tbody>\n",
       "    <tr>\n",
       "      <th>0</th>\n",
       "      <td>2010</td>\n",
       "      <td>183469</td>\n",
       "    </tr>\n",
       "    <tr>\n",
       "      <th>1</th>\n",
       "      <td>2011</td>\n",
       "      <td>192326</td>\n",
       "    </tr>\n",
       "    <tr>\n",
       "      <th>2</th>\n",
       "      <td>2012</td>\n",
       "      <td>184568</td>\n",
       "    </tr>\n",
       "    <tr>\n",
       "      <th>3</th>\n",
       "      <td>2013</td>\n",
       "      <td>186748</td>\n",
       "    </tr>\n",
       "    <tr>\n",
       "      <th>4</th>\n",
       "      <td>2014</td>\n",
       "      <td>169201</td>\n",
       "    </tr>\n",
       "    <tr>\n",
       "      <th>5</th>\n",
       "      <td>2015</td>\n",
       "      <td>122161</td>\n",
       "    </tr>\n",
       "  </tbody>\n",
       "</table>\n",
       "</div>"
      ],
      "text/plain": [
       "    ano  total_registros\n",
       "0  2010           183469\n",
       "1  2011           192326\n",
       "2  2012           184568\n",
       "3  2013           186748\n",
       "4  2014           169201\n",
       "5  2015           122161"
      ]
     },
     "execution_count": 21,
     "metadata": {},
     "output_type": "execute_result"
    }
   ],
   "source": [
    "df_total_registros_por_ano = df_ocorrencias_original.groupby('ano').agg({'id':'count'}).reset_index().rename(columns={'id':'total_registros'})\n",
    "df_total_registros_por_ano"
   ]
  },
  {
   "cell_type": "code",
   "execution_count": 22,
   "id": "particular-right",
   "metadata": {},
   "outputs": [
    {
     "name": "stdout",
     "output_type": "stream",
     "text": [
      "<class 'pandas.core.frame.DataFrame'>\n",
      "RangeIndex: 6 entries, 0 to 5\n",
      "Data columns (total 2 columns):\n",
      " #   Column           Non-Null Count  Dtype \n",
      "---  ------           --------------  ----- \n",
      " 0   ano              6 non-null      object\n",
      " 1   total_registros  6 non-null      int64 \n",
      "dtypes: int64(1), object(1)\n",
      "memory usage: 224.0+ bytes\n"
     ]
    }
   ],
   "source": [
    "df_total_registros_por_ano.info()"
   ]
  },
  {
   "cell_type": "code",
   "execution_count": 23,
   "id": "defined-nomination",
   "metadata": {},
   "outputs": [
    {
     "data": {
      "text/html": [
       "<div>\n",
       "<style scoped>\n",
       "    .dataframe tbody tr th:only-of-type {\n",
       "        vertical-align: middle;\n",
       "    }\n",
       "\n",
       "    .dataframe tbody tr th {\n",
       "        vertical-align: top;\n",
       "    }\n",
       "\n",
       "    .dataframe thead th {\n",
       "        text-align: right;\n",
       "    }\n",
       "</style>\n",
       "<table border=\"1\" class=\"dataframe\">\n",
       "  <thead>\n",
       "    <tr style=\"text-align: right;\">\n",
       "      <th></th>\n",
       "      <th>index</th>\n",
       "      <th>ano</th>\n",
       "      <th>total_registros</th>\n",
       "      <th>yyyy-MM-dd</th>\n",
       "      <th>dd/MM/yyyy</th>\n",
       "    </tr>\n",
       "  </thead>\n",
       "  <tbody>\n",
       "    <tr>\n",
       "      <th>0</th>\n",
       "      <td>0</td>\n",
       "      <td>2010</td>\n",
       "      <td>183469</td>\n",
       "      <td>0.0</td>\n",
       "      <td>183469.0</td>\n",
       "    </tr>\n",
       "    <tr>\n",
       "      <th>1</th>\n",
       "      <td>1</td>\n",
       "      <td>2011</td>\n",
       "      <td>192326</td>\n",
       "      <td>0.0</td>\n",
       "      <td>192326.0</td>\n",
       "    </tr>\n",
       "    <tr>\n",
       "      <th>2</th>\n",
       "      <td>2</td>\n",
       "      <td>2012</td>\n",
       "      <td>184568</td>\n",
       "      <td>184568.0</td>\n",
       "      <td>0.0</td>\n",
       "    </tr>\n",
       "    <tr>\n",
       "      <th>3</th>\n",
       "      <td>3</td>\n",
       "      <td>2013</td>\n",
       "      <td>186748</td>\n",
       "      <td>186748.0</td>\n",
       "      <td>0.0</td>\n",
       "    </tr>\n",
       "    <tr>\n",
       "      <th>4</th>\n",
       "      <td>4</td>\n",
       "      <td>2014</td>\n",
       "      <td>169201</td>\n",
       "      <td>169201.0</td>\n",
       "      <td>0.0</td>\n",
       "    </tr>\n",
       "    <tr>\n",
       "      <th>5</th>\n",
       "      <td>5</td>\n",
       "      <td>2015</td>\n",
       "      <td>122161</td>\n",
       "      <td>122161.0</td>\n",
       "      <td>0.0</td>\n",
       "    </tr>\n",
       "  </tbody>\n",
       "</table>\n",
       "</div>"
      ],
      "text/plain": [
       "   index   ano  total_registros  yyyy-MM-dd  dd/MM/yyyy\n",
       "0      0  2010           183469         0.0    183469.0\n",
       "1      1  2011           192326         0.0    192326.0\n",
       "2      2  2012           184568    184568.0         0.0\n",
       "3      3  2013           186748    186748.0         0.0\n",
       "4      4  2014           169201    169201.0         0.0\n",
       "5      5  2015           122161    122161.0         0.0"
      ]
     },
     "execution_count": 23,
     "metadata": {},
     "output_type": "execute_result"
    }
   ],
   "source": [
    "df_total_registros_por_ano.set_index('ano')\\\n",
    ".merge(df_by_ano_com_padrao_yyyyMMdd.set_index('ano'), on='ano', how='left').reset_index()\\\n",
    ".merge(df_by_ano_com_padrao_ddMMyyyy.set_index('ano'), on='ano', how='left').reset_index()\\\n",
    ".fillna(0)"
   ]
  },
  {
   "cell_type": "markdown",
   "id": "large-tactics",
   "metadata": {},
   "source": [
    "Os anos de 2010 e 2011 possuem todas as datas no formato **dd/mm/yyyy**, enquanto de 2012 em diante as datas possuem o formato inverso **yyyy-mm-dd**\n",
    "\n",
    "O ideal é que este campo fosse do tipo data."
   ]
  },
  {
   "cell_type": "code",
   "execution_count": 24,
   "id": "vertical-extent",
   "metadata": {},
   "outputs": [
    {
     "name": "stdout",
     "output_type": "stream",
     "text": [
      "CPU times: user 3min 6s, sys: 480 ms, total: 3min 6s\n",
      "Wall time: 3min 6s\n"
     ]
    },
    {
     "data": {
      "text/html": [
       "<div>\n",
       "<style scoped>\n",
       "    .dataframe tbody tr th:only-of-type {\n",
       "        vertical-align: middle;\n",
       "    }\n",
       "\n",
       "    .dataframe tbody tr th {\n",
       "        vertical-align: top;\n",
       "    }\n",
       "\n",
       "    .dataframe thead th {\n",
       "        text-align: right;\n",
       "    }\n",
       "</style>\n",
       "<table border=\"1\" class=\"dataframe\">\n",
       "  <thead>\n",
       "    <tr style=\"text-align: right;\">\n",
       "      <th></th>\n",
       "      <th>data_inversa</th>\n",
       "    </tr>\n",
       "  </thead>\n",
       "  <tbody>\n",
       "    <tr>\n",
       "      <th>0</th>\n",
       "      <td>2010-10-29</td>\n",
       "    </tr>\n",
       "    <tr>\n",
       "      <th>1</th>\n",
       "      <td>2010-12-14</td>\n",
       "    </tr>\n",
       "    <tr>\n",
       "      <th>2</th>\n",
       "      <td>2010-03-07</td>\n",
       "    </tr>\n",
       "    <tr>\n",
       "      <th>3</th>\n",
       "      <td>2010-10-26</td>\n",
       "    </tr>\n",
       "    <tr>\n",
       "      <th>4</th>\n",
       "      <td>2010-09-15</td>\n",
       "    </tr>\n",
       "    <tr>\n",
       "      <th>...</th>\n",
       "      <td>...</td>\n",
       "    </tr>\n",
       "    <tr>\n",
       "      <th>1038468</th>\n",
       "      <td>2015-12-05</td>\n",
       "    </tr>\n",
       "    <tr>\n",
       "      <th>1038469</th>\n",
       "      <td>2015-11-23</td>\n",
       "    </tr>\n",
       "    <tr>\n",
       "      <th>1038470</th>\n",
       "      <td>2015-12-24</td>\n",
       "    </tr>\n",
       "    <tr>\n",
       "      <th>1038471</th>\n",
       "      <td>2015-07-13</td>\n",
       "    </tr>\n",
       "    <tr>\n",
       "      <th>1038472</th>\n",
       "      <td>2015-07-13</td>\n",
       "    </tr>\n",
       "  </tbody>\n",
       "</table>\n",
       "<p>1038473 rows × 1 columns</p>\n",
       "</div>"
      ],
      "text/plain": [
       "        data_inversa\n",
       "0         2010-10-29\n",
       "1         2010-12-14\n",
       "2         2010-03-07\n",
       "3         2010-10-26\n",
       "4         2010-09-15\n",
       "...              ...\n",
       "1038468   2015-12-05\n",
       "1038469   2015-11-23\n",
       "1038470   2015-12-24\n",
       "1038471   2015-07-13\n",
       "1038472   2015-07-13\n",
       "\n",
       "[1038473 rows x 1 columns]"
      ]
     },
     "execution_count": 24,
     "metadata": {},
     "output_type": "execute_result"
    }
   ],
   "source": [
    "%%time\n",
    "df_aux = df_ocorrencias_limpo.copy()\n",
    "\n",
    "df_aux['data_inversa'] = [\n",
    "    pd.to_datetime(row['data_inversa'], format='%d/%m/%Y') if row['ano'] in ['2010', '2011'] else\n",
    "    pd.to_datetime(row['data_inversa'], format='%Y-%m-%d')\n",
    "    for _, row in df_aux.iterrows()\n",
    "]\n",
    "\n",
    "df_aux[['data_inversa']]"
   ]
  },
  {
   "cell_type": "code",
   "execution_count": 25,
   "id": "distinct-worth",
   "metadata": {},
   "outputs": [
    {
     "name": "stdout",
     "output_type": "stream",
     "text": [
      "<class 'pandas.core.frame.DataFrame'>\n",
      "RangeIndex: 1038473 entries, 0 to 1038472\n",
      "Data columns (total 1 columns):\n",
      " #   Column  Non-Null Count    Dtype         \n",
      "---  ------  --------------    -----         \n",
      " 0   data    1038473 non-null  datetime64[ns]\n",
      "dtypes: datetime64[ns](1)\n",
      "memory usage: 7.9 MB\n"
     ]
    }
   ],
   "source": [
    "df_ocorrencias_limpo['data_inversa'] = df_aux['data_inversa']\n",
    "df_ocorrencias_limpo.rename(columns={'data_inversa':'data'}, inplace=True)\n",
    "df_ocorrencias_limpo[['data']].info()"
   ]
  },
  {
   "cell_type": "markdown",
   "id": "junior-hudson",
   "metadata": {},
   "source": [
    "Extraindo o mês para uma nova coluna categorica."
   ]
  },
  {
   "cell_type": "code",
   "execution_count": 26,
   "id": "together-deviation",
   "metadata": {},
   "outputs": [
    {
     "data": {
      "text/plain": [
       "array([10, 12,  3,  9,  6,  5, 11,  1,  8,  7,  2,  4])"
      ]
     },
     "execution_count": 26,
     "metadata": {},
     "output_type": "execute_result"
    }
   ],
   "source": [
    "df_aux = df_ocorrencias_limpo[['data']].copy()\n",
    "df_aux['mes'] = df_aux['data'].dt.month\n",
    "df_aux.mes.unique()"
   ]
  },
  {
   "cell_type": "code",
   "execution_count": 27,
   "id": "positive-credit",
   "metadata": {},
   "outputs": [
    {
     "data": {
      "text/plain": [
       "[10, 12, 3, 9, 6, ..., 1, 8, 7, 2, 4]\n",
       "Length: 12\n",
       "Categories (12, int64): [10, 12, 3, 9, ..., 8, 7, 2, 4]"
      ]
     },
     "execution_count": 27,
     "metadata": {},
     "output_type": "execute_result"
    }
   ],
   "source": [
    "df_aux['mes'] = pd.Categorical(df_aux['mes'])\n",
    "df_aux['mes'].unique()"
   ]
  },
  {
   "cell_type": "code",
   "execution_count": 28,
   "id": "cardiac-implement",
   "metadata": {},
   "outputs": [
    {
     "data": {
      "text/plain": [
       "0          10\n",
       "1          12\n",
       "2           3\n",
       "3          10\n",
       "4           9\n",
       "           ..\n",
       "1038468    12\n",
       "1038469    11\n",
       "1038470    12\n",
       "1038471     7\n",
       "1038472     7\n",
       "Name: mes, Length: 1038473, dtype: category\n",
       "Categories (12, int64): [1, 2, 3, 4, ..., 9, 10, 11, 12]"
      ]
     },
     "execution_count": 28,
     "metadata": {},
     "output_type": "execute_result"
    }
   ],
   "source": [
    "df_ocorrencias_limpo['mes'] = df_aux['mes']\n",
    "df_ocorrencias_limpo['mes']"
   ]
  },
  {
   "cell_type": "markdown",
   "id": "private-cycling",
   "metadata": {},
   "source": [
    "#### Checkpoint para o campo de data"
   ]
  },
  {
   "cell_type": "code",
   "execution_count": 29,
   "id": "wound-carbon",
   "metadata": {},
   "outputs": [],
   "source": [
    "df_ocorrencias_limpo_bkp = df_ocorrencias_limpo.copy()"
   ]
  },
  {
   "cell_type": "markdown",
   "id": "psychological-portable",
   "metadata": {},
   "source": [
    "### dia_semana"
   ]
  },
  {
   "cell_type": "code",
   "execution_count": 30,
   "id": "express-incentive",
   "metadata": {},
   "outputs": [
    {
     "data": {
      "text/plain": [
       "array(['Sexta', 'Terça', 'Domingo', 'Quarta', 'Quinta', 'Sábado',\n",
       "       'Segunda'], dtype=object)"
      ]
     },
     "execution_count": 30,
     "metadata": {},
     "output_type": "execute_result"
    }
   ],
   "source": [
    "df_ocorrencias_original['dia_semana'].unique()"
   ]
  },
  {
   "cell_type": "markdown",
   "id": "metropolitan-glass",
   "metadata": {},
   "source": [
    "O único tratamento pertinente é a transformação para um campo categórico sem ordem, pois os dias são variáveis categóricas nominais."
   ]
  },
  {
   "cell_type": "code",
   "execution_count": 31,
   "id": "proud-dollar",
   "metadata": {},
   "outputs": [],
   "source": [
    "df_aux = df_ocorrencias_original[['dia_semana']].copy()\n",
    "df_aux['dia_semana'] = pd.Categorical(df_aux['dia_semana'])"
   ]
  },
  {
   "cell_type": "code",
   "execution_count": 32,
   "id": "honey-andorra",
   "metadata": {},
   "outputs": [
    {
     "name": "stdout",
     "output_type": "stream",
     "text": [
      "<class 'pandas.core.frame.DataFrame'>\n",
      "RangeIndex: 1038473 entries, 0 to 1038472\n",
      "Data columns (total 1 columns):\n",
      " #   Column      Non-Null Count    Dtype   \n",
      "---  ------      --------------    -----   \n",
      " 0   dia_semana  1038473 non-null  category\n",
      "dtypes: category(1)\n",
      "memory usage: 1014.6 KB\n"
     ]
    }
   ],
   "source": [
    "df_aux.info()"
   ]
  },
  {
   "cell_type": "code",
   "execution_count": 33,
   "id": "passing-olympus",
   "metadata": {},
   "outputs": [
    {
     "data": {
      "text/plain": [
       "0            Sexta\n",
       "1            Terça\n",
       "2          Domingo\n",
       "3            Terça\n",
       "4           Quarta\n",
       "            ...   \n",
       "1038468     Sábado\n",
       "1038469    Segunda\n",
       "1038470     Quinta\n",
       "1038471    Segunda\n",
       "1038472    Segunda\n",
       "Name: dia_semana, Length: 1038473, dtype: category\n",
       "Categories (7, object): ['Domingo', 'Quarta', 'Quinta', 'Segunda', 'Sexta', 'Sábado', 'Terça']"
      ]
     },
     "execution_count": 33,
     "metadata": {},
     "output_type": "execute_result"
    }
   ],
   "source": [
    "df_ocorrencias_limpo['dia_semana'] = df_aux['dia_semana']\n",
    "df_ocorrencias_limpo.dia_semana"
   ]
  },
  {
   "cell_type": "markdown",
   "id": "accessory-surname",
   "metadata": {},
   "source": [
    "#### Checkpoint para o campo de dia_semana"
   ]
  },
  {
   "cell_type": "code",
   "execution_count": 34,
   "id": "cross-eleven",
   "metadata": {},
   "outputs": [],
   "source": [
    "df_ocorrencias_limpo_bkp = df_ocorrencias_limpo.copy()"
   ]
  },
  {
   "cell_type": "markdown",
   "id": "nearby-commerce",
   "metadata": {},
   "source": [
    "### horario"
   ]
  },
  {
   "cell_type": "code",
   "execution_count": 35,
   "id": "ordered-virgin",
   "metadata": {},
   "outputs": [
    {
     "data": {
      "text/plain": [
       "0    14:20:00\n",
       "1    22:00:00\n",
       "2    16:00:00\n",
       "3    14:20:00\n",
       "4    12:30:00\n",
       "Name: horario, dtype: object"
      ]
     },
     "execution_count": 35,
     "metadata": {},
     "output_type": "execute_result"
    }
   ],
   "source": [
    "df_ocorrencias_limpo.horario.head()"
   ]
  },
  {
   "cell_type": "code",
   "execution_count": 36,
   "id": "opponent-oxygen",
   "metadata": {},
   "outputs": [
    {
     "data": {
      "text/plain": [
       "1474"
      ]
     },
     "execution_count": 36,
     "metadata": {},
     "output_type": "execute_result"
    }
   ],
   "source": [
    "lista_horarios = df_ocorrencias_limpo.horario.unique()\n",
    "len(lista_horarios)"
   ]
  },
  {
   "cell_type": "markdown",
   "id": "executed-fifteen",
   "metadata": {},
   "source": [
    "Entendo que a hora seja a informação mais util para análise, podendo descartar os minutos e segundos. Ela pode ser uma variável categorica nominal, pois o peso da informação não aumenta de acordo seu valor numérico."
   ]
  },
  {
   "cell_type": "code",
   "execution_count": 37,
   "id": "rational-former",
   "metadata": {},
   "outputs": [
    {
     "name": "stdout",
     "output_type": "stream",
     "text": [
      "CPU times: user 434 ms, sys: 60.1 ms, total: 494 ms\n",
      "Wall time: 490 ms\n"
     ]
    },
    {
     "data": {
      "text/plain": [
       "['14', '22', '16', '14', '12', '14', '09', '21', '18', '18']"
      ]
     },
     "execution_count": 37,
     "metadata": {},
     "output_type": "execute_result"
    }
   ],
   "source": [
    "%%time\n",
    "lista_horas_completas = df_ocorrencias_limpo.horario\n",
    "\n",
    "lista_horas = []\n",
    "for hora_completa in lista_horas_completas:\n",
    "    lista_horas.append(hora_completa.split(sep=':')[0])\n",
    "\n",
    "lista_horas[:10]"
   ]
  },
  {
   "cell_type": "code",
   "execution_count": 38,
   "id": "unavailable-national",
   "metadata": {},
   "outputs": [
    {
     "data": {
      "text/html": [
       "<div>\n",
       "<style scoped>\n",
       "    .dataframe tbody tr th:only-of-type {\n",
       "        vertical-align: middle;\n",
       "    }\n",
       "\n",
       "    .dataframe tbody tr th {\n",
       "        vertical-align: top;\n",
       "    }\n",
       "\n",
       "    .dataframe thead th {\n",
       "        text-align: right;\n",
       "    }\n",
       "</style>\n",
       "<table border=\"1\" class=\"dataframe\">\n",
       "  <thead>\n",
       "    <tr style=\"text-align: right;\">\n",
       "      <th></th>\n",
       "      <th>horario</th>\n",
       "      <th>hora</th>\n",
       "    </tr>\n",
       "  </thead>\n",
       "  <tbody>\n",
       "    <tr>\n",
       "      <th>0</th>\n",
       "      <td>14:20:00</td>\n",
       "      <td>14</td>\n",
       "    </tr>\n",
       "    <tr>\n",
       "      <th>1</th>\n",
       "      <td>22:00:00</td>\n",
       "      <td>22</td>\n",
       "    </tr>\n",
       "    <tr>\n",
       "      <th>2</th>\n",
       "      <td>16:00:00</td>\n",
       "      <td>16</td>\n",
       "    </tr>\n",
       "    <tr>\n",
       "      <th>3</th>\n",
       "      <td>14:20:00</td>\n",
       "      <td>14</td>\n",
       "    </tr>\n",
       "    <tr>\n",
       "      <th>4</th>\n",
       "      <td>12:30:00</td>\n",
       "      <td>12</td>\n",
       "    </tr>\n",
       "  </tbody>\n",
       "</table>\n",
       "</div>"
      ],
      "text/plain": [
       "    horario hora\n",
       "0  14:20:00   14\n",
       "1  22:00:00   22\n",
       "2  16:00:00   16\n",
       "3  14:20:00   14\n",
       "4  12:30:00   12"
      ]
     },
     "execution_count": 38,
     "metadata": {},
     "output_type": "execute_result"
    }
   ],
   "source": [
    "df_ocorrencias_limpo['hora'] = lista_horas\n",
    "df_ocorrencias_limpo[['horario','hora']].head()"
   ]
  },
  {
   "cell_type": "code",
   "execution_count": 39,
   "id": "announced-eugene",
   "metadata": {},
   "outputs": [
    {
     "data": {
      "text/html": [
       "<div>\n",
       "<style scoped>\n",
       "    .dataframe tbody tr th:only-of-type {\n",
       "        vertical-align: middle;\n",
       "    }\n",
       "\n",
       "    .dataframe tbody tr th {\n",
       "        vertical-align: top;\n",
       "    }\n",
       "\n",
       "    .dataframe thead th {\n",
       "        text-align: right;\n",
       "    }\n",
       "</style>\n",
       "<table border=\"1\" class=\"dataframe\">\n",
       "  <thead>\n",
       "    <tr style=\"text-align: right;\">\n",
       "      <th></th>\n",
       "      <th>id</th>\n",
       "      <th>data</th>\n",
       "      <th>dia_semana</th>\n",
       "      <th>uf</th>\n",
       "      <th>br</th>\n",
       "      <th>km</th>\n",
       "      <th>municipio</th>\n",
       "      <th>causa_acidente</th>\n",
       "      <th>tipo_acidente</th>\n",
       "      <th>classificacao_acidente</th>\n",
       "      <th>...</th>\n",
       "      <th>pessoas</th>\n",
       "      <th>mortos</th>\n",
       "      <th>feridos_leves</th>\n",
       "      <th>feridos_graves</th>\n",
       "      <th>ilesos</th>\n",
       "      <th>ignorados</th>\n",
       "      <th>feridos</th>\n",
       "      <th>veiculos</th>\n",
       "      <th>mes</th>\n",
       "      <th>hora</th>\n",
       "    </tr>\n",
       "  </thead>\n",
       "  <tbody>\n",
       "    <tr>\n",
       "      <th>0</th>\n",
       "      <td>1000329</td>\n",
       "      <td>2010-10-29</td>\n",
       "      <td>Sexta</td>\n",
       "      <td>RS</td>\n",
       "      <td>285</td>\n",
       "      <td>397.3</td>\n",
       "      <td>SANTA BARBARA DO SUL</td>\n",
       "      <td>Velocidade incompatível</td>\n",
       "      <td>Saída de Pista</td>\n",
       "      <td>Sem Vítimas</td>\n",
       "      <td>...</td>\n",
       "      <td>5</td>\n",
       "      <td>0</td>\n",
       "      <td>0</td>\n",
       "      <td>0</td>\n",
       "      <td>5</td>\n",
       "      <td>0</td>\n",
       "      <td>0</td>\n",
       "      <td>1</td>\n",
       "      <td>10</td>\n",
       "      <td>14</td>\n",
       "    </tr>\n",
       "    <tr>\n",
       "      <th>1</th>\n",
       "      <td>1000837</td>\n",
       "      <td>2010-12-14</td>\n",
       "      <td>Terça</td>\n",
       "      <td>SP</td>\n",
       "      <td>116</td>\n",
       "      <td>406.5</td>\n",
       "      <td>MIRACATU</td>\n",
       "      <td>Outras</td>\n",
       "      <td>Colisão com objeto fixo</td>\n",
       "      <td>Sem Vítimas</td>\n",
       "      <td>...</td>\n",
       "      <td>1</td>\n",
       "      <td>0</td>\n",
       "      <td>0</td>\n",
       "      <td>0</td>\n",
       "      <td>1</td>\n",
       "      <td>0</td>\n",
       "      <td>0</td>\n",
       "      <td>1</td>\n",
       "      <td>12</td>\n",
       "      <td>22</td>\n",
       "    </tr>\n",
       "    <tr>\n",
       "      <th>2</th>\n",
       "      <td>1002150</td>\n",
       "      <td>2010-03-07</td>\n",
       "      <td>Domingo</td>\n",
       "      <td>BA</td>\n",
       "      <td>407</td>\n",
       "      <td>220.8</td>\n",
       "      <td>CAPIM GROSSO</td>\n",
       "      <td>Velocidade incompatível</td>\n",
       "      <td>Capotamento</td>\n",
       "      <td>Com Vítimas Feridas</td>\n",
       "      <td>...</td>\n",
       "      <td>3</td>\n",
       "      <td>0</td>\n",
       "      <td>0</td>\n",
       "      <td>2</td>\n",
       "      <td>1</td>\n",
       "      <td>0</td>\n",
       "      <td>2</td>\n",
       "      <td>1</td>\n",
       "      <td>3</td>\n",
       "      <td>16</td>\n",
       "    </tr>\n",
       "    <tr>\n",
       "      <th>3</th>\n",
       "      <td>1003283</td>\n",
       "      <td>2010-10-26</td>\n",
       "      <td>Terça</td>\n",
       "      <td>BA</td>\n",
       "      <td>116</td>\n",
       "      <td>567.0</td>\n",
       "      <td>NOVA ITARANA</td>\n",
       "      <td>Outras</td>\n",
       "      <td>Colisão com objeto fixo</td>\n",
       "      <td>Sem Vítimas</td>\n",
       "      <td>...</td>\n",
       "      <td>1</td>\n",
       "      <td>0</td>\n",
       "      <td>0</td>\n",
       "      <td>0</td>\n",
       "      <td>1</td>\n",
       "      <td>0</td>\n",
       "      <td>0</td>\n",
       "      <td>1</td>\n",
       "      <td>10</td>\n",
       "      <td>14</td>\n",
       "    </tr>\n",
       "    <tr>\n",
       "      <th>4</th>\n",
       "      <td>1004212</td>\n",
       "      <td>2010-09-15</td>\n",
       "      <td>Quarta</td>\n",
       "      <td>SE</td>\n",
       "      <td>101</td>\n",
       "      <td>107.0</td>\n",
       "      <td>SAO CRISTOVAO</td>\n",
       "      <td>Falta de atenção</td>\n",
       "      <td>Colisão com objeto fixo</td>\n",
       "      <td>Com Vítimas Feridas</td>\n",
       "      <td>...</td>\n",
       "      <td>2</td>\n",
       "      <td>0</td>\n",
       "      <td>2</td>\n",
       "      <td>0</td>\n",
       "      <td>0</td>\n",
       "      <td>0</td>\n",
       "      <td>2</td>\n",
       "      <td>1</td>\n",
       "      <td>9</td>\n",
       "      <td>12</td>\n",
       "    </tr>\n",
       "    <tr>\n",
       "      <th>...</th>\n",
       "      <td>...</td>\n",
       "      <td>...</td>\n",
       "      <td>...</td>\n",
       "      <td>...</td>\n",
       "      <td>...</td>\n",
       "      <td>...</td>\n",
       "      <td>...</td>\n",
       "      <td>...</td>\n",
       "      <td>...</td>\n",
       "      <td>...</td>\n",
       "      <td>...</td>\n",
       "      <td>...</td>\n",
       "      <td>...</td>\n",
       "      <td>...</td>\n",
       "      <td>...</td>\n",
       "      <td>...</td>\n",
       "      <td>...</td>\n",
       "      <td>...</td>\n",
       "      <td>...</td>\n",
       "      <td>...</td>\n",
       "      <td>...</td>\n",
       "    </tr>\n",
       "    <tr>\n",
       "      <th>1038468</th>\n",
       "      <td>83480933</td>\n",
       "      <td>2015-12-05</td>\n",
       "      <td>Sábado</td>\n",
       "      <td>SC</td>\n",
       "      <td>101</td>\n",
       "      <td>37.0</td>\n",
       "      <td>JOINVILLE</td>\n",
       "      <td>Falta de atenção</td>\n",
       "      <td>Queda de motocicleta / bicicleta / veículo</td>\n",
       "      <td>Com Vítimas Feridas</td>\n",
       "      <td>...</td>\n",
       "      <td>3</td>\n",
       "      <td>0</td>\n",
       "      <td>1</td>\n",
       "      <td>0</td>\n",
       "      <td>2</td>\n",
       "      <td>0</td>\n",
       "      <td>1</td>\n",
       "      <td>2</td>\n",
       "      <td>12</td>\n",
       "      <td>16</td>\n",
       "    </tr>\n",
       "    <tr>\n",
       "      <th>1038469</th>\n",
       "      <td>83480982</td>\n",
       "      <td>2015-11-23</td>\n",
       "      <td>Segunda</td>\n",
       "      <td>MT</td>\n",
       "      <td>163</td>\n",
       "      <td>512.0</td>\n",
       "      <td>DIAMANTINO</td>\n",
       "      <td>Não guardar distância de segurança</td>\n",
       "      <td>Colisão traseira</td>\n",
       "      <td>Sem Vítimas</td>\n",
       "      <td>...</td>\n",
       "      <td>2</td>\n",
       "      <td>0</td>\n",
       "      <td>0</td>\n",
       "      <td>0</td>\n",
       "      <td>2</td>\n",
       "      <td>0</td>\n",
       "      <td>0</td>\n",
       "      <td>2</td>\n",
       "      <td>11</td>\n",
       "      <td>16</td>\n",
       "    </tr>\n",
       "    <tr>\n",
       "      <th>1038470</th>\n",
       "      <td>83481192</td>\n",
       "      <td>2015-12-24</td>\n",
       "      <td>Quinta</td>\n",
       "      <td>DF</td>\n",
       "      <td>80</td>\n",
       "      <td>0.5</td>\n",
       "      <td>BRASILIA</td>\n",
       "      <td>Falta de atenção</td>\n",
       "      <td>Colisão lateral</td>\n",
       "      <td>Com Vítimas Fatais</td>\n",
       "      <td>...</td>\n",
       "      <td>4</td>\n",
       "      <td>1</td>\n",
       "      <td>1</td>\n",
       "      <td>1</td>\n",
       "      <td>0</td>\n",
       "      <td>1</td>\n",
       "      <td>2</td>\n",
       "      <td>2</td>\n",
       "      <td>12</td>\n",
       "      <td>16</td>\n",
       "    </tr>\n",
       "    <tr>\n",
       "      <th>1038471</th>\n",
       "      <td>83481253</td>\n",
       "      <td>2015-07-13</td>\n",
       "      <td>Segunda</td>\n",
       "      <td>AL</td>\n",
       "      <td>104</td>\n",
       "      <td>52.9</td>\n",
       "      <td>MURICI</td>\n",
       "      <td>Outras</td>\n",
       "      <td>Saída de Pista</td>\n",
       "      <td>Sem Vítimas</td>\n",
       "      <td>...</td>\n",
       "      <td>2</td>\n",
       "      <td>0</td>\n",
       "      <td>0</td>\n",
       "      <td>0</td>\n",
       "      <td>2</td>\n",
       "      <td>0</td>\n",
       "      <td>0</td>\n",
       "      <td>1</td>\n",
       "      <td>7</td>\n",
       "      <td>14</td>\n",
       "    </tr>\n",
       "    <tr>\n",
       "      <th>1038472</th>\n",
       "      <td>83481326</td>\n",
       "      <td>2015-07-13</td>\n",
       "      <td>Segunda</td>\n",
       "      <td>RS</td>\n",
       "      <td>116</td>\n",
       "      <td>266.0</td>\n",
       "      <td>CANOAS</td>\n",
       "      <td>Falta de atenção</td>\n",
       "      <td>Saída de Pista</td>\n",
       "      <td>Sem Vítimas</td>\n",
       "      <td>...</td>\n",
       "      <td>1</td>\n",
       "      <td>0</td>\n",
       "      <td>0</td>\n",
       "      <td>0</td>\n",
       "      <td>1</td>\n",
       "      <td>0</td>\n",
       "      <td>0</td>\n",
       "      <td>1</td>\n",
       "      <td>7</td>\n",
       "      <td>20</td>\n",
       "    </tr>\n",
       "  </tbody>\n",
       "</table>\n",
       "<p>1038473 rows × 27 columns</p>\n",
       "</div>"
      ],
      "text/plain": [
       "               id       data dia_semana  uf   br     km             municipio  \\\n",
       "0         1000329 2010-10-29      Sexta  RS  285  397.3  SANTA BARBARA DO SUL   \n",
       "1         1000837 2010-12-14      Terça  SP  116  406.5              MIRACATU   \n",
       "2         1002150 2010-03-07    Domingo  BA  407  220.8          CAPIM GROSSO   \n",
       "3         1003283 2010-10-26      Terça  BA  116  567.0          NOVA ITARANA   \n",
       "4         1004212 2010-09-15     Quarta  SE  101  107.0         SAO CRISTOVAO   \n",
       "...           ...        ...        ...  ..  ...    ...                   ...   \n",
       "1038468  83480933 2015-12-05     Sábado  SC  101   37.0             JOINVILLE   \n",
       "1038469  83480982 2015-11-23    Segunda  MT  163  512.0            DIAMANTINO   \n",
       "1038470  83481192 2015-12-24     Quinta  DF   80    0.5              BRASILIA   \n",
       "1038471  83481253 2015-07-13    Segunda  AL  104   52.9                MURICI   \n",
       "1038472  83481326 2015-07-13    Segunda  RS  116  266.0                CANOAS   \n",
       "\n",
       "                             causa_acidente  \\\n",
       "0                   Velocidade incompatível   \n",
       "1                                    Outras   \n",
       "2                   Velocidade incompatível   \n",
       "3                                    Outras   \n",
       "4                          Falta de atenção   \n",
       "...                                     ...   \n",
       "1038468                    Falta de atenção   \n",
       "1038469  Não guardar distância de segurança   \n",
       "1038470                    Falta de atenção   \n",
       "1038471                              Outras   \n",
       "1038472                    Falta de atenção   \n",
       "\n",
       "                                      tipo_acidente classificacao_acidente  \\\n",
       "0                                    Saída de Pista            Sem Vítimas   \n",
       "1                           Colisão com objeto fixo            Sem Vítimas   \n",
       "2                                       Capotamento    Com Vítimas Feridas   \n",
       "3                           Colisão com objeto fixo            Sem Vítimas   \n",
       "4                           Colisão com objeto fixo    Com Vítimas Feridas   \n",
       "...                                             ...                    ...   \n",
       "1038468  Queda de motocicleta / bicicleta / veículo    Com Vítimas Feridas   \n",
       "1038469                            Colisão traseira            Sem Vítimas   \n",
       "1038470                             Colisão lateral     Com Vítimas Fatais   \n",
       "1038471                              Saída de Pista            Sem Vítimas   \n",
       "1038472                              Saída de Pista            Sem Vítimas   \n",
       "\n",
       "         ... pessoas mortos feridos_leves feridos_graves ilesos ignorados  \\\n",
       "0        ...       5      0             0              0      5         0   \n",
       "1        ...       1      0             0              0      1         0   \n",
       "2        ...       3      0             0              2      1         0   \n",
       "3        ...       1      0             0              0      1         0   \n",
       "4        ...       2      0             2              0      0         0   \n",
       "...      ...     ...    ...           ...            ...    ...       ...   \n",
       "1038468  ...       3      0             1              0      2         0   \n",
       "1038469  ...       2      0             0              0      2         0   \n",
       "1038470  ...       4      1             1              1      0         1   \n",
       "1038471  ...       2      0             0              0      2         0   \n",
       "1038472  ...       1      0             0              0      1         0   \n",
       "\n",
       "        feridos  veiculos  mes  hora  \n",
       "0             0         1   10    14  \n",
       "1             0         1   12    22  \n",
       "2             2         1    3    16  \n",
       "3             0         1   10    14  \n",
       "4             2         1    9    12  \n",
       "...         ...       ...  ...   ...  \n",
       "1038468       1         2   12    16  \n",
       "1038469       0         2   11    16  \n",
       "1038470       2         2   12    16  \n",
       "1038471       0         1    7    14  \n",
       "1038472       0         1    7    20  \n",
       "\n",
       "[1038473 rows x 27 columns]"
      ]
     },
     "execution_count": 39,
     "metadata": {},
     "output_type": "execute_result"
    }
   ],
   "source": [
    "df_ocorrencias_limpo.drop(columns='horario', inplace=True)\n",
    "df_ocorrencias_limpo"
   ]
  },
  {
   "cell_type": "markdown",
   "id": "guided-contemporary",
   "metadata": {},
   "source": [
    "#### Checkpoint para o campo de horario"
   ]
  },
  {
   "cell_type": "code",
   "execution_count": 40,
   "id": "loved-locking",
   "metadata": {},
   "outputs": [],
   "source": [
    "df_ocorrencias_limpo_bkp = df_ocorrencias_limpo.copy()"
   ]
  },
  {
   "cell_type": "markdown",
   "id": "intelligent-telling",
   "metadata": {},
   "source": [
    "### uf"
   ]
  },
  {
   "cell_type": "code",
   "execution_count": 41,
   "id": "unable-discrimination",
   "metadata": {},
   "outputs": [
    {
     "data": {
      "text/html": [
       "<div>\n",
       "<style scoped>\n",
       "    .dataframe tbody tr th:only-of-type {\n",
       "        vertical-align: middle;\n",
       "    }\n",
       "\n",
       "    .dataframe tbody tr th {\n",
       "        vertical-align: top;\n",
       "    }\n",
       "\n",
       "    .dataframe thead th {\n",
       "        text-align: right;\n",
       "    }\n",
       "</style>\n",
       "<table border=\"1\" class=\"dataframe\">\n",
       "  <thead>\n",
       "    <tr style=\"text-align: right;\">\n",
       "      <th></th>\n",
       "      <th>uf</th>\n",
       "    </tr>\n",
       "  </thead>\n",
       "  <tbody>\n",
       "    <tr>\n",
       "      <th>0</th>\n",
       "      <td>RS</td>\n",
       "    </tr>\n",
       "    <tr>\n",
       "      <th>1</th>\n",
       "      <td>SP</td>\n",
       "    </tr>\n",
       "    <tr>\n",
       "      <th>2</th>\n",
       "      <td>BA</td>\n",
       "    </tr>\n",
       "    <tr>\n",
       "      <th>3</th>\n",
       "      <td>BA</td>\n",
       "    </tr>\n",
       "    <tr>\n",
       "      <th>4</th>\n",
       "      <td>SE</td>\n",
       "    </tr>\n",
       "    <tr>\n",
       "      <th>...</th>\n",
       "      <td>...</td>\n",
       "    </tr>\n",
       "    <tr>\n",
       "      <th>1038468</th>\n",
       "      <td>SC</td>\n",
       "    </tr>\n",
       "    <tr>\n",
       "      <th>1038469</th>\n",
       "      <td>MT</td>\n",
       "    </tr>\n",
       "    <tr>\n",
       "      <th>1038470</th>\n",
       "      <td>DF</td>\n",
       "    </tr>\n",
       "    <tr>\n",
       "      <th>1038471</th>\n",
       "      <td>AL</td>\n",
       "    </tr>\n",
       "    <tr>\n",
       "      <th>1038472</th>\n",
       "      <td>RS</td>\n",
       "    </tr>\n",
       "  </tbody>\n",
       "</table>\n",
       "<p>1038473 rows × 1 columns</p>\n",
       "</div>"
      ],
      "text/plain": [
       "         uf\n",
       "0        RS\n",
       "1        SP\n",
       "2        BA\n",
       "3        BA\n",
       "4        SE\n",
       "...      ..\n",
       "1038468  SC\n",
       "1038469  MT\n",
       "1038470  DF\n",
       "1038471  AL\n",
       "1038472  RS\n",
       "\n",
       "[1038473 rows x 1 columns]"
      ]
     },
     "execution_count": 41,
     "metadata": {},
     "output_type": "execute_result"
    }
   ],
   "source": [
    "df_ocorrencias_limpo[['uf']]"
   ]
  },
  {
   "cell_type": "code",
   "execution_count": 42,
   "id": "eligible-button",
   "metadata": {},
   "outputs": [
    {
     "data": {
      "text/plain": [
       "array(['RS', 'SP', 'BA', 'SE', 'PR', 'MG', 'GO', 'PE', 'PA', 'RN', 'SC',\n",
       "       'RR', 'AL', 'MA', 'RJ', 'MS', 'MT', 'ES', 'CE', 'PI', 'AC', 'RO',\n",
       "       'PB', 'TO', 'DF', 'AM', 'AP', '(null)'], dtype=object)"
      ]
     },
     "execution_count": 42,
     "metadata": {},
     "output_type": "execute_result"
    }
   ],
   "source": [
    "df_ocorrencias_limpo.uf.unique()"
   ]
  },
  {
   "cell_type": "code",
   "execution_count": 43,
   "id": "unexpected-sociology",
   "metadata": {},
   "outputs": [
    {
     "data": {
      "text/plain": [
       "28"
      ]
     },
     "execution_count": 43,
     "metadata": {},
     "output_type": "execute_result"
    }
   ],
   "source": [
    "len(df_ocorrencias_limpo.uf.unique())"
   ]
  },
  {
   "cell_type": "markdown",
   "id": "cordless-myanmar",
   "metadata": {},
   "source": [
    "O Brasil possui 26 estados e o Distrito Federal. Notamos a existencia de um valor '(null)' em formato String, portanto numa análise ele seria contado como mais uma categoria, e não como uma informação faltante. A coluna também deve ser categorica nominal."
   ]
  },
  {
   "cell_type": "code",
   "execution_count": 44,
   "id": "union-viking",
   "metadata": {},
   "outputs": [
    {
     "data": {
      "text/plain": [
       "array(['RS', 'SP', 'BA', 'SE', 'PR', 'MG', 'GO', 'PE', 'PA', 'RN', 'SC',\n",
       "       'RR', 'AL', 'MA', 'RJ', 'MS', 'MT', 'ES', 'CE', 'PI', 'AC', 'RO',\n",
       "       'PB', 'TO', 'DF', 'AM', 'AP'], dtype=object)"
      ]
     },
     "execution_count": 44,
     "metadata": {},
     "output_type": "execute_result"
    }
   ],
   "source": [
    "df_aux = df_ocorrencias_limpo[['uf']].copy()\n",
    "df_aux = df_aux.replace('(null)', None)\n",
    "df_aux.uf.unique()"
   ]
  },
  {
   "cell_type": "code",
   "execution_count": 45,
   "id": "cubic-emergency",
   "metadata": {},
   "outputs": [
    {
     "name": "stdout",
     "output_type": "stream",
     "text": [
      "<class 'pandas.core.frame.DataFrame'>\n",
      "RangeIndex: 1038473 entries, 0 to 1038472\n",
      "Data columns (total 1 columns):\n",
      " #   Column  Non-Null Count    Dtype   \n",
      "---  ------  --------------    -----   \n",
      " 0   uf      1038473 non-null  category\n",
      "dtypes: category(1)\n",
      "memory usage: 1015.5 KB\n"
     ]
    }
   ],
   "source": [
    "df_aux['uf'] = pd.Categorical(df_aux['uf'])\n",
    "df_aux[['uf']].info()"
   ]
  },
  {
   "cell_type": "code",
   "execution_count": 46,
   "id": "organizational-width",
   "metadata": {},
   "outputs": [
    {
     "data": {
      "text/plain": [
       "0          RS\n",
       "1          SP\n",
       "2          BA\n",
       "3          BA\n",
       "4          SE\n",
       "           ..\n",
       "1038468    SC\n",
       "1038469    MT\n",
       "1038470    DF\n",
       "1038471    AL\n",
       "1038472    RS\n",
       "Name: uf, Length: 1038473, dtype: category\n",
       "Categories (27, object): ['AC', 'AL', 'AM', 'AP', ..., 'SC', 'SE', 'SP', 'TO']"
      ]
     },
     "execution_count": 46,
     "metadata": {},
     "output_type": "execute_result"
    }
   ],
   "source": [
    "df_ocorrencias_limpo['uf'] = df_aux['uf']\n",
    "df_ocorrencias_limpo.uf"
   ]
  },
  {
   "cell_type": "markdown",
   "id": "heavy-writer",
   "metadata": {},
   "source": [
    "#### Checkpoint para o campo de uf"
   ]
  },
  {
   "cell_type": "code",
   "execution_count": 47,
   "id": "original-arkansas",
   "metadata": {},
   "outputs": [],
   "source": [
    "df_ocorrencias_limpo_bkp = df_ocorrencias_limpo.copy()"
   ]
  },
  {
   "cell_type": "markdown",
   "id": "progressive-approval",
   "metadata": {},
   "source": [
    "### br"
   ]
  },
  {
   "cell_type": "markdown",
   "id": "rough-overhead",
   "metadata": {},
   "source": [
    "**Curiosidade**: O primeiro algarismo indica a categoria da rodovia, enquanto o segundo e o terceiro indicam sua posição e localização. Elas se dividem em cinco categorias: radiais, longitudinais, transversais, diagonais e de ligação.\n",
    "\n",
    "Rodovias radiais: BR-0 XX- rodovias que partem da capital federal em direção aos extremos do país\n",
    "\n",
    "Rodovias longitudinais: BR-1 XX- rodovias que cortam o país na direção norte-sul\n",
    "\n",
    "Rodovias transversais: BR-2 XX- rodovias que cortam o país na direção leste-oeste\n",
    "\n",
    "Rodovias diagonais: BR-3 XX- rodovias podem apresentar dois modos de orientação: noroeste-sudeste ou nordeste-sudoeste\n",
    "\n",
    "Rodovias de ligação: BR-4 XX- rodovias apresentam-se em qualquer direção.\n",
    "\n",
    "Também há rodovias iniciadas com BR-6 XX, porém são poucas e de curta extensão."
   ]
  },
  {
   "cell_type": "code",
   "execution_count": 48,
   "id": "actual-writing",
   "metadata": {},
   "outputs": [
    {
     "name": "stdout",
     "output_type": "stream",
     "text": [
      "<class 'pandas.core.frame.DataFrame'>\n",
      "RangeIndex: 1038473 entries, 0 to 1038472\n",
      "Data columns (total 1 columns):\n",
      " #   Column  Non-Null Count    Dtype \n",
      "---  ------  --------------    ----- \n",
      " 0   br      1038473 non-null  object\n",
      "dtypes: object(1)\n",
      "memory usage: 7.9+ MB\n"
     ]
    }
   ],
   "source": [
    "df_ocorrencias_limpo[['br']].info()"
   ]
  },
  {
   "cell_type": "code",
   "execution_count": 49,
   "id": "chicken-smith",
   "metadata": {},
   "outputs": [
    {
     "data": {
      "text/html": [
       "<div>\n",
       "<style scoped>\n",
       "    .dataframe tbody tr th:only-of-type {\n",
       "        vertical-align: middle;\n",
       "    }\n",
       "\n",
       "    .dataframe tbody tr th {\n",
       "        vertical-align: top;\n",
       "    }\n",
       "\n",
       "    .dataframe thead th {\n",
       "        text-align: right;\n",
       "    }\n",
       "</style>\n",
       "<table border=\"1\" class=\"dataframe\">\n",
       "  <thead>\n",
       "    <tr style=\"text-align: right;\">\n",
       "      <th></th>\n",
       "      <th>br</th>\n",
       "    </tr>\n",
       "  </thead>\n",
       "  <tbody>\n",
       "    <tr>\n",
       "      <th>0</th>\n",
       "      <td>285</td>\n",
       "    </tr>\n",
       "    <tr>\n",
       "      <th>1</th>\n",
       "      <td>116</td>\n",
       "    </tr>\n",
       "    <tr>\n",
       "      <th>2</th>\n",
       "      <td>407</td>\n",
       "    </tr>\n",
       "    <tr>\n",
       "      <th>3</th>\n",
       "      <td>116</td>\n",
       "    </tr>\n",
       "    <tr>\n",
       "      <th>4</th>\n",
       "      <td>101</td>\n",
       "    </tr>\n",
       "    <tr>\n",
       "      <th>...</th>\n",
       "      <td>...</td>\n",
       "    </tr>\n",
       "    <tr>\n",
       "      <th>1038468</th>\n",
       "      <td>101</td>\n",
       "    </tr>\n",
       "    <tr>\n",
       "      <th>1038469</th>\n",
       "      <td>163</td>\n",
       "    </tr>\n",
       "    <tr>\n",
       "      <th>1038470</th>\n",
       "      <td>80</td>\n",
       "    </tr>\n",
       "    <tr>\n",
       "      <th>1038471</th>\n",
       "      <td>104</td>\n",
       "    </tr>\n",
       "    <tr>\n",
       "      <th>1038472</th>\n",
       "      <td>116</td>\n",
       "    </tr>\n",
       "  </tbody>\n",
       "</table>\n",
       "<p>1038473 rows × 1 columns</p>\n",
       "</div>"
      ],
      "text/plain": [
       "          br\n",
       "0        285\n",
       "1        116\n",
       "2        407\n",
       "3        116\n",
       "4        101\n",
       "...      ...\n",
       "1038468  101\n",
       "1038469  163\n",
       "1038470   80\n",
       "1038471  104\n",
       "1038472  116\n",
       "\n",
       "[1038473 rows x 1 columns]"
      ]
     },
     "execution_count": 49,
     "metadata": {},
     "output_type": "execute_result"
    }
   ],
   "source": [
    "df_ocorrencias_limpo[['br']]"
   ]
  },
  {
   "cell_type": "code",
   "execution_count": 50,
   "id": "painted-smooth",
   "metadata": {},
   "outputs": [
    {
     "data": {
      "text/plain": [
       "array([285, 116, 407, 101, 280, 381, 251, 369, 40, 232, 60, 316, 226, 174,\n",
       "       277, 104, 262, 135, 70, 158, 267, 153, 463, 408, 10, 290, 282, 364,\n",
       "       343, 110, 476, 317, 319, 259, 376, 324, 293, 163, 242, 392, 20,\n",
       "       424, 230, 393, 480, 465, 365, 470, 222, 50, 386, 452, 354, 428,\n",
       "       235, 287, 356, 471, 405, 367, 272, 373, 487, 459, 361, 402, 377,\n",
       "       330, 423, 468, 427, 210, 304, 406, 493, 472, 450, 308, 146, 460,\n",
       "       467, 414, 447, 410, 495, 156, 80, 469, 488, 418, 401, 474, 416,\n",
       "       485, 432, 404, 425, 429, 419, 958, 30, 412, 490, 0, 409, 422, 208,\n",
       "       400, 173, 359, 142, 1, 473, 420, 332, 870, 544, 298, 756, 707, 498,\n",
       "       155, 421, '282', '280', '116', '364', '101', '319', '262', '40',\n",
       "       '135', '459', '153', '381', '470', '50', '316', '110', '354',\n",
       "       '393', '369', '324', '285', '70', '290', '277', '232', '158',\n",
       "       '267', '242', '304', '392', '293', '386', '163', '104', '10',\n",
       "       '235', '376', '230', '419', '365', '287', '174', '476', '343',\n",
       "       '367', '60', '408', '427', '20', '414', '356', '469', '251', '493',\n",
       "       '452', '424', '222', '146', '463', '406', '407', '428', '272',\n",
       "       '480', '308', '226', '465', '450', '467', '373', '155', '317',\n",
       "       '472', '377', '471', '423', '210', '405', '418', '259', '402',\n",
       "       '80', '410', '412', '330', '361', '468', '634', '487', '488',\n",
       "       '447', '401', '359', '156', '404', '495', '30', '474', '460',\n",
       "       '415', '485', '429', '(null)', '349', '0', 4, 140, 28, 661, 462,\n",
       "       349, 352, 617, 580, '432', '221', '560', '654', '241', '499',\n",
       "       '420', '501', '489', '416', '473', '84', '687', '425', '178',\n",
       "       '552', '453', '505', '183', 453, 265, 426, 270, 441, 152, 681, 154,\n",
       "       767, 719, 323, 337, 851, 268, 2, 184, 415, 648, 380, 591, 448, 37,\n",
       "       388, 884, 250, 931, 436, 433, 211, 417, 186], dtype=object)"
      ]
     },
     "execution_count": 50,
     "metadata": {},
     "output_type": "execute_result"
    }
   ],
   "source": [
    "df_ocorrencias_limpo.br.unique()"
   ]
  },
  {
   "cell_type": "code",
   "execution_count": 51,
   "id": "charitable-bulletin",
   "metadata": {},
   "outputs": [
    {
     "data": {
      "text/plain": [
       "287"
      ]
     },
     "execution_count": 51,
     "metadata": {},
     "output_type": "execute_result"
    }
   ],
   "source": [
    "len(df_ocorrencias_limpo.br.unique())"
   ]
  },
  {
   "cell_type": "markdown",
   "id": "powered-message",
   "metadata": {},
   "source": [
    "Aparentemente existem valores escritos em formato string e un valor '(null)'. Será necessário a padronização dos formatos e que esta variável seja categorica nominal."
   ]
  },
  {
   "cell_type": "code",
   "execution_count": 52,
   "id": "religious-earth",
   "metadata": {},
   "outputs": [
    {
     "data": {
      "text/plain": [
       "array([285, 116, 407, 101, 280, 381, 251, 369, 40, 232, 60, 316, 226, 174,\n",
       "       277, 104, 262, 135, 70, 158, 267, 153, 463, 408, 10, 290, 282, 364,\n",
       "       343, 110, 476, 317, 319, 259, 376, 324, 293, 163, 242, 392, 20,\n",
       "       424, 230, 393, 480, 465, 365, 470, 222, 50, 386, 452, 354, 428,\n",
       "       235, 287, 356, 471, 405, 367, 272, 373, 487, 459, 361, 402, 377,\n",
       "       330, 423, 468, 427, 210, 304, 406, 493, 472, 450, 308, 146, 460,\n",
       "       467, 414, 447, 410, 495, 156, 80, 469, 488, 418, 401, 474, 416,\n",
       "       485, 432, 404, 425, 429, 419, 958, 30, 412, 490, 0, 409, 422, 208,\n",
       "       400, 173, 359, 142, 1, 473, 420, 332, 870, 544, 298, 756, 707, 498,\n",
       "       155, 421, '282', '280', '116', '364', '101', '319', '262', '40',\n",
       "       '135', '459', '153', '381', '470', '50', '316', '110', '354',\n",
       "       '393', '369', '324', '285', '70', '290', '277', '232', '158',\n",
       "       '267', '242', '304', '392', '293', '386', '163', '104', '10',\n",
       "       '235', '376', '230', '419', '365', '287', '174', '476', '343',\n",
       "       '367', '60', '408', '427', '20', '414', '356', '469', '251', '493',\n",
       "       '452', '424', '222', '146', '463', '406', '407', '428', '272',\n",
       "       '480', '308', '226', '465', '450', '467', '373', '155', '317',\n",
       "       '472', '377', '471', '423', '210', '405', '418', '259', '402',\n",
       "       '80', '410', '412', '330', '361', '468', '634', '487', '488',\n",
       "       '447', '401', '359', '156', '404', '495', '30', '474', '460',\n",
       "       '415', '485', '429', '349', '0', 4, 140, 28, 661, 462, 349, 352,\n",
       "       617, 580, '432', '221', '560', '654', '241', '499', '420', '501',\n",
       "       '489', '416', '473', '84', '687', '425', '178', '552', '453',\n",
       "       '505', '183', 453, 265, 426, 270, 441, 152, 681, 154, 767, 719,\n",
       "       323, 337, 851, 268, 2, 184, 415, 648, 380, 591, 448, 37, 388, 884,\n",
       "       250, 931, 436, 433, 211, 417, 186], dtype=object)"
      ]
     },
     "execution_count": 52,
     "metadata": {},
     "output_type": "execute_result"
    }
   ],
   "source": [
    "df_aux = df_ocorrencias_limpo[['br']].copy()\n",
    "df_aux = df_aux.replace('(null)', 0)\n",
    "df_aux['br'].unique()"
   ]
  },
  {
   "cell_type": "code",
   "execution_count": 53,
   "id": "collective-humor",
   "metadata": {},
   "outputs": [
    {
     "data": {
      "text/plain": [
       "array([285, 116, 407, 101, 280, 381, 251, 369,  40, 232,  60, 316, 226,\n",
       "       174, 277, 104, 262, 135,  70, 158, 267, 153, 463, 408,  10, 290,\n",
       "       282, 364, 343, 110, 476, 317, 319, 259, 376, 324, 293, 163, 242,\n",
       "       392,  20, 424, 230, 393, 480, 465, 365, 470, 222,  50, 386, 452,\n",
       "       354, 428, 235, 287, 356, 471, 405, 367, 272, 373, 487, 459, 361,\n",
       "       402, 377, 330, 423, 468, 427, 210, 304, 406, 493, 472, 450, 308,\n",
       "       146, 460, 467, 414, 447, 410, 495, 156,  80, 469, 488, 418, 401,\n",
       "       474, 416, 485, 432, 404, 425, 429, 419, 958,  30, 412, 490,   0,\n",
       "       409, 422, 208, 400, 173, 359, 142,   1, 473, 420, 332, 870, 544,\n",
       "       298, 756, 707, 498, 155, 421, 634, 415, 349,   4, 140,  28, 661,\n",
       "       462, 352, 617, 580, 221, 560, 654, 241, 499, 501, 489,  84, 687,\n",
       "       178, 552, 453, 505, 183, 265, 426, 270, 441, 152, 681, 154, 767,\n",
       "       719, 323, 337, 851, 268,   2, 184, 648, 380, 591, 448,  37, 388,\n",
       "       884, 250, 931, 436, 433, 211, 417, 186])"
      ]
     },
     "execution_count": 53,
     "metadata": {},
     "output_type": "execute_result"
    }
   ],
   "source": [
    "df_aux['br'] = df_aux.br.astype(int)\n",
    "df_aux['br'].unique()"
   ]
  },
  {
   "cell_type": "code",
   "execution_count": 54,
   "id": "focal-johns",
   "metadata": {},
   "outputs": [
    {
     "data": {
      "text/plain": [
       "0          285\n",
       "1          116\n",
       "2          407\n",
       "3          116\n",
       "4          101\n",
       "          ... \n",
       "1038468    101\n",
       "1038469    163\n",
       "1038470     80\n",
       "1038471    104\n",
       "1038472    116\n",
       "Name: br, Length: 1038473, dtype: category\n",
       "Categories (177, int64): [0, 1, 2, 4, ..., 870, 884, 931, 958]"
      ]
     },
     "execution_count": 54,
     "metadata": {},
     "output_type": "execute_result"
    }
   ],
   "source": [
    "df_aux['br'] = pd.Categorical(df_aux['br'])\n",
    "df_aux.br"
   ]
  },
  {
   "cell_type": "code",
   "execution_count": 55,
   "id": "split-visibility",
   "metadata": {},
   "outputs": [
    {
     "name": "stdout",
     "output_type": "stream",
     "text": [
      "<class 'pandas.core.frame.DataFrame'>\n",
      "RangeIndex: 1038473 entries, 0 to 1038472\n",
      "Data columns (total 1 columns):\n",
      " #   Column  Non-Null Count    Dtype   \n",
      "---  ------  --------------    -----   \n",
      " 0   br      1038473 non-null  category\n",
      "dtypes: category(1)\n",
      "memory usage: 2.0 MB\n"
     ]
    }
   ],
   "source": [
    "df_aux[['br']].info()"
   ]
  },
  {
   "cell_type": "markdown",
   "id": "major-cancellation",
   "metadata": {},
   "source": [
    "Possuímos 4 valores nulos para esta coluna."
   ]
  },
  {
   "cell_type": "code",
   "execution_count": 56,
   "id": "collected-public",
   "metadata": {},
   "outputs": [
    {
     "data": {
      "text/plain": [
       "0          285\n",
       "1          116\n",
       "2          407\n",
       "3          116\n",
       "4          101\n",
       "          ... \n",
       "1038468    101\n",
       "1038469    163\n",
       "1038470     80\n",
       "1038471    104\n",
       "1038472    116\n",
       "Name: br, Length: 1038473, dtype: category\n",
       "Categories (177, int64): [0, 1, 2, 4, ..., 870, 884, 931, 958]"
      ]
     },
     "execution_count": 56,
     "metadata": {},
     "output_type": "execute_result"
    }
   ],
   "source": [
    "df_ocorrencias_limpo['br'] = df_aux['br']\n",
    "df_ocorrencias_limpo.br"
   ]
  },
  {
   "cell_type": "markdown",
   "id": "independent-story",
   "metadata": {},
   "source": [
    "#### Checkpoint para o campo de br"
   ]
  },
  {
   "cell_type": "code",
   "execution_count": 57,
   "id": "specific-midnight",
   "metadata": {},
   "outputs": [],
   "source": [
    "df_ocorrencias_limpo_bkp = df_ocorrencias_limpo.copy()"
   ]
  },
  {
   "cell_type": "markdown",
   "id": "boolean-candy",
   "metadata": {},
   "source": [
    "### km"
   ]
  },
  {
   "cell_type": "code",
   "execution_count": 58,
   "id": "close-bundle",
   "metadata": {},
   "outputs": [
    {
     "data": {
      "text/html": [
       "<div>\n",
       "<style scoped>\n",
       "    .dataframe tbody tr th:only-of-type {\n",
       "        vertical-align: middle;\n",
       "    }\n",
       "\n",
       "    .dataframe tbody tr th {\n",
       "        vertical-align: top;\n",
       "    }\n",
       "\n",
       "    .dataframe thead th {\n",
       "        text-align: right;\n",
       "    }\n",
       "</style>\n",
       "<table border=\"1\" class=\"dataframe\">\n",
       "  <thead>\n",
       "    <tr style=\"text-align: right;\">\n",
       "      <th></th>\n",
       "      <th>km</th>\n",
       "    </tr>\n",
       "  </thead>\n",
       "  <tbody>\n",
       "    <tr>\n",
       "      <th>0</th>\n",
       "      <td>397.3</td>\n",
       "    </tr>\n",
       "    <tr>\n",
       "      <th>1</th>\n",
       "      <td>406.5</td>\n",
       "    </tr>\n",
       "    <tr>\n",
       "      <th>2</th>\n",
       "      <td>220.8</td>\n",
       "    </tr>\n",
       "    <tr>\n",
       "      <th>3</th>\n",
       "      <td>567.0</td>\n",
       "    </tr>\n",
       "    <tr>\n",
       "      <th>4</th>\n",
       "      <td>107.0</td>\n",
       "    </tr>\n",
       "    <tr>\n",
       "      <th>...</th>\n",
       "      <td>...</td>\n",
       "    </tr>\n",
       "    <tr>\n",
       "      <th>1038468</th>\n",
       "      <td>37.0</td>\n",
       "    </tr>\n",
       "    <tr>\n",
       "      <th>1038469</th>\n",
       "      <td>512.0</td>\n",
       "    </tr>\n",
       "    <tr>\n",
       "      <th>1038470</th>\n",
       "      <td>0.5</td>\n",
       "    </tr>\n",
       "    <tr>\n",
       "      <th>1038471</th>\n",
       "      <td>52.9</td>\n",
       "    </tr>\n",
       "    <tr>\n",
       "      <th>1038472</th>\n",
       "      <td>266.0</td>\n",
       "    </tr>\n",
       "  </tbody>\n",
       "</table>\n",
       "<p>1038473 rows × 1 columns</p>\n",
       "</div>"
      ],
      "text/plain": [
       "            km\n",
       "0        397.3\n",
       "1        406.5\n",
       "2        220.8\n",
       "3        567.0\n",
       "4        107.0\n",
       "...        ...\n",
       "1038468   37.0\n",
       "1038469  512.0\n",
       "1038470    0.5\n",
       "1038471   52.9\n",
       "1038472  266.0\n",
       "\n",
       "[1038473 rows x 1 columns]"
      ]
     },
     "execution_count": 58,
     "metadata": {},
     "output_type": "execute_result"
    }
   ],
   "source": [
    "df_ocorrencias_limpo[['km']]"
   ]
  },
  {
   "cell_type": "code",
   "execution_count": 59,
   "id": "contrary-mentor",
   "metadata": {},
   "outputs": [
    {
     "name": "stdout",
     "output_type": "stream",
     "text": [
      "<class 'pandas.core.frame.DataFrame'>\n",
      "RangeIndex: 1038473 entries, 0 to 1038472\n",
      "Data columns (total 1 columns):\n",
      " #   Column  Non-Null Count    Dtype \n",
      "---  ------  --------------    ----- \n",
      " 0   km      1038473 non-null  object\n",
      "dtypes: object(1)\n",
      "memory usage: 7.9+ MB\n"
     ]
    }
   ],
   "source": [
    "df_ocorrencias_limpo[['km']].info()"
   ]
  },
  {
   "cell_type": "code",
   "execution_count": 60,
   "id": "colored-nashville",
   "metadata": {},
   "outputs": [
    {
     "data": {
      "text/plain": [
       "array([397.3, 406.5, 220.8, ..., 968.9, 1964.0, 1029.9], dtype=object)"
      ]
     },
     "execution_count": 60,
     "metadata": {},
     "output_type": "execute_result"
    }
   ],
   "source": [
    "df_ocorrencias_limpo['km'].unique()"
   ]
  },
  {
   "cell_type": "markdown",
   "id": "figured-period",
   "metadata": {},
   "source": [
    "Apesar do campo ser do tipo float e possuir 1 casa decimal, para fins deste projeto apenas o número inteiro é necessário."
   ]
  },
  {
   "cell_type": "code",
   "execution_count": 61,
   "id": "billion-crime",
   "metadata": {},
   "outputs": [
    {
     "data": {
      "text/plain": [
       "array([ 397.3,  406.5,  220.8, ...,  968.9, 1964. , 1029.9])"
      ]
     },
     "execution_count": 61,
     "metadata": {},
     "output_type": "execute_result"
    }
   ],
   "source": [
    "df_aux = df_ocorrencias_limpo[['km']].copy()\n",
    "df_aux = df_aux.replace('(null)', np.NaN)\n",
    "df_aux['km'] = df_aux.km.astype(float)\n",
    "df_aux['km'].unique()"
   ]
  },
  {
   "cell_type": "code",
   "execution_count": 62,
   "id": "formed-accommodation",
   "metadata": {},
   "outputs": [
    {
     "data": {
      "text/plain": [
       "0          397.3\n",
       "1          406.5\n",
       "2          220.8\n",
       "3          567.0\n",
       "4          107.0\n",
       "           ...  \n",
       "1038468     37.0\n",
       "1038469    512.0\n",
       "1038470      0.5\n",
       "1038471     52.9\n",
       "1038472    266.0\n",
       "Name: km, Length: 1038473, dtype: float64"
      ]
     },
     "execution_count": 62,
     "metadata": {},
     "output_type": "execute_result"
    }
   ],
   "source": [
    "df_ocorrencias_limpo['km'] = df_aux['km']\n",
    "df_ocorrencias_limpo['km']"
   ]
  },
  {
   "cell_type": "markdown",
   "id": "inner-wesley",
   "metadata": {},
   "source": [
    "#### checkpoint para o campo km"
   ]
  },
  {
   "cell_type": "code",
   "execution_count": 63,
   "id": "ahead-westminster",
   "metadata": {},
   "outputs": [],
   "source": [
    "df_ocorrencias_limpo_bkp = df_ocorrencias_limpo.copy()"
   ]
  },
  {
   "cell_type": "markdown",
   "id": "instrumental-relation",
   "metadata": {},
   "source": [
    "### municipio"
   ]
  },
  {
   "cell_type": "code",
   "execution_count": 64,
   "id": "enormous-lyric",
   "metadata": {},
   "outputs": [
    {
     "data": {
      "text/html": [
       "<div>\n",
       "<style scoped>\n",
       "    .dataframe tbody tr th:only-of-type {\n",
       "        vertical-align: middle;\n",
       "    }\n",
       "\n",
       "    .dataframe tbody tr th {\n",
       "        vertical-align: top;\n",
       "    }\n",
       "\n",
       "    .dataframe thead th {\n",
       "        text-align: right;\n",
       "    }\n",
       "</style>\n",
       "<table border=\"1\" class=\"dataframe\">\n",
       "  <thead>\n",
       "    <tr style=\"text-align: right;\">\n",
       "      <th></th>\n",
       "      <th>municipio</th>\n",
       "    </tr>\n",
       "  </thead>\n",
       "  <tbody>\n",
       "    <tr>\n",
       "      <th>0</th>\n",
       "      <td>SANTA BARBARA DO SUL</td>\n",
       "    </tr>\n",
       "    <tr>\n",
       "      <th>1</th>\n",
       "      <td>MIRACATU</td>\n",
       "    </tr>\n",
       "    <tr>\n",
       "      <th>2</th>\n",
       "      <td>CAPIM GROSSO</td>\n",
       "    </tr>\n",
       "    <tr>\n",
       "      <th>3</th>\n",
       "      <td>NOVA ITARANA</td>\n",
       "    </tr>\n",
       "    <tr>\n",
       "      <th>4</th>\n",
       "      <td>SAO CRISTOVAO</td>\n",
       "    </tr>\n",
       "    <tr>\n",
       "      <th>...</th>\n",
       "      <td>...</td>\n",
       "    </tr>\n",
       "    <tr>\n",
       "      <th>1038468</th>\n",
       "      <td>JOINVILLE</td>\n",
       "    </tr>\n",
       "    <tr>\n",
       "      <th>1038469</th>\n",
       "      <td>DIAMANTINO</td>\n",
       "    </tr>\n",
       "    <tr>\n",
       "      <th>1038470</th>\n",
       "      <td>BRASILIA</td>\n",
       "    </tr>\n",
       "    <tr>\n",
       "      <th>1038471</th>\n",
       "      <td>MURICI</td>\n",
       "    </tr>\n",
       "    <tr>\n",
       "      <th>1038472</th>\n",
       "      <td>CANOAS</td>\n",
       "    </tr>\n",
       "  </tbody>\n",
       "</table>\n",
       "<p>1038473 rows × 1 columns</p>\n",
       "</div>"
      ],
      "text/plain": [
       "                    municipio\n",
       "0        SANTA BARBARA DO SUL\n",
       "1                    MIRACATU\n",
       "2                CAPIM GROSSO\n",
       "3                NOVA ITARANA\n",
       "4               SAO CRISTOVAO\n",
       "...                       ...\n",
       "1038468             JOINVILLE\n",
       "1038469            DIAMANTINO\n",
       "1038470              BRASILIA\n",
       "1038471                MURICI\n",
       "1038472                CANOAS\n",
       "\n",
       "[1038473 rows x 1 columns]"
      ]
     },
     "execution_count": 64,
     "metadata": {},
     "output_type": "execute_result"
    }
   ],
   "source": [
    "df_ocorrencias_limpo[['municipio']]"
   ]
  },
  {
   "cell_type": "markdown",
   "id": "promising-scratch",
   "metadata": {},
   "source": [
    "Vou iniciar a análise padronizando o __case__ do municipio para tentar garantir que não haja valores duplicados devido a maísculas e minúsculas. Esta variável será transformada em categoriga nominal."
   ]
  },
  {
   "cell_type": "code",
   "execution_count": 65,
   "id": "aggregate-forty",
   "metadata": {},
   "outputs": [
    {
     "data": {
      "text/html": [
       "<div>\n",
       "<style scoped>\n",
       "    .dataframe tbody tr th:only-of-type {\n",
       "        vertical-align: middle;\n",
       "    }\n",
       "\n",
       "    .dataframe tbody tr th {\n",
       "        vertical-align: top;\n",
       "    }\n",
       "\n",
       "    .dataframe thead th {\n",
       "        text-align: right;\n",
       "    }\n",
       "</style>\n",
       "<table border=\"1\" class=\"dataframe\">\n",
       "  <thead>\n",
       "    <tr style=\"text-align: right;\">\n",
       "      <th></th>\n",
       "      <th>municipio</th>\n",
       "    </tr>\n",
       "  </thead>\n",
       "  <tbody>\n",
       "    <tr>\n",
       "      <th>0</th>\n",
       "      <td>santa barbara do sul</td>\n",
       "    </tr>\n",
       "    <tr>\n",
       "      <th>1</th>\n",
       "      <td>miracatu</td>\n",
       "    </tr>\n",
       "    <tr>\n",
       "      <th>2</th>\n",
       "      <td>capim grosso</td>\n",
       "    </tr>\n",
       "    <tr>\n",
       "      <th>3</th>\n",
       "      <td>nova itarana</td>\n",
       "    </tr>\n",
       "    <tr>\n",
       "      <th>4</th>\n",
       "      <td>sao cristovao</td>\n",
       "    </tr>\n",
       "    <tr>\n",
       "      <th>...</th>\n",
       "      <td>...</td>\n",
       "    </tr>\n",
       "    <tr>\n",
       "      <th>1038468</th>\n",
       "      <td>joinville</td>\n",
       "    </tr>\n",
       "    <tr>\n",
       "      <th>1038469</th>\n",
       "      <td>diamantino</td>\n",
       "    </tr>\n",
       "    <tr>\n",
       "      <th>1038470</th>\n",
       "      <td>brasilia</td>\n",
       "    </tr>\n",
       "    <tr>\n",
       "      <th>1038471</th>\n",
       "      <td>murici</td>\n",
       "    </tr>\n",
       "    <tr>\n",
       "      <th>1038472</th>\n",
       "      <td>canoas</td>\n",
       "    </tr>\n",
       "  </tbody>\n",
       "</table>\n",
       "<p>1038473 rows × 1 columns</p>\n",
       "</div>"
      ],
      "text/plain": [
       "                    municipio\n",
       "0        santa barbara do sul\n",
       "1                    miracatu\n",
       "2                capim grosso\n",
       "3                nova itarana\n",
       "4               sao cristovao\n",
       "...                       ...\n",
       "1038468             joinville\n",
       "1038469            diamantino\n",
       "1038470              brasilia\n",
       "1038471                murici\n",
       "1038472                canoas\n",
       "\n",
       "[1038473 rows x 1 columns]"
      ]
     },
     "execution_count": 65,
     "metadata": {},
     "output_type": "execute_result"
    }
   ],
   "source": [
    "df_aux = df_ocorrencias_limpo[['municipio']].copy()\n",
    "df_aux['municipio'] = df_aux['municipio'].str.lower()\n",
    "df_aux"
   ]
  },
  {
   "cell_type": "code",
   "execution_count": 66,
   "id": "geological-composer",
   "metadata": {},
   "outputs": [
    {
     "data": {
      "text/plain": [
       "2058"
      ]
     },
     "execution_count": 66,
     "metadata": {},
     "output_type": "execute_result"
    }
   ],
   "source": [
    "len(df_aux.municipio.unique())"
   ]
  },
  {
   "cell_type": "code",
   "execution_count": 67,
   "id": "personal-radiation",
   "metadata": {},
   "outputs": [
    {
     "data": {
      "text/plain": [
       "0          santa barbara do sul\n",
       "1                      miracatu\n",
       "2                  capim grosso\n",
       "3                  nova itarana\n",
       "4                 sao cristovao\n",
       "                   ...         \n",
       "1038468               joinville\n",
       "1038469              diamantino\n",
       "1038470                brasilia\n",
       "1038471                  murici\n",
       "1038472                  canoas\n",
       "Name: municipio, Length: 1038473, dtype: category\n",
       "Categories (2058, object): ['abadia de goias', 'abadiania', 'abare', 'abatia', ..., 'xaxim', 'xexeu', 'xinguara', 'ze doca']"
      ]
     },
     "execution_count": 67,
     "metadata": {},
     "output_type": "execute_result"
    }
   ],
   "source": [
    "df_aux['municipio'] = pd.Categorical(df_aux['municipio'])\n",
    "df_aux.municipio"
   ]
  },
  {
   "cell_type": "code",
   "execution_count": 68,
   "id": "preceding-outdoors",
   "metadata": {},
   "outputs": [
    {
     "data": {
      "text/plain": [
       "0          santa barbara do sul\n",
       "1                      miracatu\n",
       "2                  capim grosso\n",
       "3                  nova itarana\n",
       "4                 sao cristovao\n",
       "                   ...         \n",
       "1038468               joinville\n",
       "1038469              diamantino\n",
       "1038470                brasilia\n",
       "1038471                  murici\n",
       "1038472                  canoas\n",
       "Name: municipio, Length: 1038473, dtype: category\n",
       "Categories (2058, object): ['abadia de goias', 'abadiania', 'abare', 'abatia', ..., 'xaxim', 'xexeu', 'xinguara', 'ze doca']"
      ]
     },
     "execution_count": 68,
     "metadata": {},
     "output_type": "execute_result"
    }
   ],
   "source": [
    "df_ocorrencias_limpo['municipio'] = df_aux['municipio']\n",
    "df_ocorrencias_limpo['municipio']"
   ]
  },
  {
   "cell_type": "markdown",
   "id": "changing-cartoon",
   "metadata": {},
   "source": [
    "#### checkpoint para o campo municipio"
   ]
  },
  {
   "cell_type": "code",
   "execution_count": 69,
   "id": "moral-mouth",
   "metadata": {},
   "outputs": [],
   "source": [
    "df_ocorrencias_limpo_bkp = df_ocorrencias_limpo.copy()"
   ]
  },
  {
   "cell_type": "markdown",
   "id": "scientific-bracket",
   "metadata": {},
   "source": [
    "### causa_acidente"
   ]
  },
  {
   "cell_type": "code",
   "execution_count": 70,
   "id": "duplicate-nebraska",
   "metadata": {},
   "outputs": [
    {
     "data": {
      "text/plain": [
       "array(['Velocidade incompatível', 'Outras', 'Falta de atenção',\n",
       "       'Animais na Pista', 'Ingestão de álcool',\n",
       "       'Desobediência à sinalização', 'Defeito mecânico em veículo',\n",
       "       'Ultrapassagem indevida', 'Não guardar distância de segurança',\n",
       "       'Dormindo', 'Defeito na via', '(null)'], dtype=object)"
      ]
     },
     "execution_count": 70,
     "metadata": {},
     "output_type": "execute_result"
    }
   ],
   "source": [
    "df_ocorrencias_limpo['causa_acidente'].unique()"
   ]
  },
  {
   "cell_type": "markdown",
   "id": "controlling-sociology",
   "metadata": {},
   "source": [
    "Esta variável precisa ser categorica nominal e o valor '(null)' pode ser substituido por 'nao informado'"
   ]
  },
  {
   "cell_type": "code",
   "execution_count": 71,
   "id": "industrial-transsexual",
   "metadata": {},
   "outputs": [
    {
     "data": {
      "text/plain": [
       "array(['Velocidade incompatível', 'Outras', 'Falta de atenção',\n",
       "       'Animais na Pista', 'Ingestão de álcool',\n",
       "       'Desobediência à sinalização', 'Defeito mecânico em veículo',\n",
       "       'Ultrapassagem indevida', 'Não guardar distância de segurança',\n",
       "       'Dormindo', 'Defeito na via', 'Não Informado'], dtype=object)"
      ]
     },
     "execution_count": 71,
     "metadata": {},
     "output_type": "execute_result"
    }
   ],
   "source": [
    "df_aux = df_ocorrencias_limpo[['causa_acidente']].copy()\n",
    "df_aux = df_aux.replace('(null)', 'Não Informado')\n",
    "df_aux.causa_acidente.unique()"
   ]
  },
  {
   "cell_type": "code",
   "execution_count": 72,
   "id": "supported-spring",
   "metadata": {},
   "outputs": [
    {
     "data": {
      "text/plain": [
       "['Velocidade incompatível', 'Outras', 'Falta de atenção', 'Animais na Pista', 'Ingestão de álcool', ..., 'Ultrapassagem indevida', 'Não guardar distância de segurança', 'Dormindo', 'Defeito na via', 'Não Informado']\n",
       "Length: 12\n",
       "Categories (12, object): ['Velocidade incompatível', 'Outras', 'Falta de atenção', 'Animais na Pista', ..., 'Não guardar distância de segurança', 'Dormindo', 'Defeito na via', 'Não Informado']"
      ]
     },
     "execution_count": 72,
     "metadata": {},
     "output_type": "execute_result"
    }
   ],
   "source": [
    "df_aux['causa_acidente'] = pd.Categorical(df_aux['causa_acidente'])\n",
    "df_ocorrencias_limpo['causa_acidente'] = df_aux['causa_acidente']\n",
    "df_ocorrencias_limpo['causa_acidente'].unique()"
   ]
  },
  {
   "cell_type": "markdown",
   "id": "naval-animation",
   "metadata": {},
   "source": [
    "#### Checkpoint para o campo causa_acidente"
   ]
  },
  {
   "cell_type": "code",
   "execution_count": 73,
   "id": "dietary-affiliate",
   "metadata": {},
   "outputs": [],
   "source": [
    "df_ocorrencias_limpo_bkp = df_ocorrencias_limpo.copy()"
   ]
  },
  {
   "cell_type": "markdown",
   "id": "corresponding-expert",
   "metadata": {},
   "source": [
    "### tipo_acidente"
   ]
  },
  {
   "cell_type": "code",
   "execution_count": 74,
   "id": "stock-realtor",
   "metadata": {},
   "outputs": [
    {
     "data": {
      "text/plain": [
       "array(['Saída de Pista', 'Colisão com objeto fixo', 'Capotamento',\n",
       "       'Atropelamento de animal', 'Colisão traseira',\n",
       "       'Colisão com bicicleta', 'Atropelamento de pessoa',\n",
       "       'Colisão Transversal', 'Colisão lateral', 'Colisão frontal',\n",
       "       'Queda de motocicleta / bicicleta / veículo', 'Danos Eventuais',\n",
       "       'Tombamento', 'Derramamento de Carga', 'Colisão com objeto móvel',\n",
       "       'Incêndio'], dtype=object)"
      ]
     },
     "execution_count": 74,
     "metadata": {},
     "output_type": "execute_result"
    }
   ],
   "source": [
    "df_ocorrencias_limpo['tipo_acidente'].unique()"
   ]
  },
  {
   "cell_type": "markdown",
   "id": "dated-things",
   "metadata": {},
   "source": [
    "Não há observações '(null)', sendo somente necessário a conversão para categorica nominal"
   ]
  },
  {
   "cell_type": "code",
   "execution_count": 75,
   "id": "knowing-temperature",
   "metadata": {},
   "outputs": [
    {
     "data": {
      "text/plain": [
       "['Saída de Pista', 'Colisão com objeto fixo', 'Capotamento', 'Atropelamento de animal', 'Colisão traseira', ..., 'Danos Eventuais', 'Tombamento', 'Derramamento de Carga', 'Colisão com objeto móvel', 'Incêndio']\n",
       "Length: 16\n",
       "Categories (16, object): ['Saída de Pista', 'Colisão com objeto fixo', 'Capotamento', 'Atropelamento de animal', ..., 'Tombamento', 'Derramamento de Carga', 'Colisão com objeto móvel', 'Incêndio']"
      ]
     },
     "execution_count": 75,
     "metadata": {},
     "output_type": "execute_result"
    }
   ],
   "source": [
    "df_aux = df_ocorrencias_limpo[['tipo_acidente']].copy()\n",
    "df_aux['tipo_acidente'] = pd.Categorical(df_aux['tipo_acidente'])\n",
    "df_aux.tipo_acidente.unique()"
   ]
  },
  {
   "cell_type": "code",
   "execution_count": 76,
   "id": "split-hampshire",
   "metadata": {},
   "outputs": [
    {
     "data": {
      "text/plain": [
       "['Saída de Pista', 'Colisão com objeto fixo', 'Capotamento', 'Atropelamento de animal', 'Colisão traseira', ..., 'Danos Eventuais', 'Tombamento', 'Derramamento de Carga', 'Colisão com objeto móvel', 'Incêndio']\n",
       "Length: 16\n",
       "Categories (16, object): ['Saída de Pista', 'Colisão com objeto fixo', 'Capotamento', 'Atropelamento de animal', ..., 'Tombamento', 'Derramamento de Carga', 'Colisão com objeto móvel', 'Incêndio']"
      ]
     },
     "execution_count": 76,
     "metadata": {},
     "output_type": "execute_result"
    }
   ],
   "source": [
    "df_ocorrencias_limpo['tipo_acidente'] = df_aux['tipo_acidente']\n",
    "df_ocorrencias_limpo['tipo_acidente'].unique()"
   ]
  },
  {
   "cell_type": "markdown",
   "id": "convertible-threat",
   "metadata": {},
   "source": [
    "#### Checkpoint para o campo tipo_acidente"
   ]
  },
  {
   "cell_type": "code",
   "execution_count": 77,
   "id": "compliant-sewing",
   "metadata": {},
   "outputs": [],
   "source": [
    "df_ocorrencias_limpo_bkp = df_ocorrencias_limpo.copy()"
   ]
  },
  {
   "cell_type": "markdown",
   "id": "elegant-diving",
   "metadata": {},
   "source": [
    "### classificacao_acidente"
   ]
  },
  {
   "cell_type": "code",
   "execution_count": 78,
   "id": "expected-accident",
   "metadata": {},
   "outputs": [
    {
     "data": {
      "text/plain": [
       "array(['Sem Vítimas', 'Com Vítimas Feridas', 'Ignorado',\n",
       "       'Com Vítimas Fatais', '(null)'], dtype=object)"
      ]
     },
     "execution_count": 78,
     "metadata": {},
     "output_type": "execute_result"
    }
   ],
   "source": [
    "df_ocorrencias_limpo['classificacao_acidente'].unique()"
   ]
  },
  {
   "cell_type": "markdown",
   "id": "suburban-bench",
   "metadata": {},
   "source": [
    "Conversão para categorico e renomeação do null"
   ]
  },
  {
   "cell_type": "code",
   "execution_count": 79,
   "id": "cultural-colombia",
   "metadata": {},
   "outputs": [
    {
     "data": {
      "text/plain": [
       "array(['Sem Vítimas', 'Com Vítimas Feridas', 'Ignorado',\n",
       "       'Com Vítimas Fatais', 'Não Informado'], dtype=object)"
      ]
     },
     "execution_count": 79,
     "metadata": {},
     "output_type": "execute_result"
    }
   ],
   "source": [
    "df_aux = df_ocorrencias_limpo[['classificacao_acidente']].copy()\n",
    "df_aux = df_aux.replace('(null)', 'Não Informado')\n",
    "df_aux.classificacao_acidente.unique()"
   ]
  },
  {
   "cell_type": "code",
   "execution_count": 80,
   "id": "manual-alias",
   "metadata": {},
   "outputs": [
    {
     "data": {
      "text/plain": [
       "['Sem Vítimas', 'Com Vítimas Feridas', 'Ignorado', 'Com Vítimas Fatais', 'Não Informado']\n",
       "Categories (5, object): ['Sem Vítimas', 'Com Vítimas Feridas', 'Ignorado', 'Com Vítimas Fatais', 'Não Informado']"
      ]
     },
     "execution_count": 80,
     "metadata": {},
     "output_type": "execute_result"
    }
   ],
   "source": [
    "df_aux['classificacao_acidente'] = pd.Categorical(df_aux.classificacao_acidente) \n",
    "df_aux.classificacao_acidente.unique()"
   ]
  },
  {
   "cell_type": "code",
   "execution_count": 81,
   "id": "classical-migration",
   "metadata": {},
   "outputs": [
    {
     "data": {
      "text/plain": [
       "0                  Sem Vítimas\n",
       "1                  Sem Vítimas\n",
       "2          Com Vítimas Feridas\n",
       "3                  Sem Vítimas\n",
       "4          Com Vítimas Feridas\n",
       "                  ...         \n",
       "1038468    Com Vítimas Feridas\n",
       "1038469            Sem Vítimas\n",
       "1038470     Com Vítimas Fatais\n",
       "1038471            Sem Vítimas\n",
       "1038472            Sem Vítimas\n",
       "Name: classificacao_acidente, Length: 1038473, dtype: category\n",
       "Categories (5, object): ['Com Vítimas Fatais', 'Com Vítimas Feridas', 'Ignorado', 'Não Informado', 'Sem Vítimas']"
      ]
     },
     "execution_count": 81,
     "metadata": {},
     "output_type": "execute_result"
    }
   ],
   "source": [
    "df_ocorrencias_limpo['classificacao_acidente'] = df_aux['classificacao_acidente']\n",
    "df_ocorrencias_limpo['classificacao_acidente']"
   ]
  },
  {
   "cell_type": "markdown",
   "id": "compound-influence",
   "metadata": {},
   "source": [
    "#### Checkpoint para o campo classificacao_acidente"
   ]
  },
  {
   "cell_type": "code",
   "execution_count": 82,
   "id": "blank-chain",
   "metadata": {},
   "outputs": [],
   "source": [
    "df_ocorrencias_limpo_bkp = df_ocorrencias_limpo.copy()"
   ]
  },
  {
   "cell_type": "markdown",
   "id": "private-conversion",
   "metadata": {},
   "source": [
    "### fase_dia"
   ]
  },
  {
   "cell_type": "code",
   "execution_count": 83,
   "id": "every-bottom",
   "metadata": {},
   "outputs": [
    {
     "data": {
      "text/plain": [
       "array(['Pleno dia', 'Plena noite', 'Anoitecer', 'Amanhecer', '(null)'],\n",
       "      dtype=object)"
      ]
     },
     "execution_count": 83,
     "metadata": {},
     "output_type": "execute_result"
    }
   ],
   "source": [
    "df_ocorrencias_limpo['fase_dia'].unique()"
   ]
  },
  {
   "cell_type": "markdown",
   "id": "elder-setup",
   "metadata": {},
   "source": [
    "Conversão para categorico e renomeação do null"
   ]
  },
  {
   "cell_type": "code",
   "execution_count": 84,
   "id": "complimentary-convert",
   "metadata": {},
   "outputs": [
    {
     "data": {
      "text/plain": [
       "array(['Pleno dia', 'Plena noite', 'Anoitecer', 'Amanhecer',\n",
       "       'Não Informado'], dtype=object)"
      ]
     },
     "execution_count": 84,
     "metadata": {},
     "output_type": "execute_result"
    }
   ],
   "source": [
    "df_aux = df_ocorrencias_limpo[['fase_dia']].copy()\n",
    "df_aux = df_aux.replace('(null)', 'Não Informado')\n",
    "df_aux.fase_dia.unique()"
   ]
  },
  {
   "cell_type": "code",
   "execution_count": 85,
   "id": "atlantic-smell",
   "metadata": {},
   "outputs": [
    {
     "data": {
      "text/plain": [
       "['Pleno dia', 'Plena noite', 'Anoitecer', 'Amanhecer', 'Não Informado']\n",
       "Categories (5, object): ['Pleno dia', 'Plena noite', 'Anoitecer', 'Amanhecer', 'Não Informado']"
      ]
     },
     "execution_count": 85,
     "metadata": {},
     "output_type": "execute_result"
    }
   ],
   "source": [
    "df_aux['fase_dia'] = pd.Categorical(df_aux.fase_dia) \n",
    "df_aux.fase_dia.unique()"
   ]
  },
  {
   "cell_type": "code",
   "execution_count": 86,
   "id": "rural-native",
   "metadata": {},
   "outputs": [
    {
     "data": {
      "text/plain": [
       "0            Pleno dia\n",
       "1          Plena noite\n",
       "2            Pleno dia\n",
       "3            Pleno dia\n",
       "4            Pleno dia\n",
       "              ...     \n",
       "1038468      Pleno dia\n",
       "1038469      Pleno dia\n",
       "1038470      Pleno dia\n",
       "1038471      Pleno dia\n",
       "1038472    Plena noite\n",
       "Name: fase_dia, Length: 1038473, dtype: category\n",
       "Categories (5, object): ['Amanhecer', 'Anoitecer', 'Não Informado', 'Plena noite', 'Pleno dia']"
      ]
     },
     "execution_count": 86,
     "metadata": {},
     "output_type": "execute_result"
    }
   ],
   "source": [
    "df_ocorrencias_limpo['fase_dia'] = df_aux['fase_dia']\n",
    "df_ocorrencias_limpo['fase_dia']"
   ]
  },
  {
   "cell_type": "markdown",
   "id": "banned-bargain",
   "metadata": {},
   "source": [
    "#### Checkpoint para o campo fase_dia"
   ]
  },
  {
   "cell_type": "code",
   "execution_count": 87,
   "id": "circular-favor",
   "metadata": {},
   "outputs": [],
   "source": [
    "df_ocorrencias_limpo_bkp = df_ocorrencias_limpo.copy()"
   ]
  },
  {
   "cell_type": "markdown",
   "id": "wanted-knowing",
   "metadata": {},
   "source": [
    "### sentido_via"
   ]
  },
  {
   "cell_type": "code",
   "execution_count": 88,
   "id": "brave-kennedy",
   "metadata": {},
   "outputs": [
    {
     "data": {
      "text/plain": [
       "array(['Crescente', 'Decrescente'], dtype=object)"
      ]
     },
     "execution_count": 88,
     "metadata": {},
     "output_type": "execute_result"
    }
   ],
   "source": [
    "df_ocorrencias_limpo['sentido_via'].unique()"
   ]
  },
  {
   "cell_type": "markdown",
   "id": "twelve-battle",
   "metadata": {},
   "source": [
    "Somente transformação em categorica"
   ]
  },
  {
   "cell_type": "code",
   "execution_count": 89,
   "id": "comparative-paint",
   "metadata": {},
   "outputs": [
    {
     "data": {
      "text/plain": [
       "['Crescente', 'Decrescente']\n",
       "Categories (2, object): ['Crescente', 'Decrescente']"
      ]
     },
     "execution_count": 89,
     "metadata": {},
     "output_type": "execute_result"
    }
   ],
   "source": [
    "df_aux = df_ocorrencias_limpo[['sentido_via']].copy()\n",
    "df_aux['sentido_via'] = pd.Categorical(df_aux['sentido_via'])\n",
    "df_aux.sentido_via.unique()"
   ]
  },
  {
   "cell_type": "code",
   "execution_count": 90,
   "id": "charming-variety",
   "metadata": {},
   "outputs": [
    {
     "data": {
      "text/plain": [
       "0            Crescente\n",
       "1            Crescente\n",
       "2          Decrescente\n",
       "3            Crescente\n",
       "4          Decrescente\n",
       "              ...     \n",
       "1038468    Decrescente\n",
       "1038469    Decrescente\n",
       "1038470    Decrescente\n",
       "1038471      Crescente\n",
       "1038472    Decrescente\n",
       "Name: sentido_via, Length: 1038473, dtype: category\n",
       "Categories (2, object): ['Crescente', 'Decrescente']"
      ]
     },
     "execution_count": 90,
     "metadata": {},
     "output_type": "execute_result"
    }
   ],
   "source": [
    "df_ocorrencias_limpo['sentido_via'] = df_aux['sentido_via']\n",
    "df_ocorrencias_limpo['sentido_via']"
   ]
  },
  {
   "cell_type": "markdown",
   "id": "north-holder",
   "metadata": {},
   "source": [
    "#### Checkpoint para o campo sentido_via"
   ]
  },
  {
   "cell_type": "code",
   "execution_count": 91,
   "id": "failing-namibia",
   "metadata": {},
   "outputs": [],
   "source": [
    "df_ocorrencias_limpo_bkp = df_ocorrencias_limpo.copy()"
   ]
  },
  {
   "cell_type": "markdown",
   "id": "cubic-street",
   "metadata": {},
   "source": [
    "### condicao_meteorologica"
   ]
  },
  {
   "cell_type": "code",
   "execution_count": 92,
   "id": "surface-protection",
   "metadata": {},
   "outputs": [
    {
     "data": {
      "text/plain": [
       "array(['Chuva', 'Ceu Claro', 'Sol', 'Nublado', 'Nevoeiro/neblina',\n",
       "       'Ignorada', 'Vento', 'Granizo', '(null)', 'Neve'], dtype=object)"
      ]
     },
     "execution_count": 92,
     "metadata": {},
     "output_type": "execute_result"
    }
   ],
   "source": [
    "df_ocorrencias_limpo['condicao_meteorologica'].unique()"
   ]
  },
  {
   "cell_type": "markdown",
   "id": "modified-numbers",
   "metadata": {},
   "source": [
    "Conversão para categorico e renomeação do null"
   ]
  },
  {
   "cell_type": "code",
   "execution_count": 93,
   "id": "allied-luxury",
   "metadata": {},
   "outputs": [
    {
     "data": {
      "text/plain": [
       "array(['Chuva', 'Ceu Claro', 'Sol', 'Nublado', 'Nevoeiro/neblina',\n",
       "       'Ignorada', 'Vento', 'Granizo', 'Não Informado', 'Neve'],\n",
       "      dtype=object)"
      ]
     },
     "execution_count": 93,
     "metadata": {},
     "output_type": "execute_result"
    }
   ],
   "source": [
    "df_aux = df_ocorrencias_limpo[['condicao_meteorologica']].copy()\n",
    "df_aux = df_aux.replace('(null)', 'Não Informado')\n",
    "df_aux.condicao_meteorologica.unique()"
   ]
  },
  {
   "cell_type": "code",
   "execution_count": 94,
   "id": "worst-spelling",
   "metadata": {},
   "outputs": [
    {
     "data": {
      "text/plain": [
       "['Chuva', 'Ceu Claro', 'Sol', 'Nublado', 'Nevoeiro/neblina', 'Ignorada', 'Vento', 'Granizo', 'Não Informado', 'Neve']\n",
       "Categories (10, object): ['Chuva', 'Ceu Claro', 'Sol', 'Nublado', ..., 'Vento', 'Granizo', 'Não Informado', 'Neve']"
      ]
     },
     "execution_count": 94,
     "metadata": {},
     "output_type": "execute_result"
    }
   ],
   "source": [
    "df_aux['condicao_meteorologica'] = pd.Categorical(df_aux.condicao_meteorologica) \n",
    "df_aux.condicao_meteorologica.unique()"
   ]
  },
  {
   "cell_type": "code",
   "execution_count": 95,
   "id": "unable-broad",
   "metadata": {},
   "outputs": [
    {
     "data": {
      "text/plain": [
       "0              Chuva\n",
       "1              Chuva\n",
       "2              Chuva\n",
       "3          Ceu Claro\n",
       "4          Ceu Claro\n",
       "             ...    \n",
       "1038468          Sol\n",
       "1038469        Chuva\n",
       "1038470    Ceu Claro\n",
       "1038471      Nublado\n",
       "1038472     Ignorada\n",
       "Name: condicao_meteorologica, Length: 1038473, dtype: category\n",
       "Categories (10, object): ['Ceu Claro', 'Chuva', 'Granizo', 'Ignorada', ..., 'Nublado', 'Não Informado', 'Sol', 'Vento']"
      ]
     },
     "execution_count": 95,
     "metadata": {},
     "output_type": "execute_result"
    }
   ],
   "source": [
    "df_ocorrencias_limpo['condicao_meteorologica'] = df_aux['condicao_meteorologica']\n",
    "df_ocorrencias_limpo['condicao_meteorologica']"
   ]
  },
  {
   "cell_type": "markdown",
   "id": "taken-triangle",
   "metadata": {},
   "source": [
    "#### Checkpoint para o campo condicao_meteorologica"
   ]
  },
  {
   "cell_type": "code",
   "execution_count": 96,
   "id": "elect-unemployment",
   "metadata": {},
   "outputs": [],
   "source": [
    "df_ocorrencias_limpo_bkp = df_ocorrencias_limpo.copy()"
   ]
  },
  {
   "cell_type": "markdown",
   "id": "extra-uniform",
   "metadata": {},
   "source": [
    "### tipo_pista"
   ]
  },
  {
   "cell_type": "code",
   "execution_count": 97,
   "id": "harmful-communist",
   "metadata": {},
   "outputs": [
    {
     "data": {
      "text/plain": [
       "array(['Simples', 'Dupla', 'Múltipla', '(null)'], dtype=object)"
      ]
     },
     "execution_count": 97,
     "metadata": {},
     "output_type": "execute_result"
    }
   ],
   "source": [
    "df_ocorrencias_limpo['tipo_pista'].unique()"
   ]
  },
  {
   "cell_type": "markdown",
   "id": "arranged-reverse",
   "metadata": {},
   "source": [
    "Conversão para categorico e renomeação do null\n"
   ]
  },
  {
   "cell_type": "code",
   "execution_count": 98,
   "id": "artistic-compilation",
   "metadata": {},
   "outputs": [
    {
     "data": {
      "text/plain": [
       "array(['Simples', 'Dupla', 'Múltipla', 'Não Informado'], dtype=object)"
      ]
     },
     "execution_count": 98,
     "metadata": {},
     "output_type": "execute_result"
    }
   ],
   "source": [
    "df_aux = df_ocorrencias_limpo[['tipo_pista']].copy()\n",
    "df_aux = df_aux.replace('(null)', 'Não Informado')\n",
    "df_aux.tipo_pista.unique()"
   ]
  },
  {
   "cell_type": "code",
   "execution_count": 99,
   "id": "extraordinary-raise",
   "metadata": {},
   "outputs": [
    {
     "data": {
      "text/plain": [
       "['Simples', 'Dupla', 'Múltipla', 'Não Informado']\n",
       "Categories (4, object): ['Simples', 'Dupla', 'Múltipla', 'Não Informado']"
      ]
     },
     "execution_count": 99,
     "metadata": {},
     "output_type": "execute_result"
    }
   ],
   "source": [
    "df_aux['tipo_pista'] = pd.Categorical(df_aux.tipo_pista) \n",
    "df_aux.tipo_pista.unique()"
   ]
  },
  {
   "cell_type": "code",
   "execution_count": 100,
   "id": "english-central",
   "metadata": {},
   "outputs": [
    {
     "data": {
      "text/plain": [
       "0           Simples\n",
       "1             Dupla\n",
       "2           Simples\n",
       "3          Múltipla\n",
       "4           Simples\n",
       "             ...   \n",
       "1038468       Dupla\n",
       "1038469     Simples\n",
       "1038470     Simples\n",
       "1038471     Simples\n",
       "1038472       Dupla\n",
       "Name: tipo_pista, Length: 1038473, dtype: category\n",
       "Categories (4, object): ['Dupla', 'Múltipla', 'Não Informado', 'Simples']"
      ]
     },
     "execution_count": 100,
     "metadata": {},
     "output_type": "execute_result"
    }
   ],
   "source": [
    "df_ocorrencias_limpo['tipo_pista'] = df_aux['tipo_pista']\n",
    "df_ocorrencias_limpo['tipo_pista']"
   ]
  },
  {
   "cell_type": "markdown",
   "id": "urban-township",
   "metadata": {},
   "source": [
    "#### Checkpoint para o campo tipo_pista"
   ]
  },
  {
   "cell_type": "code",
   "execution_count": 101,
   "id": "cooked-stone",
   "metadata": {},
   "outputs": [],
   "source": [
    "df_ocorrencias_limpo_bkp = df_ocorrencias_limpo.copy()"
   ]
  },
  {
   "cell_type": "markdown",
   "id": "everyday-skiing",
   "metadata": {},
   "source": [
    "### tracado_via"
   ]
  },
  {
   "cell_type": "code",
   "execution_count": 102,
   "id": "outdoor-bradley",
   "metadata": {},
   "outputs": [
    {
     "data": {
      "text/plain": [
       "array(['Curva', 'Reta', 'Cruzamento', '(null)'], dtype=object)"
      ]
     },
     "execution_count": 102,
     "metadata": {},
     "output_type": "execute_result"
    }
   ],
   "source": [
    "df_ocorrencias_limpo['tracado_via'].unique()"
   ]
  },
  {
   "cell_type": "markdown",
   "id": "strong-lloyd",
   "metadata": {},
   "source": [
    "Conversão para categorico e renomeação do null"
   ]
  },
  {
   "cell_type": "code",
   "execution_count": 103,
   "id": "chicken-gateway",
   "metadata": {},
   "outputs": [
    {
     "data": {
      "text/plain": [
       "array(['Curva', 'Reta', 'Cruzamento', 'Não Informado'], dtype=object)"
      ]
     },
     "execution_count": 103,
     "metadata": {},
     "output_type": "execute_result"
    }
   ],
   "source": [
    "df_aux = df_ocorrencias_limpo[['tracado_via']].copy()\n",
    "df_aux = df_aux.replace('(null)', 'Não Informado')\n",
    "df_aux.tracado_via.unique()"
   ]
  },
  {
   "cell_type": "code",
   "execution_count": 104,
   "id": "metric-demographic",
   "metadata": {},
   "outputs": [
    {
     "data": {
      "text/plain": [
       "['Curva', 'Reta', 'Cruzamento', 'Não Informado']\n",
       "Categories (4, object): ['Curva', 'Reta', 'Cruzamento', 'Não Informado']"
      ]
     },
     "execution_count": 104,
     "metadata": {},
     "output_type": "execute_result"
    }
   ],
   "source": [
    "df_aux['tracado_via'] = pd.Categorical(df_aux.tracado_via) \n",
    "df_aux.tracado_via.unique()"
   ]
  },
  {
   "cell_type": "code",
   "execution_count": 105,
   "id": "furnished-cornwall",
   "metadata": {},
   "outputs": [
    {
     "data": {
      "text/plain": [
       "0          Curva\n",
       "1           Reta\n",
       "2           Reta\n",
       "3           Reta\n",
       "4           Reta\n",
       "           ...  \n",
       "1038468     Reta\n",
       "1038469     Reta\n",
       "1038470     Reta\n",
       "1038471    Curva\n",
       "1038472     Reta\n",
       "Name: tracado_via, Length: 1038473, dtype: category\n",
       "Categories (4, object): ['Cruzamento', 'Curva', 'Não Informado', 'Reta']"
      ]
     },
     "execution_count": 105,
     "metadata": {},
     "output_type": "execute_result"
    }
   ],
   "source": [
    "df_ocorrencias_limpo['tracado_via'] = df_aux['tracado_via']\n",
    "df_ocorrencias_limpo['tracado_via']"
   ]
  },
  {
   "cell_type": "markdown",
   "id": "every-receipt",
   "metadata": {},
   "source": [
    "#### Checkpoint para o campo tracado_via"
   ]
  },
  {
   "cell_type": "code",
   "execution_count": 106,
   "id": "matched-queen",
   "metadata": {},
   "outputs": [],
   "source": [
    "df_ocorrencias_limpo_bkp = df_ocorrencias_limpo.copy()"
   ]
  },
  {
   "cell_type": "markdown",
   "id": "directed-nevada",
   "metadata": {},
   "source": [
    "### uso_solo"
   ]
  },
  {
   "cell_type": "code",
   "execution_count": 107,
   "id": "muslim-grounds",
   "metadata": {},
   "outputs": [
    {
     "data": {
      "text/plain": [
       "array(['Rural', 'Urbano', '(null)'], dtype=object)"
      ]
     },
     "execution_count": 107,
     "metadata": {},
     "output_type": "execute_result"
    }
   ],
   "source": [
    "df_ocorrencias_limpo['uso_solo'].unique()"
   ]
  },
  {
   "cell_type": "markdown",
   "id": "freelance-agent",
   "metadata": {},
   "source": [
    "Conversão para categorico e renomeação do null"
   ]
  },
  {
   "cell_type": "code",
   "execution_count": 108,
   "id": "speaking-pocket",
   "metadata": {},
   "outputs": [
    {
     "data": {
      "text/plain": [
       "array(['Rural', 'Urbano', 'Não Informado'], dtype=object)"
      ]
     },
     "execution_count": 108,
     "metadata": {},
     "output_type": "execute_result"
    }
   ],
   "source": [
    "df_aux = df_ocorrencias_limpo[['uso_solo']].copy()\n",
    "df_aux = df_aux.replace('(null)', 'Não Informado')\n",
    "df_aux.uso_solo.unique()"
   ]
  },
  {
   "cell_type": "code",
   "execution_count": 109,
   "id": "capital-parliament",
   "metadata": {},
   "outputs": [
    {
     "data": {
      "text/plain": [
       "['Rural', 'Urbano', 'Não Informado']\n",
       "Categories (3, object): ['Rural', 'Urbano', 'Não Informado']"
      ]
     },
     "execution_count": 109,
     "metadata": {},
     "output_type": "execute_result"
    }
   ],
   "source": [
    "df_aux['uso_solo'] = pd.Categorical(df_aux.uso_solo) \n",
    "df_aux.uso_solo.unique()"
   ]
  },
  {
   "cell_type": "code",
   "execution_count": 110,
   "id": "selected-whole",
   "metadata": {},
   "outputs": [
    {
     "data": {
      "text/plain": [
       "0           Rural\n",
       "1           Rural\n",
       "2           Rural\n",
       "3           Rural\n",
       "4           Rural\n",
       "            ...  \n",
       "1038468    Urbano\n",
       "1038469     Rural\n",
       "1038470     Rural\n",
       "1038471     Rural\n",
       "1038472    Urbano\n",
       "Name: uso_solo, Length: 1038473, dtype: category\n",
       "Categories (3, object): ['Não Informado', 'Rural', 'Urbano']"
      ]
     },
     "execution_count": 110,
     "metadata": {},
     "output_type": "execute_result"
    }
   ],
   "source": [
    "df_ocorrencias_limpo['uso_solo'] = df_aux['uso_solo']\n",
    "df_ocorrencias_limpo['uso_solo']"
   ]
  },
  {
   "cell_type": "markdown",
   "id": "minute-howard",
   "metadata": {},
   "source": [
    "#### Checkpoint para o campo uso_solo"
   ]
  },
  {
   "cell_type": "code",
   "execution_count": 111,
   "id": "recreational-daily",
   "metadata": {},
   "outputs": [],
   "source": [
    "df_ocorrencias_limpo_bkp = df_ocorrencias_limpo.copy()"
   ]
  },
  {
   "cell_type": "markdown",
   "id": "instructional-phrase",
   "metadata": {},
   "source": [
    "### ano"
   ]
  },
  {
   "cell_type": "code",
   "execution_count": 112,
   "id": "honest-portrait",
   "metadata": {},
   "outputs": [
    {
     "data": {
      "text/plain": [
       "array(['2010', '2011', '2012', '2013', '2014', '2015'], dtype=object)"
      ]
     },
     "execution_count": 112,
     "metadata": {},
     "output_type": "execute_result"
    }
   ],
   "source": [
    "df_ocorrencias_limpo['ano'].unique()"
   ]
  },
  {
   "cell_type": "markdown",
   "id": "peripheral-secretary",
   "metadata": {},
   "source": [
    "Deveria ter criada como categórica no início"
   ]
  },
  {
   "cell_type": "code",
   "execution_count": 113,
   "id": "decent-daisy",
   "metadata": {},
   "outputs": [
    {
     "data": {
      "text/plain": [
       "['2010', '2011', '2012', '2013', '2014', '2015']\n",
       "Categories (6, object): ['2010', '2011', '2012', '2013', '2014', '2015']"
      ]
     },
     "execution_count": 113,
     "metadata": {},
     "output_type": "execute_result"
    }
   ],
   "source": [
    "df_aux = df_ocorrencias_limpo[['ano']].copy()\n",
    "df_aux['ano'] = pd.Categorical(df_aux.ano) \n",
    "df_aux.ano.unique()"
   ]
  },
  {
   "cell_type": "code",
   "execution_count": 114,
   "id": "sacred-clearance",
   "metadata": {},
   "outputs": [
    {
     "data": {
      "text/plain": [
       "0          2010\n",
       "1          2010\n",
       "2          2010\n",
       "3          2010\n",
       "4          2010\n",
       "           ... \n",
       "1038468    2015\n",
       "1038469    2015\n",
       "1038470    2015\n",
       "1038471    2015\n",
       "1038472    2015\n",
       "Name: ano, Length: 1038473, dtype: category\n",
       "Categories (6, object): ['2010', '2011', '2012', '2013', '2014', '2015']"
      ]
     },
     "execution_count": 114,
     "metadata": {},
     "output_type": "execute_result"
    }
   ],
   "source": [
    "df_ocorrencias_limpo['ano'] = df_aux['ano']\n",
    "df_ocorrencias_limpo['ano']"
   ]
  },
  {
   "cell_type": "markdown",
   "id": "british-marks",
   "metadata": {},
   "source": [
    "#### Checkpoint para o campo ano"
   ]
  },
  {
   "cell_type": "code",
   "execution_count": 115,
   "id": "postal-psychology",
   "metadata": {},
   "outputs": [],
   "source": [
    "df_ocorrencias_limpo_bkp = df_ocorrencias_limpo.copy()"
   ]
  },
  {
   "cell_type": "markdown",
   "id": "labeled-karaoke",
   "metadata": {},
   "source": [
    "## Checando os tipos atualizados"
   ]
  },
  {
   "cell_type": "code",
   "execution_count": 116,
   "id": "operational-criterion",
   "metadata": {},
   "outputs": [
    {
     "data": {
      "text/html": [
       "<div>\n",
       "<style scoped>\n",
       "    .dataframe tbody tr th:only-of-type {\n",
       "        vertical-align: middle;\n",
       "    }\n",
       "\n",
       "    .dataframe tbody tr th {\n",
       "        vertical-align: top;\n",
       "    }\n",
       "\n",
       "    .dataframe thead th {\n",
       "        text-align: right;\n",
       "    }\n",
       "</style>\n",
       "<table border=\"1\" class=\"dataframe\">\n",
       "  <thead>\n",
       "    <tr style=\"text-align: right;\">\n",
       "      <th></th>\n",
       "      <th>coluna</th>\n",
       "      <th>tipo</th>\n",
       "      <th>exemplo</th>\n",
       "    </tr>\n",
       "  </thead>\n",
       "  <tbody>\n",
       "    <tr>\n",
       "      <th>0</th>\n",
       "      <td>id</td>\n",
       "      <td>int64</td>\n",
       "      <td>1000329</td>\n",
       "    </tr>\n",
       "    <tr>\n",
       "      <th>1</th>\n",
       "      <td>data</td>\n",
       "      <td>datetime64[ns]</td>\n",
       "      <td>2010-10-29 00:00:00</td>\n",
       "    </tr>\n",
       "    <tr>\n",
       "      <th>2</th>\n",
       "      <td>dia_semana</td>\n",
       "      <td>category</td>\n",
       "      <td>Sexta</td>\n",
       "    </tr>\n",
       "    <tr>\n",
       "      <th>3</th>\n",
       "      <td>uf</td>\n",
       "      <td>category</td>\n",
       "      <td>RS</td>\n",
       "    </tr>\n",
       "    <tr>\n",
       "      <th>4</th>\n",
       "      <td>br</td>\n",
       "      <td>category</td>\n",
       "      <td>285</td>\n",
       "    </tr>\n",
       "    <tr>\n",
       "      <th>5</th>\n",
       "      <td>km</td>\n",
       "      <td>float64</td>\n",
       "      <td>397.3</td>\n",
       "    </tr>\n",
       "    <tr>\n",
       "      <th>6</th>\n",
       "      <td>municipio</td>\n",
       "      <td>category</td>\n",
       "      <td>santa barbara do sul</td>\n",
       "    </tr>\n",
       "    <tr>\n",
       "      <th>7</th>\n",
       "      <td>causa_acidente</td>\n",
       "      <td>category</td>\n",
       "      <td>Velocidade incompatível</td>\n",
       "    </tr>\n",
       "    <tr>\n",
       "      <th>8</th>\n",
       "      <td>tipo_acidente</td>\n",
       "      <td>category</td>\n",
       "      <td>Saída de Pista</td>\n",
       "    </tr>\n",
       "    <tr>\n",
       "      <th>9</th>\n",
       "      <td>classificacao_acidente</td>\n",
       "      <td>category</td>\n",
       "      <td>Sem Vítimas</td>\n",
       "    </tr>\n",
       "    <tr>\n",
       "      <th>10</th>\n",
       "      <td>fase_dia</td>\n",
       "      <td>category</td>\n",
       "      <td>Pleno dia</td>\n",
       "    </tr>\n",
       "    <tr>\n",
       "      <th>11</th>\n",
       "      <td>sentido_via</td>\n",
       "      <td>category</td>\n",
       "      <td>Crescente</td>\n",
       "    </tr>\n",
       "    <tr>\n",
       "      <th>12</th>\n",
       "      <td>condicao_meteorologica</td>\n",
       "      <td>category</td>\n",
       "      <td>Chuva</td>\n",
       "    </tr>\n",
       "    <tr>\n",
       "      <th>13</th>\n",
       "      <td>tipo_pista</td>\n",
       "      <td>category</td>\n",
       "      <td>Simples</td>\n",
       "    </tr>\n",
       "    <tr>\n",
       "      <th>14</th>\n",
       "      <td>tracado_via</td>\n",
       "      <td>category</td>\n",
       "      <td>Curva</td>\n",
       "    </tr>\n",
       "    <tr>\n",
       "      <th>15</th>\n",
       "      <td>uso_solo</td>\n",
       "      <td>category</td>\n",
       "      <td>Rural</td>\n",
       "    </tr>\n",
       "    <tr>\n",
       "      <th>16</th>\n",
       "      <td>ano</td>\n",
       "      <td>category</td>\n",
       "      <td>2010</td>\n",
       "    </tr>\n",
       "    <tr>\n",
       "      <th>17</th>\n",
       "      <td>pessoas</td>\n",
       "      <td>int64</td>\n",
       "      <td>5</td>\n",
       "    </tr>\n",
       "    <tr>\n",
       "      <th>18</th>\n",
       "      <td>mortos</td>\n",
       "      <td>int64</td>\n",
       "      <td>0</td>\n",
       "    </tr>\n",
       "    <tr>\n",
       "      <th>19</th>\n",
       "      <td>feridos_leves</td>\n",
       "      <td>int64</td>\n",
       "      <td>0</td>\n",
       "    </tr>\n",
       "    <tr>\n",
       "      <th>20</th>\n",
       "      <td>feridos_graves</td>\n",
       "      <td>int64</td>\n",
       "      <td>0</td>\n",
       "    </tr>\n",
       "    <tr>\n",
       "      <th>21</th>\n",
       "      <td>ilesos</td>\n",
       "      <td>int64</td>\n",
       "      <td>5</td>\n",
       "    </tr>\n",
       "    <tr>\n",
       "      <th>22</th>\n",
       "      <td>ignorados</td>\n",
       "      <td>int64</td>\n",
       "      <td>0</td>\n",
       "    </tr>\n",
       "    <tr>\n",
       "      <th>23</th>\n",
       "      <td>feridos</td>\n",
       "      <td>int64</td>\n",
       "      <td>0</td>\n",
       "    </tr>\n",
       "    <tr>\n",
       "      <th>24</th>\n",
       "      <td>veiculos</td>\n",
       "      <td>int64</td>\n",
       "      <td>1</td>\n",
       "    </tr>\n",
       "    <tr>\n",
       "      <th>25</th>\n",
       "      <td>mes</td>\n",
       "      <td>category</td>\n",
       "      <td>10</td>\n",
       "    </tr>\n",
       "    <tr>\n",
       "      <th>26</th>\n",
       "      <td>hora</td>\n",
       "      <td>object</td>\n",
       "      <td>14</td>\n",
       "    </tr>\n",
       "  </tbody>\n",
       "</table>\n",
       "</div>"
      ],
      "text/plain": [
       "                    coluna            tipo                  exemplo\n",
       "0                       id           int64                  1000329\n",
       "1                     data  datetime64[ns]      2010-10-29 00:00:00\n",
       "2               dia_semana        category                    Sexta\n",
       "3                       uf        category                       RS\n",
       "4                       br        category                      285\n",
       "5                       km         float64                    397.3\n",
       "6                municipio        category     santa barbara do sul\n",
       "7           causa_acidente        category  Velocidade incompatível\n",
       "8            tipo_acidente        category           Saída de Pista\n",
       "9   classificacao_acidente        category              Sem Vítimas\n",
       "10                fase_dia        category                Pleno dia\n",
       "11             sentido_via        category                Crescente\n",
       "12  condicao_meteorologica        category                    Chuva\n",
       "13              tipo_pista        category                  Simples\n",
       "14             tracado_via        category                    Curva\n",
       "15                uso_solo        category                    Rural\n",
       "16                     ano        category                     2010\n",
       "17                 pessoas           int64                        5\n",
       "18                  mortos           int64                        0\n",
       "19           feridos_leves           int64                        0\n",
       "20          feridos_graves           int64                        0\n",
       "21                  ilesos           int64                        5\n",
       "22               ignorados           int64                        0\n",
       "23                 feridos           int64                        0\n",
       "24                veiculos           int64                        1\n",
       "25                     mes        category                       10\n",
       "26                    hora          object                       14"
      ]
     },
     "execution_count": 116,
     "metadata": {},
     "output_type": "execute_result"
    }
   ],
   "source": [
    "df_ocorrencias_informativo = pd.DataFrame(df_ocorrencias_limpo.dtypes).reset_index()\n",
    "df_ocorrencias_informativo.columns = ['coluna', 'tipo']\n",
    "df_ocorrencias_informativo['exemplo'] = list(df_ocorrencias_limpo.iloc[0])\n",
    "df_ocorrencias_informativo"
   ]
  },
  {
   "cell_type": "markdown",
   "id": "jewish-panel",
   "metadata": {},
   "source": [
    "## Reorganizando Colunas"
   ]
  },
  {
   "cell_type": "code",
   "execution_count": 117,
   "id": "vertical-number",
   "metadata": {},
   "outputs": [
    {
     "data": {
      "text/plain": [
       "Index(['id', 'data', 'dia_semana', 'uf', 'br', 'km', 'municipio',\n",
       "       'causa_acidente', 'tipo_acidente', 'classificacao_acidente', 'fase_dia',\n",
       "       'sentido_via', 'condicao_meteorologica', 'tipo_pista', 'tracado_via',\n",
       "       'uso_solo', 'ano', 'pessoas', 'mortos', 'feridos_leves',\n",
       "       'feridos_graves', 'ilesos', 'ignorados', 'feridos', 'veiculos', 'mes',\n",
       "       'hora'],\n",
       "      dtype='object')"
      ]
     },
     "execution_count": 117,
     "metadata": {},
     "output_type": "execute_result"
    }
   ],
   "source": [
    "df_ocorrencias_limpo.columns"
   ]
  },
  {
   "cell_type": "code",
   "execution_count": 118,
   "id": "going-remainder",
   "metadata": {},
   "outputs": [],
   "source": [
    "nova_ordem = [\n",
    "    'id',\n",
    "    'ano',\n",
    "    'mes',\n",
    "    'data',\n",
    "    'hora',\n",
    "    'dia_semana',\n",
    "    'uf',\n",
    "    'municipio',\n",
    "    'br',\n",
    "    'km',\n",
    "    'condicao_meteorologica',\n",
    "    'fase_dia',\n",
    "    'sentido_via',\n",
    "    'tipo_pista',\n",
    "    'tracado_via',\n",
    "    'uso_solo',\n",
    "    'tipo_acidente',\n",
    "    'causa_acidente',\n",
    "    'classificacao_acidente',\n",
    "    'veiculos',\n",
    "    'pessoas',\n",
    "    'ilesos',\n",
    "    'feridos',\n",
    "    'feridos_leves',\n",
    "    'feridos_graves',\n",
    "    'mortos',\n",
    "    'ignorados'\n",
    "]"
   ]
  },
  {
   "cell_type": "code",
   "execution_count": 119,
   "id": "liable-september",
   "metadata": {},
   "outputs": [
    {
     "data": {
      "text/plain": [
       "Index(['id', 'ano', 'mes', 'data', 'hora', 'dia_semana', 'uf', 'municipio',\n",
       "       'br', 'km', 'condicao_meteorologica', 'fase_dia', 'sentido_via',\n",
       "       'tipo_pista', 'tracado_via', 'uso_solo', 'tipo_acidente',\n",
       "       'causa_acidente', 'classificacao_acidente', 'veiculos', 'pessoas',\n",
       "       'ilesos', 'feridos', 'feridos_leves', 'feridos_graves', 'mortos',\n",
       "       'ignorados'],\n",
       "      dtype='object')"
      ]
     },
     "execution_count": 119,
     "metadata": {},
     "output_type": "execute_result"
    }
   ],
   "source": [
    "df_ocorrencias_limpo = df_ocorrencias_limpo[nova_ordem]\n",
    "df_ocorrencias_limpo.columns"
   ]
  },
  {
   "cell_type": "code",
   "execution_count": 120,
   "id": "beneficial-oklahoma",
   "metadata": {},
   "outputs": [
    {
     "data": {
      "text/html": [
       "<div>\n",
       "<style scoped>\n",
       "    .dataframe tbody tr th:only-of-type {\n",
       "        vertical-align: middle;\n",
       "    }\n",
       "\n",
       "    .dataframe tbody tr th {\n",
       "        vertical-align: top;\n",
       "    }\n",
       "\n",
       "    .dataframe thead th {\n",
       "        text-align: right;\n",
       "    }\n",
       "</style>\n",
       "<table border=\"1\" class=\"dataframe\">\n",
       "  <thead>\n",
       "    <tr style=\"text-align: right;\">\n",
       "      <th></th>\n",
       "      <th>id</th>\n",
       "      <th>ano</th>\n",
       "      <th>mes</th>\n",
       "      <th>data</th>\n",
       "      <th>hora</th>\n",
       "      <th>dia_semana</th>\n",
       "      <th>uf</th>\n",
       "      <th>municipio</th>\n",
       "      <th>br</th>\n",
       "      <th>km</th>\n",
       "      <th>...</th>\n",
       "      <th>causa_acidente</th>\n",
       "      <th>classificacao_acidente</th>\n",
       "      <th>veiculos</th>\n",
       "      <th>pessoas</th>\n",
       "      <th>ilesos</th>\n",
       "      <th>feridos</th>\n",
       "      <th>feridos_leves</th>\n",
       "      <th>feridos_graves</th>\n",
       "      <th>mortos</th>\n",
       "      <th>ignorados</th>\n",
       "    </tr>\n",
       "  </thead>\n",
       "  <tbody>\n",
       "    <tr>\n",
       "      <th>0</th>\n",
       "      <td>1000329</td>\n",
       "      <td>2010</td>\n",
       "      <td>10</td>\n",
       "      <td>2010-10-29</td>\n",
       "      <td>14</td>\n",
       "      <td>Sexta</td>\n",
       "      <td>RS</td>\n",
       "      <td>santa barbara do sul</td>\n",
       "      <td>285</td>\n",
       "      <td>397.3</td>\n",
       "      <td>...</td>\n",
       "      <td>Velocidade incompatível</td>\n",
       "      <td>Sem Vítimas</td>\n",
       "      <td>1</td>\n",
       "      <td>5</td>\n",
       "      <td>5</td>\n",
       "      <td>0</td>\n",
       "      <td>0</td>\n",
       "      <td>0</td>\n",
       "      <td>0</td>\n",
       "      <td>0</td>\n",
       "    </tr>\n",
       "    <tr>\n",
       "      <th>1</th>\n",
       "      <td>1000837</td>\n",
       "      <td>2010</td>\n",
       "      <td>12</td>\n",
       "      <td>2010-12-14</td>\n",
       "      <td>22</td>\n",
       "      <td>Terça</td>\n",
       "      <td>SP</td>\n",
       "      <td>miracatu</td>\n",
       "      <td>116</td>\n",
       "      <td>406.5</td>\n",
       "      <td>...</td>\n",
       "      <td>Outras</td>\n",
       "      <td>Sem Vítimas</td>\n",
       "      <td>1</td>\n",
       "      <td>1</td>\n",
       "      <td>1</td>\n",
       "      <td>0</td>\n",
       "      <td>0</td>\n",
       "      <td>0</td>\n",
       "      <td>0</td>\n",
       "      <td>0</td>\n",
       "    </tr>\n",
       "    <tr>\n",
       "      <th>2</th>\n",
       "      <td>1002150</td>\n",
       "      <td>2010</td>\n",
       "      <td>3</td>\n",
       "      <td>2010-03-07</td>\n",
       "      <td>16</td>\n",
       "      <td>Domingo</td>\n",
       "      <td>BA</td>\n",
       "      <td>capim grosso</td>\n",
       "      <td>407</td>\n",
       "      <td>220.8</td>\n",
       "      <td>...</td>\n",
       "      <td>Velocidade incompatível</td>\n",
       "      <td>Com Vítimas Feridas</td>\n",
       "      <td>1</td>\n",
       "      <td>3</td>\n",
       "      <td>1</td>\n",
       "      <td>2</td>\n",
       "      <td>0</td>\n",
       "      <td>2</td>\n",
       "      <td>0</td>\n",
       "      <td>0</td>\n",
       "    </tr>\n",
       "    <tr>\n",
       "      <th>3</th>\n",
       "      <td>1003283</td>\n",
       "      <td>2010</td>\n",
       "      <td>10</td>\n",
       "      <td>2010-10-26</td>\n",
       "      <td>14</td>\n",
       "      <td>Terça</td>\n",
       "      <td>BA</td>\n",
       "      <td>nova itarana</td>\n",
       "      <td>116</td>\n",
       "      <td>567.0</td>\n",
       "      <td>...</td>\n",
       "      <td>Outras</td>\n",
       "      <td>Sem Vítimas</td>\n",
       "      <td>1</td>\n",
       "      <td>1</td>\n",
       "      <td>1</td>\n",
       "      <td>0</td>\n",
       "      <td>0</td>\n",
       "      <td>0</td>\n",
       "      <td>0</td>\n",
       "      <td>0</td>\n",
       "    </tr>\n",
       "    <tr>\n",
       "      <th>4</th>\n",
       "      <td>1004212</td>\n",
       "      <td>2010</td>\n",
       "      <td>9</td>\n",
       "      <td>2010-09-15</td>\n",
       "      <td>12</td>\n",
       "      <td>Quarta</td>\n",
       "      <td>SE</td>\n",
       "      <td>sao cristovao</td>\n",
       "      <td>101</td>\n",
       "      <td>107.0</td>\n",
       "      <td>...</td>\n",
       "      <td>Falta de atenção</td>\n",
       "      <td>Com Vítimas Feridas</td>\n",
       "      <td>1</td>\n",
       "      <td>2</td>\n",
       "      <td>0</td>\n",
       "      <td>2</td>\n",
       "      <td>2</td>\n",
       "      <td>0</td>\n",
       "      <td>0</td>\n",
       "      <td>0</td>\n",
       "    </tr>\n",
       "  </tbody>\n",
       "</table>\n",
       "<p>5 rows × 27 columns</p>\n",
       "</div>"
      ],
      "text/plain": [
       "        id   ano mes       data hora dia_semana  uf             municipio  \\\n",
       "0  1000329  2010  10 2010-10-29   14      Sexta  RS  santa barbara do sul   \n",
       "1  1000837  2010  12 2010-12-14   22      Terça  SP              miracatu   \n",
       "2  1002150  2010   3 2010-03-07   16    Domingo  BA          capim grosso   \n",
       "3  1003283  2010  10 2010-10-26   14      Terça  BA          nova itarana   \n",
       "4  1004212  2010   9 2010-09-15   12     Quarta  SE         sao cristovao   \n",
       "\n",
       "    br     km  ...           causa_acidente classificacao_acidente veiculos  \\\n",
       "0  285  397.3  ...  Velocidade incompatível            Sem Vítimas        1   \n",
       "1  116  406.5  ...                   Outras            Sem Vítimas        1   \n",
       "2  407  220.8  ...  Velocidade incompatível    Com Vítimas Feridas        1   \n",
       "3  116  567.0  ...                   Outras            Sem Vítimas        1   \n",
       "4  101  107.0  ...         Falta de atenção    Com Vítimas Feridas        1   \n",
       "\n",
       "  pessoas ilesos feridos feridos_leves feridos_graves mortos  ignorados  \n",
       "0       5      5       0             0              0      0          0  \n",
       "1       1      1       0             0              0      0          0  \n",
       "2       3      1       2             0              2      0          0  \n",
       "3       1      1       0             0              0      0          0  \n",
       "4       2      0       2             2              0      0          0  \n",
       "\n",
       "[5 rows x 27 columns]"
      ]
     },
     "execution_count": 120,
     "metadata": {},
     "output_type": "execute_result"
    }
   ],
   "source": [
    "df_ocorrencias_limpo.head()"
   ]
  },
  {
   "cell_type": "markdown",
   "id": "ignored-variable",
   "metadata": {},
   "source": [
    "# Análise Exploratória"
   ]
  },
  {
   "cell_type": "markdown",
   "id": "crucial-expression",
   "metadata": {},
   "source": [
    "## 1. Qual tipo de acidente teve o maior número de óbitos?"
   ]
  },
  {
   "cell_type": "code",
   "execution_count": 121,
   "id": "piano-positive",
   "metadata": {},
   "outputs": [
    {
     "data": {
      "text/html": [
       "<div>\n",
       "<style scoped>\n",
       "    .dataframe tbody tr th:only-of-type {\n",
       "        vertical-align: middle;\n",
       "    }\n",
       "\n",
       "    .dataframe tbody tr th {\n",
       "        vertical-align: top;\n",
       "    }\n",
       "\n",
       "    .dataframe thead th {\n",
       "        text-align: right;\n",
       "    }\n",
       "</style>\n",
       "<table border=\"1\" class=\"dataframe\">\n",
       "  <thead>\n",
       "    <tr style=\"text-align: right;\">\n",
       "      <th></th>\n",
       "      <th>tipo</th>\n",
       "      <th>total_mortos</th>\n",
       "    </tr>\n",
       "  </thead>\n",
       "  <tbody>\n",
       "    <tr>\n",
       "      <th>7</th>\n",
       "      <td>Colisão frontal</td>\n",
       "      <td>15572</td>\n",
       "    </tr>\n",
       "    <tr>\n",
       "      <th>1</th>\n",
       "      <td>Atropelamento de pessoa</td>\n",
       "      <td>7968</td>\n",
       "    </tr>\n",
       "    <tr>\n",
       "      <th>14</th>\n",
       "      <td>Saída de Pista</td>\n",
       "      <td>5185</td>\n",
       "    </tr>\n",
       "    <tr>\n",
       "      <th>3</th>\n",
       "      <td>Colisão Transversal</td>\n",
       "      <td>4526</td>\n",
       "    </tr>\n",
       "    <tr>\n",
       "      <th>9</th>\n",
       "      <td>Colisão traseira</td>\n",
       "      <td>4013</td>\n",
       "    </tr>\n",
       "    <tr>\n",
       "      <th>8</th>\n",
       "      <td>Colisão lateral</td>\n",
       "      <td>3525</td>\n",
       "    </tr>\n",
       "    <tr>\n",
       "      <th>2</th>\n",
       "      <td>Capotamento</td>\n",
       "      <td>2339</td>\n",
       "    </tr>\n",
       "    <tr>\n",
       "      <th>4</th>\n",
       "      <td>Colisão com bicicleta</td>\n",
       "      <td>1613</td>\n",
       "    </tr>\n",
       "    <tr>\n",
       "      <th>5</th>\n",
       "      <td>Colisão com objeto fixo</td>\n",
       "      <td>1450</td>\n",
       "    </tr>\n",
       "    <tr>\n",
       "      <th>13</th>\n",
       "      <td>Queda de motocicleta / bicicleta / veículo</td>\n",
       "      <td>1399</td>\n",
       "    </tr>\n",
       "    <tr>\n",
       "      <th>15</th>\n",
       "      <td>Tombamento</td>\n",
       "      <td>1055</td>\n",
       "    </tr>\n",
       "    <tr>\n",
       "      <th>0</th>\n",
       "      <td>Atropelamento de animal</td>\n",
       "      <td>531</td>\n",
       "    </tr>\n",
       "    <tr>\n",
       "      <th>6</th>\n",
       "      <td>Colisão com objeto móvel</td>\n",
       "      <td>229</td>\n",
       "    </tr>\n",
       "    <tr>\n",
       "      <th>10</th>\n",
       "      <td>Danos Eventuais</td>\n",
       "      <td>43</td>\n",
       "    </tr>\n",
       "    <tr>\n",
       "      <th>12</th>\n",
       "      <td>Incêndio</td>\n",
       "      <td>22</td>\n",
       "    </tr>\n",
       "    <tr>\n",
       "      <th>11</th>\n",
       "      <td>Derramamento de Carga</td>\n",
       "      <td>18</td>\n",
       "    </tr>\n",
       "  </tbody>\n",
       "</table>\n",
       "</div>"
      ],
      "text/plain": [
       "                                          tipo  total_mortos\n",
       "7                              Colisão frontal         15572\n",
       "1                      Atropelamento de pessoa          7968\n",
       "14                              Saída de Pista          5185\n",
       "3                          Colisão Transversal          4526\n",
       "9                             Colisão traseira          4013\n",
       "8                              Colisão lateral          3525\n",
       "2                                  Capotamento          2339\n",
       "4                        Colisão com bicicleta          1613\n",
       "5                      Colisão com objeto fixo          1450\n",
       "13  Queda de motocicleta / bicicleta / veículo          1399\n",
       "15                                  Tombamento          1055\n",
       "0                      Atropelamento de animal           531\n",
       "6                     Colisão com objeto móvel           229\n",
       "10                             Danos Eventuais            43\n",
       "12                                    Incêndio            22\n",
       "11                       Derramamento de Carga            18"
      ]
     },
     "execution_count": 121,
     "metadata": {},
     "output_type": "execute_result"
    }
   ],
   "source": [
    "df_by_tipo_sum_mortos = df_ocorrencias_limpo.groupby('tipo_acidente')['mortos'].agg('sum').reset_index().sort_values(by='mortos', ascending=False)\n",
    "df_by_tipo_sum_mortos.rename(columns={'tipo_acidente':'tipo', 'mortos':'total_mortos'}, inplace=True)\n",
    "df_by_tipo_sum_mortos"
   ]
  },
  {
   "cell_type": "markdown",
   "id": "passing-membership",
   "metadata": {},
   "source": [
    "## 2. Qual a taxa de letalidade de cada tipo de acidente com morte?"
   ]
  },
  {
   "cell_type": "code",
   "execution_count": 122,
   "id": "nominated-delaware",
   "metadata": {},
   "outputs": [
    {
     "name": "stdout",
     "output_type": "stream",
     "text": [
      "CPU times: user 1min 32s, sys: 119 ms, total: 1min 33s\n",
      "Wall time: 1min 33s\n"
     ]
    },
    {
     "data": {
      "text/html": [
       "<div>\n",
       "<style scoped>\n",
       "    .dataframe tbody tr th:only-of-type {\n",
       "        vertical-align: middle;\n",
       "    }\n",
       "\n",
       "    .dataframe tbody tr th {\n",
       "        vertical-align: top;\n",
       "    }\n",
       "\n",
       "    .dataframe thead th {\n",
       "        text-align: right;\n",
       "    }\n",
       "</style>\n",
       "<table border=\"1\" class=\"dataframe\">\n",
       "  <thead>\n",
       "    <tr style=\"text-align: right;\">\n",
       "      <th></th>\n",
       "      <th>id</th>\n",
       "      <th>causa_acidente</th>\n",
       "      <th>tipo_acidente</th>\n",
       "      <th>pessoas</th>\n",
       "      <th>mortos</th>\n",
       "      <th>pct_mortalidade</th>\n",
       "    </tr>\n",
       "  </thead>\n",
       "  <tbody>\n",
       "    <tr>\n",
       "      <th>0</th>\n",
       "      <td>1000329</td>\n",
       "      <td>Velocidade incompatível</td>\n",
       "      <td>Saída de Pista</td>\n",
       "      <td>5</td>\n",
       "      <td>0</td>\n",
       "      <td>0.0</td>\n",
       "    </tr>\n",
       "    <tr>\n",
       "      <th>1</th>\n",
       "      <td>1000837</td>\n",
       "      <td>Outras</td>\n",
       "      <td>Colisão com objeto fixo</td>\n",
       "      <td>1</td>\n",
       "      <td>0</td>\n",
       "      <td>0.0</td>\n",
       "    </tr>\n",
       "    <tr>\n",
       "      <th>2</th>\n",
       "      <td>1002150</td>\n",
       "      <td>Velocidade incompatível</td>\n",
       "      <td>Capotamento</td>\n",
       "      <td>3</td>\n",
       "      <td>0</td>\n",
       "      <td>0.0</td>\n",
       "    </tr>\n",
       "    <tr>\n",
       "      <th>3</th>\n",
       "      <td>1003283</td>\n",
       "      <td>Outras</td>\n",
       "      <td>Colisão com objeto fixo</td>\n",
       "      <td>1</td>\n",
       "      <td>0</td>\n",
       "      <td>0.0</td>\n",
       "    </tr>\n",
       "    <tr>\n",
       "      <th>4</th>\n",
       "      <td>1004212</td>\n",
       "      <td>Falta de atenção</td>\n",
       "      <td>Colisão com objeto fixo</td>\n",
       "      <td>2</td>\n",
       "      <td>0</td>\n",
       "      <td>0.0</td>\n",
       "    </tr>\n",
       "    <tr>\n",
       "      <th>...</th>\n",
       "      <td>...</td>\n",
       "      <td>...</td>\n",
       "      <td>...</td>\n",
       "      <td>...</td>\n",
       "      <td>...</td>\n",
       "      <td>...</td>\n",
       "    </tr>\n",
       "    <tr>\n",
       "      <th>1038468</th>\n",
       "      <td>83480933</td>\n",
       "      <td>Falta de atenção</td>\n",
       "      <td>Queda de motocicleta / bicicleta / veículo</td>\n",
       "      <td>3</td>\n",
       "      <td>0</td>\n",
       "      <td>0.0</td>\n",
       "    </tr>\n",
       "    <tr>\n",
       "      <th>1038469</th>\n",
       "      <td>83480982</td>\n",
       "      <td>Não guardar distância de segurança</td>\n",
       "      <td>Colisão traseira</td>\n",
       "      <td>2</td>\n",
       "      <td>0</td>\n",
       "      <td>0.0</td>\n",
       "    </tr>\n",
       "    <tr>\n",
       "      <th>1038470</th>\n",
       "      <td>83481192</td>\n",
       "      <td>Falta de atenção</td>\n",
       "      <td>Colisão lateral</td>\n",
       "      <td>4</td>\n",
       "      <td>1</td>\n",
       "      <td>25.0</td>\n",
       "    </tr>\n",
       "    <tr>\n",
       "      <th>1038471</th>\n",
       "      <td>83481253</td>\n",
       "      <td>Outras</td>\n",
       "      <td>Saída de Pista</td>\n",
       "      <td>2</td>\n",
       "      <td>0</td>\n",
       "      <td>0.0</td>\n",
       "    </tr>\n",
       "    <tr>\n",
       "      <th>1038472</th>\n",
       "      <td>83481326</td>\n",
       "      <td>Falta de atenção</td>\n",
       "      <td>Saída de Pista</td>\n",
       "      <td>1</td>\n",
       "      <td>0</td>\n",
       "      <td>0.0</td>\n",
       "    </tr>\n",
       "  </tbody>\n",
       "</table>\n",
       "<p>1038473 rows × 6 columns</p>\n",
       "</div>"
      ],
      "text/plain": [
       "               id                      causa_acidente  \\\n",
       "0         1000329             Velocidade incompatível   \n",
       "1         1000837                              Outras   \n",
       "2         1002150             Velocidade incompatível   \n",
       "3         1003283                              Outras   \n",
       "4         1004212                    Falta de atenção   \n",
       "...           ...                                 ...   \n",
       "1038468  83480933                    Falta de atenção   \n",
       "1038469  83480982  Não guardar distância de segurança   \n",
       "1038470  83481192                    Falta de atenção   \n",
       "1038471  83481253                              Outras   \n",
       "1038472  83481326                    Falta de atenção   \n",
       "\n",
       "                                      tipo_acidente  pessoas  mortos  \\\n",
       "0                                    Saída de Pista        5       0   \n",
       "1                           Colisão com objeto fixo        1       0   \n",
       "2                                       Capotamento        3       0   \n",
       "3                           Colisão com objeto fixo        1       0   \n",
       "4                           Colisão com objeto fixo        2       0   \n",
       "...                                             ...      ...     ...   \n",
       "1038468  Queda de motocicleta / bicicleta / veículo        3       0   \n",
       "1038469                            Colisão traseira        2       0   \n",
       "1038470                             Colisão lateral        4       1   \n",
       "1038471                              Saída de Pista        2       0   \n",
       "1038472                              Saída de Pista        1       0   \n",
       "\n",
       "         pct_mortalidade  \n",
       "0                    0.0  \n",
       "1                    0.0  \n",
       "2                    0.0  \n",
       "3                    0.0  \n",
       "4                    0.0  \n",
       "...                  ...  \n",
       "1038468              0.0  \n",
       "1038469              0.0  \n",
       "1038470             25.0  \n",
       "1038471              0.0  \n",
       "1038472              0.0  \n",
       "\n",
       "[1038473 rows x 6 columns]"
      ]
     },
     "execution_count": 122,
     "metadata": {},
     "output_type": "execute_result"
    }
   ],
   "source": [
    "%%time\n",
    "df_com_morte_ex = df_ocorrencias_limpo.copy()[['id',\n",
    "                                                    'causa_acidente', \n",
    "                                                    'tipo_acidente',\n",
    "                                                    'pessoas', \n",
    "                                                    'mortos']]\n",
    "list_pct_mortalidade = []\n",
    "\n",
    "for _, row in df_com_morte_ex.iterrows():\n",
    "        list_pct_mortalidade.append(round((row['mortos'] / row['pessoas']) * 100, 2))\n",
    "\n",
    "df_com_morte_ex['pct_mortalidade'] = list_pct_mortalidade\n",
    "df_com_morte_ex\n"
   ]
  },
  {
   "cell_type": "code",
   "execution_count": 123,
   "id": "emotional-blackjack",
   "metadata": {},
   "outputs": [
    {
     "data": {
      "text/html": [
       "<div>\n",
       "<style scoped>\n",
       "    .dataframe tbody tr th:only-of-type {\n",
       "        vertical-align: middle;\n",
       "    }\n",
       "\n",
       "    .dataframe tbody tr th {\n",
       "        vertical-align: top;\n",
       "    }\n",
       "\n",
       "    .dataframe thead th {\n",
       "        text-align: right;\n",
       "    }\n",
       "</style>\n",
       "<table border=\"1\" class=\"dataframe\">\n",
       "  <thead>\n",
       "    <tr style=\"text-align: right;\">\n",
       "      <th></th>\n",
       "      <th>tipo_acidente</th>\n",
       "      <th>pct_mortalidade</th>\n",
       "      <th>pessoas</th>\n",
       "      <th>mortos</th>\n",
       "    </tr>\n",
       "  </thead>\n",
       "  <tbody>\n",
       "    <tr>\n",
       "      <th>1</th>\n",
       "      <td>Atropelamento de pessoa</td>\n",
       "      <td>13.2</td>\n",
       "      <td>61386</td>\n",
       "      <td>7968</td>\n",
       "    </tr>\n",
       "    <tr>\n",
       "      <th>7</th>\n",
       "      <td>Colisão frontal</td>\n",
       "      <td>11.6</td>\n",
       "      <td>130438</td>\n",
       "      <td>15572</td>\n",
       "    </tr>\n",
       "    <tr>\n",
       "      <th>4</th>\n",
       "      <td>Colisão com bicicleta</td>\n",
       "      <td>7.2</td>\n",
       "      <td>22636</td>\n",
       "      <td>1613</td>\n",
       "    </tr>\n",
       "    <tr>\n",
       "      <th>13</th>\n",
       "      <td>Queda de motocicleta / bicicleta / veículo</td>\n",
       "      <td>2.9</td>\n",
       "      <td>49445</td>\n",
       "      <td>1399</td>\n",
       "    </tr>\n",
       "    <tr>\n",
       "      <th>2</th>\n",
       "      <td>Capotamento</td>\n",
       "      <td>2.5</td>\n",
       "      <td>83865</td>\n",
       "      <td>2339</td>\n",
       "    </tr>\n",
       "    <tr>\n",
       "      <th>14</th>\n",
       "      <td>Saída de Pista</td>\n",
       "      <td>1.9</td>\n",
       "      <td>233654</td>\n",
       "      <td>5185</td>\n",
       "    </tr>\n",
       "    <tr>\n",
       "      <th>15</th>\n",
       "      <td>Tombamento</td>\n",
       "      <td>1.6</td>\n",
       "      <td>56831</td>\n",
       "      <td>1055</td>\n",
       "    </tr>\n",
       "    <tr>\n",
       "      <th>5</th>\n",
       "      <td>Colisão com objeto fixo</td>\n",
       "      <td>1.5</td>\n",
       "      <td>84706</td>\n",
       "      <td>1450</td>\n",
       "    </tr>\n",
       "    <tr>\n",
       "      <th>0</th>\n",
       "      <td>Atropelamento de animal</td>\n",
       "      <td>1.4</td>\n",
       "      <td>33202</td>\n",
       "      <td>531</td>\n",
       "    </tr>\n",
       "    <tr>\n",
       "      <th>3</th>\n",
       "      <td>Colisão Transversal</td>\n",
       "      <td>1.4</td>\n",
       "      <td>265028</td>\n",
       "      <td>4526</td>\n",
       "    </tr>\n",
       "    <tr>\n",
       "      <th>6</th>\n",
       "      <td>Colisão com objeto móvel</td>\n",
       "      <td>1.1</td>\n",
       "      <td>18376</td>\n",
       "      <td>229</td>\n",
       "    </tr>\n",
       "    <tr>\n",
       "      <th>8</th>\n",
       "      <td>Colisão lateral</td>\n",
       "      <td>0.7</td>\n",
       "      <td>405482</td>\n",
       "      <td>3525</td>\n",
       "    </tr>\n",
       "    <tr>\n",
       "      <th>9</th>\n",
       "      <td>Colisão traseira</td>\n",
       "      <td>0.4</td>\n",
       "      <td>779081</td>\n",
       "      <td>4013</td>\n",
       "    </tr>\n",
       "    <tr>\n",
       "      <th>10</th>\n",
       "      <td>Danos Eventuais</td>\n",
       "      <td>0.3</td>\n",
       "      <td>9408</td>\n",
       "      <td>43</td>\n",
       "    </tr>\n",
       "    <tr>\n",
       "      <th>12</th>\n",
       "      <td>Incêndio</td>\n",
       "      <td>0.3</td>\n",
       "      <td>7085</td>\n",
       "      <td>22</td>\n",
       "    </tr>\n",
       "    <tr>\n",
       "      <th>11</th>\n",
       "      <td>Derramamento de Carga</td>\n",
       "      <td>0.1</td>\n",
       "      <td>7344</td>\n",
       "      <td>18</td>\n",
       "    </tr>\n",
       "  </tbody>\n",
       "</table>\n",
       "</div>"
      ],
      "text/plain": [
       "                                 tipo_acidente  pct_mortalidade  pessoas  \\\n",
       "1                      Atropelamento de pessoa             13.2    61386   \n",
       "7                              Colisão frontal             11.6   130438   \n",
       "4                        Colisão com bicicleta              7.2    22636   \n",
       "13  Queda de motocicleta / bicicleta / veículo              2.9    49445   \n",
       "2                                  Capotamento              2.5    83865   \n",
       "14                              Saída de Pista              1.9   233654   \n",
       "15                                  Tombamento              1.6    56831   \n",
       "5                      Colisão com objeto fixo              1.5    84706   \n",
       "0                      Atropelamento de animal              1.4    33202   \n",
       "3                          Colisão Transversal              1.4   265028   \n",
       "6                     Colisão com objeto móvel              1.1    18376   \n",
       "8                              Colisão lateral              0.7   405482   \n",
       "9                             Colisão traseira              0.4   779081   \n",
       "10                             Danos Eventuais              0.3     9408   \n",
       "12                                    Incêndio              0.3     7085   \n",
       "11                       Derramamento de Carga              0.1     7344   \n",
       "\n",
       "    mortos  \n",
       "1     7968  \n",
       "7    15572  \n",
       "4     1613  \n",
       "13    1399  \n",
       "2     2339  \n",
       "14    5185  \n",
       "15    1055  \n",
       "5     1450  \n",
       "0      531  \n",
       "3     4526  \n",
       "6      229  \n",
       "8     3525  \n",
       "9     4013  \n",
       "10      43  \n",
       "12      22  \n",
       "11      18  "
      ]
     },
     "execution_count": 123,
     "metadata": {},
     "output_type": "execute_result"
    }
   ],
   "source": [
    "df_com_morte_ex.groupby('tipo_acidente')[['tipo_acidente', 'pct_mortalidade', 'pessoas', 'mortos']]\\\n",
    "                .agg({'pct_mortalidade':'mean', 'pessoas':'sum', 'mortos':'sum'})\\\n",
    "                .round(1)\\\n",
    "                .reset_index()\\\n",
    "                .sort_values(by='pct_mortalidade', ascending=False)"
   ]
  },
  {
   "cell_type": "markdown",
   "id": "funky-revelation",
   "metadata": {},
   "source": [
    "## 3. Como está distribuído a quantidade de acidentes por condição metereologica?"
   ]
  },
  {
   "cell_type": "code",
   "execution_count": 124,
   "id": "adequate-pharmacy",
   "metadata": {},
   "outputs": [
    {
     "data": {
      "text/html": [
       "<div>\n",
       "<style scoped>\n",
       "    .dataframe tbody tr th:only-of-type {\n",
       "        vertical-align: middle;\n",
       "    }\n",
       "\n",
       "    .dataframe tbody tr th {\n",
       "        vertical-align: top;\n",
       "    }\n",
       "\n",
       "    .dataframe thead th {\n",
       "        text-align: right;\n",
       "    }\n",
       "</style>\n",
       "<table border=\"1\" class=\"dataframe\">\n",
       "  <thead>\n",
       "    <tr style=\"text-align: right;\">\n",
       "      <th></th>\n",
       "      <th>condicao_meteorologica</th>\n",
       "      <th>total</th>\n",
       "    </tr>\n",
       "  </thead>\n",
       "  <tbody>\n",
       "    <tr>\n",
       "      <th>0</th>\n",
       "      <td>Ceu Claro</td>\n",
       "      <td>506817</td>\n",
       "    </tr>\n",
       "    <tr>\n",
       "      <th>6</th>\n",
       "      <td>Nublado</td>\n",
       "      <td>187230</td>\n",
       "    </tr>\n",
       "    <tr>\n",
       "      <th>1</th>\n",
       "      <td>Chuva</td>\n",
       "      <td>174254</td>\n",
       "    </tr>\n",
       "    <tr>\n",
       "      <th>8</th>\n",
       "      <td>Sol</td>\n",
       "      <td>138395</td>\n",
       "    </tr>\n",
       "    <tr>\n",
       "      <th>3</th>\n",
       "      <td>Ignorada</td>\n",
       "      <td>18194</td>\n",
       "    </tr>\n",
       "    <tr>\n",
       "      <th>5</th>\n",
       "      <td>Nevoeiro/neblina</td>\n",
       "      <td>10223</td>\n",
       "    </tr>\n",
       "    <tr>\n",
       "      <th>9</th>\n",
       "      <td>Vento</td>\n",
       "      <td>3079</td>\n",
       "    </tr>\n",
       "    <tr>\n",
       "      <th>2</th>\n",
       "      <td>Granizo</td>\n",
       "      <td>185</td>\n",
       "    </tr>\n",
       "    <tr>\n",
       "      <th>4</th>\n",
       "      <td>Neve</td>\n",
       "      <td>70</td>\n",
       "    </tr>\n",
       "    <tr>\n",
       "      <th>7</th>\n",
       "      <td>Não Informado</td>\n",
       "      <td>26</td>\n",
       "    </tr>\n",
       "  </tbody>\n",
       "</table>\n",
       "</div>"
      ],
      "text/plain": [
       "  condicao_meteorologica   total\n",
       "0              Ceu Claro  506817\n",
       "6                Nublado  187230\n",
       "1                  Chuva  174254\n",
       "8                    Sol  138395\n",
       "3               Ignorada   18194\n",
       "5       Nevoeiro/neblina   10223\n",
       "9                  Vento    3079\n",
       "2                Granizo     185\n",
       "4                   Neve      70\n",
       "7          Não Informado      26"
      ]
     },
     "execution_count": 124,
     "metadata": {},
     "output_type": "execute_result"
    }
   ],
   "source": [
    "df_by_clima = df_ocorrencias_limpo\\\n",
    "                .groupby('condicao_meteorologica')[['id']]\\\n",
    "                .agg({'id':'count'})\\\n",
    "                .reset_index()\\\n",
    "                .rename(columns={'id':'total'})\\\n",
    "                .sort_values(by='total', ascending=False)\n",
    "\n",
    "df_by_clima"
   ]
  },
  {
   "cell_type": "markdown",
   "id": "mexican-violin",
   "metadata": {},
   "source": [
    "## 4. Quais são as maiores causas de acidente?"
   ]
  },
  {
   "cell_type": "code",
   "execution_count": 125,
   "id": "desperate-uzbekistan",
   "metadata": {},
   "outputs": [
    {
     "data": {
      "text/html": [
       "<div>\n",
       "<style scoped>\n",
       "    .dataframe tbody tr th:only-of-type {\n",
       "        vertical-align: middle;\n",
       "    }\n",
       "\n",
       "    .dataframe tbody tr th {\n",
       "        vertical-align: top;\n",
       "    }\n",
       "\n",
       "    .dataframe thead th {\n",
       "        text-align: right;\n",
       "    }\n",
       "</style>\n",
       "<table border=\"1\" class=\"dataframe\">\n",
       "  <thead>\n",
       "    <tr style=\"text-align: right;\">\n",
       "      <th></th>\n",
       "      <th>causa_acidente</th>\n",
       "      <th>total</th>\n",
       "    </tr>\n",
       "  </thead>\n",
       "  <tbody>\n",
       "    <tr>\n",
       "      <th>5</th>\n",
       "      <td>Falta de atenção</td>\n",
       "      <td>340358</td>\n",
       "    </tr>\n",
       "    <tr>\n",
       "      <th>9</th>\n",
       "      <td>Outras</td>\n",
       "      <td>275067</td>\n",
       "    </tr>\n",
       "    <tr>\n",
       "      <th>8</th>\n",
       "      <td>Não guardar distância de segurança</td>\n",
       "      <td>104264</td>\n",
       "    </tr>\n",
       "    <tr>\n",
       "      <th>11</th>\n",
       "      <td>Velocidade incompatível</td>\n",
       "      <td>97344</td>\n",
       "    </tr>\n",
       "    <tr>\n",
       "      <th>3</th>\n",
       "      <td>Desobediência à sinalização</td>\n",
       "      <td>45029</td>\n",
       "    </tr>\n",
       "    <tr>\n",
       "      <th>6</th>\n",
       "      <td>Ingestão de álcool</td>\n",
       "      <td>43622</td>\n",
       "    </tr>\n",
       "    <tr>\n",
       "      <th>1</th>\n",
       "      <td>Defeito mecânico em veículo</td>\n",
       "      <td>40533</td>\n",
       "    </tr>\n",
       "    <tr>\n",
       "      <th>4</th>\n",
       "      <td>Dormindo</td>\n",
       "      <td>27119</td>\n",
       "    </tr>\n",
       "    <tr>\n",
       "      <th>0</th>\n",
       "      <td>Animais na Pista</td>\n",
       "      <td>26230</td>\n",
       "    </tr>\n",
       "    <tr>\n",
       "      <th>10</th>\n",
       "      <td>Ultrapassagem indevida</td>\n",
       "      <td>24030</td>\n",
       "    </tr>\n",
       "    <tr>\n",
       "      <th>2</th>\n",
       "      <td>Defeito na via</td>\n",
       "      <td>14875</td>\n",
       "    </tr>\n",
       "    <tr>\n",
       "      <th>7</th>\n",
       "      <td>Não Informado</td>\n",
       "      <td>2</td>\n",
       "    </tr>\n",
       "  </tbody>\n",
       "</table>\n",
       "</div>"
      ],
      "text/plain": [
       "                        causa_acidente   total\n",
       "5                     Falta de atenção  340358\n",
       "9                               Outras  275067\n",
       "8   Não guardar distância de segurança  104264\n",
       "11             Velocidade incompatível   97344\n",
       "3          Desobediência à sinalização   45029\n",
       "6                   Ingestão de álcool   43622\n",
       "1          Defeito mecânico em veículo   40533\n",
       "4                             Dormindo   27119\n",
       "0                     Animais na Pista   26230\n",
       "10              Ultrapassagem indevida   24030\n",
       "2                       Defeito na via   14875\n",
       "7                        Não Informado       2"
      ]
     },
     "execution_count": 125,
     "metadata": {},
     "output_type": "execute_result"
    }
   ],
   "source": [
    "df_by_causa = df_ocorrencias_limpo\\\n",
    "                .groupby('causa_acidente')[['id']]\\\n",
    "                .agg({'id':'count'})\\\n",
    "                .reset_index()\\\n",
    "                .rename(columns={'id':'total'})\\\n",
    "                .sort_values(by='total', ascending=False)\n",
    "df_by_causa"
   ]
  },
  {
   "cell_type": "markdown",
   "id": "british-spelling",
   "metadata": {},
   "source": [
    "## 5. Qual a condição meteorológica mais letal?"
   ]
  },
  {
   "cell_type": "code",
   "execution_count": 126,
   "id": "representative-scratch",
   "metadata": {},
   "outputs": [
    {
     "data": {
      "text/html": [
       "<div>\n",
       "<style scoped>\n",
       "    .dataframe tbody tr th:only-of-type {\n",
       "        vertical-align: middle;\n",
       "    }\n",
       "\n",
       "    .dataframe tbody tr th {\n",
       "        vertical-align: top;\n",
       "    }\n",
       "\n",
       "    .dataframe thead th {\n",
       "        text-align: right;\n",
       "    }\n",
       "</style>\n",
       "<table border=\"1\" class=\"dataframe\">\n",
       "  <thead>\n",
       "    <tr style=\"text-align: right;\">\n",
       "      <th></th>\n",
       "      <th>condicao_meteorologica</th>\n",
       "      <th>total</th>\n",
       "      <th>mortos</th>\n",
       "      <th>pessoas</th>\n",
       "      <th>pct_mortalidade</th>\n",
       "    </tr>\n",
       "  </thead>\n",
       "  <tbody>\n",
       "    <tr>\n",
       "      <th>4</th>\n",
       "      <td>Neve</td>\n",
       "      <td>70</td>\n",
       "      <td>8</td>\n",
       "      <td>172</td>\n",
       "      <td>4.65</td>\n",
       "    </tr>\n",
       "    <tr>\n",
       "      <th>3</th>\n",
       "      <td>Ignorada</td>\n",
       "      <td>18194</td>\n",
       "      <td>1541</td>\n",
       "      <td>38716</td>\n",
       "      <td>3.98</td>\n",
       "    </tr>\n",
       "    <tr>\n",
       "      <th>9</th>\n",
       "      <td>Vento</td>\n",
       "      <td>3079</td>\n",
       "      <td>242</td>\n",
       "      <td>6473</td>\n",
       "      <td>3.74</td>\n",
       "    </tr>\n",
       "    <tr>\n",
       "      <th>5</th>\n",
       "      <td>Nevoeiro/neblina</td>\n",
       "      <td>10223</td>\n",
       "      <td>778</td>\n",
       "      <td>22062</td>\n",
       "      <td>3.53</td>\n",
       "    </tr>\n",
       "    <tr>\n",
       "      <th>7</th>\n",
       "      <td>Não Informado</td>\n",
       "      <td>26</td>\n",
       "      <td>2</td>\n",
       "      <td>62</td>\n",
       "      <td>3.23</td>\n",
       "    </tr>\n",
       "    <tr>\n",
       "      <th>0</th>\n",
       "      <td>Ceu Claro</td>\n",
       "      <td>506817</td>\n",
       "      <td>27141</td>\n",
       "      <td>1117237</td>\n",
       "      <td>2.43</td>\n",
       "    </tr>\n",
       "    <tr>\n",
       "      <th>6</th>\n",
       "      <td>Nublado</td>\n",
       "      <td>187230</td>\n",
       "      <td>8648</td>\n",
       "      <td>401539</td>\n",
       "      <td>2.15</td>\n",
       "    </tr>\n",
       "    <tr>\n",
       "      <th>2</th>\n",
       "      <td>Granizo</td>\n",
       "      <td>185</td>\n",
       "      <td>7</td>\n",
       "      <td>364</td>\n",
       "      <td>1.92</td>\n",
       "    </tr>\n",
       "    <tr>\n",
       "      <th>1</th>\n",
       "      <td>Chuva</td>\n",
       "      <td>174254</td>\n",
       "      <td>6667</td>\n",
       "      <td>350041</td>\n",
       "      <td>1.90</td>\n",
       "    </tr>\n",
       "    <tr>\n",
       "      <th>8</th>\n",
       "      <td>Sol</td>\n",
       "      <td>138395</td>\n",
       "      <td>4454</td>\n",
       "      <td>311301</td>\n",
       "      <td>1.43</td>\n",
       "    </tr>\n",
       "  </tbody>\n",
       "</table>\n",
       "</div>"
      ],
      "text/plain": [
       "  condicao_meteorologica   total  mortos  pessoas  pct_mortalidade\n",
       "4                   Neve      70       8      172             4.65\n",
       "3               Ignorada   18194    1541    38716             3.98\n",
       "9                  Vento    3079     242     6473             3.74\n",
       "5       Nevoeiro/neblina   10223     778    22062             3.53\n",
       "7          Não Informado      26       2       62             3.23\n",
       "0              Ceu Claro  506817   27141  1117237             2.43\n",
       "6                Nublado  187230    8648   401539             2.15\n",
       "2                Granizo     185       7      364             1.92\n",
       "1                  Chuva  174254    6667   350041             1.90\n",
       "8                    Sol  138395    4454   311301             1.43"
      ]
     },
     "execution_count": 126,
     "metadata": {},
     "output_type": "execute_result"
    }
   ],
   "source": [
    "df_mortes_by_meteorologia = df_ocorrencias_limpo\\\n",
    "                                .groupby('condicao_meteorologica')[['id', 'pessoas', 'mortos']]\\\n",
    "                                .agg({'id':'count', 'mortos':'sum', 'pessoas':'sum'})\\\n",
    "                                .reset_index()\\\n",
    "                                .rename(columns={'id':'total'})\\\n",
    "                                .sort_values(by='total', ascending=False)\n",
    "\n",
    "list_pct_mortalidade = []\n",
    "\n",
    "for _, row in df_mortes_by_meteorologia.iterrows():\n",
    "        list_pct_mortalidade.append(round((row['mortos'] / row['pessoas']) * 100, 2))\n",
    "\n",
    "df_mortes_by_meteorologia['pct_mortalidade'] = list_pct_mortalidade\n",
    "df_mortes_by_meteorologia.sort_values(by='pct_mortalidade', ascending=False)"
   ]
  },
  {
   "cell_type": "markdown",
   "id": "endangered-shepherd",
   "metadata": {},
   "source": [
    "## 6. Como estão distribuídas as ocorrências ao longo dos anos?"
   ]
  },
  {
   "cell_type": "code",
   "execution_count": 127,
   "id": "based-satellite",
   "metadata": {},
   "outputs": [
    {
     "data": {
      "image/png": "[encoded data removed]",
      "text/plain": [
       "<Figure size 576x360 with 1 Axes>"
      ]
     },
     "metadata": {
      "needs_background": "light"
     },
     "output_type": "display_data"
    }
   ],
   "source": [
    "fig_dims = (8, 5)\n",
    "fig, ax = plt.subplots(figsize=fig_dims)\n",
    "sns.histplot(data=df_ocorrencias_limpo, y='ano', ax=ax)\n",
    "\n",
    "\n",
    "alias_tags_xticks = ['100k', '150k', '200k']\n",
    "tags_xticks = [100000, 150000, 200000]\n",
    "ax.set_xticks(tags_xticks)\n",
    "ax.set_xticklabels(alias_tags_xticks)\n",
    "\n",
    "ax.set_xlabel('')\n",
    "ax.set_ylabel('')\n",
    "\n",
    "plt.title('Quantidade de Ocorrências por Ano', \n",
    "          fontdict={'fontsize': 12,\n",
    "                    'fontweight': 'bold',\n",
    "                    'verticalalignment': 'baseline'\n",
    "                   },\n",
    "          loc='left')\n",
    "\n",
    "# Removendo bordas\n",
    "sns.despine()\n",
    "\n",
    "# Alterando cor da barra das informações \n",
    "ax.patches[1].set_facecolor('tab:blue')"
   ]
  },
  {
   "cell_type": "code",
   "execution_count": 128,
   "id": "informed-latex",
   "metadata": {},
   "outputs": [
    {
     "data": {
      "image/png": "[encoded data removed]",
      "text/plain": [
       "<Figure size 648x288 with 1 Axes>"
      ]
     },
     "metadata": {
      "needs_background": "light"
     },
     "output_type": "display_data"
    }
   ],
   "source": [
    "df_ano_total_ocorrencia = df_ocorrencias_limpo.groupby('ano').agg({'id':'count'}).reset_index().rename(columns={'id':'total_ocorrencias'})\n",
    "fig_dims = (9,4)\n",
    "fig, ax = plt.subplots(figsize=fig_dims)\n",
    "\n",
    "sns.lineplot(data=df_ano_total_ocorrencia, x=\"ano\", y=\"total_ocorrencias\")\n",
    "\n",
    "plt.title('Quantidade de Ocorrências por Ano', \n",
    "          fontdict={'fontsize': 12,\n",
    "                    'fontweight': 'bold',\n",
    "                    'verticalalignment': 'baseline'\n",
    "                   },\n",
    "          loc='left')\n",
    "\n",
    "ax.set_xlabel('')\n",
    "ax.set_ylabel('')\n",
    "\n",
    "ax.set_yticks(list(np.arange(120000, 200000, 10000)))\n",
    "ax.set_yticklabels([qtd + \"k\" for qtd in list(map(str, np.arange(120, 200, 10)))])\n",
    "\n",
    "sns.despine()"
   ]
  },
  {
   "cell_type": "markdown",
   "id": "expressed-violin",
   "metadata": {},
   "source": [
    "## 7. Em qual tipo de solo há mais ocorrências?"
   ]
  },
  {
   "cell_type": "code",
   "execution_count": 129,
   "id": "floppy-stretch",
   "metadata": {},
   "outputs": [
    {
     "data": {
      "image/png": "[encoded data removed]",
      "text/plain": [
       "<Figure size 504x360 with 1 Axes>"
      ]
     },
     "metadata": {
      "needs_background": "light"
     },
     "output_type": "display_data"
    }
   ],
   "source": [
    "fig_dims = (7, 5)\n",
    "fig, ax = plt.subplots(figsize=fig_dims)\n",
    "sns.histplot(data=df_ocorrencias_limpo, x='uso_solo', ax=ax)\n",
    "plt.title('Quantidade de Ocorrências por Solo', \n",
    "          fontdict={'fontsize': 12,\n",
    "                    'fontweight': 'bold',\n",
    "                    'verticalalignment': 'baseline'\n",
    "                   },\n",
    "          loc='left')\n",
    "\n",
    "ax.set_xlabel('')\n",
    "ax.set_ylabel('')\n",
    "\n",
    "ax.set_yticks([])\n",
    "\n",
    "for p in ax.patches:                 \n",
    "    ax.annotate(np.round(p.get_height(), decimals=2),\n",
    "                (p.get_x()+p.get_width()/2., p.get_height()),\n",
    "                ha='center',\n",
    "                va='center',\n",
    "                xytext=(0, 10),\n",
    "                textcoords='offset points')\n",
    "\n",
    "# Removendo bordas\n",
    "sns.despine(left=True)"
   ]
  },
  {
   "cell_type": "markdown",
   "id": "raising-indianapolis",
   "metadata": {},
   "source": [
    "## 8. Como as ocorrências estão distribuídas durante os meses?"
   ]
  },
  {
   "cell_type": "code",
   "execution_count": 130,
   "id": "fantastic-sight",
   "metadata": {},
   "outputs": [
    {
     "data": {
      "text/plain": [
       "0           Outubro\n",
       "1          Dezembro\n",
       "2             Março\n",
       "3           Outubro\n",
       "4          Setembro\n",
       "             ...   \n",
       "1038468    Dezembro\n",
       "1038469    Novembro\n",
       "1038470    Dezembro\n",
       "1038471       Julho\n",
       "1038472       Julho\n",
       "Name: mes, Length: 1038473, dtype: category\n",
       "Categories (12, object): ['Janeiro' < 'Fevereiro' < 'Março' < 'Abril' ... 'Setembro' < 'Outubro' < 'Novembro' < 'Dezembro']"
      ]
     },
     "execution_count": 130,
     "metadata": {},
     "output_type": "execute_result"
    }
   ],
   "source": [
    "df_aux = df_ocorrencias_limpo[['id', 'mes']].copy()\n",
    "alias_nome_mes = {\n",
    "\t1 :'Janeiro',\n",
    "\t2 :'Fevereiro',\n",
    "\t3 :'Março',\n",
    "\t4 :'Abril',\n",
    "\t5 :'Maio',\n",
    "\t6 :'Junho',\n",
    "\t7 :'Julho',\n",
    "\t8 :'Agosto',\n",
    "\t9 :'Setembro',\n",
    "\t10 :'Outubro',\n",
    "\t11 :'Novembro',\n",
    "\t12 :'Dezembro'\n",
    "}\n",
    "df_aux.mes.replace(alias_nome_mes, inplace=True)\n",
    "df_aux.mes[0]\n",
    "df_aux['mes'] = pd.Categorical(df_aux['mes'],['Janeiro', 'Fevereiro', 'Março', 'Abril', 'Maio', 'Junho', 'Julho', 'Agosto', 'Setembro', 'Outubro', 'Novembro', 'Dezembro'], ordered=True)\n",
    "df_aux['mes']"
   ]
  },
  {
   "cell_type": "code",
   "execution_count": 131,
   "id": "utility-ceramic",
   "metadata": {},
   "outputs": [
    {
     "data": {
      "image/png": "[encoded data removed]",
      "text/plain": [
       "<Figure size 720x360 with 1 Axes>"
      ]
     },
     "metadata": {
      "needs_background": "light"
     },
     "output_type": "display_data"
    }
   ],
   "source": [
    "fig_dims = (10, 5)\n",
    "fig, ax = plt.subplots(figsize=fig_dims)\n",
    "sns.histplot(data=df_aux, y='mes', ax=ax)\n",
    "\n",
    "for i in ax.patches:\n",
    "    ax.text(i.get_width()-1, i.get_y()+.65, \\\n",
    "            ' ≈ ' + f\"{int(math.ceil(i.get_width() / 1000.0))}k\", fontsize=10,\n",
    "            color='dimgrey')\n",
    "\n",
    "\n",
    "ax.set_xticks([])\n",
    "\n",
    "ax.set_xlabel('')\n",
    "ax.set_ylabel('')\n",
    "\n",
    "plt.title('Quantidade de Ocorrências por meses', \n",
    "          fontdict={'fontsize': 12,\n",
    "                    'fontweight': 'bold',\n",
    "                    'verticalalignment': 'baseline'\n",
    "                   },\n",
    "          loc='left')\n",
    "\n",
    "# Removendo bordas\n",
    "sns.despine(bottom=True)\n",
    "\n",
    "# Alterando cor da barra das informações \n",
    "ax.patches[11].set_facecolor('tab:blue')"
   ]
  },
  {
   "cell_type": "markdown",
   "id": "medical-anatomy",
   "metadata": {},
   "source": [
    "## 9. Qual o município com maior número de ocorrências?"
   ]
  },
  {
   "cell_type": "code",
   "execution_count": 132,
   "id": "opponent-avenue",
   "metadata": {},
   "outputs": [
    {
     "data": {
      "text/html": [
       "<div>\n",
       "<style scoped>\n",
       "    .dataframe tbody tr th:only-of-type {\n",
       "        vertical-align: middle;\n",
       "    }\n",
       "\n",
       "    .dataframe tbody tr th {\n",
       "        vertical-align: top;\n",
       "    }\n",
       "\n",
       "    .dataframe thead th {\n",
       "        text-align: right;\n",
       "    }\n",
       "</style>\n",
       "<table border=\"1\" class=\"dataframe\">\n",
       "  <thead>\n",
       "    <tr style=\"text-align: right;\">\n",
       "      <th></th>\n",
       "      <th>municipio</th>\n",
       "      <th>total</th>\n",
       "    </tr>\n",
       "  </thead>\n",
       "  <tbody>\n",
       "    <tr>\n",
       "      <th>568</th>\n",
       "      <td>curitiba</td>\n",
       "      <td>14079</td>\n",
       "    </tr>\n",
       "    <tr>\n",
       "      <th>1742</th>\n",
       "      <td>sao jose</td>\n",
       "      <td>12051</td>\n",
       "    </tr>\n",
       "    <tr>\n",
       "      <th>602</th>\n",
       "      <td>duque de caxias</td>\n",
       "      <td>11571</td>\n",
       "    </tr>\n",
       "  </tbody>\n",
       "</table>\n",
       "</div>"
      ],
      "text/plain": [
       "            municipio  total\n",
       "568          curitiba  14079\n",
       "1742         sao jose  12051\n",
       "602   duque de caxias  11571"
      ]
     },
     "execution_count": 132,
     "metadata": {},
     "output_type": "execute_result"
    }
   ],
   "source": [
    "df_by_municipio = df_ocorrencias_limpo\\\n",
    "                    .groupby('municipio')[['id']]\\\n",
    "                    .agg({'id':'count'})\\\n",
    "                    .reset_index()\\\n",
    "                    .rename(columns={'id':'total'})\\\n",
    "                    .sort_values(by='total', ascending=False)\n",
    "\n",
    "df_by_municipio.head(n=3)\n"
   ]
  },
  {
   "cell_type": "markdown",
   "id": "sexual-bulgarian",
   "metadata": {},
   "source": [
    "## 10. Qual é o estado com mais ocorrências?"
   ]
  },
  {
   "cell_type": "code",
   "execution_count": 133,
   "id": "coral-waterproof",
   "metadata": {},
   "outputs": [
    {
     "data": {
      "image/png": "[encoded data removed]",
      "text/plain": [
       "<Figure size 1080x720 with 1 Axes>"
      ]
     },
     "metadata": {
      "needs_background": "light"
     },
     "output_type": "display_data"
    }
   ],
   "source": [
    "\n",
    "plt.figure(figsize = (15,10))\n",
    "\n",
    "ax = sns.countplot(y = 'uf', data = df_ocorrencias_limpo, order = df_ocorrencias_limpo['uf'].value_counts().index, palette='pastel')\n",
    "\n",
    "ax.set_xlabel('')\n",
    "ax.set_ylabel('')\n",
    "\n",
    "\n",
    "ax.set_xticks([])\n",
    "\n",
    "plt.title('Total de Ocorrências Segmentadas por Estado', \n",
    "          fontdict={'fontsize': 12,\n",
    "                    'fontweight': 'bold',\n",
    "                    'verticalalignment': 'baseline'\n",
    "                   },\n",
    "          loc='left')\n",
    "\n",
    "for i in ax.patches:\n",
    "    ax.text(i.get_width()-1, i.get_y()+.55, \\\n",
    "            ' ≈ ' + f\"{int(math.ceil(i.get_width() / 1000.0)) * 1000:,}\", fontsize=10,\n",
    "            color='dimgrey')\n",
    "    \n",
    "# Removendo bordas\n",
    "sns.despine(bottom=True)\n",
    "\n",
    "plt.show()"
   ]
  },
  {
   "cell_type": "markdown",
   "id": "descending-rugby",
   "metadata": {},
   "source": [
    "# Modelo de Regressão Logística"
   ]
  },
  {
   "cell_type": "markdown",
   "id": "closed-husband",
   "metadata": {},
   "source": [
    "O objetivo deste modelo é classificar o tipo do solo em que a ocorrência aconteceu."
   ]
  },
  {
   "cell_type": "markdown",
   "id": "thrown-eclipse",
   "metadata": {},
   "source": [
    "## Separando variáveis independentes e dependentes"
   ]
  },
  {
   "cell_type": "markdown",
   "id": "great-health",
   "metadata": {},
   "source": [
    "Vou criar um backup da base antes de iniciar os tratamentos"
   ]
  },
  {
   "cell_type": "code",
   "execution_count": 134,
   "id": "spread-resistance",
   "metadata": {},
   "outputs": [],
   "source": [
    "df_ocorrencias_bkp = df_ocorrencias_limpo.copy() "
   ]
  },
  {
   "cell_type": "code",
   "execution_count": 240,
   "id": "nasty-obligation",
   "metadata": {},
   "outputs": [],
   "source": [
    "df_ocorrencias_limpo = df_ocorrencias_bkp.copy()"
   ]
  },
  {
   "cell_type": "code",
   "execution_count": 241,
   "id": "sacred-cheese",
   "metadata": {},
   "outputs": [
    {
     "data": {
      "text/html": [
       "<div>\n",
       "<style scoped>\n",
       "    .dataframe tbody tr th:only-of-type {\n",
       "        vertical-align: middle;\n",
       "    }\n",
       "\n",
       "    .dataframe tbody tr th {\n",
       "        vertical-align: top;\n",
       "    }\n",
       "\n",
       "    .dataframe thead th {\n",
       "        text-align: right;\n",
       "    }\n",
       "</style>\n",
       "<table border=\"1\" class=\"dataframe\">\n",
       "  <thead>\n",
       "    <tr style=\"text-align: right;\">\n",
       "      <th></th>\n",
       "      <th>index</th>\n",
       "      <th>tipo</th>\n",
       "      <th>exemplo</th>\n",
       "    </tr>\n",
       "  </thead>\n",
       "  <tbody>\n",
       "    <tr>\n",
       "      <th>0</th>\n",
       "      <td>id</td>\n",
       "      <td>int64</td>\n",
       "      <td>1000329</td>\n",
       "    </tr>\n",
       "    <tr>\n",
       "      <th>1</th>\n",
       "      <td>ano</td>\n",
       "      <td>category</td>\n",
       "      <td>2010</td>\n",
       "    </tr>\n",
       "    <tr>\n",
       "      <th>2</th>\n",
       "      <td>mes</td>\n",
       "      <td>category</td>\n",
       "      <td>10</td>\n",
       "    </tr>\n",
       "    <tr>\n",
       "      <th>3</th>\n",
       "      <td>data</td>\n",
       "      <td>datetime64[ns]</td>\n",
       "      <td>2010-10-29 00:00:00</td>\n",
       "    </tr>\n",
       "    <tr>\n",
       "      <th>4</th>\n",
       "      <td>hora</td>\n",
       "      <td>object</td>\n",
       "      <td>14</td>\n",
       "    </tr>\n",
       "    <tr>\n",
       "      <th>5</th>\n",
       "      <td>dia_semana</td>\n",
       "      <td>category</td>\n",
       "      <td>Sexta</td>\n",
       "    </tr>\n",
       "    <tr>\n",
       "      <th>6</th>\n",
       "      <td>uf</td>\n",
       "      <td>category</td>\n",
       "      <td>RS</td>\n",
       "    </tr>\n",
       "    <tr>\n",
       "      <th>7</th>\n",
       "      <td>municipio</td>\n",
       "      <td>category</td>\n",
       "      <td>santa barbara do sul</td>\n",
       "    </tr>\n",
       "    <tr>\n",
       "      <th>8</th>\n",
       "      <td>br</td>\n",
       "      <td>category</td>\n",
       "      <td>285</td>\n",
       "    </tr>\n",
       "    <tr>\n",
       "      <th>9</th>\n",
       "      <td>km</td>\n",
       "      <td>float64</td>\n",
       "      <td>397.3</td>\n",
       "    </tr>\n",
       "    <tr>\n",
       "      <th>10</th>\n",
       "      <td>condicao_meteorologica</td>\n",
       "      <td>category</td>\n",
       "      <td>Chuva</td>\n",
       "    </tr>\n",
       "    <tr>\n",
       "      <th>11</th>\n",
       "      <td>fase_dia</td>\n",
       "      <td>category</td>\n",
       "      <td>Pleno dia</td>\n",
       "    </tr>\n",
       "    <tr>\n",
       "      <th>12</th>\n",
       "      <td>sentido_via</td>\n",
       "      <td>category</td>\n",
       "      <td>Crescente</td>\n",
       "    </tr>\n",
       "    <tr>\n",
       "      <th>13</th>\n",
       "      <td>tipo_pista</td>\n",
       "      <td>category</td>\n",
       "      <td>Simples</td>\n",
       "    </tr>\n",
       "    <tr>\n",
       "      <th>14</th>\n",
       "      <td>tracado_via</td>\n",
       "      <td>category</td>\n",
       "      <td>Curva</td>\n",
       "    </tr>\n",
       "    <tr>\n",
       "      <th>15</th>\n",
       "      <td>uso_solo</td>\n",
       "      <td>category</td>\n",
       "      <td>Rural</td>\n",
       "    </tr>\n",
       "    <tr>\n",
       "      <th>16</th>\n",
       "      <td>tipo_acidente</td>\n",
       "      <td>category</td>\n",
       "      <td>Saída de Pista</td>\n",
       "    </tr>\n",
       "    <tr>\n",
       "      <th>17</th>\n",
       "      <td>causa_acidente</td>\n",
       "      <td>category</td>\n",
       "      <td>Velocidade incompatível</td>\n",
       "    </tr>\n",
       "    <tr>\n",
       "      <th>18</th>\n",
       "      <td>classificacao_acidente</td>\n",
       "      <td>category</td>\n",
       "      <td>Sem Vítimas</td>\n",
       "    </tr>\n",
       "    <tr>\n",
       "      <th>19</th>\n",
       "      <td>veiculos</td>\n",
       "      <td>int64</td>\n",
       "      <td>1</td>\n",
       "    </tr>\n",
       "    <tr>\n",
       "      <th>20</th>\n",
       "      <td>pessoas</td>\n",
       "      <td>int64</td>\n",
       "      <td>5</td>\n",
       "    </tr>\n",
       "    <tr>\n",
       "      <th>21</th>\n",
       "      <td>ilesos</td>\n",
       "      <td>int64</td>\n",
       "      <td>5</td>\n",
       "    </tr>\n",
       "    <tr>\n",
       "      <th>22</th>\n",
       "      <td>feridos</td>\n",
       "      <td>int64</td>\n",
       "      <td>0</td>\n",
       "    </tr>\n",
       "    <tr>\n",
       "      <th>23</th>\n",
       "      <td>feridos_leves</td>\n",
       "      <td>int64</td>\n",
       "      <td>0</td>\n",
       "    </tr>\n",
       "    <tr>\n",
       "      <th>24</th>\n",
       "      <td>feridos_graves</td>\n",
       "      <td>int64</td>\n",
       "      <td>0</td>\n",
       "    </tr>\n",
       "    <tr>\n",
       "      <th>25</th>\n",
       "      <td>mortos</td>\n",
       "      <td>int64</td>\n",
       "      <td>0</td>\n",
       "    </tr>\n",
       "    <tr>\n",
       "      <th>26</th>\n",
       "      <td>ignorados</td>\n",
       "      <td>int64</td>\n",
       "      <td>0</td>\n",
       "    </tr>\n",
       "  </tbody>\n",
       "</table>\n",
       "</div>"
      ],
      "text/plain": [
       "                     index            tipo                  exemplo\n",
       "0                       id           int64                  1000329\n",
       "1                      ano        category                     2010\n",
       "2                      mes        category                       10\n",
       "3                     data  datetime64[ns]      2010-10-29 00:00:00\n",
       "4                     hora          object                       14\n",
       "5               dia_semana        category                    Sexta\n",
       "6                       uf        category                       RS\n",
       "7                municipio        category     santa barbara do sul\n",
       "8                       br        category                      285\n",
       "9                       km         float64                    397.3\n",
       "10  condicao_meteorologica        category                    Chuva\n",
       "11                fase_dia        category                Pleno dia\n",
       "12             sentido_via        category                Crescente\n",
       "13              tipo_pista        category                  Simples\n",
       "14             tracado_via        category                    Curva\n",
       "15                uso_solo        category                    Rural\n",
       "16           tipo_acidente        category           Saída de Pista\n",
       "17          causa_acidente        category  Velocidade incompatível\n",
       "18  classificacao_acidente        category              Sem Vítimas\n",
       "19                veiculos           int64                        1\n",
       "20                 pessoas           int64                        5\n",
       "21                  ilesos           int64                        5\n",
       "22                 feridos           int64                        0\n",
       "23           feridos_leves           int64                        0\n",
       "24          feridos_graves           int64                        0\n",
       "25                  mortos           int64                        0\n",
       "26               ignorados           int64                        0"
      ]
     },
     "execution_count": 241,
     "metadata": {},
     "output_type": "execute_result"
    }
   ],
   "source": [
    "df_ocorrencias_informativo = df_ocorrencias_limpo.dtypes.to_frame().reset_index().rename(columns={0:'tipo'})\n",
    "df_ocorrencias_informativo['exemplo'] = list(df_ocorrencias_limpo.iloc[0])\n",
    "df_ocorrencias_informativo"
   ]
  },
  {
   "cell_type": "markdown",
   "id": "romantic-fifty",
   "metadata": {},
   "source": [
    "Campos retirados:\n",
    "\n",
    "|     Campos     |     Motivo    |\n",
    "| :------------  | :------------ |\n",
    "| **id**         | Campo apenas para organização  |\n",
    "| **ano**        | Definição temporoal, não vejo ligação direto com o problema de classificação |\n",
    "| **mes**        | Definição temporoal, não vejo ligação direto com o problema de classificação |\n",
    "| **data**       | Definição temporoal, não vejo ligação direto com o problema de classificação |\n",
    "| **hora**       | Definição temporoal, não vejo ligação direto com o problema de classificação |\n",
    "| **dia_semana** | Definição temporoal, não vejo ligação direto com o problema de classificação |\n",
    "| **pessoas**    | Este campo é a soma das colunas de ilesos, feridos e mortos |\n",
    "| **feridos**    | Este campo é a soma das colunas feridos leves e feridos graves |\n"
   ]
  },
  {
   "cell_type": "code",
   "execution_count": 247,
   "id": "adverse-newton",
   "metadata": {},
   "outputs": [
    {
     "data": {
      "text/html": [
       "<div>\n",
       "<style scoped>\n",
       "    .dataframe tbody tr th:only-of-type {\n",
       "        vertical-align: middle;\n",
       "    }\n",
       "\n",
       "    .dataframe tbody tr th {\n",
       "        vertical-align: top;\n",
       "    }\n",
       "\n",
       "    .dataframe thead th {\n",
       "        text-align: right;\n",
       "    }\n",
       "</style>\n",
       "<table border=\"1\" class=\"dataframe\">\n",
       "  <thead>\n",
       "    <tr style=\"text-align: right;\">\n",
       "      <th></th>\n",
       "      <th>uf</th>\n",
       "      <th>municipio</th>\n",
       "      <th>br</th>\n",
       "      <th>km</th>\n",
       "      <th>condicao_meteorologica</th>\n",
       "      <th>fase_dia</th>\n",
       "      <th>sentido_via</th>\n",
       "      <th>tipo_pista</th>\n",
       "      <th>tracado_via</th>\n",
       "      <th>tipo_acidente</th>\n",
       "      <th>causa_acidente</th>\n",
       "      <th>classificacao_acidente</th>\n",
       "      <th>veiculos</th>\n",
       "      <th>ilesos</th>\n",
       "      <th>feridos_leves</th>\n",
       "      <th>feridos_graves</th>\n",
       "      <th>mortos</th>\n",
       "      <th>ignorados</th>\n",
       "    </tr>\n",
       "  </thead>\n",
       "  <tbody>\n",
       "    <tr>\n",
       "      <th>0</th>\n",
       "      <td>RS</td>\n",
       "      <td>santa barbara do sul</td>\n",
       "      <td>285</td>\n",
       "      <td>397.3</td>\n",
       "      <td>Chuva</td>\n",
       "      <td>Pleno dia</td>\n",
       "      <td>Crescente</td>\n",
       "      <td>Simples</td>\n",
       "      <td>Curva</td>\n",
       "      <td>Saída de Pista</td>\n",
       "      <td>Velocidade incompatível</td>\n",
       "      <td>Sem Vítimas</td>\n",
       "      <td>1</td>\n",
       "      <td>5</td>\n",
       "      <td>0</td>\n",
       "      <td>0</td>\n",
       "      <td>0</td>\n",
       "      <td>0</td>\n",
       "    </tr>\n",
       "    <tr>\n",
       "      <th>1</th>\n",
       "      <td>SP</td>\n",
       "      <td>miracatu</td>\n",
       "      <td>116</td>\n",
       "      <td>406.5</td>\n",
       "      <td>Chuva</td>\n",
       "      <td>Plena noite</td>\n",
       "      <td>Crescente</td>\n",
       "      <td>Dupla</td>\n",
       "      <td>Reta</td>\n",
       "      <td>Colisão com objeto fixo</td>\n",
       "      <td>Outras</td>\n",
       "      <td>Sem Vítimas</td>\n",
       "      <td>1</td>\n",
       "      <td>1</td>\n",
       "      <td>0</td>\n",
       "      <td>0</td>\n",
       "      <td>0</td>\n",
       "      <td>0</td>\n",
       "    </tr>\n",
       "    <tr>\n",
       "      <th>2</th>\n",
       "      <td>BA</td>\n",
       "      <td>capim grosso</td>\n",
       "      <td>407</td>\n",
       "      <td>220.8</td>\n",
       "      <td>Chuva</td>\n",
       "      <td>Pleno dia</td>\n",
       "      <td>Decrescente</td>\n",
       "      <td>Simples</td>\n",
       "      <td>Reta</td>\n",
       "      <td>Capotamento</td>\n",
       "      <td>Velocidade incompatível</td>\n",
       "      <td>Com Vítimas Feridas</td>\n",
       "      <td>1</td>\n",
       "      <td>1</td>\n",
       "      <td>0</td>\n",
       "      <td>2</td>\n",
       "      <td>0</td>\n",
       "      <td>0</td>\n",
       "    </tr>\n",
       "    <tr>\n",
       "      <th>3</th>\n",
       "      <td>BA</td>\n",
       "      <td>nova itarana</td>\n",
       "      <td>116</td>\n",
       "      <td>567.0</td>\n",
       "      <td>Ceu Claro</td>\n",
       "      <td>Pleno dia</td>\n",
       "      <td>Crescente</td>\n",
       "      <td>Múltipla</td>\n",
       "      <td>Reta</td>\n",
       "      <td>Colisão com objeto fixo</td>\n",
       "      <td>Outras</td>\n",
       "      <td>Sem Vítimas</td>\n",
       "      <td>1</td>\n",
       "      <td>1</td>\n",
       "      <td>0</td>\n",
       "      <td>0</td>\n",
       "      <td>0</td>\n",
       "      <td>0</td>\n",
       "    </tr>\n",
       "    <tr>\n",
       "      <th>4</th>\n",
       "      <td>SE</td>\n",
       "      <td>sao cristovao</td>\n",
       "      <td>101</td>\n",
       "      <td>107.0</td>\n",
       "      <td>Ceu Claro</td>\n",
       "      <td>Pleno dia</td>\n",
       "      <td>Decrescente</td>\n",
       "      <td>Simples</td>\n",
       "      <td>Reta</td>\n",
       "      <td>Colisão com objeto fixo</td>\n",
       "      <td>Falta de atenção</td>\n",
       "      <td>Com Vítimas Feridas</td>\n",
       "      <td>1</td>\n",
       "      <td>0</td>\n",
       "      <td>2</td>\n",
       "      <td>0</td>\n",
       "      <td>0</td>\n",
       "      <td>0</td>\n",
       "    </tr>\n",
       "    <tr>\n",
       "      <th>...</th>\n",
       "      <td>...</td>\n",
       "      <td>...</td>\n",
       "      <td>...</td>\n",
       "      <td>...</td>\n",
       "      <td>...</td>\n",
       "      <td>...</td>\n",
       "      <td>...</td>\n",
       "      <td>...</td>\n",
       "      <td>...</td>\n",
       "      <td>...</td>\n",
       "      <td>...</td>\n",
       "      <td>...</td>\n",
       "      <td>...</td>\n",
       "      <td>...</td>\n",
       "      <td>...</td>\n",
       "      <td>...</td>\n",
       "      <td>...</td>\n",
       "      <td>...</td>\n",
       "    </tr>\n",
       "    <tr>\n",
       "      <th>1038468</th>\n",
       "      <td>SC</td>\n",
       "      <td>joinville</td>\n",
       "      <td>101</td>\n",
       "      <td>37.0</td>\n",
       "      <td>Sol</td>\n",
       "      <td>Pleno dia</td>\n",
       "      <td>Decrescente</td>\n",
       "      <td>Dupla</td>\n",
       "      <td>Reta</td>\n",
       "      <td>Queda de motocicleta / bicicleta / veículo</td>\n",
       "      <td>Falta de atenção</td>\n",
       "      <td>Com Vítimas Feridas</td>\n",
       "      <td>2</td>\n",
       "      <td>2</td>\n",
       "      <td>1</td>\n",
       "      <td>0</td>\n",
       "      <td>0</td>\n",
       "      <td>0</td>\n",
       "    </tr>\n",
       "    <tr>\n",
       "      <th>1038469</th>\n",
       "      <td>MT</td>\n",
       "      <td>diamantino</td>\n",
       "      <td>163</td>\n",
       "      <td>512.0</td>\n",
       "      <td>Chuva</td>\n",
       "      <td>Pleno dia</td>\n",
       "      <td>Decrescente</td>\n",
       "      <td>Simples</td>\n",
       "      <td>Reta</td>\n",
       "      <td>Colisão traseira</td>\n",
       "      <td>Não guardar distância de segurança</td>\n",
       "      <td>Sem Vítimas</td>\n",
       "      <td>2</td>\n",
       "      <td>2</td>\n",
       "      <td>0</td>\n",
       "      <td>0</td>\n",
       "      <td>0</td>\n",
       "      <td>0</td>\n",
       "    </tr>\n",
       "    <tr>\n",
       "      <th>1038470</th>\n",
       "      <td>DF</td>\n",
       "      <td>brasilia</td>\n",
       "      <td>80</td>\n",
       "      <td>0.5</td>\n",
       "      <td>Ceu Claro</td>\n",
       "      <td>Pleno dia</td>\n",
       "      <td>Decrescente</td>\n",
       "      <td>Simples</td>\n",
       "      <td>Reta</td>\n",
       "      <td>Colisão lateral</td>\n",
       "      <td>Falta de atenção</td>\n",
       "      <td>Com Vítimas Fatais</td>\n",
       "      <td>2</td>\n",
       "      <td>0</td>\n",
       "      <td>1</td>\n",
       "      <td>1</td>\n",
       "      <td>1</td>\n",
       "      <td>1</td>\n",
       "    </tr>\n",
       "    <tr>\n",
       "      <th>1038471</th>\n",
       "      <td>AL</td>\n",
       "      <td>murici</td>\n",
       "      <td>104</td>\n",
       "      <td>52.9</td>\n",
       "      <td>Nublado</td>\n",
       "      <td>Pleno dia</td>\n",
       "      <td>Crescente</td>\n",
       "      <td>Simples</td>\n",
       "      <td>Curva</td>\n",
       "      <td>Saída de Pista</td>\n",
       "      <td>Outras</td>\n",
       "      <td>Sem Vítimas</td>\n",
       "      <td>1</td>\n",
       "      <td>2</td>\n",
       "      <td>0</td>\n",
       "      <td>0</td>\n",
       "      <td>0</td>\n",
       "      <td>0</td>\n",
       "    </tr>\n",
       "    <tr>\n",
       "      <th>1038472</th>\n",
       "      <td>RS</td>\n",
       "      <td>canoas</td>\n",
       "      <td>116</td>\n",
       "      <td>266.0</td>\n",
       "      <td>Ignorada</td>\n",
       "      <td>Plena noite</td>\n",
       "      <td>Decrescente</td>\n",
       "      <td>Dupla</td>\n",
       "      <td>Reta</td>\n",
       "      <td>Saída de Pista</td>\n",
       "      <td>Falta de atenção</td>\n",
       "      <td>Sem Vítimas</td>\n",
       "      <td>1</td>\n",
       "      <td>1</td>\n",
       "      <td>0</td>\n",
       "      <td>0</td>\n",
       "      <td>0</td>\n",
       "      <td>0</td>\n",
       "    </tr>\n",
       "  </tbody>\n",
       "</table>\n",
       "<p>1038473 rows × 18 columns</p>\n",
       "</div>"
      ],
      "text/plain": [
       "         uf             municipio   br     km condicao_meteorologica  \\\n",
       "0        RS  santa barbara do sul  285  397.3                  Chuva   \n",
       "1        SP              miracatu  116  406.5                  Chuva   \n",
       "2        BA          capim grosso  407  220.8                  Chuva   \n",
       "3        BA          nova itarana  116  567.0              Ceu Claro   \n",
       "4        SE         sao cristovao  101  107.0              Ceu Claro   \n",
       "...      ..                   ...  ...    ...                    ...   \n",
       "1038468  SC             joinville  101   37.0                    Sol   \n",
       "1038469  MT            diamantino  163  512.0                  Chuva   \n",
       "1038470  DF              brasilia   80    0.5              Ceu Claro   \n",
       "1038471  AL                murici  104   52.9                Nublado   \n",
       "1038472  RS                canoas  116  266.0               Ignorada   \n",
       "\n",
       "            fase_dia  sentido_via tipo_pista tracado_via  \\\n",
       "0          Pleno dia    Crescente    Simples       Curva   \n",
       "1        Plena noite    Crescente      Dupla        Reta   \n",
       "2          Pleno dia  Decrescente    Simples        Reta   \n",
       "3          Pleno dia    Crescente   Múltipla        Reta   \n",
       "4          Pleno dia  Decrescente    Simples        Reta   \n",
       "...              ...          ...        ...         ...   \n",
       "1038468    Pleno dia  Decrescente      Dupla        Reta   \n",
       "1038469    Pleno dia  Decrescente    Simples        Reta   \n",
       "1038470    Pleno dia  Decrescente    Simples        Reta   \n",
       "1038471    Pleno dia    Crescente    Simples       Curva   \n",
       "1038472  Plena noite  Decrescente      Dupla        Reta   \n",
       "\n",
       "                                      tipo_acidente  \\\n",
       "0                                    Saída de Pista   \n",
       "1                           Colisão com objeto fixo   \n",
       "2                                       Capotamento   \n",
       "3                           Colisão com objeto fixo   \n",
       "4                           Colisão com objeto fixo   \n",
       "...                                             ...   \n",
       "1038468  Queda de motocicleta / bicicleta / veículo   \n",
       "1038469                            Colisão traseira   \n",
       "1038470                             Colisão lateral   \n",
       "1038471                              Saída de Pista   \n",
       "1038472                              Saída de Pista   \n",
       "\n",
       "                             causa_acidente classificacao_acidente  veiculos  \\\n",
       "0                   Velocidade incompatível            Sem Vítimas         1   \n",
       "1                                    Outras            Sem Vítimas         1   \n",
       "2                   Velocidade incompatível    Com Vítimas Feridas         1   \n",
       "3                                    Outras            Sem Vítimas         1   \n",
       "4                          Falta de atenção    Com Vítimas Feridas         1   \n",
       "...                                     ...                    ...       ...   \n",
       "1038468                    Falta de atenção    Com Vítimas Feridas         2   \n",
       "1038469  Não guardar distância de segurança            Sem Vítimas         2   \n",
       "1038470                    Falta de atenção     Com Vítimas Fatais         2   \n",
       "1038471                              Outras            Sem Vítimas         1   \n",
       "1038472                    Falta de atenção            Sem Vítimas         1   \n",
       "\n",
       "         ilesos  feridos_leves  feridos_graves  mortos  ignorados  \n",
       "0             5              0               0       0          0  \n",
       "1             1              0               0       0          0  \n",
       "2             1              0               2       0          0  \n",
       "3             1              0               0       0          0  \n",
       "4             0              2               0       0          0  \n",
       "...         ...            ...             ...     ...        ...  \n",
       "1038468       2              1               0       0          0  \n",
       "1038469       2              0               0       0          0  \n",
       "1038470       0              1               1       1          1  \n",
       "1038471       2              0               0       0          0  \n",
       "1038472       1              0               0       0          0  \n",
       "\n",
       "[1038473 rows x 18 columns]"
      ]
     },
     "execution_count": 247,
     "metadata": {},
     "output_type": "execute_result"
    }
   ],
   "source": [
    "colunas_uteis = [\n",
    "                'uf',\n",
    "                'municipio',\n",
    "                'br',\n",
    "                'km',\n",
    "                'condicao_meteorologica',\n",
    "                'fase_dia',\n",
    "                'sentido_via',\n",
    "                'tipo_pista',\n",
    "                'tracado_via',\n",
    "                'tipo_acidente',\n",
    "                'causa_acidente',\n",
    "                'classificacao_acidente',\n",
    "                'veiculos',\n",
    "                'ilesos',\n",
    "                'feridos_leves',\n",
    "                'feridos_graves',\n",
    "                'mortos',\n",
    "                'ignorados'\n",
    "]\n",
    "\n",
    "df_variaveis_independentes = df_ocorrencias_limpo.copy()[colunas_uteis]\n",
    "df_variaveis_independentes"
   ]
  },
  {
   "cell_type": "code",
   "execution_count": 248,
   "id": "dangerous-particular",
   "metadata": {},
   "outputs": [
    {
     "data": {
      "text/html": [
       "<div>\n",
       "<style scoped>\n",
       "    .dataframe tbody tr th:only-of-type {\n",
       "        vertical-align: middle;\n",
       "    }\n",
       "\n",
       "    .dataframe tbody tr th {\n",
       "        vertical-align: top;\n",
       "    }\n",
       "\n",
       "    .dataframe thead th {\n",
       "        text-align: right;\n",
       "    }\n",
       "</style>\n",
       "<table border=\"1\" class=\"dataframe\">\n",
       "  <thead>\n",
       "    <tr style=\"text-align: right;\">\n",
       "      <th></th>\n",
       "      <th>uf</th>\n",
       "      <th>municipio</th>\n",
       "      <th>br</th>\n",
       "      <th>km</th>\n",
       "      <th>condicao_meteorologica</th>\n",
       "      <th>fase_dia</th>\n",
       "      <th>sentido_via</th>\n",
       "      <th>tipo_pista</th>\n",
       "      <th>tracado_via</th>\n",
       "      <th>tipo_acidente</th>\n",
       "      <th>causa_acidente</th>\n",
       "      <th>classificacao_acidente</th>\n",
       "      <th>veiculos</th>\n",
       "      <th>ilesos</th>\n",
       "      <th>feridos_leves</th>\n",
       "      <th>feridos_graves</th>\n",
       "      <th>mortos</th>\n",
       "      <th>ignorados</th>\n",
       "    </tr>\n",
       "  </thead>\n",
       "  <tbody>\n",
       "    <tr>\n",
       "      <th>0</th>\n",
       "      <td>22</td>\n",
       "      <td>1601</td>\n",
       "      <td>59</td>\n",
       "      <td>397.3</td>\n",
       "      <td>1</td>\n",
       "      <td>4</td>\n",
       "      <td>0</td>\n",
       "      <td>3</td>\n",
       "      <td>1</td>\n",
       "      <td>14</td>\n",
       "      <td>11</td>\n",
       "      <td>4</td>\n",
       "      <td>1</td>\n",
       "      <td>5</td>\n",
       "      <td>0</td>\n",
       "      <td>0</td>\n",
       "      <td>0</td>\n",
       "      <td>0</td>\n",
       "    </tr>\n",
       "    <tr>\n",
       "      <th>1</th>\n",
       "      <td>25</td>\n",
       "      <td>1148</td>\n",
       "      <td>18</td>\n",
       "      <td>406.5</td>\n",
       "      <td>1</td>\n",
       "      <td>3</td>\n",
       "      <td>0</td>\n",
       "      <td>0</td>\n",
       "      <td>3</td>\n",
       "      <td>5</td>\n",
       "      <td>9</td>\n",
       "      <td>4</td>\n",
       "      <td>1</td>\n",
       "      <td>1</td>\n",
       "      <td>0</td>\n",
       "      <td>0</td>\n",
       "      <td>0</td>\n",
       "      <td>0</td>\n",
       "    </tr>\n",
       "    <tr>\n",
       "      <th>2</th>\n",
       "      <td>4</td>\n",
       "      <td>403</td>\n",
       "      <td>100</td>\n",
       "      <td>220.8</td>\n",
       "      <td>1</td>\n",
       "      <td>4</td>\n",
       "      <td>1</td>\n",
       "      <td>3</td>\n",
       "      <td>3</td>\n",
       "      <td>2</td>\n",
       "      <td>11</td>\n",
       "      <td>1</td>\n",
       "      <td>1</td>\n",
       "      <td>1</td>\n",
       "      <td>0</td>\n",
       "      <td>2</td>\n",
       "      <td>0</td>\n",
       "      <td>0</td>\n",
       "    </tr>\n",
       "    <tr>\n",
       "      <th>3</th>\n",
       "      <td>4</td>\n",
       "      <td>1230</td>\n",
       "      <td>18</td>\n",
       "      <td>567.0</td>\n",
       "      <td>0</td>\n",
       "      <td>4</td>\n",
       "      <td>0</td>\n",
       "      <td>1</td>\n",
       "      <td>3</td>\n",
       "      <td>5</td>\n",
       "      <td>9</td>\n",
       "      <td>4</td>\n",
       "      <td>1</td>\n",
       "      <td>1</td>\n",
       "      <td>0</td>\n",
       "      <td>0</td>\n",
       "      <td>0</td>\n",
       "      <td>0</td>\n",
       "    </tr>\n",
       "    <tr>\n",
       "      <th>4</th>\n",
       "      <td>24</td>\n",
       "      <td>1689</td>\n",
       "      <td>15</td>\n",
       "      <td>107.0</td>\n",
       "      <td>0</td>\n",
       "      <td>4</td>\n",
       "      <td>1</td>\n",
       "      <td>3</td>\n",
       "      <td>3</td>\n",
       "      <td>5</td>\n",
       "      <td>5</td>\n",
       "      <td>1</td>\n",
       "      <td>1</td>\n",
       "      <td>0</td>\n",
       "      <td>2</td>\n",
       "      <td>0</td>\n",
       "      <td>0</td>\n",
       "      <td>0</td>\n",
       "    </tr>\n",
       "    <tr>\n",
       "      <th>...</th>\n",
       "      <td>...</td>\n",
       "      <td>...</td>\n",
       "      <td>...</td>\n",
       "      <td>...</td>\n",
       "      <td>...</td>\n",
       "      <td>...</td>\n",
       "      <td>...</td>\n",
       "      <td>...</td>\n",
       "      <td>...</td>\n",
       "      <td>...</td>\n",
       "      <td>...</td>\n",
       "      <td>...</td>\n",
       "      <td>...</td>\n",
       "      <td>...</td>\n",
       "      <td>...</td>\n",
       "      <td>...</td>\n",
       "      <td>...</td>\n",
       "      <td>...</td>\n",
       "    </tr>\n",
       "    <tr>\n",
       "      <th>1038468</th>\n",
       "      <td>23</td>\n",
       "      <td>971</td>\n",
       "      <td>15</td>\n",
       "      <td>37.0</td>\n",
       "      <td>8</td>\n",
       "      <td>4</td>\n",
       "      <td>1</td>\n",
       "      <td>0</td>\n",
       "      <td>3</td>\n",
       "      <td>13</td>\n",
       "      <td>5</td>\n",
       "      <td>1</td>\n",
       "      <td>2</td>\n",
       "      <td>2</td>\n",
       "      <td>1</td>\n",
       "      <td>0</td>\n",
       "      <td>0</td>\n",
       "      <td>0</td>\n",
       "    </tr>\n",
       "    <tr>\n",
       "      <th>1038469</th>\n",
       "      <td>12</td>\n",
       "      <td>582</td>\n",
       "      <td>29</td>\n",
       "      <td>512.0</td>\n",
       "      <td>1</td>\n",
       "      <td>4</td>\n",
       "      <td>1</td>\n",
       "      <td>3</td>\n",
       "      <td>3</td>\n",
       "      <td>9</td>\n",
       "      <td>8</td>\n",
       "      <td>4</td>\n",
       "      <td>2</td>\n",
       "      <td>2</td>\n",
       "      <td>0</td>\n",
       "      <td>0</td>\n",
       "      <td>0</td>\n",
       "      <td>0</td>\n",
       "    </tr>\n",
       "    <tr>\n",
       "      <th>1038470</th>\n",
       "      <td>6</td>\n",
       "      <td>269</td>\n",
       "      <td>13</td>\n",
       "      <td>0.5</td>\n",
       "      <td>0</td>\n",
       "      <td>4</td>\n",
       "      <td>1</td>\n",
       "      <td>3</td>\n",
       "      <td>3</td>\n",
       "      <td>8</td>\n",
       "      <td>5</td>\n",
       "      <td>0</td>\n",
       "      <td>2</td>\n",
       "      <td>0</td>\n",
       "      <td>1</td>\n",
       "      <td>1</td>\n",
       "      <td>1</td>\n",
       "      <td>1</td>\n",
       "    </tr>\n",
       "    <tr>\n",
       "      <th>1038471</th>\n",
       "      <td>1</td>\n",
       "      <td>1197</td>\n",
       "      <td>16</td>\n",
       "      <td>52.9</td>\n",
       "      <td>6</td>\n",
       "      <td>4</td>\n",
       "      <td>0</td>\n",
       "      <td>3</td>\n",
       "      <td>1</td>\n",
       "      <td>14</td>\n",
       "      <td>9</td>\n",
       "      <td>4</td>\n",
       "      <td>1</td>\n",
       "      <td>2</td>\n",
       "      <td>0</td>\n",
       "      <td>0</td>\n",
       "      <td>0</td>\n",
       "      <td>0</td>\n",
       "    </tr>\n",
       "    <tr>\n",
       "      <th>1038472</th>\n",
       "      <td>22</td>\n",
       "      <td>390</td>\n",
       "      <td>18</td>\n",
       "      <td>266.0</td>\n",
       "      <td>3</td>\n",
       "      <td>3</td>\n",
       "      <td>1</td>\n",
       "      <td>0</td>\n",
       "      <td>3</td>\n",
       "      <td>14</td>\n",
       "      <td>5</td>\n",
       "      <td>4</td>\n",
       "      <td>1</td>\n",
       "      <td>1</td>\n",
       "      <td>0</td>\n",
       "      <td>0</td>\n",
       "      <td>0</td>\n",
       "      <td>0</td>\n",
       "    </tr>\n",
       "  </tbody>\n",
       "</table>\n",
       "<p>1038473 rows × 18 columns</p>\n",
       "</div>"
      ],
      "text/plain": [
       "         uf  municipio   br     km  condicao_meteorologica  fase_dia  \\\n",
       "0        22       1601   59  397.3                       1         4   \n",
       "1        25       1148   18  406.5                       1         3   \n",
       "2         4        403  100  220.8                       1         4   \n",
       "3         4       1230   18  567.0                       0         4   \n",
       "4        24       1689   15  107.0                       0         4   \n",
       "...      ..        ...  ...    ...                     ...       ...   \n",
       "1038468  23        971   15   37.0                       8         4   \n",
       "1038469  12        582   29  512.0                       1         4   \n",
       "1038470   6        269   13    0.5                       0         4   \n",
       "1038471   1       1197   16   52.9                       6         4   \n",
       "1038472  22        390   18  266.0                       3         3   \n",
       "\n",
       "         sentido_via  tipo_pista  tracado_via  tipo_acidente  causa_acidente  \\\n",
       "0                  0           3            1             14              11   \n",
       "1                  0           0            3              5               9   \n",
       "2                  1           3            3              2              11   \n",
       "3                  0           1            3              5               9   \n",
       "4                  1           3            3              5               5   \n",
       "...              ...         ...          ...            ...             ...   \n",
       "1038468            1           0            3             13               5   \n",
       "1038469            1           3            3              9               8   \n",
       "1038470            1           3            3              8               5   \n",
       "1038471            0           3            1             14               9   \n",
       "1038472            1           0            3             14               5   \n",
       "\n",
       "         classificacao_acidente  veiculos  ilesos  feridos_leves  \\\n",
       "0                             4         1       5              0   \n",
       "1                             4         1       1              0   \n",
       "2                             1         1       1              0   \n",
       "3                             4         1       1              0   \n",
       "4                             1         1       0              2   \n",
       "...                         ...       ...     ...            ...   \n",
       "1038468                       1         2       2              1   \n",
       "1038469                       4         2       2              0   \n",
       "1038470                       0         2       0              1   \n",
       "1038471                       4         1       2              0   \n",
       "1038472                       4         1       1              0   \n",
       "\n",
       "         feridos_graves  mortos  ignorados  \n",
       "0                     0       0          0  \n",
       "1                     0       0          0  \n",
       "2                     2       0          0  \n",
       "3                     0       0          0  \n",
       "4                     0       0          0  \n",
       "...                 ...     ...        ...  \n",
       "1038468               0       0          0  \n",
       "1038469               0       0          0  \n",
       "1038470               1       1          1  \n",
       "1038471               0       0          0  \n",
       "1038472               0       0          0  \n",
       "\n",
       "[1038473 rows x 18 columns]"
      ]
     },
     "execution_count": 248,
     "metadata": {},
     "output_type": "execute_result"
    }
   ],
   "source": [
    "for coluna in df_variaveis_independentes.select_dtypes(include=['category']).columns:\n",
    "    df_variaveis_independentes[coluna] = df_variaveis_independentes[coluna].astype('category').cat.codes\n",
    "\n",
    "df_variaveis_independentes"
   ]
  },
  {
   "cell_type": "code",
   "execution_count": 250,
   "id": "musical-bunny",
   "metadata": {},
   "outputs": [
    {
     "data": {
      "text/html": [
       "<div>\n",
       "<style scoped>\n",
       "    .dataframe tbody tr th:only-of-type {\n",
       "        vertical-align: middle;\n",
       "    }\n",
       "\n",
       "    .dataframe tbody tr th {\n",
       "        vertical-align: top;\n",
       "    }\n",
       "\n",
       "    .dataframe thead th {\n",
       "        text-align: right;\n",
       "    }\n",
       "</style>\n",
       "<table border=\"1\" class=\"dataframe\">\n",
       "  <thead>\n",
       "    <tr style=\"text-align: right;\">\n",
       "      <th></th>\n",
       "      <th>coluna</th>\n",
       "      <th>qtd_vazio</th>\n",
       "    </tr>\n",
       "  </thead>\n",
       "  <tbody>\n",
       "    <tr>\n",
       "      <th>0</th>\n",
       "      <td>uf</td>\n",
       "      <td>0.0</td>\n",
       "    </tr>\n",
       "    <tr>\n",
       "      <th>1</th>\n",
       "      <td>municipio</td>\n",
       "      <td>0.0</td>\n",
       "    </tr>\n",
       "    <tr>\n",
       "      <th>2</th>\n",
       "      <td>br</td>\n",
       "      <td>0.0</td>\n",
       "    </tr>\n",
       "    <tr>\n",
       "      <th>3</th>\n",
       "      <td>km</td>\n",
       "      <td>4.0</td>\n",
       "    </tr>\n",
       "    <tr>\n",
       "      <th>4</th>\n",
       "      <td>condicao_meteorologica</td>\n",
       "      <td>0.0</td>\n",
       "    </tr>\n",
       "  </tbody>\n",
       "</table>\n",
       "</div>"
      ],
      "text/plain": [
       "                   coluna  qtd_vazio\n",
       "0                      uf        0.0\n",
       "1               municipio        0.0\n",
       "2                      br        0.0\n",
       "3                      km        4.0\n",
       "4  condicao_meteorologica        0.0"
      ]
     },
     "execution_count": 250,
     "metadata": {},
     "output_type": "execute_result"
    }
   ],
   "source": [
    "df_qtd_campos_vazios_por_coluna = pd.DataFrame({\n",
    "    'coluna':[],\n",
    "    'qtd_vazio':[]\n",
    "})\n",
    "\n",
    "for column in df_variaveis_independentes.columns:\n",
    "    df_aux = pd.DataFrame({\n",
    "        'coluna': [column],\n",
    "        'qtd_vazio': [df_variaveis_independentes[column].isnull().sum()]\n",
    "    })\n",
    "    df_qtd_campos_vazios_por_coluna = pd.concat([df_qtd_campos_vazios_por_coluna, df_aux])\n",
    "\n",
    "df_qtd_campos_vazios_por_coluna.reset_index().drop(columns=['index']).head()"
   ]
  },
  {
   "cell_type": "code",
   "execution_count": 253,
   "id": "acting-bryan",
   "metadata": {},
   "outputs": [],
   "source": [
    "df_variaveis_independentes.km = df_variaveis_independentes.km.fillna(0)"
   ]
  },
  {
   "cell_type": "code",
   "execution_count": 254,
   "id": "individual-entity",
   "metadata": {},
   "outputs": [
    {
     "data": {
      "text/html": [
       "<div>\n",
       "<style scoped>\n",
       "    .dataframe tbody tr th:only-of-type {\n",
       "        vertical-align: middle;\n",
       "    }\n",
       "\n",
       "    .dataframe tbody tr th {\n",
       "        vertical-align: top;\n",
       "    }\n",
       "\n",
       "    .dataframe thead th {\n",
       "        text-align: right;\n",
       "    }\n",
       "</style>\n",
       "<table border=\"1\" class=\"dataframe\">\n",
       "  <thead>\n",
       "    <tr style=\"text-align: right;\">\n",
       "      <th></th>\n",
       "      <th>coluna</th>\n",
       "      <th>qtd_vazio</th>\n",
       "    </tr>\n",
       "  </thead>\n",
       "  <tbody>\n",
       "    <tr>\n",
       "      <th>0</th>\n",
       "      <td>uf</td>\n",
       "      <td>0.0</td>\n",
       "    </tr>\n",
       "    <tr>\n",
       "      <th>1</th>\n",
       "      <td>municipio</td>\n",
       "      <td>0.0</td>\n",
       "    </tr>\n",
       "    <tr>\n",
       "      <th>2</th>\n",
       "      <td>br</td>\n",
       "      <td>0.0</td>\n",
       "    </tr>\n",
       "    <tr>\n",
       "      <th>3</th>\n",
       "      <td>km</td>\n",
       "      <td>0.0</td>\n",
       "    </tr>\n",
       "    <tr>\n",
       "      <th>4</th>\n",
       "      <td>condicao_meteorologica</td>\n",
       "      <td>0.0</td>\n",
       "    </tr>\n",
       "  </tbody>\n",
       "</table>\n",
       "</div>"
      ],
      "text/plain": [
       "                   coluna  qtd_vazio\n",
       "0                      uf        0.0\n",
       "1               municipio        0.0\n",
       "2                      br        0.0\n",
       "3                      km        0.0\n",
       "4  condicao_meteorologica        0.0"
      ]
     },
     "execution_count": 254,
     "metadata": {},
     "output_type": "execute_result"
    }
   ],
   "source": [
    "df_qtd_campos_vazios_por_coluna = pd.DataFrame({\n",
    "    'coluna':[],\n",
    "    'qtd_vazio':[]\n",
    "})\n",
    "\n",
    "for column in df_variaveis_independentes.columns:\n",
    "    df_aux = pd.DataFrame({\n",
    "        'coluna': [column],\n",
    "        'qtd_vazio': [df_variaveis_independentes[column].isnull().sum()]\n",
    "    })\n",
    "    df_qtd_campos_vazios_por_coluna = pd.concat([df_qtd_campos_vazios_por_coluna, df_aux])\n",
    "\n",
    "df_qtd_campos_vazios_por_coluna.reset_index().drop(columns=['index']).head()"
   ]
  },
  {
   "cell_type": "code",
   "execution_count": 255,
   "id": "handmade-collins",
   "metadata": {},
   "outputs": [
    {
     "data": {
      "text/plain": [
       "{0: 'Não Informado', 1: 'Rural', 2: 'Urbano'}"
      ]
     },
     "execution_count": 255,
     "metadata": {},
     "output_type": "execute_result"
    }
   ],
   "source": [
    "df_variavel_dependente = df_ocorrencias_limpo.copy()[['uso_solo']]\n",
    "dict_uso_solo = dict( enumerate(df_variavel_dependente['uso_solo'].cat.categories ) )\n",
    "dict_uso_solo"
   ]
  },
  {
   "cell_type": "code",
   "execution_count": 256,
   "id": "standard-particular",
   "metadata": {},
   "outputs": [
    {
     "data": {
      "text/plain": [
       "array([1, 2, 0], dtype=int8)"
      ]
     },
     "execution_count": 256,
     "metadata": {},
     "output_type": "execute_result"
    }
   ],
   "source": [
    "df_variavel_dependente['uso_solo'] = df_variavel_dependente['uso_solo'].astype('category').cat.codes\n",
    "df_variavel_dependente['uso_solo'].unique()"
   ]
  },
  {
   "cell_type": "code",
   "execution_count": 257,
   "id": "registered-technique",
   "metadata": {},
   "outputs": [
    {
     "data": {
      "text/html": [
       "<div>\n",
       "<style scoped>\n",
       "    .dataframe tbody tr th:only-of-type {\n",
       "        vertical-align: middle;\n",
       "    }\n",
       "\n",
       "    .dataframe tbody tr th {\n",
       "        vertical-align: top;\n",
       "    }\n",
       "\n",
       "    .dataframe thead th {\n",
       "        text-align: right;\n",
       "    }\n",
       "</style>\n",
       "<table border=\"1\" class=\"dataframe\">\n",
       "  <thead>\n",
       "    <tr style=\"text-align: right;\">\n",
       "      <th></th>\n",
       "      <th>uso_solo</th>\n",
       "    </tr>\n",
       "  </thead>\n",
       "  <tbody>\n",
       "    <tr>\n",
       "      <th>0</th>\n",
       "      <td>1</td>\n",
       "    </tr>\n",
       "    <tr>\n",
       "      <th>1</th>\n",
       "      <td>1</td>\n",
       "    </tr>\n",
       "    <tr>\n",
       "      <th>2</th>\n",
       "      <td>1</td>\n",
       "    </tr>\n",
       "    <tr>\n",
       "      <th>3</th>\n",
       "      <td>1</td>\n",
       "    </tr>\n",
       "    <tr>\n",
       "      <th>4</th>\n",
       "      <td>1</td>\n",
       "    </tr>\n",
       "    <tr>\n",
       "      <th>...</th>\n",
       "      <td>...</td>\n",
       "    </tr>\n",
       "    <tr>\n",
       "      <th>1038468</th>\n",
       "      <td>2</td>\n",
       "    </tr>\n",
       "    <tr>\n",
       "      <th>1038469</th>\n",
       "      <td>1</td>\n",
       "    </tr>\n",
       "    <tr>\n",
       "      <th>1038470</th>\n",
       "      <td>1</td>\n",
       "    </tr>\n",
       "    <tr>\n",
       "      <th>1038471</th>\n",
       "      <td>1</td>\n",
       "    </tr>\n",
       "    <tr>\n",
       "      <th>1038472</th>\n",
       "      <td>2</td>\n",
       "    </tr>\n",
       "  </tbody>\n",
       "</table>\n",
       "<p>1038473 rows × 1 columns</p>\n",
       "</div>"
      ],
      "text/plain": [
       "         uso_solo\n",
       "0               1\n",
       "1               1\n",
       "2               1\n",
       "3               1\n",
       "4               1\n",
       "...           ...\n",
       "1038468         2\n",
       "1038469         1\n",
       "1038470         1\n",
       "1038471         1\n",
       "1038472         2\n",
       "\n",
       "[1038473 rows x 1 columns]"
      ]
     },
     "execution_count": 257,
     "metadata": {},
     "output_type": "execute_result"
    }
   ],
   "source": [
    "df_variavel_dependente"
   ]
  },
  {
   "cell_type": "markdown",
   "id": "surprising-shepherd",
   "metadata": {},
   "source": [
    "DataFrames de variaveis independentes e variavel independente prontos pra separação de treino e teste."
   ]
  },
  {
   "cell_type": "markdown",
   "id": "several-gambling",
   "metadata": {},
   "source": [
    "## Separação e treino e teste"
   ]
  },
  {
   "cell_type": "code",
   "execution_count": 265,
   "id": "danish-monthly",
   "metadata": {},
   "outputs": [
    {
     "name": "stdout",
     "output_type": "stream",
     "text": [
      "CPU times: user 3.42 s, sys: 160 ms, total: 3.58 s\n",
      "Wall time: 3.62 s\n"
     ]
    },
    {
     "data": {
      "text/html": [
       "<div>\n",
       "<style scoped>\n",
       "    .dataframe tbody tr th:only-of-type {\n",
       "        vertical-align: middle;\n",
       "    }\n",
       "\n",
       "    .dataframe tbody tr th {\n",
       "        vertical-align: top;\n",
       "    }\n",
       "\n",
       "    .dataframe thead th {\n",
       "        text-align: right;\n",
       "    }\n",
       "</style>\n",
       "<table border=\"1\" class=\"dataframe\">\n",
       "  <thead>\n",
       "    <tr style=\"text-align: right;\">\n",
       "      <th></th>\n",
       "      <th>total</th>\n",
       "      <th>treino</th>\n",
       "      <th>teste</th>\n",
       "      <th>colunas</th>\n",
       "    </tr>\n",
       "    <tr>\n",
       "      <th>grupos</th>\n",
       "      <th></th>\n",
       "      <th></th>\n",
       "      <th></th>\n",
       "      <th></th>\n",
       "    </tr>\n",
       "  </thead>\n",
       "  <tbody>\n",
       "    <tr>\n",
       "      <th>X - dados</th>\n",
       "      <td>1038473</td>\n",
       "      <td>778854</td>\n",
       "      <td>259619</td>\n",
       "      <td>18</td>\n",
       "    </tr>\n",
       "    <tr>\n",
       "      <th>y - label</th>\n",
       "      <td>1038473</td>\n",
       "      <td>778854</td>\n",
       "      <td>259619</td>\n",
       "      <td>1</td>\n",
       "    </tr>\n",
       "  </tbody>\n",
       "</table>\n",
       "</div>"
      ],
      "text/plain": [
       "             total  treino   teste  colunas\n",
       "grupos                                     \n",
       "X - dados  1038473  778854  259619       18\n",
       "y - label  1038473  778854  259619        1"
      ]
     },
     "execution_count": 265,
     "metadata": {},
     "output_type": "execute_result"
    }
   ],
   "source": [
    "%%time\n",
    "from sklearn.model_selection import train_test_split\n",
    "\n",
    "X = df_variaveis_independentes.values\n",
    "y = df_variavel_dependente.values\n",
    "\n",
    "X_train, X_test, y_train, y_test = train_test_split(X, y,\n",
    "                                                        stratify = y,\n",
    "                                                        test_size = 0.25,\n",
    "                                                        random_state = 13)\n",
    "\n",
    "df_informativo_separacao = pd.DataFrame({\n",
    "    'grupos'  : ['X - dados','y - label'],\n",
    "    'total'   : [X.shape[0], y.shape[0]],\n",
    "    'treino'  : [X_train.shape[0], y_train.shape[0]],\n",
    "    'teste'   : [X_test.shape[0], y_test.shape[0]],\n",
    "    'colunas' : [X.shape[1], y.shape[1]]\n",
    "}).set_index('grupos')\n",
    "\n",
    "df_informativo_separacao"
   ]
  },
  {
   "cell_type": "code",
   "execution_count": 270,
   "id": "congressional-georgia",
   "metadata": {},
   "outputs": [
    {
     "name": "stdout",
     "output_type": "stream",
     "text": [
      "CPU times: user 11min 53s, sys: 0 ns, total: 11min 53s\n",
      "Wall time: 11min 53s\n"
     ]
    },
    {
     "name": "stderr",
     "output_type": "stream",
     "text": [
      "/home/thpomari/.local/lib/python3.8/site-packages/sklearn/linear_model/_sag.py:328: ConvergenceWarning: The max_iter was reached which means the coef_ did not converge\n",
      "  warnings.warn(\"The max_iter was reached which means \"\n"
     ]
    },
    {
     "data": {
      "text/plain": [
       "LogisticRegression(max_iter=1000, random_state=0, solver='saga')"
      ]
     },
     "execution_count": 270,
     "metadata": {},
     "output_type": "execute_result"
    }
   ],
   "source": [
    "%%time\n",
    "from sklearn.linear_model import LogisticRegression\n",
    "\n",
    "classifier = LogisticRegression(random_state=0, max_iter=1000, solver='saga')\n",
    "\n",
    "classifier.fit(X_train, y_train.ravel())"
   ]
  },
  {
   "cell_type": "code",
   "execution_count": null,
   "id": "wooden-chapel",
   "metadata": {},
   "outputs": [],
   "source": [
    "transformer = Normalizer().fit(X)\n",
    "X_novo = transformer.transform(X)"
   ]
  }
 ],
 "metadata": {
  "kernelspec": {
   "display_name": "Python 3",
   "language": "python",
   "name": "python3"
  },
  "language_info": {
   "codemirror_mode": {
    "name": "ipython",
    "version": 3
   },
   "file_extension": ".py",
   "mimetype": "text/x-python",
   "name": "python",
   "nbconvert_exporter": "python",
   "pygments_lexer": "ipython3",
   "version": "3.8.5"
  }
 },
 "nbformat": 4,
 "nbformat_minor": 5
}
