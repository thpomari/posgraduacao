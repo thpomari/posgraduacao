{
 "cells": [
  {
   "cell_type": "code",
   "execution_count": 1,
   "id": "architectural-debut",
   "metadata": {},
   "outputs": [],
   "source": [
    "import pandas as pd\n",
    "import matplotlib as plt\n",
    "import seaborn as sns"
   ]
  },
  {
   "cell_type": "markdown",
   "id": "modified-investigator",
   "metadata": {},
   "source": [
    "# Carregando a base"
   ]
  },
  {
   "cell_type": "code",
   "execution_count": 2,
   "id": "pressed-delight",
   "metadata": {},
   "outputs": [
    {
     "name": "stdout",
     "output_type": "stream",
     "text": [
      "<class 'pandas.core.frame.DataFrame'>\n",
      "RangeIndex: 941 entries, 0 to 940\n",
      "Data columns (total 7 columns):\n",
      " #   Column                       Non-Null Count  Dtype  \n",
      "---  ------                       --------------  -----  \n",
      " 0   Data                         365 non-null    object \n",
      " 1   Temperatura Media (C)        365 non-null    object \n",
      " 2   Temperatura Minima (C)       365 non-null    object \n",
      " 3   Temperatura Maxima (C)       365 non-null    object \n",
      " 4   Precipitacao (mm)            365 non-null    object \n",
      " 5   Final de Semana              365 non-null    float64\n",
      " 6   Consumo de cerveja (litros)  365 non-null    float64\n",
      "dtypes: float64(2), object(5)\n",
      "memory usage: 51.6+ KB\n"
     ]
    }
   ],
   "source": [
    "df_consumo_cerveja = pd.read_csv('Consumo_cerveja.csv')\n",
    "df_consumo_cerveja.info()"
   ]
  },
  {
   "cell_type": "code",
   "execution_count": 3,
   "id": "liked-bradley",
   "metadata": {},
   "outputs": [
    {
     "data": {
      "text/html": [
       "<div>\n",
       "<style scoped>\n",
       "    .dataframe tbody tr th:only-of-type {\n",
       "        vertical-align: middle;\n",
       "    }\n",
       "\n",
       "    .dataframe tbody tr th {\n",
       "        vertical-align: top;\n",
       "    }\n",
       "\n",
       "    .dataframe thead th {\n",
       "        text-align: right;\n",
       "    }\n",
       "</style>\n",
       "<table border=\"1\" class=\"dataframe\">\n",
       "  <thead>\n",
       "    <tr style=\"text-align: right;\">\n",
       "      <th></th>\n",
       "      <th>Data</th>\n",
       "      <th>Temperatura Media (C)</th>\n",
       "      <th>Temperatura Minima (C)</th>\n",
       "      <th>Temperatura Maxima (C)</th>\n",
       "      <th>Precipitacao (mm)</th>\n",
       "      <th>Final de Semana</th>\n",
       "      <th>Consumo de cerveja (litros)</th>\n",
       "    </tr>\n",
       "  </thead>\n",
       "  <tbody>\n",
       "    <tr>\n",
       "      <th>0</th>\n",
       "      <td>2015-01-01</td>\n",
       "      <td>27,3</td>\n",
       "      <td>23,9</td>\n",
       "      <td>32,5</td>\n",
       "      <td>0</td>\n",
       "      <td>0.0</td>\n",
       "      <td>25.461</td>\n",
       "    </tr>\n",
       "    <tr>\n",
       "      <th>1</th>\n",
       "      <td>2015-01-02</td>\n",
       "      <td>27,02</td>\n",
       "      <td>24,5</td>\n",
       "      <td>33,5</td>\n",
       "      <td>0</td>\n",
       "      <td>0.0</td>\n",
       "      <td>28.972</td>\n",
       "    </tr>\n",
       "    <tr>\n",
       "      <th>2</th>\n",
       "      <td>2015-01-03</td>\n",
       "      <td>24,82</td>\n",
       "      <td>22,4</td>\n",
       "      <td>29,9</td>\n",
       "      <td>0</td>\n",
       "      <td>1.0</td>\n",
       "      <td>30.814</td>\n",
       "    </tr>\n",
       "    <tr>\n",
       "      <th>3</th>\n",
       "      <td>2015-01-04</td>\n",
       "      <td>23,98</td>\n",
       "      <td>21,5</td>\n",
       "      <td>28,6</td>\n",
       "      <td>1,2</td>\n",
       "      <td>1.0</td>\n",
       "      <td>29.799</td>\n",
       "    </tr>\n",
       "    <tr>\n",
       "      <th>4</th>\n",
       "      <td>2015-01-05</td>\n",
       "      <td>23,82</td>\n",
       "      <td>21</td>\n",
       "      <td>28,3</td>\n",
       "      <td>0</td>\n",
       "      <td>0.0</td>\n",
       "      <td>28.900</td>\n",
       "    </tr>\n",
       "    <tr>\n",
       "      <th>...</th>\n",
       "      <td>...</td>\n",
       "      <td>...</td>\n",
       "      <td>...</td>\n",
       "      <td>...</td>\n",
       "      <td>...</td>\n",
       "      <td>...</td>\n",
       "      <td>...</td>\n",
       "    </tr>\n",
       "    <tr>\n",
       "      <th>936</th>\n",
       "      <td>NaN</td>\n",
       "      <td>NaN</td>\n",
       "      <td>NaN</td>\n",
       "      <td>NaN</td>\n",
       "      <td>NaN</td>\n",
       "      <td>NaN</td>\n",
       "      <td>NaN</td>\n",
       "    </tr>\n",
       "    <tr>\n",
       "      <th>937</th>\n",
       "      <td>NaN</td>\n",
       "      <td>NaN</td>\n",
       "      <td>NaN</td>\n",
       "      <td>NaN</td>\n",
       "      <td>NaN</td>\n",
       "      <td>NaN</td>\n",
       "      <td>NaN</td>\n",
       "    </tr>\n",
       "    <tr>\n",
       "      <th>938</th>\n",
       "      <td>NaN</td>\n",
       "      <td>NaN</td>\n",
       "      <td>NaN</td>\n",
       "      <td>NaN</td>\n",
       "      <td>NaN</td>\n",
       "      <td>NaN</td>\n",
       "      <td>NaN</td>\n",
       "    </tr>\n",
       "    <tr>\n",
       "      <th>939</th>\n",
       "      <td>NaN</td>\n",
       "      <td>NaN</td>\n",
       "      <td>NaN</td>\n",
       "      <td>NaN</td>\n",
       "      <td>NaN</td>\n",
       "      <td>NaN</td>\n",
       "      <td>NaN</td>\n",
       "    </tr>\n",
       "    <tr>\n",
       "      <th>940</th>\n",
       "      <td>NaN</td>\n",
       "      <td>NaN</td>\n",
       "      <td>NaN</td>\n",
       "      <td>NaN</td>\n",
       "      <td>NaN</td>\n",
       "      <td>NaN</td>\n",
       "      <td>NaN</td>\n",
       "    </tr>\n",
       "  </tbody>\n",
       "</table>\n",
       "<p>941 rows × 7 columns</p>\n",
       "</div>"
      ],
      "text/plain": [
       "           Data Temperatura Media (C) Temperatura Minima (C)  \\\n",
       "0    2015-01-01                  27,3                   23,9   \n",
       "1    2015-01-02                 27,02                   24,5   \n",
       "2    2015-01-03                 24,82                   22,4   \n",
       "3    2015-01-04                 23,98                   21,5   \n",
       "4    2015-01-05                 23,82                     21   \n",
       "..          ...                   ...                    ...   \n",
       "936         NaN                   NaN                    NaN   \n",
       "937         NaN                   NaN                    NaN   \n",
       "938         NaN                   NaN                    NaN   \n",
       "939         NaN                   NaN                    NaN   \n",
       "940         NaN                   NaN                    NaN   \n",
       "\n",
       "    Temperatura Maxima (C) Precipitacao (mm)  Final de Semana  \\\n",
       "0                     32,5                 0              0.0   \n",
       "1                     33,5                 0              0.0   \n",
       "2                     29,9                 0              1.0   \n",
       "3                     28,6               1,2              1.0   \n",
       "4                     28,3                 0              0.0   \n",
       "..                     ...               ...              ...   \n",
       "936                    NaN               NaN              NaN   \n",
       "937                    NaN               NaN              NaN   \n",
       "938                    NaN               NaN              NaN   \n",
       "939                    NaN               NaN              NaN   \n",
       "940                    NaN               NaN              NaN   \n",
       "\n",
       "     Consumo de cerveja (litros)  \n",
       "0                         25.461  \n",
       "1                         28.972  \n",
       "2                         30.814  \n",
       "3                         29.799  \n",
       "4                         28.900  \n",
       "..                           ...  \n",
       "936                          NaN  \n",
       "937                          NaN  \n",
       "938                          NaN  \n",
       "939                          NaN  \n",
       "940                          NaN  \n",
       "\n",
       "[941 rows x 7 columns]"
      ]
     },
     "execution_count": 3,
     "metadata": {},
     "output_type": "execute_result"
    }
   ],
   "source": [
    "df_consumo_cerveja"
   ]
  },
  {
   "cell_type": "markdown",
   "id": "systematic-billy",
   "metadata": {},
   "source": [
    "# Entendimento e Pré-Processamento"
   ]
  },
  {
   "cell_type": "code",
   "execution_count": 4,
   "id": "spanish-victim",
   "metadata": {},
   "outputs": [],
   "source": [
    "df_consumo_cerveja_limpo = df_consumo_cerveja.copy()"
   ]
  },
  {
   "cell_type": "markdown",
   "id": "representative-hanging",
   "metadata": {},
   "source": [
    "## Campos Nulos"
   ]
  },
  {
   "cell_type": "code",
   "execution_count": 5,
   "id": "alleged-blond",
   "metadata": {},
   "outputs": [
    {
     "data": {
      "text/plain": [
       "Data                           576\n",
       "Temperatura Media (C)          576\n",
       "Temperatura Minima (C)         576\n",
       "Temperatura Maxima (C)         576\n",
       "Precipitacao (mm)              576\n",
       "Final de Semana                576\n",
       "Consumo de cerveja (litros)    576\n",
       "dtype: int64"
      ]
     },
     "execution_count": 5,
     "metadata": {},
     "output_type": "execute_result"
    }
   ],
   "source": [
    "df_consumo_cerveja_limpo.isnull().sum()"
   ]
  },
  {
   "cell_type": "code",
   "execution_count": 6,
   "id": "amazing-platform",
   "metadata": {},
   "outputs": [
    {
     "data": {
      "text/html": [
       "<div>\n",
       "<style scoped>\n",
       "    .dataframe tbody tr th:only-of-type {\n",
       "        vertical-align: middle;\n",
       "    }\n",
       "\n",
       "    .dataframe tbody tr th {\n",
       "        vertical-align: top;\n",
       "    }\n",
       "\n",
       "    .dataframe thead th {\n",
       "        text-align: right;\n",
       "    }\n",
       "</style>\n",
       "<table border=\"1\" class=\"dataframe\">\n",
       "  <thead>\n",
       "    <tr style=\"text-align: right;\">\n",
       "      <th></th>\n",
       "      <th>Data</th>\n",
       "      <th>Temperatura Media (C)</th>\n",
       "      <th>Temperatura Minima (C)</th>\n",
       "      <th>Temperatura Maxima (C)</th>\n",
       "      <th>Precipitacao (mm)</th>\n",
       "      <th>Final de Semana</th>\n",
       "      <th>Consumo de cerveja (litros)</th>\n",
       "    </tr>\n",
       "  </thead>\n",
       "  <tbody>\n",
       "    <tr>\n",
       "      <th>0</th>\n",
       "      <td>False</td>\n",
       "      <td>False</td>\n",
       "      <td>False</td>\n",
       "      <td>False</td>\n",
       "      <td>False</td>\n",
       "      <td>False</td>\n",
       "      <td>False</td>\n",
       "    </tr>\n",
       "    <tr>\n",
       "      <th>1</th>\n",
       "      <td>False</td>\n",
       "      <td>False</td>\n",
       "      <td>False</td>\n",
       "      <td>False</td>\n",
       "      <td>False</td>\n",
       "      <td>False</td>\n",
       "      <td>False</td>\n",
       "    </tr>\n",
       "    <tr>\n",
       "      <th>2</th>\n",
       "      <td>False</td>\n",
       "      <td>False</td>\n",
       "      <td>False</td>\n",
       "      <td>False</td>\n",
       "      <td>False</td>\n",
       "      <td>False</td>\n",
       "      <td>False</td>\n",
       "    </tr>\n",
       "    <tr>\n",
       "      <th>3</th>\n",
       "      <td>False</td>\n",
       "      <td>False</td>\n",
       "      <td>False</td>\n",
       "      <td>False</td>\n",
       "      <td>False</td>\n",
       "      <td>False</td>\n",
       "      <td>False</td>\n",
       "    </tr>\n",
       "    <tr>\n",
       "      <th>4</th>\n",
       "      <td>False</td>\n",
       "      <td>False</td>\n",
       "      <td>False</td>\n",
       "      <td>False</td>\n",
       "      <td>False</td>\n",
       "      <td>False</td>\n",
       "      <td>False</td>\n",
       "    </tr>\n",
       "    <tr>\n",
       "      <th>...</th>\n",
       "      <td>...</td>\n",
       "      <td>...</td>\n",
       "      <td>...</td>\n",
       "      <td>...</td>\n",
       "      <td>...</td>\n",
       "      <td>...</td>\n",
       "      <td>...</td>\n",
       "    </tr>\n",
       "    <tr>\n",
       "      <th>936</th>\n",
       "      <td>True</td>\n",
       "      <td>True</td>\n",
       "      <td>True</td>\n",
       "      <td>True</td>\n",
       "      <td>True</td>\n",
       "      <td>True</td>\n",
       "      <td>True</td>\n",
       "    </tr>\n",
       "    <tr>\n",
       "      <th>937</th>\n",
       "      <td>True</td>\n",
       "      <td>True</td>\n",
       "      <td>True</td>\n",
       "      <td>True</td>\n",
       "      <td>True</td>\n",
       "      <td>True</td>\n",
       "      <td>True</td>\n",
       "    </tr>\n",
       "    <tr>\n",
       "      <th>938</th>\n",
       "      <td>True</td>\n",
       "      <td>True</td>\n",
       "      <td>True</td>\n",
       "      <td>True</td>\n",
       "      <td>True</td>\n",
       "      <td>True</td>\n",
       "      <td>True</td>\n",
       "    </tr>\n",
       "    <tr>\n",
       "      <th>939</th>\n",
       "      <td>True</td>\n",
       "      <td>True</td>\n",
       "      <td>True</td>\n",
       "      <td>True</td>\n",
       "      <td>True</td>\n",
       "      <td>True</td>\n",
       "      <td>True</td>\n",
       "    </tr>\n",
       "    <tr>\n",
       "      <th>940</th>\n",
       "      <td>True</td>\n",
       "      <td>True</td>\n",
       "      <td>True</td>\n",
       "      <td>True</td>\n",
       "      <td>True</td>\n",
       "      <td>True</td>\n",
       "      <td>True</td>\n",
       "    </tr>\n",
       "  </tbody>\n",
       "</table>\n",
       "<p>941 rows × 7 columns</p>\n",
       "</div>"
      ],
      "text/plain": [
       "      Data  Temperatura Media (C)  Temperatura Minima (C)  \\\n",
       "0    False                  False                   False   \n",
       "1    False                  False                   False   \n",
       "2    False                  False                   False   \n",
       "3    False                  False                   False   \n",
       "4    False                  False                   False   \n",
       "..     ...                    ...                     ...   \n",
       "936   True                   True                    True   \n",
       "937   True                   True                    True   \n",
       "938   True                   True                    True   \n",
       "939   True                   True                    True   \n",
       "940   True                   True                    True   \n",
       "\n",
       "     Temperatura Maxima (C)  Precipitacao (mm)  Final de Semana  \\\n",
       "0                     False              False            False   \n",
       "1                     False              False            False   \n",
       "2                     False              False            False   \n",
       "3                     False              False            False   \n",
       "4                     False              False            False   \n",
       "..                      ...                ...              ...   \n",
       "936                    True               True             True   \n",
       "937                    True               True             True   \n",
       "938                    True               True             True   \n",
       "939                    True               True             True   \n",
       "940                    True               True             True   \n",
       "\n",
       "     Consumo de cerveja (litros)  \n",
       "0                          False  \n",
       "1                          False  \n",
       "2                          False  \n",
       "3                          False  \n",
       "4                          False  \n",
       "..                           ...  \n",
       "936                         True  \n",
       "937                         True  \n",
       "938                         True  \n",
       "939                         True  \n",
       "940                         True  \n",
       "\n",
       "[941 rows x 7 columns]"
      ]
     },
     "execution_count": 6,
     "metadata": {},
     "output_type": "execute_result"
    }
   ],
   "source": [
    "df_consumo_cerveja_limpo.isnull()"
   ]
  },
  {
   "cell_type": "code",
   "execution_count": 7,
   "id": "wanted-blend",
   "metadata": {},
   "outputs": [
    {
     "data": {
      "text/html": [
       "<div>\n",
       "<style scoped>\n",
       "    .dataframe tbody tr th:only-of-type {\n",
       "        vertical-align: middle;\n",
       "    }\n",
       "\n",
       "    .dataframe tbody tr th {\n",
       "        vertical-align: top;\n",
       "    }\n",
       "\n",
       "    .dataframe thead th {\n",
       "        text-align: right;\n",
       "    }\n",
       "</style>\n",
       "<table border=\"1\" class=\"dataframe\">\n",
       "  <thead>\n",
       "    <tr style=\"text-align: right;\">\n",
       "      <th></th>\n",
       "      <th>Data</th>\n",
       "      <th>Temperatura Media (C)</th>\n",
       "      <th>Temperatura Minima (C)</th>\n",
       "      <th>Temperatura Maxima (C)</th>\n",
       "      <th>Precipitacao (mm)</th>\n",
       "      <th>Final de Semana</th>\n",
       "      <th>Consumo de cerveja (litros)</th>\n",
       "    </tr>\n",
       "  </thead>\n",
       "  <tbody>\n",
       "    <tr>\n",
       "      <th>0</th>\n",
       "      <td>2015-01-01</td>\n",
       "      <td>27,3</td>\n",
       "      <td>23,9</td>\n",
       "      <td>32,5</td>\n",
       "      <td>0</td>\n",
       "      <td>0.0</td>\n",
       "      <td>25.461</td>\n",
       "    </tr>\n",
       "    <tr>\n",
       "      <th>1</th>\n",
       "      <td>2015-01-02</td>\n",
       "      <td>27,02</td>\n",
       "      <td>24,5</td>\n",
       "      <td>33,5</td>\n",
       "      <td>0</td>\n",
       "      <td>0.0</td>\n",
       "      <td>28.972</td>\n",
       "    </tr>\n",
       "    <tr>\n",
       "      <th>2</th>\n",
       "      <td>2015-01-03</td>\n",
       "      <td>24,82</td>\n",
       "      <td>22,4</td>\n",
       "      <td>29,9</td>\n",
       "      <td>0</td>\n",
       "      <td>1.0</td>\n",
       "      <td>30.814</td>\n",
       "    </tr>\n",
       "    <tr>\n",
       "      <th>3</th>\n",
       "      <td>2015-01-04</td>\n",
       "      <td>23,98</td>\n",
       "      <td>21,5</td>\n",
       "      <td>28,6</td>\n",
       "      <td>1,2</td>\n",
       "      <td>1.0</td>\n",
       "      <td>29.799</td>\n",
       "    </tr>\n",
       "    <tr>\n",
       "      <th>4</th>\n",
       "      <td>2015-01-05</td>\n",
       "      <td>23,82</td>\n",
       "      <td>21</td>\n",
       "      <td>28,3</td>\n",
       "      <td>0</td>\n",
       "      <td>0.0</td>\n",
       "      <td>28.900</td>\n",
       "    </tr>\n",
       "    <tr>\n",
       "      <th>...</th>\n",
       "      <td>...</td>\n",
       "      <td>...</td>\n",
       "      <td>...</td>\n",
       "      <td>...</td>\n",
       "      <td>...</td>\n",
       "      <td>...</td>\n",
       "      <td>...</td>\n",
       "    </tr>\n",
       "    <tr>\n",
       "      <th>360</th>\n",
       "      <td>2015-12-27</td>\n",
       "      <td>24</td>\n",
       "      <td>21,1</td>\n",
       "      <td>28,2</td>\n",
       "      <td>13,6</td>\n",
       "      <td>1.0</td>\n",
       "      <td>32.307</td>\n",
       "    </tr>\n",
       "    <tr>\n",
       "      <th>361</th>\n",
       "      <td>2015-12-28</td>\n",
       "      <td>22,64</td>\n",
       "      <td>21,1</td>\n",
       "      <td>26,7</td>\n",
       "      <td>0</td>\n",
       "      <td>0.0</td>\n",
       "      <td>26.095</td>\n",
       "    </tr>\n",
       "    <tr>\n",
       "      <th>362</th>\n",
       "      <td>2015-12-29</td>\n",
       "      <td>21,68</td>\n",
       "      <td>20,3</td>\n",
       "      <td>24,1</td>\n",
       "      <td>10,3</td>\n",
       "      <td>0.0</td>\n",
       "      <td>22.309</td>\n",
       "    </tr>\n",
       "    <tr>\n",
       "      <th>363</th>\n",
       "      <td>2015-12-30</td>\n",
       "      <td>21,38</td>\n",
       "      <td>19,3</td>\n",
       "      <td>22,4</td>\n",
       "      <td>6,3</td>\n",
       "      <td>0.0</td>\n",
       "      <td>20.467</td>\n",
       "    </tr>\n",
       "    <tr>\n",
       "      <th>364</th>\n",
       "      <td>2015-12-31</td>\n",
       "      <td>24,76</td>\n",
       "      <td>20,2</td>\n",
       "      <td>29</td>\n",
       "      <td>0</td>\n",
       "      <td>0.0</td>\n",
       "      <td>22.446</td>\n",
       "    </tr>\n",
       "  </tbody>\n",
       "</table>\n",
       "<p>365 rows × 7 columns</p>\n",
       "</div>"
      ],
      "text/plain": [
       "           Data Temperatura Media (C) Temperatura Minima (C)  \\\n",
       "0    2015-01-01                  27,3                   23,9   \n",
       "1    2015-01-02                 27,02                   24,5   \n",
       "2    2015-01-03                 24,82                   22,4   \n",
       "3    2015-01-04                 23,98                   21,5   \n",
       "4    2015-01-05                 23,82                     21   \n",
       "..          ...                   ...                    ...   \n",
       "360  2015-12-27                    24                   21,1   \n",
       "361  2015-12-28                 22,64                   21,1   \n",
       "362  2015-12-29                 21,68                   20,3   \n",
       "363  2015-12-30                 21,38                   19,3   \n",
       "364  2015-12-31                 24,76                   20,2   \n",
       "\n",
       "    Temperatura Maxima (C) Precipitacao (mm)  Final de Semana  \\\n",
       "0                     32,5                 0              0.0   \n",
       "1                     33,5                 0              0.0   \n",
       "2                     29,9                 0              1.0   \n",
       "3                     28,6               1,2              1.0   \n",
       "4                     28,3                 0              0.0   \n",
       "..                     ...               ...              ...   \n",
       "360                   28,2              13,6              1.0   \n",
       "361                   26,7                 0              0.0   \n",
       "362                   24,1              10,3              0.0   \n",
       "363                   22,4               6,3              0.0   \n",
       "364                     29                 0              0.0   \n",
       "\n",
       "     Consumo de cerveja (litros)  \n",
       "0                         25.461  \n",
       "1                         28.972  \n",
       "2                         30.814  \n",
       "3                         29.799  \n",
       "4                         28.900  \n",
       "..                           ...  \n",
       "360                       32.307  \n",
       "361                       26.095  \n",
       "362                       22.309  \n",
       "363                       20.467  \n",
       "364                       22.446  \n",
       "\n",
       "[365 rows x 7 columns]"
      ]
     },
     "execution_count": 7,
     "metadata": {},
     "output_type": "execute_result"
    }
   ],
   "source": [
    "df_consumo_cerveja_limpo = df_consumo_cerveja_limpo.dropna(how='all').copy()\n",
    "df_consumo_cerveja_limpo"
   ]
  },
  {
   "cell_type": "markdown",
   "id": "grave-religious",
   "metadata": {},
   "source": [
    "## Renomeando colunas"
   ]
  },
  {
   "cell_type": "code",
   "execution_count": 8,
   "id": "personalized-antarctica",
   "metadata": {},
   "outputs": [
    {
     "data": {
      "text/html": [
       "<div>\n",
       "<style scoped>\n",
       "    .dataframe tbody tr th:only-of-type {\n",
       "        vertical-align: middle;\n",
       "    }\n",
       "\n",
       "    .dataframe tbody tr th {\n",
       "        vertical-align: top;\n",
       "    }\n",
       "\n",
       "    .dataframe thead th {\n",
       "        text-align: right;\n",
       "    }\n",
       "</style>\n",
       "<table border=\"1\" class=\"dataframe\">\n",
       "  <thead>\n",
       "    <tr style=\"text-align: right;\">\n",
       "      <th></th>\n",
       "      <th>data</th>\n",
       "      <th>temp_media_c</th>\n",
       "      <th>temp_min_c</th>\n",
       "      <th>temp_max_c</th>\n",
       "      <th>precipitacao_mm</th>\n",
       "      <th>fds</th>\n",
       "      <th>consumo_L</th>\n",
       "    </tr>\n",
       "  </thead>\n",
       "  <tbody>\n",
       "    <tr>\n",
       "      <th>0</th>\n",
       "      <td>2015-01-01</td>\n",
       "      <td>27,3</td>\n",
       "      <td>23,9</td>\n",
       "      <td>32,5</td>\n",
       "      <td>0</td>\n",
       "      <td>0.0</td>\n",
       "      <td>25.461</td>\n",
       "    </tr>\n",
       "    <tr>\n",
       "      <th>1</th>\n",
       "      <td>2015-01-02</td>\n",
       "      <td>27,02</td>\n",
       "      <td>24,5</td>\n",
       "      <td>33,5</td>\n",
       "      <td>0</td>\n",
       "      <td>0.0</td>\n",
       "      <td>28.972</td>\n",
       "    </tr>\n",
       "    <tr>\n",
       "      <th>2</th>\n",
       "      <td>2015-01-03</td>\n",
       "      <td>24,82</td>\n",
       "      <td>22,4</td>\n",
       "      <td>29,9</td>\n",
       "      <td>0</td>\n",
       "      <td>1.0</td>\n",
       "      <td>30.814</td>\n",
       "    </tr>\n",
       "    <tr>\n",
       "      <th>3</th>\n",
       "      <td>2015-01-04</td>\n",
       "      <td>23,98</td>\n",
       "      <td>21,5</td>\n",
       "      <td>28,6</td>\n",
       "      <td>1,2</td>\n",
       "      <td>1.0</td>\n",
       "      <td>29.799</td>\n",
       "    </tr>\n",
       "    <tr>\n",
       "      <th>4</th>\n",
       "      <td>2015-01-05</td>\n",
       "      <td>23,82</td>\n",
       "      <td>21</td>\n",
       "      <td>28,3</td>\n",
       "      <td>0</td>\n",
       "      <td>0.0</td>\n",
       "      <td>28.900</td>\n",
       "    </tr>\n",
       "    <tr>\n",
       "      <th>...</th>\n",
       "      <td>...</td>\n",
       "      <td>...</td>\n",
       "      <td>...</td>\n",
       "      <td>...</td>\n",
       "      <td>...</td>\n",
       "      <td>...</td>\n",
       "      <td>...</td>\n",
       "    </tr>\n",
       "    <tr>\n",
       "      <th>360</th>\n",
       "      <td>2015-12-27</td>\n",
       "      <td>24</td>\n",
       "      <td>21,1</td>\n",
       "      <td>28,2</td>\n",
       "      <td>13,6</td>\n",
       "      <td>1.0</td>\n",
       "      <td>32.307</td>\n",
       "    </tr>\n",
       "    <tr>\n",
       "      <th>361</th>\n",
       "      <td>2015-12-28</td>\n",
       "      <td>22,64</td>\n",
       "      <td>21,1</td>\n",
       "      <td>26,7</td>\n",
       "      <td>0</td>\n",
       "      <td>0.0</td>\n",
       "      <td>26.095</td>\n",
       "    </tr>\n",
       "    <tr>\n",
       "      <th>362</th>\n",
       "      <td>2015-12-29</td>\n",
       "      <td>21,68</td>\n",
       "      <td>20,3</td>\n",
       "      <td>24,1</td>\n",
       "      <td>10,3</td>\n",
       "      <td>0.0</td>\n",
       "      <td>22.309</td>\n",
       "    </tr>\n",
       "    <tr>\n",
       "      <th>363</th>\n",
       "      <td>2015-12-30</td>\n",
       "      <td>21,38</td>\n",
       "      <td>19,3</td>\n",
       "      <td>22,4</td>\n",
       "      <td>6,3</td>\n",
       "      <td>0.0</td>\n",
       "      <td>20.467</td>\n",
       "    </tr>\n",
       "    <tr>\n",
       "      <th>364</th>\n",
       "      <td>2015-12-31</td>\n",
       "      <td>24,76</td>\n",
       "      <td>20,2</td>\n",
       "      <td>29</td>\n",
       "      <td>0</td>\n",
       "      <td>0.0</td>\n",
       "      <td>22.446</td>\n",
       "    </tr>\n",
       "  </tbody>\n",
       "</table>\n",
       "<p>365 rows × 7 columns</p>\n",
       "</div>"
      ],
      "text/plain": [
       "           data temp_media_c temp_min_c temp_max_c precipitacao_mm  fds  \\\n",
       "0    2015-01-01         27,3       23,9       32,5               0  0.0   \n",
       "1    2015-01-02        27,02       24,5       33,5               0  0.0   \n",
       "2    2015-01-03        24,82       22,4       29,9               0  1.0   \n",
       "3    2015-01-04        23,98       21,5       28,6             1,2  1.0   \n",
       "4    2015-01-05        23,82         21       28,3               0  0.0   \n",
       "..          ...          ...        ...        ...             ...  ...   \n",
       "360  2015-12-27           24       21,1       28,2            13,6  1.0   \n",
       "361  2015-12-28        22,64       21,1       26,7               0  0.0   \n",
       "362  2015-12-29        21,68       20,3       24,1            10,3  0.0   \n",
       "363  2015-12-30        21,38       19,3       22,4             6,3  0.0   \n",
       "364  2015-12-31        24,76       20,2         29               0  0.0   \n",
       "\n",
       "     consumo_L  \n",
       "0       25.461  \n",
       "1       28.972  \n",
       "2       30.814  \n",
       "3       29.799  \n",
       "4       28.900  \n",
       "..         ...  \n",
       "360     32.307  \n",
       "361     26.095  \n",
       "362     22.309  \n",
       "363     20.467  \n",
       "364     22.446  \n",
       "\n",
       "[365 rows x 7 columns]"
      ]
     },
     "execution_count": 8,
     "metadata": {},
     "output_type": "execute_result"
    }
   ],
   "source": [
    "df_consumo_cerveja_limpo.columns = ['data', 'temp_media_c', 'temp_min_c', 'temp_max_c', 'precipitacao_mm', 'fds', 'consumo_L']\n",
    "df_consumo_cerveja_limpo"
   ]
  },
  {
   "cell_type": "markdown",
   "id": "furnished-peripheral",
   "metadata": {},
   "source": [
    "## Análise por Coluna"
   ]
  },
  {
   "cell_type": "markdown",
   "id": "continued-watershed",
   "metadata": {},
   "source": [
    "### data"
   ]
  },
  {
   "cell_type": "code",
   "execution_count": 9,
   "id": "dutch-cleveland",
   "metadata": {},
   "outputs": [
    {
     "data": {
      "text/html": [
       "<div>\n",
       "<style scoped>\n",
       "    .dataframe tbody tr th:only-of-type {\n",
       "        vertical-align: middle;\n",
       "    }\n",
       "\n",
       "    .dataframe tbody tr th {\n",
       "        vertical-align: top;\n",
       "    }\n",
       "\n",
       "    .dataframe thead th {\n",
       "        text-align: right;\n",
       "    }\n",
       "</style>\n",
       "<table border=\"1\" class=\"dataframe\">\n",
       "  <thead>\n",
       "    <tr style=\"text-align: right;\">\n",
       "      <th></th>\n",
       "      <th>data</th>\n",
       "    </tr>\n",
       "  </thead>\n",
       "  <tbody>\n",
       "    <tr>\n",
       "      <th>0</th>\n",
       "      <td>2015-01-01</td>\n",
       "    </tr>\n",
       "    <tr>\n",
       "      <th>1</th>\n",
       "      <td>2015-01-02</td>\n",
       "    </tr>\n",
       "    <tr>\n",
       "      <th>2</th>\n",
       "      <td>2015-01-03</td>\n",
       "    </tr>\n",
       "    <tr>\n",
       "      <th>3</th>\n",
       "      <td>2015-01-04</td>\n",
       "    </tr>\n",
       "    <tr>\n",
       "      <th>4</th>\n",
       "      <td>2015-01-05</td>\n",
       "    </tr>\n",
       "    <tr>\n",
       "      <th>...</th>\n",
       "      <td>...</td>\n",
       "    </tr>\n",
       "    <tr>\n",
       "      <th>360</th>\n",
       "      <td>2015-12-27</td>\n",
       "    </tr>\n",
       "    <tr>\n",
       "      <th>361</th>\n",
       "      <td>2015-12-28</td>\n",
       "    </tr>\n",
       "    <tr>\n",
       "      <th>362</th>\n",
       "      <td>2015-12-29</td>\n",
       "    </tr>\n",
       "    <tr>\n",
       "      <th>363</th>\n",
       "      <td>2015-12-30</td>\n",
       "    </tr>\n",
       "    <tr>\n",
       "      <th>364</th>\n",
       "      <td>2015-12-31</td>\n",
       "    </tr>\n",
       "  </tbody>\n",
       "</table>\n",
       "<p>365 rows × 1 columns</p>\n",
       "</div>"
      ],
      "text/plain": [
       "           data\n",
       "0    2015-01-01\n",
       "1    2015-01-02\n",
       "2    2015-01-03\n",
       "3    2015-01-04\n",
       "4    2015-01-05\n",
       "..          ...\n",
       "360  2015-12-27\n",
       "361  2015-12-28\n",
       "362  2015-12-29\n",
       "363  2015-12-30\n",
       "364  2015-12-31\n",
       "\n",
       "[365 rows x 1 columns]"
      ]
     },
     "execution_count": 9,
     "metadata": {},
     "output_type": "execute_result"
    }
   ],
   "source": [
    "df_consumo_cerveja_limpo[['data']]"
   ]
  },
  {
   "cell_type": "code",
   "execution_count": 10,
   "id": "overhead-messenger",
   "metadata": {},
   "outputs": [
    {
     "name": "stdout",
     "output_type": "stream",
     "text": [
      "<class 'pandas.core.frame.DataFrame'>\n",
      "Int64Index: 365 entries, 0 to 364\n",
      "Data columns (total 1 columns):\n",
      " #   Column  Non-Null Count  Dtype \n",
      "---  ------  --------------  ----- \n",
      " 0   data    365 non-null    object\n",
      "dtypes: object(1)\n",
      "memory usage: 5.7+ KB\n"
     ]
    }
   ],
   "source": [
    "df_consumo_cerveja_limpo[['data']].info()"
   ]
  },
  {
   "cell_type": "markdown",
   "id": "combined-moment",
   "metadata": {},
   "source": [
    "Este campo deverá ser do tipo date."
   ]
  },
  {
   "cell_type": "code",
   "execution_count": 11,
   "id": "indian-ordinance",
   "metadata": {},
   "outputs": [
    {
     "data": {
      "text/html": [
       "<div>\n",
       "<style scoped>\n",
       "    .dataframe tbody tr th:only-of-type {\n",
       "        vertical-align: middle;\n",
       "    }\n",
       "\n",
       "    .dataframe tbody tr th {\n",
       "        vertical-align: top;\n",
       "    }\n",
       "\n",
       "    .dataframe thead th {\n",
       "        text-align: right;\n",
       "    }\n",
       "</style>\n",
       "<table border=\"1\" class=\"dataframe\">\n",
       "  <thead>\n",
       "    <tr style=\"text-align: right;\">\n",
       "      <th></th>\n",
       "      <th>data</th>\n",
       "    </tr>\n",
       "  </thead>\n",
       "  <tbody>\n",
       "    <tr>\n",
       "      <th>0</th>\n",
       "      <td>2015-01-01</td>\n",
       "    </tr>\n",
       "    <tr>\n",
       "      <th>1</th>\n",
       "      <td>2015-01-02</td>\n",
       "    </tr>\n",
       "    <tr>\n",
       "      <th>2</th>\n",
       "      <td>2015-01-03</td>\n",
       "    </tr>\n",
       "    <tr>\n",
       "      <th>3</th>\n",
       "      <td>2015-01-04</td>\n",
       "    </tr>\n",
       "    <tr>\n",
       "      <th>4</th>\n",
       "      <td>2015-01-05</td>\n",
       "    </tr>\n",
       "    <tr>\n",
       "      <th>...</th>\n",
       "      <td>...</td>\n",
       "    </tr>\n",
       "    <tr>\n",
       "      <th>360</th>\n",
       "      <td>2015-12-27</td>\n",
       "    </tr>\n",
       "    <tr>\n",
       "      <th>361</th>\n",
       "      <td>2015-12-28</td>\n",
       "    </tr>\n",
       "    <tr>\n",
       "      <th>362</th>\n",
       "      <td>2015-12-29</td>\n",
       "    </tr>\n",
       "    <tr>\n",
       "      <th>363</th>\n",
       "      <td>2015-12-30</td>\n",
       "    </tr>\n",
       "    <tr>\n",
       "      <th>364</th>\n",
       "      <td>2015-12-31</td>\n",
       "    </tr>\n",
       "  </tbody>\n",
       "</table>\n",
       "<p>365 rows × 1 columns</p>\n",
       "</div>"
      ],
      "text/plain": [
       "           data\n",
       "0    2015-01-01\n",
       "1    2015-01-02\n",
       "2    2015-01-03\n",
       "3    2015-01-04\n",
       "4    2015-01-05\n",
       "..          ...\n",
       "360  2015-12-27\n",
       "361  2015-12-28\n",
       "362  2015-12-29\n",
       "363  2015-12-30\n",
       "364  2015-12-31\n",
       "\n",
       "[365 rows x 1 columns]"
      ]
     },
     "execution_count": 11,
     "metadata": {},
     "output_type": "execute_result"
    }
   ],
   "source": [
    "df_aux = df_consumo_cerveja_limpo[['data']].copy()\n",
    "df_aux['data'] = pd.to_datetime(df_aux['data']).dt.date\n",
    "df_aux"
   ]
  },
  {
   "cell_type": "markdown",
   "id": "bibliographic-company",
   "metadata": {},
   "source": [
    "Para fins de análise, seria interessante a extração do dia da semana e do mês."
   ]
  },
  {
   "cell_type": "code",
   "execution_count": 12,
   "id": "impaired-centre",
   "metadata": {},
   "outputs": [
    {
     "data": {
      "text/plain": [
       "['quinta-feira', 'sexta-feira', 'sabado', 'domingo', 'segunda-feira', 'terça-feira', 'quarta-feira']\n",
       "Categories (7, object): ['quinta-feira', 'sexta-feira', 'sabado', 'domingo', 'segunda-feira', 'terça-feira', 'quarta-feira']"
      ]
     },
     "execution_count": 12,
     "metadata": {},
     "output_type": "execute_result"
    }
   ],
   "source": [
    "alias_dia_semana = {\n",
    "    0 : 'segunda-feira',\n",
    "    1 : 'terça-feira',\n",
    "    2 : 'quarta-feira',\n",
    "    3 : 'quinta-feira',\n",
    "    4 : 'sexta-feira',\n",
    "    5 : 'sabado',\n",
    "    6 : 'domingo'\n",
    "}\n",
    "\n",
    "df_aux['dia_semana'] = [data.weekday() for data in df_aux['data']]\n",
    "df_aux['dia_semana'].replace(alias_dia_semana, inplace=True)\n",
    "df_aux['dia_semana'] = pd.Categorical(df_aux['dia_semana'])\n",
    "df_aux['dia_semana'].unique()"
   ]
  },
  {
   "cell_type": "code",
   "execution_count": 13,
   "id": "enhanced-wisconsin",
   "metadata": {},
   "outputs": [
    {
     "data": {
      "text/plain": [
       "['janeiro', 'fevereiro', 'março', 'abril', 'maio', ..., 'agosto', 'setembro', 'outubro', 'novembro', 'dezembro']\n",
       "Length: 12\n",
       "Categories (12, object): ['janeiro', 'fevereiro', 'março', 'abril', ..., 'setembro', 'outubro', 'novembro', 'dezembro']"
      ]
     },
     "execution_count": 13,
     "metadata": {},
     "output_type": "execute_result"
    }
   ],
   "source": [
    "alias_mes = {\n",
    "    1  : 'janeiro',\n",
    "    2  : 'fevereiro',\n",
    "    3  : 'março',\n",
    "    4  : 'abril',\n",
    "    5  : 'maio',\n",
    "    6  : 'junho',\n",
    "    7  : 'julho',\n",
    "    8  : 'agosto',\n",
    "    9  : 'setembro',\n",
    "    10 : 'outubro',\n",
    "    11 : 'novembro',\n",
    "    12 : 'dezembro'\n",
    "}\n",
    "\n",
    "df_aux['mes'] = [data.month for data in df_aux['data']]\n",
    "df_aux['mes'].replace(alias_mes, inplace=True)\n",
    "df_aux['mes'] = pd.Categorical(df_aux['mes'])\n",
    "df_aux['mes'].unique()"
   ]
  },
  {
   "cell_type": "code",
   "execution_count": 14,
   "id": "close-wilson",
   "metadata": {},
   "outputs": [
    {
     "data": {
      "text/html": [
       "<div>\n",
       "<style scoped>\n",
       "    .dataframe tbody tr th:only-of-type {\n",
       "        vertical-align: middle;\n",
       "    }\n",
       "\n",
       "    .dataframe tbody tr th {\n",
       "        vertical-align: top;\n",
       "    }\n",
       "\n",
       "    .dataframe thead th {\n",
       "        text-align: right;\n",
       "    }\n",
       "</style>\n",
       "<table border=\"1\" class=\"dataframe\">\n",
       "  <thead>\n",
       "    <tr style=\"text-align: right;\">\n",
       "      <th></th>\n",
       "      <th>data</th>\n",
       "      <th>dia_semana</th>\n",
       "      <th>mes</th>\n",
       "      <th>fds</th>\n",
       "      <th>temp_media_c</th>\n",
       "      <th>temp_min_c</th>\n",
       "      <th>temp_max_c</th>\n",
       "      <th>precipitacao_mm</th>\n",
       "      <th>consumo_L</th>\n",
       "    </tr>\n",
       "  </thead>\n",
       "  <tbody>\n",
       "    <tr>\n",
       "      <th>0</th>\n",
       "      <td>2015-01-01</td>\n",
       "      <td>quinta-feira</td>\n",
       "      <td>janeiro</td>\n",
       "      <td>0.0</td>\n",
       "      <td>27,3</td>\n",
       "      <td>23,9</td>\n",
       "      <td>32,5</td>\n",
       "      <td>0</td>\n",
       "      <td>25.461</td>\n",
       "    </tr>\n",
       "    <tr>\n",
       "      <th>1</th>\n",
       "      <td>2015-01-02</td>\n",
       "      <td>sexta-feira</td>\n",
       "      <td>janeiro</td>\n",
       "      <td>0.0</td>\n",
       "      <td>27,02</td>\n",
       "      <td>24,5</td>\n",
       "      <td>33,5</td>\n",
       "      <td>0</td>\n",
       "      <td>28.972</td>\n",
       "    </tr>\n",
       "    <tr>\n",
       "      <th>2</th>\n",
       "      <td>2015-01-03</td>\n",
       "      <td>sabado</td>\n",
       "      <td>janeiro</td>\n",
       "      <td>1.0</td>\n",
       "      <td>24,82</td>\n",
       "      <td>22,4</td>\n",
       "      <td>29,9</td>\n",
       "      <td>0</td>\n",
       "      <td>30.814</td>\n",
       "    </tr>\n",
       "    <tr>\n",
       "      <th>3</th>\n",
       "      <td>2015-01-04</td>\n",
       "      <td>domingo</td>\n",
       "      <td>janeiro</td>\n",
       "      <td>1.0</td>\n",
       "      <td>23,98</td>\n",
       "      <td>21,5</td>\n",
       "      <td>28,6</td>\n",
       "      <td>1,2</td>\n",
       "      <td>29.799</td>\n",
       "    </tr>\n",
       "    <tr>\n",
       "      <th>4</th>\n",
       "      <td>2015-01-05</td>\n",
       "      <td>segunda-feira</td>\n",
       "      <td>janeiro</td>\n",
       "      <td>0.0</td>\n",
       "      <td>23,82</td>\n",
       "      <td>21</td>\n",
       "      <td>28,3</td>\n",
       "      <td>0</td>\n",
       "      <td>28.900</td>\n",
       "    </tr>\n",
       "    <tr>\n",
       "      <th>...</th>\n",
       "      <td>...</td>\n",
       "      <td>...</td>\n",
       "      <td>...</td>\n",
       "      <td>...</td>\n",
       "      <td>...</td>\n",
       "      <td>...</td>\n",
       "      <td>...</td>\n",
       "      <td>...</td>\n",
       "      <td>...</td>\n",
       "    </tr>\n",
       "    <tr>\n",
       "      <th>360</th>\n",
       "      <td>2015-12-27</td>\n",
       "      <td>domingo</td>\n",
       "      <td>dezembro</td>\n",
       "      <td>1.0</td>\n",
       "      <td>24</td>\n",
       "      <td>21,1</td>\n",
       "      <td>28,2</td>\n",
       "      <td>13,6</td>\n",
       "      <td>32.307</td>\n",
       "    </tr>\n",
       "    <tr>\n",
       "      <th>361</th>\n",
       "      <td>2015-12-28</td>\n",
       "      <td>segunda-feira</td>\n",
       "      <td>dezembro</td>\n",
       "      <td>0.0</td>\n",
       "      <td>22,64</td>\n",
       "      <td>21,1</td>\n",
       "      <td>26,7</td>\n",
       "      <td>0</td>\n",
       "      <td>26.095</td>\n",
       "    </tr>\n",
       "    <tr>\n",
       "      <th>362</th>\n",
       "      <td>2015-12-29</td>\n",
       "      <td>terça-feira</td>\n",
       "      <td>dezembro</td>\n",
       "      <td>0.0</td>\n",
       "      <td>21,68</td>\n",
       "      <td>20,3</td>\n",
       "      <td>24,1</td>\n",
       "      <td>10,3</td>\n",
       "      <td>22.309</td>\n",
       "    </tr>\n",
       "    <tr>\n",
       "      <th>363</th>\n",
       "      <td>2015-12-30</td>\n",
       "      <td>quarta-feira</td>\n",
       "      <td>dezembro</td>\n",
       "      <td>0.0</td>\n",
       "      <td>21,38</td>\n",
       "      <td>19,3</td>\n",
       "      <td>22,4</td>\n",
       "      <td>6,3</td>\n",
       "      <td>20.467</td>\n",
       "    </tr>\n",
       "    <tr>\n",
       "      <th>364</th>\n",
       "      <td>2015-12-31</td>\n",
       "      <td>quinta-feira</td>\n",
       "      <td>dezembro</td>\n",
       "      <td>0.0</td>\n",
       "      <td>24,76</td>\n",
       "      <td>20,2</td>\n",
       "      <td>29</td>\n",
       "      <td>0</td>\n",
       "      <td>22.446</td>\n",
       "    </tr>\n",
       "  </tbody>\n",
       "</table>\n",
       "<p>365 rows × 9 columns</p>\n",
       "</div>"
      ],
      "text/plain": [
       "           data     dia_semana       mes  fds temp_media_c temp_min_c  \\\n",
       "0    2015-01-01   quinta-feira   janeiro  0.0         27,3       23,9   \n",
       "1    2015-01-02    sexta-feira   janeiro  0.0        27,02       24,5   \n",
       "2    2015-01-03         sabado   janeiro  1.0        24,82       22,4   \n",
       "3    2015-01-04        domingo   janeiro  1.0        23,98       21,5   \n",
       "4    2015-01-05  segunda-feira   janeiro  0.0        23,82         21   \n",
       "..          ...            ...       ...  ...          ...        ...   \n",
       "360  2015-12-27        domingo  dezembro  1.0           24       21,1   \n",
       "361  2015-12-28  segunda-feira  dezembro  0.0        22,64       21,1   \n",
       "362  2015-12-29    terça-feira  dezembro  0.0        21,68       20,3   \n",
       "363  2015-12-30   quarta-feira  dezembro  0.0        21,38       19,3   \n",
       "364  2015-12-31   quinta-feira  dezembro  0.0        24,76       20,2   \n",
       "\n",
       "    temp_max_c precipitacao_mm  consumo_L  \n",
       "0         32,5               0     25.461  \n",
       "1         33,5               0     28.972  \n",
       "2         29,9               0     30.814  \n",
       "3         28,6             1,2     29.799  \n",
       "4         28,3               0     28.900  \n",
       "..         ...             ...        ...  \n",
       "360       28,2            13,6     32.307  \n",
       "361       26,7               0     26.095  \n",
       "362       24,1            10,3     22.309  \n",
       "363       22,4             6,3     20.467  \n",
       "364         29               0     22.446  \n",
       "\n",
       "[365 rows x 9 columns]"
      ]
     },
     "execution_count": 14,
     "metadata": {},
     "output_type": "execute_result"
    }
   ],
   "source": [
    "df_consumo_cerveja_limpo['data'] = df_aux['data']\n",
    "df_consumo_cerveja_limpo['dia_semana'] = df_aux['dia_semana']\n",
    "df_consumo_cerveja_limpo['mes'] = df_aux['mes']\n",
    "df_consumo_cerveja_limpo = df_consumo_cerveja_limpo[['data', 'dia_semana', 'mes', 'fds','temp_media_c', 'temp_min_c', 'temp_max_c', 'precipitacao_mm','consumo_L']]\n",
    "df_consumo_cerveja_limpo"
   ]
  },
  {
   "cell_type": "code",
   "execution_count": 15,
   "id": "freelance-profit",
   "metadata": {},
   "outputs": [
    {
     "name": "stdout",
     "output_type": "stream",
     "text": [
      "<class 'pandas.core.frame.DataFrame'>\n",
      "Int64Index: 365 entries, 0 to 364\n",
      "Data columns (total 9 columns):\n",
      " #   Column           Non-Null Count  Dtype   \n",
      "---  ------           --------------  -----   \n",
      " 0   data             365 non-null    object  \n",
      " 1   dia_semana       365 non-null    category\n",
      " 2   mes              365 non-null    category\n",
      " 3   fds              365 non-null    float64 \n",
      " 4   temp_media_c     365 non-null    object  \n",
      " 5   temp_min_c       365 non-null    object  \n",
      " 6   temp_max_c       365 non-null    object  \n",
      " 7   precipitacao_mm  365 non-null    object  \n",
      " 8   consumo_L        365 non-null    float64 \n",
      "dtypes: category(2), float64(2), object(5)\n",
      "memory usage: 24.3+ KB\n"
     ]
    }
   ],
   "source": [
    "df_consumo_cerveja_limpo.info()"
   ]
  },
  {
   "cell_type": "markdown",
   "id": "acoustic-reaction",
   "metadata": {},
   "source": [
    "### fds"
   ]
  },
  {
   "cell_type": "code",
   "execution_count": 16,
   "id": "suspended-gasoline",
   "metadata": {},
   "outputs": [
    {
     "data": {
      "text/plain": [
       "array([0., 1.])"
      ]
     },
     "execution_count": 16,
     "metadata": {},
     "output_type": "execute_result"
    }
   ],
   "source": [
    "df_consumo_cerveja_limpo.fds.unique()"
   ]
  },
  {
   "cell_type": "code",
   "execution_count": 17,
   "id": "defensive-prevention",
   "metadata": {},
   "outputs": [
    {
     "data": {
      "text/plain": [
       "0      0.0\n",
       "1      0.0\n",
       "2      1.0\n",
       "3      1.0\n",
       "4      0.0\n",
       "      ... \n",
       "360    1.0\n",
       "361    0.0\n",
       "362    0.0\n",
       "363    0.0\n",
       "364    0.0\n",
       "Name: fds, Length: 365, dtype: float64"
      ]
     },
     "execution_count": 17,
     "metadata": {},
     "output_type": "execute_result"
    }
   ],
   "source": [
    "df_consumo_cerveja_limpo.fds"
   ]
  },
  {
   "cell_type": "markdown",
   "id": "affected-harbor",
   "metadata": {},
   "source": [
    "Por ser um campo flag, deverá ser um int categorico"
   ]
  },
  {
   "cell_type": "code",
   "execution_count": 18,
   "id": "expanded-insider",
   "metadata": {},
   "outputs": [
    {
     "data": {
      "text/plain": [
       "0      0\n",
       "1      0\n",
       "2      1\n",
       "3      1\n",
       "4      0\n",
       "      ..\n",
       "360    1\n",
       "361    0\n",
       "362    0\n",
       "363    0\n",
       "364    0\n",
       "Name: fds, Length: 365, dtype: category\n",
       "Categories (2, int64): [0, 1]"
      ]
     },
     "execution_count": 18,
     "metadata": {},
     "output_type": "execute_result"
    }
   ],
   "source": [
    "df_aux = df_consumo_cerveja_limpo[['fds']].copy()\n",
    "df_aux['fds'] = pd.Categorical(df_aux.fds.astype(int), ordered=False)\n",
    "df_aux['fds']"
   ]
  },
  {
   "cell_type": "code",
   "execution_count": 19,
   "id": "adaptive-gamma",
   "metadata": {},
   "outputs": [
    {
     "data": {
      "text/plain": [
       "0      0\n",
       "1      0\n",
       "2      1\n",
       "3      1\n",
       "4      0\n",
       "      ..\n",
       "360    1\n",
       "361    0\n",
       "362    0\n",
       "363    0\n",
       "364    0\n",
       "Name: fds, Length: 365, dtype: category\n",
       "Categories (2, int64): [0, 1]"
      ]
     },
     "execution_count": 19,
     "metadata": {},
     "output_type": "execute_result"
    }
   ],
   "source": [
    "df_consumo_cerveja_limpo['fds'] = df_aux['fds']\n",
    "df_consumo_cerveja_limpo['fds']"
   ]
  },
  {
   "cell_type": "markdown",
   "id": "copyrighted-egyptian",
   "metadata": {},
   "source": [
    "### temp_media_c"
   ]
  },
  {
   "cell_type": "code",
   "execution_count": 20,
   "id": "armed-extension",
   "metadata": {},
   "outputs": [
    {
     "data": {
      "text/plain": [
       "0       27,3\n",
       "1      27,02\n",
       "2      24,82\n",
       "3      23,98\n",
       "4      23,82\n",
       "       ...  \n",
       "360       24\n",
       "361    22,64\n",
       "362    21,68\n",
       "363    21,38\n",
       "364    24,76\n",
       "Name: temp_media_c, Length: 365, dtype: object"
      ]
     },
     "execution_count": 20,
     "metadata": {},
     "output_type": "execute_result"
    }
   ],
   "source": [
    "df_consumo_cerveja_limpo['temp_media_c']"
   ]
  },
  {
   "cell_type": "markdown",
   "id": "biblical-computer",
   "metadata": {},
   "source": [
    "Este campo deverá ser do tipo float"
   ]
  },
  {
   "cell_type": "code",
   "execution_count": 21,
   "id": "floating-shower",
   "metadata": {},
   "outputs": [
    {
     "data": {
      "text/plain": [
       "0      27.30\n",
       "1      27.02\n",
       "2      24.82\n",
       "3      23.98\n",
       "4      23.82\n",
       "       ...  \n",
       "360    24.00\n",
       "361    22.64\n",
       "362    21.68\n",
       "363    21.38\n",
       "364    24.76\n",
       "Name: temp_media_c, Length: 365, dtype: float64"
      ]
     },
     "execution_count": 21,
     "metadata": {},
     "output_type": "execute_result"
    }
   ],
   "source": [
    "df_aux = df_consumo_cerveja_limpo[['temp_media_c']].copy()\n",
    "df_aux['temp_media_c'].replace(to_replace=',', value='.', regex=True, inplace=True)\n",
    "df_aux['temp_media_c'] = df_aux['temp_media_c'].astype(float)\n",
    "df_aux['temp_media_c']"
   ]
  },
  {
   "cell_type": "code",
   "execution_count": 22,
   "id": "super-ivory",
   "metadata": {},
   "outputs": [
    {
     "data": {
      "text/plain": [
       "0      27.30\n",
       "1      27.02\n",
       "2      24.82\n",
       "3      23.98\n",
       "4      23.82\n",
       "       ...  \n",
       "360    24.00\n",
       "361    22.64\n",
       "362    21.68\n",
       "363    21.38\n",
       "364    24.76\n",
       "Name: temp_media_c, Length: 365, dtype: float64"
      ]
     },
     "execution_count": 22,
     "metadata": {},
     "output_type": "execute_result"
    }
   ],
   "source": [
    "df_consumo_cerveja_limpo['temp_media_c'] = df_aux['temp_media_c']\n",
    "df_consumo_cerveja_limpo['temp_media_c']"
   ]
  },
  {
   "cell_type": "markdown",
   "id": "adjustable-barrier",
   "metadata": {},
   "source": [
    "\n",
    "### temp_min_c"
   ]
  },
  {
   "cell_type": "code",
   "execution_count": 23,
   "id": "assigned-hunger",
   "metadata": {},
   "outputs": [
    {
     "data": {
      "text/plain": [
       "0      23,9\n",
       "1      24,5\n",
       "2      22,4\n",
       "3      21,5\n",
       "4        21\n",
       "       ... \n",
       "360    21,1\n",
       "361    21,1\n",
       "362    20,3\n",
       "363    19,3\n",
       "364    20,2\n",
       "Name: temp_min_c, Length: 365, dtype: object"
      ]
     },
     "execution_count": 23,
     "metadata": {},
     "output_type": "execute_result"
    }
   ],
   "source": [
    "df_consumo_cerveja_limpo['temp_min_c']"
   ]
  },
  {
   "cell_type": "markdown",
   "id": "trained-allen",
   "metadata": {},
   "source": [
    "Este campo deverá ser do tipo float"
   ]
  },
  {
   "cell_type": "code",
   "execution_count": 24,
   "id": "annoying-secondary",
   "metadata": {},
   "outputs": [
    {
     "data": {
      "text/plain": [
       "0      27.30\n",
       "1      27.02\n",
       "2      24.82\n",
       "3      23.98\n",
       "4      23.82\n",
       "       ...  \n",
       "360    24.00\n",
       "361    22.64\n",
       "362    21.68\n",
       "363    21.38\n",
       "364    24.76\n",
       "Name: temp_media_c, Length: 365, dtype: float64"
      ]
     },
     "execution_count": 24,
     "metadata": {},
     "output_type": "execute_result"
    }
   ],
   "source": [
    "df_aux = df_consumo_cerveja_limpo[['temp_media_c']].copy()\n",
    "df_aux['temp_media_c'].replace(to_replace=',', value='.', regex=True, inplace=True)\n",
    "df_consumo_cerveja_limpo['temp_media_c'] = df_aux['temp_media_c'].astype(float)\n",
    "df_consumo_cerveja_limpo['temp_media_c']"
   ]
  },
  {
   "cell_type": "markdown",
   "id": "assured-greeting",
   "metadata": {},
   "source": [
    "### temp_max_c"
   ]
  },
  {
   "cell_type": "code",
   "execution_count": 25,
   "id": "binding-album",
   "metadata": {},
   "outputs": [
    {
     "data": {
      "text/plain": [
       "0      32,5\n",
       "1      33,5\n",
       "2      29,9\n",
       "3      28,6\n",
       "4      28,3\n",
       "       ... \n",
       "360    28,2\n",
       "361    26,7\n",
       "362    24,1\n",
       "363    22,4\n",
       "364      29\n",
       "Name: temp_max_c, Length: 365, dtype: object"
      ]
     },
     "execution_count": 25,
     "metadata": {},
     "output_type": "execute_result"
    }
   ],
   "source": [
    "df_consumo_cerveja_limpo['temp_max_c']"
   ]
  },
  {
   "cell_type": "markdown",
   "id": "light-profit",
   "metadata": {},
   "source": [
    "Este campo deverá ser do tipo float."
   ]
  },
  {
   "cell_type": "code",
   "execution_count": 26,
   "id": "ecological-timber",
   "metadata": {},
   "outputs": [
    {
     "data": {
      "text/plain": [
       "0      32.5\n",
       "1      33.5\n",
       "2      29.9\n",
       "3      28.6\n",
       "4      28.3\n",
       "       ... \n",
       "360    28.2\n",
       "361    26.7\n",
       "362    24.1\n",
       "363    22.4\n",
       "364    29.0\n",
       "Name: temp_max_c, Length: 365, dtype: float64"
      ]
     },
     "execution_count": 26,
     "metadata": {},
     "output_type": "execute_result"
    }
   ],
   "source": [
    "df_aux = df_consumo_cerveja_limpo[['temp_max_c']].copy()\n",
    "df_aux['temp_max_c'].replace(to_replace=',', value='.', regex=True, inplace=True)\n",
    "df_consumo_cerveja_limpo['temp_max_c'] = df_aux['temp_max_c'].astype(float)\n",
    "df_consumo_cerveja_limpo['temp_max_c']"
   ]
  },
  {
   "cell_type": "markdown",
   "id": "labeled-partnership",
   "metadata": {},
   "source": [
    "### precipitacao_mm"
   ]
  },
  {
   "cell_type": "code",
   "execution_count": 27,
   "id": "unauthorized-milton",
   "metadata": {},
   "outputs": [
    {
     "data": {
      "text/plain": [
       "0         0\n",
       "1         0\n",
       "2         0\n",
       "3       1,2\n",
       "4         0\n",
       "       ... \n",
       "360    13,6\n",
       "361       0\n",
       "362    10,3\n",
       "363     6,3\n",
       "364       0\n",
       "Name: precipitacao_mm, Length: 365, dtype: object"
      ]
     },
     "execution_count": 27,
     "metadata": {},
     "output_type": "execute_result"
    }
   ],
   "source": [
    "df_consumo_cerveja_limpo['precipitacao_mm']"
   ]
  },
  {
   "cell_type": "markdown",
   "id": "received-storm",
   "metadata": {},
   "source": [
    "Este campo deverá ser do tipo float"
   ]
  },
  {
   "cell_type": "code",
   "execution_count": 28,
   "id": "diagnostic-yorkshire",
   "metadata": {},
   "outputs": [
    {
     "data": {
      "text/plain": [
       "0       0.0\n",
       "1       0.0\n",
       "2       0.0\n",
       "3       1.2\n",
       "4       0.0\n",
       "       ... \n",
       "360    13.6\n",
       "361     0.0\n",
       "362    10.3\n",
       "363     6.3\n",
       "364     0.0\n",
       "Name: precipitacao_mm, Length: 365, dtype: float64"
      ]
     },
     "execution_count": 28,
     "metadata": {},
     "output_type": "execute_result"
    }
   ],
   "source": [
    "df_aux = df_consumo_cerveja_limpo[['precipitacao_mm']].copy()\n",
    "df_aux['precipitacao_mm'].replace(to_replace=',', value='.', regex=True, inplace=True)\n",
    "df_consumo_cerveja_limpo['precipitacao_mm'] = df_aux['precipitacao_mm'].astype(float)\n",
    "df_consumo_cerveja_limpo['precipitacao_mm']"
   ]
  },
  {
   "cell_type": "markdown",
   "id": "musical-fitness",
   "metadata": {},
   "source": [
    "### consumo_L"
   ]
  },
  {
   "cell_type": "code",
   "execution_count": 29,
   "id": "intellectual-pencil",
   "metadata": {},
   "outputs": [
    {
     "data": {
      "text/plain": [
       "0      25.461\n",
       "1      28.972\n",
       "2      30.814\n",
       "3      29.799\n",
       "4      28.900\n",
       "        ...  \n",
       "360    32.307\n",
       "361    26.095\n",
       "362    22.309\n",
       "363    20.467\n",
       "364    22.446\n",
       "Name: consumo_L, Length: 365, dtype: float64"
      ]
     },
     "execution_count": 29,
     "metadata": {},
     "output_type": "execute_result"
    }
   ],
   "source": [
    "df_consumo_cerveja_limpo['consumo_L']"
   ]
  },
  {
   "cell_type": "markdown",
   "id": "innovative-vertex",
   "metadata": {},
   "source": [
    "Este campo está formatado da forma errada. O ponto é para diferenciar a casa do milhar, porém é do tipo float, logo o que deveria ser 25461 litros se torna 25,4 litros."
   ]
  },
  {
   "cell_type": "code",
   "execution_count": 30,
   "id": "voluntary-wildlife",
   "metadata": {},
   "outputs": [
    {
     "data": {
      "text/plain": [
       "0      25461\n",
       "1      28972\n",
       "2      30814\n",
       "3      29799\n",
       "4        289\n",
       "       ...  \n",
       "360    32307\n",
       "361    26095\n",
       "362    22309\n",
       "363    20467\n",
       "364    22446\n",
       "Name: consumo_L, Length: 365, dtype: int64"
      ]
     },
     "execution_count": 30,
     "metadata": {},
     "output_type": "execute_result"
    }
   ],
   "source": [
    "df_aux = df_consumo_cerveja_limpo[['consumo_L']].copy()\n",
    "df_aux['consumo_L'] = df_aux.consumo_L.astype(str)\n",
    "df_aux.consumo_L.replace(to_replace='\\.', value='', inplace=True, regex=True)\n",
    "df_aux['consumo_L'] = df_aux.consumo_L.astype(int)\n",
    "df_aux.consumo_L"
   ]
  },
  {
   "cell_type": "code",
   "execution_count": 31,
   "id": "olive-compiler",
   "metadata": {},
   "outputs": [
    {
     "data": {
      "text/plain": [
       "0      25461\n",
       "1      28972\n",
       "2      30814\n",
       "3      29799\n",
       "4        289\n",
       "       ...  \n",
       "360    32307\n",
       "361    26095\n",
       "362    22309\n",
       "363    20467\n",
       "364    22446\n",
       "Name: consumo_L, Length: 365, dtype: int64"
      ]
     },
     "execution_count": 31,
     "metadata": {},
     "output_type": "execute_result"
    }
   ],
   "source": [
    "df_consumo_cerveja_limpo['consumo_L'] = df_aux.consumo_L\n",
    "df_consumo_cerveja_limpo['consumo_L']"
   ]
  },
  {
   "cell_type": "markdown",
   "id": "timely-shift",
   "metadata": {},
   "source": [
    "## Validando limpeza"
   ]
  },
  {
   "cell_type": "code",
   "execution_count": 32,
   "id": "perfect-paper",
   "metadata": {},
   "outputs": [
    {
     "data": {
      "text/html": [
       "<div>\n",
       "<style scoped>\n",
       "    .dataframe tbody tr th:only-of-type {\n",
       "        vertical-align: middle;\n",
       "    }\n",
       "\n",
       "    .dataframe tbody tr th {\n",
       "        vertical-align: top;\n",
       "    }\n",
       "\n",
       "    .dataframe thead th {\n",
       "        text-align: right;\n",
       "    }\n",
       "</style>\n",
       "<table border=\"1\" class=\"dataframe\">\n",
       "  <thead>\n",
       "    <tr style=\"text-align: right;\">\n",
       "      <th></th>\n",
       "      <th>coluna</th>\n",
       "      <th>exemplo</th>\n",
       "      <th>tipo</th>\n",
       "    </tr>\n",
       "  </thead>\n",
       "  <tbody>\n",
       "    <tr>\n",
       "      <th>0</th>\n",
       "      <td>data</td>\n",
       "      <td>2015-01-01</td>\n",
       "      <td>object</td>\n",
       "    </tr>\n",
       "    <tr>\n",
       "      <th>1</th>\n",
       "      <td>dia_semana</td>\n",
       "      <td>quinta-feira</td>\n",
       "      <td>category</td>\n",
       "    </tr>\n",
       "    <tr>\n",
       "      <th>2</th>\n",
       "      <td>mes</td>\n",
       "      <td>janeiro</td>\n",
       "      <td>category</td>\n",
       "    </tr>\n",
       "    <tr>\n",
       "      <th>3</th>\n",
       "      <td>fds</td>\n",
       "      <td>0</td>\n",
       "      <td>category</td>\n",
       "    </tr>\n",
       "    <tr>\n",
       "      <th>4</th>\n",
       "      <td>temp_media_c</td>\n",
       "      <td>27.3</td>\n",
       "      <td>float64</td>\n",
       "    </tr>\n",
       "    <tr>\n",
       "      <th>5</th>\n",
       "      <td>temp_min_c</td>\n",
       "      <td>23,9</td>\n",
       "      <td>object</td>\n",
       "    </tr>\n",
       "    <tr>\n",
       "      <th>6</th>\n",
       "      <td>temp_max_c</td>\n",
       "      <td>32.5</td>\n",
       "      <td>float64</td>\n",
       "    </tr>\n",
       "    <tr>\n",
       "      <th>7</th>\n",
       "      <td>precipitacao_mm</td>\n",
       "      <td>0.0</td>\n",
       "      <td>float64</td>\n",
       "    </tr>\n",
       "    <tr>\n",
       "      <th>8</th>\n",
       "      <td>consumo_L</td>\n",
       "      <td>25461</td>\n",
       "      <td>int64</td>\n",
       "    </tr>\n",
       "  </tbody>\n",
       "</table>\n",
       "</div>"
      ],
      "text/plain": [
       "            coluna       exemplo      tipo\n",
       "0             data    2015-01-01    object\n",
       "1       dia_semana  quinta-feira  category\n",
       "2              mes       janeiro  category\n",
       "3              fds             0  category\n",
       "4     temp_media_c          27.3   float64\n",
       "5       temp_min_c          23,9    object\n",
       "6       temp_max_c          32.5   float64\n",
       "7  precipitacao_mm           0.0   float64\n",
       "8        consumo_L         25461     int64"
      ]
     },
     "execution_count": 32,
     "metadata": {},
     "output_type": "execute_result"
    }
   ],
   "source": [
    "df_informativo = df_consumo_cerveja_limpo.iloc[0]\\\n",
    "                    .to_frame()\\\n",
    "                    .reset_index()\\\n",
    "                    .rename(columns={0:'exemplo', 'index': 'coluna'})\\\n",
    "                    .set_index('coluna')\\\n",
    "                .merge(\\\n",
    "                    pd.DataFrame(df_consumo_cerveja_limpo.dtypes)\\\n",
    "                        .reset_index()\\\n",
    "                        .rename(columns={0:'tipo', 'index': 'coluna'})\\\n",
    "                        .set_index('coluna'),\\\n",
    "                    on='coluna')\\\n",
    "                .reset_index()\n",
    "\n",
    "df_informativo"
   ]
  }
 ],
 "metadata": {
  "kernelspec": {
   "display_name": "Python 3",
   "language": "python",
   "name": "python3"
  },
  "language_info": {
   "codemirror_mode": {
    "name": "ipython",
    "version": 3
   },
   "file_extension": ".py",
   "mimetype": "text/x-python",
   "name": "python",
   "nbconvert_exporter": "python",
   "pygments_lexer": "ipython3",
   "version": "3.8.5"
  }
 },
 "nbformat": 4,
 "nbformat_minor": 5
}
