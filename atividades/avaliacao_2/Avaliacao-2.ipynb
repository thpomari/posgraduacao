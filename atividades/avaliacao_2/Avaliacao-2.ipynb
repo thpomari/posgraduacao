{
 "cells": [
  {
   "cell_type": "code",
   "execution_count": 283,
   "id": "architectural-debut",
   "metadata": {},
   "outputs": [],
   "source": [
    "import pandas as pd\n",
    "import matplotlib.pyplot as plt\n",
    "import seaborn as sns\n",
    "import numpy as np\n",
    "\n",
    "from sklearn.linear_model import LinearRegression\n",
    "from sklearn.model_selection import train_test_split\n",
    "from sklearn.preprocessing import Normalizer"
   ]
  },
  {
   "cell_type": "markdown",
   "id": "modified-investigator",
   "metadata": {},
   "source": [
    "# Carregando a base"
   ]
  },
  {
   "cell_type": "code",
   "execution_count": 2,
   "id": "pressed-delight",
   "metadata": {},
   "outputs": [
    {
     "name": "stdout",
     "output_type": "stream",
     "text": [
      "<class 'pandas.core.frame.DataFrame'>\n",
      "RangeIndex: 941 entries, 0 to 940\n",
      "Data columns (total 7 columns):\n",
      " #   Column                       Non-Null Count  Dtype  \n",
      "---  ------                       --------------  -----  \n",
      " 0   Data                         365 non-null    object \n",
      " 1   Temperatura Media (C)        365 non-null    object \n",
      " 2   Temperatura Minima (C)       365 non-null    object \n",
      " 3   Temperatura Maxima (C)       365 non-null    object \n",
      " 4   Precipitacao (mm)            365 non-null    object \n",
      " 5   Final de Semana              365 non-null    float64\n",
      " 6   Consumo de cerveja (litros)  365 non-null    float64\n",
      "dtypes: float64(2), object(5)\n",
      "memory usage: 51.6+ KB\n"
     ]
    }
   ],
   "source": [
    "df_consumo_cerveja = pd.read_csv('Consumo_cerveja.csv')\n",
    "df_consumo_cerveja.info()"
   ]
  },
  {
   "cell_type": "code",
   "execution_count": 3,
   "id": "liked-bradley",
   "metadata": {},
   "outputs": [
    {
     "data": {
      "text/html": [
       "<div>\n",
       "<style scoped>\n",
       "    .dataframe tbody tr th:only-of-type {\n",
       "        vertical-align: middle;\n",
       "    }\n",
       "\n",
       "    .dataframe tbody tr th {\n",
       "        vertical-align: top;\n",
       "    }\n",
       "\n",
       "    .dataframe thead th {\n",
       "        text-align: right;\n",
       "    }\n",
       "</style>\n",
       "<table border=\"1\" class=\"dataframe\">\n",
       "  <thead>\n",
       "    <tr style=\"text-align: right;\">\n",
       "      <th></th>\n",
       "      <th>Data</th>\n",
       "      <th>Temperatura Media (C)</th>\n",
       "      <th>Temperatura Minima (C)</th>\n",
       "      <th>Temperatura Maxima (C)</th>\n",
       "      <th>Precipitacao (mm)</th>\n",
       "      <th>Final de Semana</th>\n",
       "      <th>Consumo de cerveja (litros)</th>\n",
       "    </tr>\n",
       "  </thead>\n",
       "  <tbody>\n",
       "    <tr>\n",
       "      <th>0</th>\n",
       "      <td>2015-01-01</td>\n",
       "      <td>27,3</td>\n",
       "      <td>23,9</td>\n",
       "      <td>32,5</td>\n",
       "      <td>0</td>\n",
       "      <td>0.0</td>\n",
       "      <td>25.461</td>\n",
       "    </tr>\n",
       "    <tr>\n",
       "      <th>1</th>\n",
       "      <td>2015-01-02</td>\n",
       "      <td>27,02</td>\n",
       "      <td>24,5</td>\n",
       "      <td>33,5</td>\n",
       "      <td>0</td>\n",
       "      <td>0.0</td>\n",
       "      <td>28.972</td>\n",
       "    </tr>\n",
       "    <tr>\n",
       "      <th>2</th>\n",
       "      <td>2015-01-03</td>\n",
       "      <td>24,82</td>\n",
       "      <td>22,4</td>\n",
       "      <td>29,9</td>\n",
       "      <td>0</td>\n",
       "      <td>1.0</td>\n",
       "      <td>30.814</td>\n",
       "    </tr>\n",
       "    <tr>\n",
       "      <th>3</th>\n",
       "      <td>2015-01-04</td>\n",
       "      <td>23,98</td>\n",
       "      <td>21,5</td>\n",
       "      <td>28,6</td>\n",
       "      <td>1,2</td>\n",
       "      <td>1.0</td>\n",
       "      <td>29.799</td>\n",
       "    </tr>\n",
       "    <tr>\n",
       "      <th>4</th>\n",
       "      <td>2015-01-05</td>\n",
       "      <td>23,82</td>\n",
       "      <td>21</td>\n",
       "      <td>28,3</td>\n",
       "      <td>0</td>\n",
       "      <td>0.0</td>\n",
       "      <td>28.900</td>\n",
       "    </tr>\n",
       "    <tr>\n",
       "      <th>...</th>\n",
       "      <td>...</td>\n",
       "      <td>...</td>\n",
       "      <td>...</td>\n",
       "      <td>...</td>\n",
       "      <td>...</td>\n",
       "      <td>...</td>\n",
       "      <td>...</td>\n",
       "    </tr>\n",
       "    <tr>\n",
       "      <th>936</th>\n",
       "      <td>NaN</td>\n",
       "      <td>NaN</td>\n",
       "      <td>NaN</td>\n",
       "      <td>NaN</td>\n",
       "      <td>NaN</td>\n",
       "      <td>NaN</td>\n",
       "      <td>NaN</td>\n",
       "    </tr>\n",
       "    <tr>\n",
       "      <th>937</th>\n",
       "      <td>NaN</td>\n",
       "      <td>NaN</td>\n",
       "      <td>NaN</td>\n",
       "      <td>NaN</td>\n",
       "      <td>NaN</td>\n",
       "      <td>NaN</td>\n",
       "      <td>NaN</td>\n",
       "    </tr>\n",
       "    <tr>\n",
       "      <th>938</th>\n",
       "      <td>NaN</td>\n",
       "      <td>NaN</td>\n",
       "      <td>NaN</td>\n",
       "      <td>NaN</td>\n",
       "      <td>NaN</td>\n",
       "      <td>NaN</td>\n",
       "      <td>NaN</td>\n",
       "    </tr>\n",
       "    <tr>\n",
       "      <th>939</th>\n",
       "      <td>NaN</td>\n",
       "      <td>NaN</td>\n",
       "      <td>NaN</td>\n",
       "      <td>NaN</td>\n",
       "      <td>NaN</td>\n",
       "      <td>NaN</td>\n",
       "      <td>NaN</td>\n",
       "    </tr>\n",
       "    <tr>\n",
       "      <th>940</th>\n",
       "      <td>NaN</td>\n",
       "      <td>NaN</td>\n",
       "      <td>NaN</td>\n",
       "      <td>NaN</td>\n",
       "      <td>NaN</td>\n",
       "      <td>NaN</td>\n",
       "      <td>NaN</td>\n",
       "    </tr>\n",
       "  </tbody>\n",
       "</table>\n",
       "<p>941 rows × 7 columns</p>\n",
       "</div>"
      ],
      "text/plain": [
       "           Data Temperatura Media (C) Temperatura Minima (C)  \\\n",
       "0    2015-01-01                  27,3                   23,9   \n",
       "1    2015-01-02                 27,02                   24,5   \n",
       "2    2015-01-03                 24,82                   22,4   \n",
       "3    2015-01-04                 23,98                   21,5   \n",
       "4    2015-01-05                 23,82                     21   \n",
       "..          ...                   ...                    ...   \n",
       "936         NaN                   NaN                    NaN   \n",
       "937         NaN                   NaN                    NaN   \n",
       "938         NaN                   NaN                    NaN   \n",
       "939         NaN                   NaN                    NaN   \n",
       "940         NaN                   NaN                    NaN   \n",
       "\n",
       "    Temperatura Maxima (C) Precipitacao (mm)  Final de Semana  \\\n",
       "0                     32,5                 0              0.0   \n",
       "1                     33,5                 0              0.0   \n",
       "2                     29,9                 0              1.0   \n",
       "3                     28,6               1,2              1.0   \n",
       "4                     28,3                 0              0.0   \n",
       "..                     ...               ...              ...   \n",
       "936                    NaN               NaN              NaN   \n",
       "937                    NaN               NaN              NaN   \n",
       "938                    NaN               NaN              NaN   \n",
       "939                    NaN               NaN              NaN   \n",
       "940                    NaN               NaN              NaN   \n",
       "\n",
       "     Consumo de cerveja (litros)  \n",
       "0                         25.461  \n",
       "1                         28.972  \n",
       "2                         30.814  \n",
       "3                         29.799  \n",
       "4                         28.900  \n",
       "..                           ...  \n",
       "936                          NaN  \n",
       "937                          NaN  \n",
       "938                          NaN  \n",
       "939                          NaN  \n",
       "940                          NaN  \n",
       "\n",
       "[941 rows x 7 columns]"
      ]
     },
     "execution_count": 3,
     "metadata": {},
     "output_type": "execute_result"
    }
   ],
   "source": [
    "df_consumo_cerveja"
   ]
  },
  {
   "cell_type": "markdown",
   "id": "systematic-billy",
   "metadata": {},
   "source": [
    "# Entendimento e Pré-Processamento"
   ]
  },
  {
   "cell_type": "code",
   "execution_count": 4,
   "id": "spanish-victim",
   "metadata": {},
   "outputs": [],
   "source": [
    "df_consumo_cerveja_limpo = df_consumo_cerveja.copy()"
   ]
  },
  {
   "cell_type": "markdown",
   "id": "representative-hanging",
   "metadata": {},
   "source": [
    "## Campos Nulos"
   ]
  },
  {
   "cell_type": "code",
   "execution_count": 5,
   "id": "alleged-blond",
   "metadata": {},
   "outputs": [
    {
     "data": {
      "text/plain": [
       "Data                           576\n",
       "Temperatura Media (C)          576\n",
       "Temperatura Minima (C)         576\n",
       "Temperatura Maxima (C)         576\n",
       "Precipitacao (mm)              576\n",
       "Final de Semana                576\n",
       "Consumo de cerveja (litros)    576\n",
       "dtype: int64"
      ]
     },
     "execution_count": 5,
     "metadata": {},
     "output_type": "execute_result"
    }
   ],
   "source": [
    "df_consumo_cerveja_limpo.isnull().sum()"
   ]
  },
  {
   "cell_type": "code",
   "execution_count": 6,
   "id": "amazing-platform",
   "metadata": {},
   "outputs": [
    {
     "data": {
      "text/html": [
       "<div>\n",
       "<style scoped>\n",
       "    .dataframe tbody tr th:only-of-type {\n",
       "        vertical-align: middle;\n",
       "    }\n",
       "\n",
       "    .dataframe tbody tr th {\n",
       "        vertical-align: top;\n",
       "    }\n",
       "\n",
       "    .dataframe thead th {\n",
       "        text-align: right;\n",
       "    }\n",
       "</style>\n",
       "<table border=\"1\" class=\"dataframe\">\n",
       "  <thead>\n",
       "    <tr style=\"text-align: right;\">\n",
       "      <th></th>\n",
       "      <th>Data</th>\n",
       "      <th>Temperatura Media (C)</th>\n",
       "      <th>Temperatura Minima (C)</th>\n",
       "      <th>Temperatura Maxima (C)</th>\n",
       "      <th>Precipitacao (mm)</th>\n",
       "      <th>Final de Semana</th>\n",
       "      <th>Consumo de cerveja (litros)</th>\n",
       "    </tr>\n",
       "  </thead>\n",
       "  <tbody>\n",
       "    <tr>\n",
       "      <th>0</th>\n",
       "      <td>False</td>\n",
       "      <td>False</td>\n",
       "      <td>False</td>\n",
       "      <td>False</td>\n",
       "      <td>False</td>\n",
       "      <td>False</td>\n",
       "      <td>False</td>\n",
       "    </tr>\n",
       "    <tr>\n",
       "      <th>1</th>\n",
       "      <td>False</td>\n",
       "      <td>False</td>\n",
       "      <td>False</td>\n",
       "      <td>False</td>\n",
       "      <td>False</td>\n",
       "      <td>False</td>\n",
       "      <td>False</td>\n",
       "    </tr>\n",
       "    <tr>\n",
       "      <th>2</th>\n",
       "      <td>False</td>\n",
       "      <td>False</td>\n",
       "      <td>False</td>\n",
       "      <td>False</td>\n",
       "      <td>False</td>\n",
       "      <td>False</td>\n",
       "      <td>False</td>\n",
       "    </tr>\n",
       "    <tr>\n",
       "      <th>3</th>\n",
       "      <td>False</td>\n",
       "      <td>False</td>\n",
       "      <td>False</td>\n",
       "      <td>False</td>\n",
       "      <td>False</td>\n",
       "      <td>False</td>\n",
       "      <td>False</td>\n",
       "    </tr>\n",
       "    <tr>\n",
       "      <th>4</th>\n",
       "      <td>False</td>\n",
       "      <td>False</td>\n",
       "      <td>False</td>\n",
       "      <td>False</td>\n",
       "      <td>False</td>\n",
       "      <td>False</td>\n",
       "      <td>False</td>\n",
       "    </tr>\n",
       "    <tr>\n",
       "      <th>...</th>\n",
       "      <td>...</td>\n",
       "      <td>...</td>\n",
       "      <td>...</td>\n",
       "      <td>...</td>\n",
       "      <td>...</td>\n",
       "      <td>...</td>\n",
       "      <td>...</td>\n",
       "    </tr>\n",
       "    <tr>\n",
       "      <th>936</th>\n",
       "      <td>True</td>\n",
       "      <td>True</td>\n",
       "      <td>True</td>\n",
       "      <td>True</td>\n",
       "      <td>True</td>\n",
       "      <td>True</td>\n",
       "      <td>True</td>\n",
       "    </tr>\n",
       "    <tr>\n",
       "      <th>937</th>\n",
       "      <td>True</td>\n",
       "      <td>True</td>\n",
       "      <td>True</td>\n",
       "      <td>True</td>\n",
       "      <td>True</td>\n",
       "      <td>True</td>\n",
       "      <td>True</td>\n",
       "    </tr>\n",
       "    <tr>\n",
       "      <th>938</th>\n",
       "      <td>True</td>\n",
       "      <td>True</td>\n",
       "      <td>True</td>\n",
       "      <td>True</td>\n",
       "      <td>True</td>\n",
       "      <td>True</td>\n",
       "      <td>True</td>\n",
       "    </tr>\n",
       "    <tr>\n",
       "      <th>939</th>\n",
       "      <td>True</td>\n",
       "      <td>True</td>\n",
       "      <td>True</td>\n",
       "      <td>True</td>\n",
       "      <td>True</td>\n",
       "      <td>True</td>\n",
       "      <td>True</td>\n",
       "    </tr>\n",
       "    <tr>\n",
       "      <th>940</th>\n",
       "      <td>True</td>\n",
       "      <td>True</td>\n",
       "      <td>True</td>\n",
       "      <td>True</td>\n",
       "      <td>True</td>\n",
       "      <td>True</td>\n",
       "      <td>True</td>\n",
       "    </tr>\n",
       "  </tbody>\n",
       "</table>\n",
       "<p>941 rows × 7 columns</p>\n",
       "</div>"
      ],
      "text/plain": [
       "      Data  Temperatura Media (C)  Temperatura Minima (C)  \\\n",
       "0    False                  False                   False   \n",
       "1    False                  False                   False   \n",
       "2    False                  False                   False   \n",
       "3    False                  False                   False   \n",
       "4    False                  False                   False   \n",
       "..     ...                    ...                     ...   \n",
       "936   True                   True                    True   \n",
       "937   True                   True                    True   \n",
       "938   True                   True                    True   \n",
       "939   True                   True                    True   \n",
       "940   True                   True                    True   \n",
       "\n",
       "     Temperatura Maxima (C)  Precipitacao (mm)  Final de Semana  \\\n",
       "0                     False              False            False   \n",
       "1                     False              False            False   \n",
       "2                     False              False            False   \n",
       "3                     False              False            False   \n",
       "4                     False              False            False   \n",
       "..                      ...                ...              ...   \n",
       "936                    True               True             True   \n",
       "937                    True               True             True   \n",
       "938                    True               True             True   \n",
       "939                    True               True             True   \n",
       "940                    True               True             True   \n",
       "\n",
       "     Consumo de cerveja (litros)  \n",
       "0                          False  \n",
       "1                          False  \n",
       "2                          False  \n",
       "3                          False  \n",
       "4                          False  \n",
       "..                           ...  \n",
       "936                         True  \n",
       "937                         True  \n",
       "938                         True  \n",
       "939                         True  \n",
       "940                         True  \n",
       "\n",
       "[941 rows x 7 columns]"
      ]
     },
     "execution_count": 6,
     "metadata": {},
     "output_type": "execute_result"
    }
   ],
   "source": [
    "df_consumo_cerveja_limpo.isnull()"
   ]
  },
  {
   "cell_type": "code",
   "execution_count": 7,
   "id": "wanted-blend",
   "metadata": {},
   "outputs": [
    {
     "data": {
      "text/html": [
       "<div>\n",
       "<style scoped>\n",
       "    .dataframe tbody tr th:only-of-type {\n",
       "        vertical-align: middle;\n",
       "    }\n",
       "\n",
       "    .dataframe tbody tr th {\n",
       "        vertical-align: top;\n",
       "    }\n",
       "\n",
       "    .dataframe thead th {\n",
       "        text-align: right;\n",
       "    }\n",
       "</style>\n",
       "<table border=\"1\" class=\"dataframe\">\n",
       "  <thead>\n",
       "    <tr style=\"text-align: right;\">\n",
       "      <th></th>\n",
       "      <th>Data</th>\n",
       "      <th>Temperatura Media (C)</th>\n",
       "      <th>Temperatura Minima (C)</th>\n",
       "      <th>Temperatura Maxima (C)</th>\n",
       "      <th>Precipitacao (mm)</th>\n",
       "      <th>Final de Semana</th>\n",
       "      <th>Consumo de cerveja (litros)</th>\n",
       "    </tr>\n",
       "  </thead>\n",
       "  <tbody>\n",
       "    <tr>\n",
       "      <th>0</th>\n",
       "      <td>2015-01-01</td>\n",
       "      <td>27,3</td>\n",
       "      <td>23,9</td>\n",
       "      <td>32,5</td>\n",
       "      <td>0</td>\n",
       "      <td>0.0</td>\n",
       "      <td>25.461</td>\n",
       "    </tr>\n",
       "    <tr>\n",
       "      <th>1</th>\n",
       "      <td>2015-01-02</td>\n",
       "      <td>27,02</td>\n",
       "      <td>24,5</td>\n",
       "      <td>33,5</td>\n",
       "      <td>0</td>\n",
       "      <td>0.0</td>\n",
       "      <td>28.972</td>\n",
       "    </tr>\n",
       "    <tr>\n",
       "      <th>2</th>\n",
       "      <td>2015-01-03</td>\n",
       "      <td>24,82</td>\n",
       "      <td>22,4</td>\n",
       "      <td>29,9</td>\n",
       "      <td>0</td>\n",
       "      <td>1.0</td>\n",
       "      <td>30.814</td>\n",
       "    </tr>\n",
       "    <tr>\n",
       "      <th>3</th>\n",
       "      <td>2015-01-04</td>\n",
       "      <td>23,98</td>\n",
       "      <td>21,5</td>\n",
       "      <td>28,6</td>\n",
       "      <td>1,2</td>\n",
       "      <td>1.0</td>\n",
       "      <td>29.799</td>\n",
       "    </tr>\n",
       "    <tr>\n",
       "      <th>4</th>\n",
       "      <td>2015-01-05</td>\n",
       "      <td>23,82</td>\n",
       "      <td>21</td>\n",
       "      <td>28,3</td>\n",
       "      <td>0</td>\n",
       "      <td>0.0</td>\n",
       "      <td>28.900</td>\n",
       "    </tr>\n",
       "    <tr>\n",
       "      <th>...</th>\n",
       "      <td>...</td>\n",
       "      <td>...</td>\n",
       "      <td>...</td>\n",
       "      <td>...</td>\n",
       "      <td>...</td>\n",
       "      <td>...</td>\n",
       "      <td>...</td>\n",
       "    </tr>\n",
       "    <tr>\n",
       "      <th>360</th>\n",
       "      <td>2015-12-27</td>\n",
       "      <td>24</td>\n",
       "      <td>21,1</td>\n",
       "      <td>28,2</td>\n",
       "      <td>13,6</td>\n",
       "      <td>1.0</td>\n",
       "      <td>32.307</td>\n",
       "    </tr>\n",
       "    <tr>\n",
       "      <th>361</th>\n",
       "      <td>2015-12-28</td>\n",
       "      <td>22,64</td>\n",
       "      <td>21,1</td>\n",
       "      <td>26,7</td>\n",
       "      <td>0</td>\n",
       "      <td>0.0</td>\n",
       "      <td>26.095</td>\n",
       "    </tr>\n",
       "    <tr>\n",
       "      <th>362</th>\n",
       "      <td>2015-12-29</td>\n",
       "      <td>21,68</td>\n",
       "      <td>20,3</td>\n",
       "      <td>24,1</td>\n",
       "      <td>10,3</td>\n",
       "      <td>0.0</td>\n",
       "      <td>22.309</td>\n",
       "    </tr>\n",
       "    <tr>\n",
       "      <th>363</th>\n",
       "      <td>2015-12-30</td>\n",
       "      <td>21,38</td>\n",
       "      <td>19,3</td>\n",
       "      <td>22,4</td>\n",
       "      <td>6,3</td>\n",
       "      <td>0.0</td>\n",
       "      <td>20.467</td>\n",
       "    </tr>\n",
       "    <tr>\n",
       "      <th>364</th>\n",
       "      <td>2015-12-31</td>\n",
       "      <td>24,76</td>\n",
       "      <td>20,2</td>\n",
       "      <td>29</td>\n",
       "      <td>0</td>\n",
       "      <td>0.0</td>\n",
       "      <td>22.446</td>\n",
       "    </tr>\n",
       "  </tbody>\n",
       "</table>\n",
       "<p>365 rows × 7 columns</p>\n",
       "</div>"
      ],
      "text/plain": [
       "           Data Temperatura Media (C) Temperatura Minima (C)  \\\n",
       "0    2015-01-01                  27,3                   23,9   \n",
       "1    2015-01-02                 27,02                   24,5   \n",
       "2    2015-01-03                 24,82                   22,4   \n",
       "3    2015-01-04                 23,98                   21,5   \n",
       "4    2015-01-05                 23,82                     21   \n",
       "..          ...                   ...                    ...   \n",
       "360  2015-12-27                    24                   21,1   \n",
       "361  2015-12-28                 22,64                   21,1   \n",
       "362  2015-12-29                 21,68                   20,3   \n",
       "363  2015-12-30                 21,38                   19,3   \n",
       "364  2015-12-31                 24,76                   20,2   \n",
       "\n",
       "    Temperatura Maxima (C) Precipitacao (mm)  Final de Semana  \\\n",
       "0                     32,5                 0              0.0   \n",
       "1                     33,5                 0              0.0   \n",
       "2                     29,9                 0              1.0   \n",
       "3                     28,6               1,2              1.0   \n",
       "4                     28,3                 0              0.0   \n",
       "..                     ...               ...              ...   \n",
       "360                   28,2              13,6              1.0   \n",
       "361                   26,7                 0              0.0   \n",
       "362                   24,1              10,3              0.0   \n",
       "363                   22,4               6,3              0.0   \n",
       "364                     29                 0              0.0   \n",
       "\n",
       "     Consumo de cerveja (litros)  \n",
       "0                         25.461  \n",
       "1                         28.972  \n",
       "2                         30.814  \n",
       "3                         29.799  \n",
       "4                         28.900  \n",
       "..                           ...  \n",
       "360                       32.307  \n",
       "361                       26.095  \n",
       "362                       22.309  \n",
       "363                       20.467  \n",
       "364                       22.446  \n",
       "\n",
       "[365 rows x 7 columns]"
      ]
     },
     "execution_count": 7,
     "metadata": {},
     "output_type": "execute_result"
    }
   ],
   "source": [
    "df_consumo_cerveja_limpo = df_consumo_cerveja_limpo.dropna(how='all').copy()\n",
    "df_consumo_cerveja_limpo"
   ]
  },
  {
   "cell_type": "markdown",
   "id": "grave-religious",
   "metadata": {},
   "source": [
    "## Renomeando colunas"
   ]
  },
  {
   "cell_type": "code",
   "execution_count": 8,
   "id": "personalized-antarctica",
   "metadata": {},
   "outputs": [
    {
     "data": {
      "text/html": [
       "<div>\n",
       "<style scoped>\n",
       "    .dataframe tbody tr th:only-of-type {\n",
       "        vertical-align: middle;\n",
       "    }\n",
       "\n",
       "    .dataframe tbody tr th {\n",
       "        vertical-align: top;\n",
       "    }\n",
       "\n",
       "    .dataframe thead th {\n",
       "        text-align: right;\n",
       "    }\n",
       "</style>\n",
       "<table border=\"1\" class=\"dataframe\">\n",
       "  <thead>\n",
       "    <tr style=\"text-align: right;\">\n",
       "      <th></th>\n",
       "      <th>data</th>\n",
       "      <th>temp_media_c</th>\n",
       "      <th>temp_min_c</th>\n",
       "      <th>temp_max_c</th>\n",
       "      <th>precipitacao_mm</th>\n",
       "      <th>fds</th>\n",
       "      <th>consumo_L</th>\n",
       "    </tr>\n",
       "  </thead>\n",
       "  <tbody>\n",
       "    <tr>\n",
       "      <th>0</th>\n",
       "      <td>2015-01-01</td>\n",
       "      <td>27,3</td>\n",
       "      <td>23,9</td>\n",
       "      <td>32,5</td>\n",
       "      <td>0</td>\n",
       "      <td>0.0</td>\n",
       "      <td>25.461</td>\n",
       "    </tr>\n",
       "    <tr>\n",
       "      <th>1</th>\n",
       "      <td>2015-01-02</td>\n",
       "      <td>27,02</td>\n",
       "      <td>24,5</td>\n",
       "      <td>33,5</td>\n",
       "      <td>0</td>\n",
       "      <td>0.0</td>\n",
       "      <td>28.972</td>\n",
       "    </tr>\n",
       "    <tr>\n",
       "      <th>2</th>\n",
       "      <td>2015-01-03</td>\n",
       "      <td>24,82</td>\n",
       "      <td>22,4</td>\n",
       "      <td>29,9</td>\n",
       "      <td>0</td>\n",
       "      <td>1.0</td>\n",
       "      <td>30.814</td>\n",
       "    </tr>\n",
       "    <tr>\n",
       "      <th>3</th>\n",
       "      <td>2015-01-04</td>\n",
       "      <td>23,98</td>\n",
       "      <td>21,5</td>\n",
       "      <td>28,6</td>\n",
       "      <td>1,2</td>\n",
       "      <td>1.0</td>\n",
       "      <td>29.799</td>\n",
       "    </tr>\n",
       "    <tr>\n",
       "      <th>4</th>\n",
       "      <td>2015-01-05</td>\n",
       "      <td>23,82</td>\n",
       "      <td>21</td>\n",
       "      <td>28,3</td>\n",
       "      <td>0</td>\n",
       "      <td>0.0</td>\n",
       "      <td>28.900</td>\n",
       "    </tr>\n",
       "    <tr>\n",
       "      <th>...</th>\n",
       "      <td>...</td>\n",
       "      <td>...</td>\n",
       "      <td>...</td>\n",
       "      <td>...</td>\n",
       "      <td>...</td>\n",
       "      <td>...</td>\n",
       "      <td>...</td>\n",
       "    </tr>\n",
       "    <tr>\n",
       "      <th>360</th>\n",
       "      <td>2015-12-27</td>\n",
       "      <td>24</td>\n",
       "      <td>21,1</td>\n",
       "      <td>28,2</td>\n",
       "      <td>13,6</td>\n",
       "      <td>1.0</td>\n",
       "      <td>32.307</td>\n",
       "    </tr>\n",
       "    <tr>\n",
       "      <th>361</th>\n",
       "      <td>2015-12-28</td>\n",
       "      <td>22,64</td>\n",
       "      <td>21,1</td>\n",
       "      <td>26,7</td>\n",
       "      <td>0</td>\n",
       "      <td>0.0</td>\n",
       "      <td>26.095</td>\n",
       "    </tr>\n",
       "    <tr>\n",
       "      <th>362</th>\n",
       "      <td>2015-12-29</td>\n",
       "      <td>21,68</td>\n",
       "      <td>20,3</td>\n",
       "      <td>24,1</td>\n",
       "      <td>10,3</td>\n",
       "      <td>0.0</td>\n",
       "      <td>22.309</td>\n",
       "    </tr>\n",
       "    <tr>\n",
       "      <th>363</th>\n",
       "      <td>2015-12-30</td>\n",
       "      <td>21,38</td>\n",
       "      <td>19,3</td>\n",
       "      <td>22,4</td>\n",
       "      <td>6,3</td>\n",
       "      <td>0.0</td>\n",
       "      <td>20.467</td>\n",
       "    </tr>\n",
       "    <tr>\n",
       "      <th>364</th>\n",
       "      <td>2015-12-31</td>\n",
       "      <td>24,76</td>\n",
       "      <td>20,2</td>\n",
       "      <td>29</td>\n",
       "      <td>0</td>\n",
       "      <td>0.0</td>\n",
       "      <td>22.446</td>\n",
       "    </tr>\n",
       "  </tbody>\n",
       "</table>\n",
       "<p>365 rows × 7 columns</p>\n",
       "</div>"
      ],
      "text/plain": [
       "           data temp_media_c temp_min_c temp_max_c precipitacao_mm  fds  \\\n",
       "0    2015-01-01         27,3       23,9       32,5               0  0.0   \n",
       "1    2015-01-02        27,02       24,5       33,5               0  0.0   \n",
       "2    2015-01-03        24,82       22,4       29,9               0  1.0   \n",
       "3    2015-01-04        23,98       21,5       28,6             1,2  1.0   \n",
       "4    2015-01-05        23,82         21       28,3               0  0.0   \n",
       "..          ...          ...        ...        ...             ...  ...   \n",
       "360  2015-12-27           24       21,1       28,2            13,6  1.0   \n",
       "361  2015-12-28        22,64       21,1       26,7               0  0.0   \n",
       "362  2015-12-29        21,68       20,3       24,1            10,3  0.0   \n",
       "363  2015-12-30        21,38       19,3       22,4             6,3  0.0   \n",
       "364  2015-12-31        24,76       20,2         29               0  0.0   \n",
       "\n",
       "     consumo_L  \n",
       "0       25.461  \n",
       "1       28.972  \n",
       "2       30.814  \n",
       "3       29.799  \n",
       "4       28.900  \n",
       "..         ...  \n",
       "360     32.307  \n",
       "361     26.095  \n",
       "362     22.309  \n",
       "363     20.467  \n",
       "364     22.446  \n",
       "\n",
       "[365 rows x 7 columns]"
      ]
     },
     "execution_count": 8,
     "metadata": {},
     "output_type": "execute_result"
    }
   ],
   "source": [
    "df_consumo_cerveja_limpo.columns = ['data', 'temp_media_c', 'temp_min_c', 'temp_max_c', 'precipitacao_mm', 'fds', 'consumo_L']\n",
    "df_consumo_cerveja_limpo"
   ]
  },
  {
   "cell_type": "markdown",
   "id": "furnished-peripheral",
   "metadata": {},
   "source": [
    "## Análise por Coluna"
   ]
  },
  {
   "cell_type": "markdown",
   "id": "continued-watershed",
   "metadata": {},
   "source": [
    "### data"
   ]
  },
  {
   "cell_type": "code",
   "execution_count": 9,
   "id": "dutch-cleveland",
   "metadata": {},
   "outputs": [
    {
     "data": {
      "text/html": [
       "<div>\n",
       "<style scoped>\n",
       "    .dataframe tbody tr th:only-of-type {\n",
       "        vertical-align: middle;\n",
       "    }\n",
       "\n",
       "    .dataframe tbody tr th {\n",
       "        vertical-align: top;\n",
       "    }\n",
       "\n",
       "    .dataframe thead th {\n",
       "        text-align: right;\n",
       "    }\n",
       "</style>\n",
       "<table border=\"1\" class=\"dataframe\">\n",
       "  <thead>\n",
       "    <tr style=\"text-align: right;\">\n",
       "      <th></th>\n",
       "      <th>data</th>\n",
       "    </tr>\n",
       "  </thead>\n",
       "  <tbody>\n",
       "    <tr>\n",
       "      <th>0</th>\n",
       "      <td>2015-01-01</td>\n",
       "    </tr>\n",
       "    <tr>\n",
       "      <th>1</th>\n",
       "      <td>2015-01-02</td>\n",
       "    </tr>\n",
       "    <tr>\n",
       "      <th>2</th>\n",
       "      <td>2015-01-03</td>\n",
       "    </tr>\n",
       "    <tr>\n",
       "      <th>3</th>\n",
       "      <td>2015-01-04</td>\n",
       "    </tr>\n",
       "    <tr>\n",
       "      <th>4</th>\n",
       "      <td>2015-01-05</td>\n",
       "    </tr>\n",
       "    <tr>\n",
       "      <th>...</th>\n",
       "      <td>...</td>\n",
       "    </tr>\n",
       "    <tr>\n",
       "      <th>360</th>\n",
       "      <td>2015-12-27</td>\n",
       "    </tr>\n",
       "    <tr>\n",
       "      <th>361</th>\n",
       "      <td>2015-12-28</td>\n",
       "    </tr>\n",
       "    <tr>\n",
       "      <th>362</th>\n",
       "      <td>2015-12-29</td>\n",
       "    </tr>\n",
       "    <tr>\n",
       "      <th>363</th>\n",
       "      <td>2015-12-30</td>\n",
       "    </tr>\n",
       "    <tr>\n",
       "      <th>364</th>\n",
       "      <td>2015-12-31</td>\n",
       "    </tr>\n",
       "  </tbody>\n",
       "</table>\n",
       "<p>365 rows × 1 columns</p>\n",
       "</div>"
      ],
      "text/plain": [
       "           data\n",
       "0    2015-01-01\n",
       "1    2015-01-02\n",
       "2    2015-01-03\n",
       "3    2015-01-04\n",
       "4    2015-01-05\n",
       "..          ...\n",
       "360  2015-12-27\n",
       "361  2015-12-28\n",
       "362  2015-12-29\n",
       "363  2015-12-30\n",
       "364  2015-12-31\n",
       "\n",
       "[365 rows x 1 columns]"
      ]
     },
     "execution_count": 9,
     "metadata": {},
     "output_type": "execute_result"
    }
   ],
   "source": [
    "df_consumo_cerveja_limpo[['data']]"
   ]
  },
  {
   "cell_type": "code",
   "execution_count": 10,
   "id": "overhead-messenger",
   "metadata": {},
   "outputs": [
    {
     "name": "stdout",
     "output_type": "stream",
     "text": [
      "<class 'pandas.core.frame.DataFrame'>\n",
      "Int64Index: 365 entries, 0 to 364\n",
      "Data columns (total 1 columns):\n",
      " #   Column  Non-Null Count  Dtype \n",
      "---  ------  --------------  ----- \n",
      " 0   data    365 non-null    object\n",
      "dtypes: object(1)\n",
      "memory usage: 5.7+ KB\n"
     ]
    }
   ],
   "source": [
    "df_consumo_cerveja_limpo[['data']].info()"
   ]
  },
  {
   "cell_type": "markdown",
   "id": "combined-moment",
   "metadata": {},
   "source": [
    "Este campo deverá ser do tipo date."
   ]
  },
  {
   "cell_type": "code",
   "execution_count": 11,
   "id": "indian-ordinance",
   "metadata": {},
   "outputs": [
    {
     "data": {
      "text/html": [
       "<div>\n",
       "<style scoped>\n",
       "    .dataframe tbody tr th:only-of-type {\n",
       "        vertical-align: middle;\n",
       "    }\n",
       "\n",
       "    .dataframe tbody tr th {\n",
       "        vertical-align: top;\n",
       "    }\n",
       "\n",
       "    .dataframe thead th {\n",
       "        text-align: right;\n",
       "    }\n",
       "</style>\n",
       "<table border=\"1\" class=\"dataframe\">\n",
       "  <thead>\n",
       "    <tr style=\"text-align: right;\">\n",
       "      <th></th>\n",
       "      <th>data</th>\n",
       "    </tr>\n",
       "  </thead>\n",
       "  <tbody>\n",
       "    <tr>\n",
       "      <th>0</th>\n",
       "      <td>2015-01-01</td>\n",
       "    </tr>\n",
       "    <tr>\n",
       "      <th>1</th>\n",
       "      <td>2015-01-02</td>\n",
       "    </tr>\n",
       "    <tr>\n",
       "      <th>2</th>\n",
       "      <td>2015-01-03</td>\n",
       "    </tr>\n",
       "    <tr>\n",
       "      <th>3</th>\n",
       "      <td>2015-01-04</td>\n",
       "    </tr>\n",
       "    <tr>\n",
       "      <th>4</th>\n",
       "      <td>2015-01-05</td>\n",
       "    </tr>\n",
       "    <tr>\n",
       "      <th>...</th>\n",
       "      <td>...</td>\n",
       "    </tr>\n",
       "    <tr>\n",
       "      <th>360</th>\n",
       "      <td>2015-12-27</td>\n",
       "    </tr>\n",
       "    <tr>\n",
       "      <th>361</th>\n",
       "      <td>2015-12-28</td>\n",
       "    </tr>\n",
       "    <tr>\n",
       "      <th>362</th>\n",
       "      <td>2015-12-29</td>\n",
       "    </tr>\n",
       "    <tr>\n",
       "      <th>363</th>\n",
       "      <td>2015-12-30</td>\n",
       "    </tr>\n",
       "    <tr>\n",
       "      <th>364</th>\n",
       "      <td>2015-12-31</td>\n",
       "    </tr>\n",
       "  </tbody>\n",
       "</table>\n",
       "<p>365 rows × 1 columns</p>\n",
       "</div>"
      ],
      "text/plain": [
       "           data\n",
       "0    2015-01-01\n",
       "1    2015-01-02\n",
       "2    2015-01-03\n",
       "3    2015-01-04\n",
       "4    2015-01-05\n",
       "..          ...\n",
       "360  2015-12-27\n",
       "361  2015-12-28\n",
       "362  2015-12-29\n",
       "363  2015-12-30\n",
       "364  2015-12-31\n",
       "\n",
       "[365 rows x 1 columns]"
      ]
     },
     "execution_count": 11,
     "metadata": {},
     "output_type": "execute_result"
    }
   ],
   "source": [
    "df_aux = df_consumo_cerveja_limpo[['data']].copy()\n",
    "df_aux['data'] = pd.to_datetime(df_aux['data']).dt.date\n",
    "df_aux"
   ]
  },
  {
   "cell_type": "markdown",
   "id": "bibliographic-company",
   "metadata": {},
   "source": [
    "Para fins de análise, seria interessante a extração do dia da semana e do mês."
   ]
  },
  {
   "cell_type": "code",
   "execution_count": 12,
   "id": "impaired-centre",
   "metadata": {},
   "outputs": [
    {
     "data": {
      "text/plain": [
       "['quinta-feira', 'sexta-feira', 'sabado', 'domingo', 'segunda-feira', 'terça-feira', 'quarta-feira']\n",
       "Categories (7, object): ['quinta-feira', 'sexta-feira', 'sabado', 'domingo', 'segunda-feira', 'terça-feira', 'quarta-feira']"
      ]
     },
     "execution_count": 12,
     "metadata": {},
     "output_type": "execute_result"
    }
   ],
   "source": [
    "alias_dia_semana = {\n",
    "    0 : 'segunda-feira',\n",
    "    1 : 'terça-feira',\n",
    "    2 : 'quarta-feira',\n",
    "    3 : 'quinta-feira',\n",
    "    4 : 'sexta-feira',\n",
    "    5 : 'sabado',\n",
    "    6 : 'domingo'\n",
    "}\n",
    "\n",
    "df_aux['dia_semana'] = [data.weekday() for data in df_aux['data']]\n",
    "df_aux['dia_semana'].replace(alias_dia_semana, inplace=True)\n",
    "df_aux['dia_semana'] = pd.Categorical(df_aux['dia_semana'])\n",
    "df_aux['dia_semana'].unique()"
   ]
  },
  {
   "cell_type": "code",
   "execution_count": 13,
   "id": "enhanced-wisconsin",
   "metadata": {},
   "outputs": [
    {
     "data": {
      "text/plain": [
       "['janeiro', 'fevereiro', 'março', 'abril', 'maio', ..., 'agosto', 'setembro', 'outubro', 'novembro', 'dezembro']\n",
       "Length: 12\n",
       "Categories (12, object): ['janeiro', 'fevereiro', 'março', 'abril', ..., 'setembro', 'outubro', 'novembro', 'dezembro']"
      ]
     },
     "execution_count": 13,
     "metadata": {},
     "output_type": "execute_result"
    }
   ],
   "source": [
    "alias_mes = {\n",
    "    1  : 'janeiro',\n",
    "    2  : 'fevereiro',\n",
    "    3  : 'março',\n",
    "    4  : 'abril',\n",
    "    5  : 'maio',\n",
    "    6  : 'junho',\n",
    "    7  : 'julho',\n",
    "    8  : 'agosto',\n",
    "    9  : 'setembro',\n",
    "    10 : 'outubro',\n",
    "    11 : 'novembro',\n",
    "    12 : 'dezembro'\n",
    "}\n",
    "\n",
    "df_aux['mes'] = [data.month for data in df_aux['data']]\n",
    "df_aux['mes'].replace(alias_mes, inplace=True)\n",
    "df_aux['mes'] = pd.Categorical(df_aux['mes'])\n",
    "df_aux['mes'].unique()"
   ]
  },
  {
   "cell_type": "code",
   "execution_count": 14,
   "id": "close-wilson",
   "metadata": {},
   "outputs": [
    {
     "data": {
      "text/html": [
       "<div>\n",
       "<style scoped>\n",
       "    .dataframe tbody tr th:only-of-type {\n",
       "        vertical-align: middle;\n",
       "    }\n",
       "\n",
       "    .dataframe tbody tr th {\n",
       "        vertical-align: top;\n",
       "    }\n",
       "\n",
       "    .dataframe thead th {\n",
       "        text-align: right;\n",
       "    }\n",
       "</style>\n",
       "<table border=\"1\" class=\"dataframe\">\n",
       "  <thead>\n",
       "    <tr style=\"text-align: right;\">\n",
       "      <th></th>\n",
       "      <th>data</th>\n",
       "      <th>dia_semana</th>\n",
       "      <th>mes</th>\n",
       "      <th>fds</th>\n",
       "      <th>temp_media_c</th>\n",
       "      <th>temp_min_c</th>\n",
       "      <th>temp_max_c</th>\n",
       "      <th>precipitacao_mm</th>\n",
       "      <th>consumo_L</th>\n",
       "    </tr>\n",
       "  </thead>\n",
       "  <tbody>\n",
       "    <tr>\n",
       "      <th>0</th>\n",
       "      <td>2015-01-01</td>\n",
       "      <td>quinta-feira</td>\n",
       "      <td>janeiro</td>\n",
       "      <td>0.0</td>\n",
       "      <td>27,3</td>\n",
       "      <td>23,9</td>\n",
       "      <td>32,5</td>\n",
       "      <td>0</td>\n",
       "      <td>25.461</td>\n",
       "    </tr>\n",
       "    <tr>\n",
       "      <th>1</th>\n",
       "      <td>2015-01-02</td>\n",
       "      <td>sexta-feira</td>\n",
       "      <td>janeiro</td>\n",
       "      <td>0.0</td>\n",
       "      <td>27,02</td>\n",
       "      <td>24,5</td>\n",
       "      <td>33,5</td>\n",
       "      <td>0</td>\n",
       "      <td>28.972</td>\n",
       "    </tr>\n",
       "    <tr>\n",
       "      <th>2</th>\n",
       "      <td>2015-01-03</td>\n",
       "      <td>sabado</td>\n",
       "      <td>janeiro</td>\n",
       "      <td>1.0</td>\n",
       "      <td>24,82</td>\n",
       "      <td>22,4</td>\n",
       "      <td>29,9</td>\n",
       "      <td>0</td>\n",
       "      <td>30.814</td>\n",
       "    </tr>\n",
       "    <tr>\n",
       "      <th>3</th>\n",
       "      <td>2015-01-04</td>\n",
       "      <td>domingo</td>\n",
       "      <td>janeiro</td>\n",
       "      <td>1.0</td>\n",
       "      <td>23,98</td>\n",
       "      <td>21,5</td>\n",
       "      <td>28,6</td>\n",
       "      <td>1,2</td>\n",
       "      <td>29.799</td>\n",
       "    </tr>\n",
       "    <tr>\n",
       "      <th>4</th>\n",
       "      <td>2015-01-05</td>\n",
       "      <td>segunda-feira</td>\n",
       "      <td>janeiro</td>\n",
       "      <td>0.0</td>\n",
       "      <td>23,82</td>\n",
       "      <td>21</td>\n",
       "      <td>28,3</td>\n",
       "      <td>0</td>\n",
       "      <td>28.900</td>\n",
       "    </tr>\n",
       "    <tr>\n",
       "      <th>...</th>\n",
       "      <td>...</td>\n",
       "      <td>...</td>\n",
       "      <td>...</td>\n",
       "      <td>...</td>\n",
       "      <td>...</td>\n",
       "      <td>...</td>\n",
       "      <td>...</td>\n",
       "      <td>...</td>\n",
       "      <td>...</td>\n",
       "    </tr>\n",
       "    <tr>\n",
       "      <th>360</th>\n",
       "      <td>2015-12-27</td>\n",
       "      <td>domingo</td>\n",
       "      <td>dezembro</td>\n",
       "      <td>1.0</td>\n",
       "      <td>24</td>\n",
       "      <td>21,1</td>\n",
       "      <td>28,2</td>\n",
       "      <td>13,6</td>\n",
       "      <td>32.307</td>\n",
       "    </tr>\n",
       "    <tr>\n",
       "      <th>361</th>\n",
       "      <td>2015-12-28</td>\n",
       "      <td>segunda-feira</td>\n",
       "      <td>dezembro</td>\n",
       "      <td>0.0</td>\n",
       "      <td>22,64</td>\n",
       "      <td>21,1</td>\n",
       "      <td>26,7</td>\n",
       "      <td>0</td>\n",
       "      <td>26.095</td>\n",
       "    </tr>\n",
       "    <tr>\n",
       "      <th>362</th>\n",
       "      <td>2015-12-29</td>\n",
       "      <td>terça-feira</td>\n",
       "      <td>dezembro</td>\n",
       "      <td>0.0</td>\n",
       "      <td>21,68</td>\n",
       "      <td>20,3</td>\n",
       "      <td>24,1</td>\n",
       "      <td>10,3</td>\n",
       "      <td>22.309</td>\n",
       "    </tr>\n",
       "    <tr>\n",
       "      <th>363</th>\n",
       "      <td>2015-12-30</td>\n",
       "      <td>quarta-feira</td>\n",
       "      <td>dezembro</td>\n",
       "      <td>0.0</td>\n",
       "      <td>21,38</td>\n",
       "      <td>19,3</td>\n",
       "      <td>22,4</td>\n",
       "      <td>6,3</td>\n",
       "      <td>20.467</td>\n",
       "    </tr>\n",
       "    <tr>\n",
       "      <th>364</th>\n",
       "      <td>2015-12-31</td>\n",
       "      <td>quinta-feira</td>\n",
       "      <td>dezembro</td>\n",
       "      <td>0.0</td>\n",
       "      <td>24,76</td>\n",
       "      <td>20,2</td>\n",
       "      <td>29</td>\n",
       "      <td>0</td>\n",
       "      <td>22.446</td>\n",
       "    </tr>\n",
       "  </tbody>\n",
       "</table>\n",
       "<p>365 rows × 9 columns</p>\n",
       "</div>"
      ],
      "text/plain": [
       "           data     dia_semana       mes  fds temp_media_c temp_min_c  \\\n",
       "0    2015-01-01   quinta-feira   janeiro  0.0         27,3       23,9   \n",
       "1    2015-01-02    sexta-feira   janeiro  0.0        27,02       24,5   \n",
       "2    2015-01-03         sabado   janeiro  1.0        24,82       22,4   \n",
       "3    2015-01-04        domingo   janeiro  1.0        23,98       21,5   \n",
       "4    2015-01-05  segunda-feira   janeiro  0.0        23,82         21   \n",
       "..          ...            ...       ...  ...          ...        ...   \n",
       "360  2015-12-27        domingo  dezembro  1.0           24       21,1   \n",
       "361  2015-12-28  segunda-feira  dezembro  0.0        22,64       21,1   \n",
       "362  2015-12-29    terça-feira  dezembro  0.0        21,68       20,3   \n",
       "363  2015-12-30   quarta-feira  dezembro  0.0        21,38       19,3   \n",
       "364  2015-12-31   quinta-feira  dezembro  0.0        24,76       20,2   \n",
       "\n",
       "    temp_max_c precipitacao_mm  consumo_L  \n",
       "0         32,5               0     25.461  \n",
       "1         33,5               0     28.972  \n",
       "2         29,9               0     30.814  \n",
       "3         28,6             1,2     29.799  \n",
       "4         28,3               0     28.900  \n",
       "..         ...             ...        ...  \n",
       "360       28,2            13,6     32.307  \n",
       "361       26,7               0     26.095  \n",
       "362       24,1            10,3     22.309  \n",
       "363       22,4             6,3     20.467  \n",
       "364         29               0     22.446  \n",
       "\n",
       "[365 rows x 9 columns]"
      ]
     },
     "execution_count": 14,
     "metadata": {},
     "output_type": "execute_result"
    }
   ],
   "source": [
    "df_consumo_cerveja_limpo['data'] = df_aux['data']\n",
    "df_consumo_cerveja_limpo['dia_semana'] = df_aux['dia_semana']\n",
    "df_consumo_cerveja_limpo['mes'] = df_aux['mes']\n",
    "df_consumo_cerveja_limpo = df_consumo_cerveja_limpo[['data', 'dia_semana', 'mes', 'fds','temp_media_c', 'temp_min_c', 'temp_max_c', 'precipitacao_mm','consumo_L']]\n",
    "df_consumo_cerveja_limpo"
   ]
  },
  {
   "cell_type": "code",
   "execution_count": 15,
   "id": "freelance-profit",
   "metadata": {},
   "outputs": [
    {
     "name": "stdout",
     "output_type": "stream",
     "text": [
      "<class 'pandas.core.frame.DataFrame'>\n",
      "Int64Index: 365 entries, 0 to 364\n",
      "Data columns (total 9 columns):\n",
      " #   Column           Non-Null Count  Dtype   \n",
      "---  ------           --------------  -----   \n",
      " 0   data             365 non-null    object  \n",
      " 1   dia_semana       365 non-null    category\n",
      " 2   mes              365 non-null    category\n",
      " 3   fds              365 non-null    float64 \n",
      " 4   temp_media_c     365 non-null    object  \n",
      " 5   temp_min_c       365 non-null    object  \n",
      " 6   temp_max_c       365 non-null    object  \n",
      " 7   precipitacao_mm  365 non-null    object  \n",
      " 8   consumo_L        365 non-null    float64 \n",
      "dtypes: category(2), float64(2), object(5)\n",
      "memory usage: 24.3+ KB\n"
     ]
    }
   ],
   "source": [
    "df_consumo_cerveja_limpo.info()"
   ]
  },
  {
   "cell_type": "markdown",
   "id": "acoustic-reaction",
   "metadata": {},
   "source": [
    "### fds"
   ]
  },
  {
   "cell_type": "code",
   "execution_count": 16,
   "id": "suspended-gasoline",
   "metadata": {},
   "outputs": [
    {
     "data": {
      "text/plain": [
       "array([0., 1.])"
      ]
     },
     "execution_count": 16,
     "metadata": {},
     "output_type": "execute_result"
    }
   ],
   "source": [
    "df_consumo_cerveja_limpo.fds.unique()"
   ]
  },
  {
   "cell_type": "code",
   "execution_count": 17,
   "id": "defensive-prevention",
   "metadata": {},
   "outputs": [
    {
     "data": {
      "text/plain": [
       "0      0.0\n",
       "1      0.0\n",
       "2      1.0\n",
       "3      1.0\n",
       "4      0.0\n",
       "      ... \n",
       "360    1.0\n",
       "361    0.0\n",
       "362    0.0\n",
       "363    0.0\n",
       "364    0.0\n",
       "Name: fds, Length: 365, dtype: float64"
      ]
     },
     "execution_count": 17,
     "metadata": {},
     "output_type": "execute_result"
    }
   ],
   "source": [
    "df_consumo_cerveja_limpo.fds"
   ]
  },
  {
   "cell_type": "markdown",
   "id": "affected-harbor",
   "metadata": {},
   "source": [
    "Por ser um campo flag, deverá ser um int categorico"
   ]
  },
  {
   "cell_type": "code",
   "execution_count": 18,
   "id": "expanded-insider",
   "metadata": {},
   "outputs": [
    {
     "data": {
      "text/plain": [
       "0      0\n",
       "1      0\n",
       "2      1\n",
       "3      1\n",
       "4      0\n",
       "      ..\n",
       "360    1\n",
       "361    0\n",
       "362    0\n",
       "363    0\n",
       "364    0\n",
       "Name: fds, Length: 365, dtype: category\n",
       "Categories (2, int64): [0, 1]"
      ]
     },
     "execution_count": 18,
     "metadata": {},
     "output_type": "execute_result"
    }
   ],
   "source": [
    "df_aux = df_consumo_cerveja_limpo[['fds']].copy()\n",
    "df_aux['fds'] = pd.Categorical(df_aux.fds.astype(int), ordered=False)\n",
    "df_aux['fds']"
   ]
  },
  {
   "cell_type": "code",
   "execution_count": 19,
   "id": "adaptive-gamma",
   "metadata": {},
   "outputs": [
    {
     "data": {
      "text/plain": [
       "0      0\n",
       "1      0\n",
       "2      1\n",
       "3      1\n",
       "4      0\n",
       "      ..\n",
       "360    1\n",
       "361    0\n",
       "362    0\n",
       "363    0\n",
       "364    0\n",
       "Name: fds, Length: 365, dtype: category\n",
       "Categories (2, int64): [0, 1]"
      ]
     },
     "execution_count": 19,
     "metadata": {},
     "output_type": "execute_result"
    }
   ],
   "source": [
    "df_consumo_cerveja_limpo['fds'] = df_aux['fds']\n",
    "df_consumo_cerveja_limpo['fds']"
   ]
  },
  {
   "cell_type": "markdown",
   "id": "copyrighted-egyptian",
   "metadata": {},
   "source": [
    "### temp_media_c"
   ]
  },
  {
   "cell_type": "code",
   "execution_count": 20,
   "id": "armed-extension",
   "metadata": {},
   "outputs": [
    {
     "data": {
      "text/plain": [
       "0       27,3\n",
       "1      27,02\n",
       "2      24,82\n",
       "3      23,98\n",
       "4      23,82\n",
       "       ...  \n",
       "360       24\n",
       "361    22,64\n",
       "362    21,68\n",
       "363    21,38\n",
       "364    24,76\n",
       "Name: temp_media_c, Length: 365, dtype: object"
      ]
     },
     "execution_count": 20,
     "metadata": {},
     "output_type": "execute_result"
    }
   ],
   "source": [
    "df_consumo_cerveja_limpo['temp_media_c']"
   ]
  },
  {
   "cell_type": "markdown",
   "id": "biblical-computer",
   "metadata": {},
   "source": [
    "Este campo deverá ser do tipo float"
   ]
  },
  {
   "cell_type": "code",
   "execution_count": 21,
   "id": "floating-shower",
   "metadata": {},
   "outputs": [
    {
     "data": {
      "text/plain": [
       "0      27.30\n",
       "1      27.02\n",
       "2      24.82\n",
       "3      23.98\n",
       "4      23.82\n",
       "       ...  \n",
       "360    24.00\n",
       "361    22.64\n",
       "362    21.68\n",
       "363    21.38\n",
       "364    24.76\n",
       "Name: temp_media_c, Length: 365, dtype: float64"
      ]
     },
     "execution_count": 21,
     "metadata": {},
     "output_type": "execute_result"
    }
   ],
   "source": [
    "df_aux = df_consumo_cerveja_limpo[['temp_media_c']].copy()\n",
    "df_aux['temp_media_c'].replace(to_replace=',', value='.', regex=True, inplace=True)\n",
    "df_aux['temp_media_c'] = df_aux['temp_media_c'].astype(float)\n",
    "df_aux['temp_media_c']"
   ]
  },
  {
   "cell_type": "code",
   "execution_count": 22,
   "id": "super-ivory",
   "metadata": {},
   "outputs": [
    {
     "data": {
      "text/plain": [
       "0      27.30\n",
       "1      27.02\n",
       "2      24.82\n",
       "3      23.98\n",
       "4      23.82\n",
       "       ...  \n",
       "360    24.00\n",
       "361    22.64\n",
       "362    21.68\n",
       "363    21.38\n",
       "364    24.76\n",
       "Name: temp_media_c, Length: 365, dtype: float64"
      ]
     },
     "execution_count": 22,
     "metadata": {},
     "output_type": "execute_result"
    }
   ],
   "source": [
    "df_consumo_cerveja_limpo['temp_media_c'] = df_aux['temp_media_c']\n",
    "df_consumo_cerveja_limpo['temp_media_c']"
   ]
  },
  {
   "cell_type": "markdown",
   "id": "adjustable-barrier",
   "metadata": {},
   "source": [
    "\n",
    "### temp_min_c"
   ]
  },
  {
   "cell_type": "code",
   "execution_count": 23,
   "id": "assigned-hunger",
   "metadata": {},
   "outputs": [
    {
     "data": {
      "text/plain": [
       "0      23,9\n",
       "1      24,5\n",
       "2      22,4\n",
       "3      21,5\n",
       "4        21\n",
       "       ... \n",
       "360    21,1\n",
       "361    21,1\n",
       "362    20,3\n",
       "363    19,3\n",
       "364    20,2\n",
       "Name: temp_min_c, Length: 365, dtype: object"
      ]
     },
     "execution_count": 23,
     "metadata": {},
     "output_type": "execute_result"
    }
   ],
   "source": [
    "df_consumo_cerveja_limpo['temp_min_c']"
   ]
  },
  {
   "cell_type": "markdown",
   "id": "trained-allen",
   "metadata": {},
   "source": [
    "Este campo deverá ser do tipo float"
   ]
  },
  {
   "cell_type": "code",
   "execution_count": 24,
   "id": "annoying-secondary",
   "metadata": {},
   "outputs": [
    {
     "data": {
      "text/plain": [
       "0      23.9\n",
       "1      24.5\n",
       "2      22.4\n",
       "3      21.5\n",
       "4      21.0\n",
       "       ... \n",
       "360    21.1\n",
       "361    21.1\n",
       "362    20.3\n",
       "363    19.3\n",
       "364    20.2\n",
       "Name: temp_min_c, Length: 365, dtype: float64"
      ]
     },
     "execution_count": 24,
     "metadata": {},
     "output_type": "execute_result"
    }
   ],
   "source": [
    "df_aux = df_consumo_cerveja_limpo[['temp_min_c']].copy()\n",
    "df_aux['temp_min_c'].replace(to_replace=',', value='.', regex=True, inplace=True)\n",
    "df_consumo_cerveja_limpo['temp_min_c'] = df_aux['temp_min_c'].astype(float)\n",
    "df_consumo_cerveja_limpo['temp_min_c']"
   ]
  },
  {
   "cell_type": "markdown",
   "id": "assured-greeting",
   "metadata": {},
   "source": [
    "### temp_max_c"
   ]
  },
  {
   "cell_type": "code",
   "execution_count": 25,
   "id": "binding-album",
   "metadata": {},
   "outputs": [
    {
     "data": {
      "text/plain": [
       "0      32,5\n",
       "1      33,5\n",
       "2      29,9\n",
       "3      28,6\n",
       "4      28,3\n",
       "       ... \n",
       "360    28,2\n",
       "361    26,7\n",
       "362    24,1\n",
       "363    22,4\n",
       "364      29\n",
       "Name: temp_max_c, Length: 365, dtype: object"
      ]
     },
     "execution_count": 25,
     "metadata": {},
     "output_type": "execute_result"
    }
   ],
   "source": [
    "df_consumo_cerveja_limpo['temp_max_c']"
   ]
  },
  {
   "cell_type": "markdown",
   "id": "light-profit",
   "metadata": {},
   "source": [
    "Este campo deverá ser do tipo float."
   ]
  },
  {
   "cell_type": "code",
   "execution_count": 26,
   "id": "ecological-timber",
   "metadata": {},
   "outputs": [
    {
     "data": {
      "text/plain": [
       "0      32.5\n",
       "1      33.5\n",
       "2      29.9\n",
       "3      28.6\n",
       "4      28.3\n",
       "       ... \n",
       "360    28.2\n",
       "361    26.7\n",
       "362    24.1\n",
       "363    22.4\n",
       "364    29.0\n",
       "Name: temp_max_c, Length: 365, dtype: float64"
      ]
     },
     "execution_count": 26,
     "metadata": {},
     "output_type": "execute_result"
    }
   ],
   "source": [
    "df_aux = df_consumo_cerveja_limpo[['temp_max_c']].copy()\n",
    "df_aux['temp_max_c'].replace(to_replace=',', value='.', regex=True, inplace=True)\n",
    "df_consumo_cerveja_limpo['temp_max_c'] = df_aux['temp_max_c'].astype(float)\n",
    "df_consumo_cerveja_limpo['temp_max_c']"
   ]
  },
  {
   "cell_type": "markdown",
   "id": "labeled-partnership",
   "metadata": {},
   "source": [
    "### precipitacao_mm"
   ]
  },
  {
   "cell_type": "code",
   "execution_count": 27,
   "id": "unauthorized-milton",
   "metadata": {},
   "outputs": [
    {
     "data": {
      "text/plain": [
       "0         0\n",
       "1         0\n",
       "2         0\n",
       "3       1,2\n",
       "4         0\n",
       "       ... \n",
       "360    13,6\n",
       "361       0\n",
       "362    10,3\n",
       "363     6,3\n",
       "364       0\n",
       "Name: precipitacao_mm, Length: 365, dtype: object"
      ]
     },
     "execution_count": 27,
     "metadata": {},
     "output_type": "execute_result"
    }
   ],
   "source": [
    "df_consumo_cerveja_limpo['precipitacao_mm']"
   ]
  },
  {
   "cell_type": "markdown",
   "id": "received-storm",
   "metadata": {},
   "source": [
    "Este campo deverá ser do tipo float"
   ]
  },
  {
   "cell_type": "code",
   "execution_count": 28,
   "id": "diagnostic-yorkshire",
   "metadata": {},
   "outputs": [
    {
     "data": {
      "text/plain": [
       "0       0.0\n",
       "1       0.0\n",
       "2       0.0\n",
       "3       1.2\n",
       "4       0.0\n",
       "       ... \n",
       "360    13.6\n",
       "361     0.0\n",
       "362    10.3\n",
       "363     6.3\n",
       "364     0.0\n",
       "Name: precipitacao_mm, Length: 365, dtype: float64"
      ]
     },
     "execution_count": 28,
     "metadata": {},
     "output_type": "execute_result"
    }
   ],
   "source": [
    "df_aux = df_consumo_cerveja_limpo[['precipitacao_mm']].copy()\n",
    "df_aux['precipitacao_mm'].replace(to_replace=',', value='.', regex=True, inplace=True)\n",
    "df_consumo_cerveja_limpo['precipitacao_mm'] = df_aux['precipitacao_mm'].astype(float)\n",
    "df_consumo_cerveja_limpo['precipitacao_mm']"
   ]
  },
  {
   "cell_type": "markdown",
   "id": "musical-fitness",
   "metadata": {},
   "source": [
    "### consumo_L"
   ]
  },
  {
   "cell_type": "code",
   "execution_count": 29,
   "id": "intellectual-pencil",
   "metadata": {},
   "outputs": [
    {
     "data": {
      "text/plain": [
       "0      25.461\n",
       "1      28.972\n",
       "2      30.814\n",
       "3      29.799\n",
       "4      28.900\n",
       "        ...  \n",
       "360    32.307\n",
       "361    26.095\n",
       "362    22.309\n",
       "363    20.467\n",
       "364    22.446\n",
       "Name: consumo_L, Length: 365, dtype: float64"
      ]
     },
     "execution_count": 29,
     "metadata": {},
     "output_type": "execute_result"
    }
   ],
   "source": [
    "df_consumo_cerveja_limpo['consumo_L']"
   ]
  },
  {
   "cell_type": "markdown",
   "id": "innovative-vertex",
   "metadata": {},
   "source": [
    "Este campo está formatado da forma errada. O ponto é para diferenciar a casa do milhar, porém é do tipo float, logo o que deveria ser 25461 litros se torna 25,4 litros."
   ]
  },
  {
   "cell_type": "code",
   "execution_count": 30,
   "id": "voluntary-wildlife",
   "metadata": {},
   "outputs": [
    {
     "data": {
      "text/plain": [
       "0      25461\n",
       "1      28972\n",
       "2      30814\n",
       "3      29799\n",
       "4        289\n",
       "       ...  \n",
       "360    32307\n",
       "361    26095\n",
       "362    22309\n",
       "363    20467\n",
       "364    22446\n",
       "Name: consumo_L, Length: 365, dtype: int64"
      ]
     },
     "execution_count": 30,
     "metadata": {},
     "output_type": "execute_result"
    }
   ],
   "source": [
    "df_aux = df_consumo_cerveja_limpo[['consumo_L']].copy()\n",
    "df_aux['consumo_L'] = df_aux.consumo_L.astype(str)\n",
    "df_aux.consumo_L.replace(to_replace='\\.', value='', inplace=True, regex=True)\n",
    "df_aux['consumo_L'] = df_aux.consumo_L.astype(int)\n",
    "df_aux.consumo_L"
   ]
  },
  {
   "cell_type": "code",
   "execution_count": 31,
   "id": "olive-compiler",
   "metadata": {},
   "outputs": [
    {
     "data": {
      "text/plain": [
       "0      25461\n",
       "1      28972\n",
       "2      30814\n",
       "3      29799\n",
       "4        289\n",
       "       ...  \n",
       "360    32307\n",
       "361    26095\n",
       "362    22309\n",
       "363    20467\n",
       "364    22446\n",
       "Name: consumo_L, Length: 365, dtype: int64"
      ]
     },
     "execution_count": 31,
     "metadata": {},
     "output_type": "execute_result"
    }
   ],
   "source": [
    "df_consumo_cerveja_limpo['consumo_L'] = df_aux.consumo_L\n",
    "df_consumo_cerveja_limpo['consumo_L']"
   ]
  },
  {
   "cell_type": "markdown",
   "id": "timely-shift",
   "metadata": {},
   "source": [
    "## Validando limpeza"
   ]
  },
  {
   "cell_type": "code",
   "execution_count": 32,
   "id": "perfect-paper",
   "metadata": {},
   "outputs": [
    {
     "data": {
      "text/html": [
       "<div>\n",
       "<style scoped>\n",
       "    .dataframe tbody tr th:only-of-type {\n",
       "        vertical-align: middle;\n",
       "    }\n",
       "\n",
       "    .dataframe tbody tr th {\n",
       "        vertical-align: top;\n",
       "    }\n",
       "\n",
       "    .dataframe thead th {\n",
       "        text-align: right;\n",
       "    }\n",
       "</style>\n",
       "<table border=\"1\" class=\"dataframe\">\n",
       "  <thead>\n",
       "    <tr style=\"text-align: right;\">\n",
       "      <th></th>\n",
       "      <th>coluna</th>\n",
       "      <th>exemplo</th>\n",
       "      <th>tipo</th>\n",
       "    </tr>\n",
       "  </thead>\n",
       "  <tbody>\n",
       "    <tr>\n",
       "      <th>0</th>\n",
       "      <td>data</td>\n",
       "      <td>2015-01-01</td>\n",
       "      <td>object</td>\n",
       "    </tr>\n",
       "    <tr>\n",
       "      <th>1</th>\n",
       "      <td>dia_semana</td>\n",
       "      <td>quinta-feira</td>\n",
       "      <td>category</td>\n",
       "    </tr>\n",
       "    <tr>\n",
       "      <th>2</th>\n",
       "      <td>mes</td>\n",
       "      <td>janeiro</td>\n",
       "      <td>category</td>\n",
       "    </tr>\n",
       "    <tr>\n",
       "      <th>3</th>\n",
       "      <td>fds</td>\n",
       "      <td>0</td>\n",
       "      <td>category</td>\n",
       "    </tr>\n",
       "    <tr>\n",
       "      <th>4</th>\n",
       "      <td>temp_media_c</td>\n",
       "      <td>27.3</td>\n",
       "      <td>float64</td>\n",
       "    </tr>\n",
       "    <tr>\n",
       "      <th>5</th>\n",
       "      <td>temp_min_c</td>\n",
       "      <td>23.9</td>\n",
       "      <td>float64</td>\n",
       "    </tr>\n",
       "    <tr>\n",
       "      <th>6</th>\n",
       "      <td>temp_max_c</td>\n",
       "      <td>32.5</td>\n",
       "      <td>float64</td>\n",
       "    </tr>\n",
       "    <tr>\n",
       "      <th>7</th>\n",
       "      <td>precipitacao_mm</td>\n",
       "      <td>0.0</td>\n",
       "      <td>float64</td>\n",
       "    </tr>\n",
       "    <tr>\n",
       "      <th>8</th>\n",
       "      <td>consumo_L</td>\n",
       "      <td>25461</td>\n",
       "      <td>int64</td>\n",
       "    </tr>\n",
       "  </tbody>\n",
       "</table>\n",
       "</div>"
      ],
      "text/plain": [
       "            coluna       exemplo      tipo\n",
       "0             data    2015-01-01    object\n",
       "1       dia_semana  quinta-feira  category\n",
       "2              mes       janeiro  category\n",
       "3              fds             0  category\n",
       "4     temp_media_c          27.3   float64\n",
       "5       temp_min_c          23.9   float64\n",
       "6       temp_max_c          32.5   float64\n",
       "7  precipitacao_mm           0.0   float64\n",
       "8        consumo_L         25461     int64"
      ]
     },
     "execution_count": 32,
     "metadata": {},
     "output_type": "execute_result"
    }
   ],
   "source": [
    "df_informativo = df_consumo_cerveja_limpo.iloc[0]\\\n",
    "                    .to_frame()\\\n",
    "                    .reset_index()\\\n",
    "                    .rename(columns={0:'exemplo', 'index': 'coluna'})\\\n",
    "                    .set_index('coluna')\\\n",
    "                .merge(\\\n",
    "                    pd.DataFrame(df_consumo_cerveja_limpo.dtypes)\\\n",
    "                        .reset_index()\\\n",
    "                        .rename(columns={0:'tipo', 'index': 'coluna'})\\\n",
    "                        .set_index('coluna'),\\\n",
    "                    on='coluna')\\\n",
    "                .reset_index()\n",
    "\n",
    "df_informativo"
   ]
  },
  {
   "cell_type": "markdown",
   "id": "expected-judges",
   "metadata": {},
   "source": [
    "# Análise Exploratória"
   ]
  },
  {
   "cell_type": "code",
   "execution_count": 33,
   "id": "collect-amendment",
   "metadata": {},
   "outputs": [
    {
     "data": {
      "text/html": [
       "<div>\n",
       "<style scoped>\n",
       "    .dataframe tbody tr th:only-of-type {\n",
       "        vertical-align: middle;\n",
       "    }\n",
       "\n",
       "    .dataframe tbody tr th {\n",
       "        vertical-align: top;\n",
       "    }\n",
       "\n",
       "    .dataframe thead th {\n",
       "        text-align: right;\n",
       "    }\n",
       "</style>\n",
       "<table border=\"1\" class=\"dataframe\">\n",
       "  <thead>\n",
       "    <tr style=\"text-align: right;\">\n",
       "      <th></th>\n",
       "      <th>data</th>\n",
       "      <th>dia_semana</th>\n",
       "      <th>mes</th>\n",
       "      <th>fds</th>\n",
       "      <th>temp_media_c</th>\n",
       "      <th>temp_min_c</th>\n",
       "      <th>temp_max_c</th>\n",
       "      <th>precipitacao_mm</th>\n",
       "      <th>consumo_L</th>\n",
       "    </tr>\n",
       "  </thead>\n",
       "  <tbody>\n",
       "    <tr>\n",
       "      <th>0</th>\n",
       "      <td>2015-01-01</td>\n",
       "      <td>quinta-feira</td>\n",
       "      <td>janeiro</td>\n",
       "      <td>0</td>\n",
       "      <td>27.30</td>\n",
       "      <td>23.9</td>\n",
       "      <td>32.5</td>\n",
       "      <td>0.0</td>\n",
       "      <td>25461</td>\n",
       "    </tr>\n",
       "    <tr>\n",
       "      <th>1</th>\n",
       "      <td>2015-01-02</td>\n",
       "      <td>sexta-feira</td>\n",
       "      <td>janeiro</td>\n",
       "      <td>0</td>\n",
       "      <td>27.02</td>\n",
       "      <td>24.5</td>\n",
       "      <td>33.5</td>\n",
       "      <td>0.0</td>\n",
       "      <td>28972</td>\n",
       "    </tr>\n",
       "    <tr>\n",
       "      <th>2</th>\n",
       "      <td>2015-01-03</td>\n",
       "      <td>sabado</td>\n",
       "      <td>janeiro</td>\n",
       "      <td>1</td>\n",
       "      <td>24.82</td>\n",
       "      <td>22.4</td>\n",
       "      <td>29.9</td>\n",
       "      <td>0.0</td>\n",
       "      <td>30814</td>\n",
       "    </tr>\n",
       "    <tr>\n",
       "      <th>3</th>\n",
       "      <td>2015-01-04</td>\n",
       "      <td>domingo</td>\n",
       "      <td>janeiro</td>\n",
       "      <td>1</td>\n",
       "      <td>23.98</td>\n",
       "      <td>21.5</td>\n",
       "      <td>28.6</td>\n",
       "      <td>1.2</td>\n",
       "      <td>29799</td>\n",
       "    </tr>\n",
       "    <tr>\n",
       "      <th>4</th>\n",
       "      <td>2015-01-05</td>\n",
       "      <td>segunda-feira</td>\n",
       "      <td>janeiro</td>\n",
       "      <td>0</td>\n",
       "      <td>23.82</td>\n",
       "      <td>21.0</td>\n",
       "      <td>28.3</td>\n",
       "      <td>0.0</td>\n",
       "      <td>289</td>\n",
       "    </tr>\n",
       "  </tbody>\n",
       "</table>\n",
       "</div>"
      ],
      "text/plain": [
       "         data     dia_semana      mes fds  temp_media_c  temp_min_c  \\\n",
       "0  2015-01-01   quinta-feira  janeiro   0         27.30        23.9   \n",
       "1  2015-01-02    sexta-feira  janeiro   0         27.02        24.5   \n",
       "2  2015-01-03         sabado  janeiro   1         24.82        22.4   \n",
       "3  2015-01-04        domingo  janeiro   1         23.98        21.5   \n",
       "4  2015-01-05  segunda-feira  janeiro   0         23.82        21.0   \n",
       "\n",
       "   temp_max_c  precipitacao_mm  consumo_L  \n",
       "0        32.5              0.0      25461  \n",
       "1        33.5              0.0      28972  \n",
       "2        29.9              0.0      30814  \n",
       "3        28.6              1.2      29799  \n",
       "4        28.3              0.0        289  "
      ]
     },
     "execution_count": 33,
     "metadata": {},
     "output_type": "execute_result"
    }
   ],
   "source": [
    "df_consumo_cerveja_limpo.head()"
   ]
  },
  {
   "cell_type": "markdown",
   "id": "eight-horizon",
   "metadata": {},
   "source": [
    "## Data"
   ]
  },
  {
   "cell_type": "code",
   "execution_count": 79,
   "id": "israeli-honey",
   "metadata": {},
   "outputs": [
    {
     "data": {
      "text/html": [
       "<div>\n",
       "<style scoped>\n",
       "    .dataframe tbody tr th:only-of-type {\n",
       "        vertical-align: middle;\n",
       "    }\n",
       "\n",
       "    .dataframe tbody tr th {\n",
       "        vertical-align: top;\n",
       "    }\n",
       "\n",
       "    .dataframe thead th {\n",
       "        text-align: right;\n",
       "    }\n",
       "</style>\n",
       "<table border=\"1\" class=\"dataframe\">\n",
       "  <thead>\n",
       "    <tr style=\"text-align: right;\">\n",
       "      <th></th>\n",
       "      <th>dia_semana</th>\n",
       "      <th>consumo_L</th>\n",
       "    </tr>\n",
       "  </thead>\n",
       "  <tbody>\n",
       "    <tr>\n",
       "      <th>4</th>\n",
       "      <td>segunda</td>\n",
       "      <td>19736.17</td>\n",
       "    </tr>\n",
       "    <tr>\n",
       "      <th>6</th>\n",
       "      <td>terça</td>\n",
       "      <td>23148.81</td>\n",
       "    </tr>\n",
       "    <tr>\n",
       "      <th>1</th>\n",
       "      <td>quarta</td>\n",
       "      <td>22948.29</td>\n",
       "    </tr>\n",
       "    <tr>\n",
       "      <th>2</th>\n",
       "      <td>quinta</td>\n",
       "      <td>21090.42</td>\n",
       "    </tr>\n",
       "    <tr>\n",
       "      <th>5</th>\n",
       "      <td>sexta</td>\n",
       "      <td>22508.88</td>\n",
       "    </tr>\n",
       "    <tr>\n",
       "      <th>3</th>\n",
       "      <td>sabado</td>\n",
       "      <td>23634.19</td>\n",
       "    </tr>\n",
       "    <tr>\n",
       "      <th>0</th>\n",
       "      <td>domingo</td>\n",
       "      <td>27511.10</td>\n",
       "    </tr>\n",
       "  </tbody>\n",
       "</table>\n",
       "</div>"
      ],
      "text/plain": [
       "  dia_semana  consumo_L\n",
       "4    segunda   19736.17\n",
       "6      terça   23148.81\n",
       "1     quarta   22948.29\n",
       "2     quinta   21090.42\n",
       "5      sexta   22508.88\n",
       "3     sabado   23634.19\n",
       "0    domingo   27511.10"
      ]
     },
     "execution_count": 79,
     "metadata": {},
     "output_type": "execute_result"
    }
   ],
   "source": [
    "df_aux = df_consumo_cerveja_limpo[['dia_semana', 'consumo_L']].groupby('dia_semana')\\\n",
    "                                                                .agg({'consumo_L':'mean'})\\\n",
    "                                                                .round(2)\\\n",
    "                                                                .reset_index()\n",
    "df_aux.replace({\n",
    "                'segunda-feira':'segunda',\n",
    "                'terça-feira':'terça',\n",
    "                'quarta-feira':'quarta',\n",
    "                'quinta-feira':'quinta',\n",
    "                'sexta-feira':'sexta',\n",
    "                'sabado':'sabado',\n",
    "                'domingo':'domingo'\n",
    "            }, inplace=True)\n",
    "\n",
    "df_aux.dia_semana = pd.Categorical(df_aux.dia_semana,\n",
    "                                   ['segunda', 'terça', 'quarta', 'quinta', 'sexta', 'sabado', 'domingo'], \n",
    "                                   ordered=True)\n",
    "df_aux.sort_values('dia_semana')"
   ]
  },
  {
   "cell_type": "code",
   "execution_count": 81,
   "id": "powerful-collar",
   "metadata": {},
   "outputs": [
    {
     "data": {
      "text/plain": [
       "Text(0.5, 1.0, 'Consumo de cerveja por dia de semana')"
      ]
     },
     "execution_count": 81,
     "metadata": {},
     "output_type": "execute_result"
    },
    {
     "data": {
      "image/png": "[encoded data removed]",
      "text/plain": [
       "<Figure size 1152x432 with 1 Axes>"
      ]
     },
     "metadata": {
      "needs_background": "light"
     },
     "output_type": "display_data"
    }
   ],
   "source": [
    "plt.figure(figsize=(16, 6))\n",
    "ax = sns.lineplot(data=df_aux, x='dia_semana', y='consumo_L')\n",
    "\n",
    "ax.set_xlabel('')\n",
    "ax.set_ylabel('')\n",
    "\n",
    "ax.set_yticks(np.arange(20000, 29000, 1000, dtype=object))\n",
    "ax.set_yticklabels([label + 'k' for label in list(map(str, np.arange(20, 29, 1, dtype=object)))])\n",
    "\n",
    "plt.title('Consumo de cerveja por dia de semana')"
   ]
  },
  {
   "cell_type": "markdown",
   "id": "possible-mortgage",
   "metadata": {},
   "source": [
    "Fim de semana há um maior consumo de cerveja, porém essa diferença é significativa apenas para o domingo."
   ]
  },
  {
   "cell_type": "code",
   "execution_count": 90,
   "id": "uniform-header",
   "metadata": {},
   "outputs": [
    {
     "data": {
      "text/html": [
       "<div>\n",
       "<style scoped>\n",
       "    .dataframe tbody tr th:only-of-type {\n",
       "        vertical-align: middle;\n",
       "    }\n",
       "\n",
       "    .dataframe tbody tr th {\n",
       "        vertical-align: top;\n",
       "    }\n",
       "\n",
       "    .dataframe thead th {\n",
       "        text-align: right;\n",
       "    }\n",
       "</style>\n",
       "<table border=\"1\" class=\"dataframe\">\n",
       "  <thead>\n",
       "    <tr style=\"text-align: right;\">\n",
       "      <th></th>\n",
       "      <th>mes</th>\n",
       "      <th>consumo_L</th>\n",
       "    </tr>\n",
       "  </thead>\n",
       "  <tbody>\n",
       "    <tr>\n",
       "      <th>4</th>\n",
       "      <td>janeiro</td>\n",
       "      <td>23622.0</td>\n",
       "    </tr>\n",
       "    <tr>\n",
       "      <th>3</th>\n",
       "      <td>fevereiro</td>\n",
       "      <td>25032.0</td>\n",
       "    </tr>\n",
       "    <tr>\n",
       "      <th>8</th>\n",
       "      <td>março</td>\n",
       "      <td>21610.0</td>\n",
       "    </tr>\n",
       "    <tr>\n",
       "      <th>0</th>\n",
       "      <td>abril</td>\n",
       "      <td>21367.0</td>\n",
       "    </tr>\n",
       "    <tr>\n",
       "      <th>7</th>\n",
       "      <td>maio</td>\n",
       "      <td>20759.0</td>\n",
       "    </tr>\n",
       "    <tr>\n",
       "      <th>6</th>\n",
       "      <td>junho</td>\n",
       "      <td>22187.0</td>\n",
       "    </tr>\n",
       "    <tr>\n",
       "      <th>5</th>\n",
       "      <td>julho</td>\n",
       "      <td>19624.0</td>\n",
       "    </tr>\n",
       "    <tr>\n",
       "      <th>1</th>\n",
       "      <td>agosto</td>\n",
       "      <td>22228.0</td>\n",
       "    </tr>\n",
       "    <tr>\n",
       "      <th>11</th>\n",
       "      <td>setembro</td>\n",
       "      <td>24180.0</td>\n",
       "    </tr>\n",
       "    <tr>\n",
       "      <th>10</th>\n",
       "      <td>outubro</td>\n",
       "      <td>25919.0</td>\n",
       "    </tr>\n",
       "    <tr>\n",
       "      <th>9</th>\n",
       "      <td>novembro</td>\n",
       "      <td>23551.0</td>\n",
       "    </tr>\n",
       "    <tr>\n",
       "      <th>2</th>\n",
       "      <td>dezembro</td>\n",
       "      <td>25325.0</td>\n",
       "    </tr>\n",
       "  </tbody>\n",
       "</table>\n",
       "</div>"
      ],
      "text/plain": [
       "          mes  consumo_L\n",
       "4     janeiro    23622.0\n",
       "3   fevereiro    25032.0\n",
       "8       março    21610.0\n",
       "0       abril    21367.0\n",
       "7        maio    20759.0\n",
       "6       junho    22187.0\n",
       "5       julho    19624.0\n",
       "1      agosto    22228.0\n",
       "11   setembro    24180.0\n",
       "10    outubro    25919.0\n",
       "9    novembro    23551.0\n",
       "2    dezembro    25325.0"
      ]
     },
     "execution_count": 90,
     "metadata": {},
     "output_type": "execute_result"
    }
   ],
   "source": [
    "df_aux = df_consumo_cerveja_limpo[['mes', 'consumo_L']].groupby('mes')\\\n",
    "                                                                .agg({'consumo_L':'mean'})\\\n",
    "                                                                .round(0)\\\n",
    "                                                                .reset_index()\n",
    "\n",
    "df_aux.mes = pd.Categorical(df_aux.mes,\n",
    "                                   ['janeiro', \n",
    "                                    'fevereiro', \n",
    "                                    'março', \n",
    "                                    'abril', \n",
    "                                    'maio', \n",
    "                                    'junho', \n",
    "                                    'julho', \n",
    "                                    'agosto', \n",
    "                                    'setembro', \n",
    "                                    'outubro', \n",
    "                                    'novembro', \n",
    "                                    'dezembro'], \n",
    "                                   ordered=True)\n",
    "\n",
    "\n",
    "df_aux.sort_values('mes')"
   ]
  },
  {
   "cell_type": "code",
   "execution_count": 91,
   "id": "confidential-swiss",
   "metadata": {},
   "outputs": [
    {
     "name": "stdout",
     "output_type": "stream",
     "text": [
      "<class 'pandas.core.frame.DataFrame'>\n",
      "RangeIndex: 12 entries, 0 to 11\n",
      "Data columns (total 2 columns):\n",
      " #   Column     Non-Null Count  Dtype   \n",
      "---  ------     --------------  -----   \n",
      " 0   mes        12 non-null     category\n",
      " 1   consumo_L  12 non-null     int64   \n",
      "dtypes: category(1), int64(1)\n",
      "memory usage: 632.0 bytes\n"
     ]
    }
   ],
   "source": [
    "df_aux.consumo_L = df_aux.consumo_L.astype(int)\n",
    "df_aux.info()"
   ]
  },
  {
   "cell_type": "code",
   "execution_count": 96,
   "id": "fluid-jacob",
   "metadata": {},
   "outputs": [
    {
     "data": {
      "text/plain": [
       "Text(0.5, 1.0, 'Consumo de cerveja por mes')"
      ]
     },
     "execution_count": 96,
     "metadata": {},
     "output_type": "execute_result"
    },
    {
     "data": {
      "image/png": "[encoded data removed]",
      "text/plain": [
       "<Figure size 1152x432 with 1 Axes>"
      ]
     },
     "metadata": {
      "needs_background": "light"
     },
     "output_type": "display_data"
    }
   ],
   "source": [
    "plt.figure(figsize=(16, 6))\n",
    "ax = sns.lineplot(data=df_aux, x='mes', y='consumo_L')\n",
    "\n",
    "ax.set_xlabel('')\n",
    "ax.set_ylabel('')\n",
    "\n",
    "ax.set_yticks(np.arange(19000, 28000, 1000, dtype=object))\n",
    "ax.set_yticklabels([label + 'k' for label in list(map(str, np.arange(19, 28, 1, dtype=object)))])\n",
    "\n",
    "plt.title('Consumo de cerveja por mes')"
   ]
  },
  {
   "cell_type": "markdown",
   "id": "small-chinese",
   "metadata": {},
   "source": [
    "## temp_media_c"
   ]
  },
  {
   "cell_type": "code",
   "execution_count": 46,
   "id": "intimate-facility",
   "metadata": {},
   "outputs": [
    {
     "data": {
      "text/html": [
       "<div>\n",
       "<style scoped>\n",
       "    .dataframe tbody tr th:only-of-type {\n",
       "        vertical-align: middle;\n",
       "    }\n",
       "\n",
       "    .dataframe tbody tr th {\n",
       "        vertical-align: top;\n",
       "    }\n",
       "\n",
       "    .dataframe thead th {\n",
       "        text-align: right;\n",
       "    }\n",
       "</style>\n",
       "<table border=\"1\" class=\"dataframe\">\n",
       "  <thead>\n",
       "    <tr style=\"text-align: right;\">\n",
       "      <th></th>\n",
       "      <th>temp_media_c</th>\n",
       "    </tr>\n",
       "  </thead>\n",
       "  <tbody>\n",
       "    <tr>\n",
       "      <th>count</th>\n",
       "      <td>365.00</td>\n",
       "    </tr>\n",
       "    <tr>\n",
       "      <th>mean</th>\n",
       "      <td>21.23</td>\n",
       "    </tr>\n",
       "    <tr>\n",
       "      <th>std</th>\n",
       "      <td>3.18</td>\n",
       "    </tr>\n",
       "    <tr>\n",
       "      <th>min</th>\n",
       "      <td>12.90</td>\n",
       "    </tr>\n",
       "    <tr>\n",
       "      <th>25%</th>\n",
       "      <td>19.02</td>\n",
       "    </tr>\n",
       "    <tr>\n",
       "      <th>50%</th>\n",
       "      <td>21.38</td>\n",
       "    </tr>\n",
       "    <tr>\n",
       "      <th>75%</th>\n",
       "      <td>23.28</td>\n",
       "    </tr>\n",
       "    <tr>\n",
       "      <th>max</th>\n",
       "      <td>28.86</td>\n",
       "    </tr>\n",
       "  </tbody>\n",
       "</table>\n",
       "</div>"
      ],
      "text/plain": [
       "       temp_media_c\n",
       "count        365.00\n",
       "mean          21.23\n",
       "std            3.18\n",
       "min           12.90\n",
       "25%           19.02\n",
       "50%           21.38\n",
       "75%           23.28\n",
       "max           28.86"
      ]
     },
     "execution_count": 46,
     "metadata": {},
     "output_type": "execute_result"
    }
   ],
   "source": [
    "pd.DataFrame(df_consumo_cerveja_limpo[['temp_media_c']].describe().round(2))"
   ]
  },
  {
   "cell_type": "code",
   "execution_count": 47,
   "id": "neutral-diabetes",
   "metadata": {},
   "outputs": [
    {
     "data": {
      "text/plain": [
       "<AxesSubplot:xlabel='temp_media_c'>"
      ]
     },
     "execution_count": 47,
     "metadata": {},
     "output_type": "execute_result"
    },
    {
     "data": {
      "image/png": "[encoded data removed]",
      "text/plain": [
       "<Figure size 1080x720 with 2 Axes>"
      ]
     },
     "metadata": {
      "needs_background": "light"
     },
     "output_type": "display_data"
    }
   ],
   "source": [
    "fig, axs = plt.subplots(2, figsize=(15,10))\n",
    "\n",
    "sns.histplot(data=df_consumo_cerveja_limpo, x='temp_media_c', ax=axs[0], kde=True)\n",
    "sns.boxplot(data=df_consumo_cerveja_limpo, x='temp_media_c', ax=axs[1])"
   ]
  },
  {
   "cell_type": "markdown",
   "id": "representative-generic",
   "metadata": {},
   "source": [
    "Nota-se que a temperatura média ficou em torno de 21ºC com desvio padrão de 3ºC com uma distribução normanl. Desta forma, compreende-se que não foi um ano marcado por altas temperaturas."
   ]
  },
  {
   "cell_type": "markdown",
   "id": "moved-paste",
   "metadata": {},
   "source": [
    "## precipitacao_mm"
   ]
  },
  {
   "cell_type": "code",
   "execution_count": 48,
   "id": "loaded-blast",
   "metadata": {},
   "outputs": [
    {
     "data": {
      "text/plain": [
       "<AxesSubplot:xlabel='precipitacao_mm'>"
      ]
     },
     "execution_count": 48,
     "metadata": {},
     "output_type": "execute_result"
    },
    {
     "data": {
      "image/png": "[encoded data removed]",
      "text/plain": [
       "<Figure size 1080x720 with 2 Axes>"
      ]
     },
     "metadata": {
      "needs_background": "light"
     },
     "output_type": "display_data"
    }
   ],
   "source": [
    "fig, axs = plt.subplots(2, figsize=(15,10))\n",
    "\n",
    "sns.histplot(data=df_consumo_cerveja_limpo, x='precipitacao_mm', ax=axs[0])\n",
    "sns.boxplot(data=df_consumo_cerveja_limpo, x='precipitacao_mm', ax=axs[1])"
   ]
  },
  {
   "cell_type": "code",
   "execution_count": 49,
   "id": "invisible-disorder",
   "metadata": {},
   "outputs": [
    {
     "data": {
      "text/html": [
       "<div>\n",
       "<style scoped>\n",
       "    .dataframe tbody tr th:only-of-type {\n",
       "        vertical-align: middle;\n",
       "    }\n",
       "\n",
       "    .dataframe tbody tr th {\n",
       "        vertical-align: top;\n",
       "    }\n",
       "\n",
       "    .dataframe thead th {\n",
       "        text-align: right;\n",
       "    }\n",
       "</style>\n",
       "<table border=\"1\" class=\"dataframe\">\n",
       "  <thead>\n",
       "    <tr style=\"text-align: right;\">\n",
       "      <th></th>\n",
       "      <th>precipitacao_mm</th>\n",
       "    </tr>\n",
       "  </thead>\n",
       "  <tbody>\n",
       "    <tr>\n",
       "      <th>count</th>\n",
       "      <td>365.00</td>\n",
       "    </tr>\n",
       "    <tr>\n",
       "      <th>mean</th>\n",
       "      <td>5.20</td>\n",
       "    </tr>\n",
       "    <tr>\n",
       "      <th>std</th>\n",
       "      <td>12.42</td>\n",
       "    </tr>\n",
       "    <tr>\n",
       "      <th>min</th>\n",
       "      <td>0.00</td>\n",
       "    </tr>\n",
       "    <tr>\n",
       "      <th>25%</th>\n",
       "      <td>0.00</td>\n",
       "    </tr>\n",
       "    <tr>\n",
       "      <th>50%</th>\n",
       "      <td>0.00</td>\n",
       "    </tr>\n",
       "    <tr>\n",
       "      <th>75%</th>\n",
       "      <td>3.20</td>\n",
       "    </tr>\n",
       "    <tr>\n",
       "      <th>max</th>\n",
       "      <td>94.80</td>\n",
       "    </tr>\n",
       "  </tbody>\n",
       "</table>\n",
       "</div>"
      ],
      "text/plain": [
       "       precipitacao_mm\n",
       "count           365.00\n",
       "mean              5.20\n",
       "std              12.42\n",
       "min               0.00\n",
       "25%               0.00\n",
       "50%               0.00\n",
       "75%               3.20\n",
       "max              94.80"
      ]
     },
     "execution_count": 49,
     "metadata": {},
     "output_type": "execute_result"
    }
   ],
   "source": [
    "pd.DataFrame(df_consumo_cerveja_limpo.precipitacao_mm.describe().round(2))"
   ]
  },
  {
   "cell_type": "code",
   "execution_count": 50,
   "id": "fitting-romance",
   "metadata": {},
   "outputs": [
    {
     "data": {
      "text/html": [
       "<div>\n",
       "<style scoped>\n",
       "    .dataframe tbody tr th:only-of-type {\n",
       "        vertical-align: middle;\n",
       "    }\n",
       "\n",
       "    .dataframe tbody tr th {\n",
       "        vertical-align: top;\n",
       "    }\n",
       "\n",
       "    .dataframe thead th {\n",
       "        text-align: right;\n",
       "    }\n",
       "</style>\n",
       "<table border=\"1\" class=\"dataframe\">\n",
       "  <thead>\n",
       "    <tr style=\"text-align: right;\">\n",
       "      <th></th>\n",
       "      <th>precipitacao_mm</th>\n",
       "      <th>count</th>\n",
       "    </tr>\n",
       "  </thead>\n",
       "  <tbody>\n",
       "    <tr>\n",
       "      <th>0</th>\n",
       "      <td>0.0</td>\n",
       "      <td>218</td>\n",
       "    </tr>\n",
       "    <tr>\n",
       "      <th>1</th>\n",
       "      <td>0.1</td>\n",
       "      <td>6</td>\n",
       "    </tr>\n",
       "    <tr>\n",
       "      <th>2</th>\n",
       "      <td>0.2</td>\n",
       "      <td>4</td>\n",
       "    </tr>\n",
       "    <tr>\n",
       "      <th>3</th>\n",
       "      <td>0.3</td>\n",
       "      <td>2</td>\n",
       "    </tr>\n",
       "    <tr>\n",
       "      <th>4</th>\n",
       "      <td>0.4</td>\n",
       "      <td>3</td>\n",
       "    </tr>\n",
       "    <tr>\n",
       "      <th>...</th>\n",
       "      <td>...</td>\n",
       "      <td>...</td>\n",
       "    </tr>\n",
       "    <tr>\n",
       "      <th>88</th>\n",
       "      <td>58.0</td>\n",
       "      <td>1</td>\n",
       "    </tr>\n",
       "    <tr>\n",
       "      <th>89</th>\n",
       "      <td>69.2</td>\n",
       "      <td>1</td>\n",
       "    </tr>\n",
       "    <tr>\n",
       "      <th>90</th>\n",
       "      <td>77.0</td>\n",
       "      <td>1</td>\n",
       "    </tr>\n",
       "    <tr>\n",
       "      <th>91</th>\n",
       "      <td>85.3</td>\n",
       "      <td>1</td>\n",
       "    </tr>\n",
       "    <tr>\n",
       "      <th>92</th>\n",
       "      <td>94.8</td>\n",
       "      <td>1</td>\n",
       "    </tr>\n",
       "  </tbody>\n",
       "</table>\n",
       "<p>93 rows × 2 columns</p>\n",
       "</div>"
      ],
      "text/plain": [
       "    precipitacao_mm  count\n",
       "0               0.0    218\n",
       "1               0.1      6\n",
       "2               0.2      4\n",
       "3               0.3      2\n",
       "4               0.4      3\n",
       "..              ...    ...\n",
       "88             58.0      1\n",
       "89             69.2      1\n",
       "90             77.0      1\n",
       "91             85.3      1\n",
       "92             94.8      1\n",
       "\n",
       "[93 rows x 2 columns]"
      ]
     },
     "execution_count": 50,
     "metadata": {},
     "output_type": "execute_result"
    }
   ],
   "source": [
    "df_consumo_cerveja_limpo.groupby('precipitacao_mm').agg({'data':'count'}).rename(columns={'data':'count'}).reset_index()"
   ]
  },
  {
   "cell_type": "markdown",
   "id": "leading-retreat",
   "metadata": {},
   "source": [
    "**Chuva fraca**: quando a intensidade é inferior a 2,5 milímetros por hora (mm/h);\n",
    "    \n",
    "**Chuva moderada**: quando a intensidade é igual ou superior a 2,5 mm/h mas inferior a 10 mm/h;\n",
    "    \n",
    "**Chuva forte**: quando a intensidade é igual ou superior a 10 mm/h mas inferior a 50 mm/h;\n",
    "    \n",
    "**Chuva violenta**: quando a intensidade é superior a 50 mm/h (geralmente sob a forma de aguaceiros).\n",
    "\n",
    "Fonte: Organização Meteorológica Mundial (2008). Guide to Meteorological Instruments and Methods of Observation - (WMO-No. 8) (PDF) (em inglês). Genebra, Suíça: Organização Meteorológica Mundial. p. I.14–9. ISBN 978-92-63-10008-5. Consultado em 4 de julho de 2019"
   ]
  },
  {
   "cell_type": "code",
   "execution_count": 51,
   "id": "preliminary-attraction",
   "metadata": {},
   "outputs": [
    {
     "data": {
      "text/html": [
       "<div>\n",
       "<style scoped>\n",
       "    .dataframe tbody tr th:only-of-type {\n",
       "        vertical-align: middle;\n",
       "    }\n",
       "\n",
       "    .dataframe tbody tr th {\n",
       "        vertical-align: top;\n",
       "    }\n",
       "\n",
       "    .dataframe thead th {\n",
       "        text-align: right;\n",
       "    }\n",
       "</style>\n",
       "<table border=\"1\" class=\"dataframe\">\n",
       "  <thead>\n",
       "    <tr style=\"text-align: right;\">\n",
       "      <th></th>\n",
       "      <th>data</th>\n",
       "      <th>dia_semana</th>\n",
       "      <th>mes</th>\n",
       "      <th>fds</th>\n",
       "      <th>temp_media_c</th>\n",
       "      <th>temp_min_c</th>\n",
       "      <th>temp_max_c</th>\n",
       "      <th>precipitacao_mm</th>\n",
       "      <th>consumo_L</th>\n",
       "    </tr>\n",
       "    <tr>\n",
       "      <th>precipitacao_mm</th>\n",
       "      <th></th>\n",
       "      <th></th>\n",
       "      <th></th>\n",
       "      <th></th>\n",
       "      <th></th>\n",
       "      <th></th>\n",
       "      <th></th>\n",
       "      <th></th>\n",
       "      <th></th>\n",
       "    </tr>\n",
       "  </thead>\n",
       "  <tbody>\n",
       "    <tr>\n",
       "      <th>[0.0, 2.5)</th>\n",
       "      <td>267</td>\n",
       "      <td>267</td>\n",
       "      <td>267</td>\n",
       "      <td>267</td>\n",
       "      <td>267</td>\n",
       "      <td>267</td>\n",
       "      <td>267</td>\n",
       "      <td>267</td>\n",
       "      <td>267</td>\n",
       "    </tr>\n",
       "    <tr>\n",
       "      <th>[2.5, 10.0)</th>\n",
       "      <td>39</td>\n",
       "      <td>39</td>\n",
       "      <td>39</td>\n",
       "      <td>39</td>\n",
       "      <td>39</td>\n",
       "      <td>39</td>\n",
       "      <td>39</td>\n",
       "      <td>39</td>\n",
       "      <td>39</td>\n",
       "    </tr>\n",
       "    <tr>\n",
       "      <th>[10.0, 50.0)</th>\n",
       "      <td>54</td>\n",
       "      <td>54</td>\n",
       "      <td>54</td>\n",
       "      <td>54</td>\n",
       "      <td>54</td>\n",
       "      <td>54</td>\n",
       "      <td>54</td>\n",
       "      <td>54</td>\n",
       "      <td>54</td>\n",
       "    </tr>\n",
       "    <tr>\n",
       "      <th>[50.0, 100.0)</th>\n",
       "      <td>5</td>\n",
       "      <td>5</td>\n",
       "      <td>5</td>\n",
       "      <td>5</td>\n",
       "      <td>5</td>\n",
       "      <td>5</td>\n",
       "      <td>5</td>\n",
       "      <td>5</td>\n",
       "      <td>5</td>\n",
       "    </tr>\n",
       "  </tbody>\n",
       "</table>\n",
       "</div>"
      ],
      "text/plain": [
       "                 data  dia_semana  mes  fds  temp_media_c  temp_min_c  \\\n",
       "precipitacao_mm                                                         \n",
       "[0.0, 2.5)        267         267  267  267           267         267   \n",
       "[2.5, 10.0)        39          39   39   39            39          39   \n",
       "[10.0, 50.0)       54          54   54   54            54          54   \n",
       "[50.0, 100.0)       5           5    5    5             5           5   \n",
       "\n",
       "                 temp_max_c  precipitacao_mm  consumo_L  \n",
       "precipitacao_mm                                          \n",
       "[0.0, 2.5)              267              267        267  \n",
       "[2.5, 10.0)              39               39         39  \n",
       "[10.0, 50.0)             54               54         54  \n",
       "[50.0, 100.0)             5                5          5  "
      ]
     },
     "execution_count": 51,
     "metadata": {},
     "output_type": "execute_result"
    }
   ],
   "source": [
    "df_consumo_cerveja_limpo.groupby(pd.cut(df_consumo_cerveja_limpo[\"precipitacao_mm\"], [0, 2.5, 10, 50, 100], right=False)).count()"
   ]
  },
  {
   "cell_type": "markdown",
   "id": "verified-subscriber",
   "metadata": {},
   "source": [
    "Apesar da métrica ser em hora e a base contar apenas com a precipitação do dia, para fins de análise, podemos supor que:\n",
    "   \n",
    "    » aproximadamente 60% dos dias não houve chuva;\n",
    "    \n",
    "    » 23% houve no máximo uma chuva fraca a moderada."
   ]
  },
  {
   "cell_type": "markdown",
   "id": "clinical-steal",
   "metadata": {},
   "source": [
    "## Consumo de Cerveja em Litros"
   ]
  },
  {
   "cell_type": "code",
   "execution_count": 52,
   "id": "vanilla-lloyd",
   "metadata": {},
   "outputs": [
    {
     "data": {
      "text/html": [
       "<div>\n",
       "<style scoped>\n",
       "    .dataframe tbody tr th:only-of-type {\n",
       "        vertical-align: middle;\n",
       "    }\n",
       "\n",
       "    .dataframe tbody tr th {\n",
       "        vertical-align: top;\n",
       "    }\n",
       "\n",
       "    .dataframe thead th {\n",
       "        text-align: right;\n",
       "    }\n",
       "</style>\n",
       "<table border=\"1\" class=\"dataframe\">\n",
       "  <thead>\n",
       "    <tr style=\"text-align: right;\">\n",
       "      <th></th>\n",
       "      <th>consumo_L</th>\n",
       "    </tr>\n",
       "  </thead>\n",
       "  <tbody>\n",
       "    <tr>\n",
       "      <th>count</th>\n",
       "      <td>365.00</td>\n",
       "    </tr>\n",
       "    <tr>\n",
       "      <th>mean</th>\n",
       "      <td>22934.63</td>\n",
       "    </tr>\n",
       "    <tr>\n",
       "      <th>std</th>\n",
       "      <td>8140.30</td>\n",
       "    </tr>\n",
       "    <tr>\n",
       "      <th>min</th>\n",
       "      <td>203.00</td>\n",
       "    </tr>\n",
       "    <tr>\n",
       "      <th>25%</th>\n",
       "      <td>21092.00</td>\n",
       "    </tr>\n",
       "    <tr>\n",
       "      <th>50%</th>\n",
       "      <td>24304.00</td>\n",
       "    </tr>\n",
       "    <tr>\n",
       "      <th>75%</th>\n",
       "      <td>28034.00</td>\n",
       "    </tr>\n",
       "    <tr>\n",
       "      <th>max</th>\n",
       "      <td>37937.00</td>\n",
       "    </tr>\n",
       "  </tbody>\n",
       "</table>\n",
       "</div>"
      ],
      "text/plain": [
       "       consumo_L\n",
       "count     365.00\n",
       "mean    22934.63\n",
       "std      8140.30\n",
       "min       203.00\n",
       "25%     21092.00\n",
       "50%     24304.00\n",
       "75%     28034.00\n",
       "max     37937.00"
      ]
     },
     "execution_count": 52,
     "metadata": {},
     "output_type": "execute_result"
    }
   ],
   "source": [
    "pd.DataFrame(df_consumo_cerveja_limpo.consumo_L.describe().round(2))"
   ]
  },
  {
   "cell_type": "code",
   "execution_count": 53,
   "id": "knowing-shift",
   "metadata": {},
   "outputs": [
    {
     "data": {
      "text/plain": [
       "<AxesSubplot:xlabel='consumo_L'>"
      ]
     },
     "execution_count": 53,
     "metadata": {},
     "output_type": "execute_result"
    },
    {
     "data": {
      "image/png": "[encoded data removed]",
      "text/plain": [
       "<Figure size 1080x720 with 2 Axes>"
      ]
     },
     "metadata": {
      "needs_background": "light"
     },
     "output_type": "display_data"
    }
   ],
   "source": [
    "fig, axs = plt.subplots(2, figsize=(15,10))\n",
    "\n",
    "sns.histplot(data=df_consumo_cerveja_limpo, x='consumo_L', kde=True, ax=axs[0])\n",
    "sns.boxplot(data=df_consumo_cerveja_limpo, x='consumo_L', ax=axs[1], showfliers = False)"
   ]
  },
  {
   "cell_type": "markdown",
   "id": "aboriginal-manner",
   "metadata": {},
   "source": [
    "Nota-se que 50% dos dados estão concentrados em um espaço menor do que 1 desvio padrão das variáveis. Através do histograma, podemos perceber quase que uma distribuição normal. Não consideraria como bimodal pois entendo que os dias com menos de 5000L são outliers."
   ]
  },
  {
   "cell_type": "markdown",
   "id": "simple-parliament",
   "metadata": {},
   "source": [
    "## Correlação Entre Preciptação e Consumo de Cerveja"
   ]
  },
  {
   "cell_type": "code",
   "execution_count": 145,
   "id": "egyptian-sleep",
   "metadata": {},
   "outputs": [
    {
     "data": {
      "text/html": [
       "<div>\n",
       "<style scoped>\n",
       "    .dataframe tbody tr th:only-of-type {\n",
       "        vertical-align: middle;\n",
       "    }\n",
       "\n",
       "    .dataframe tbody tr th {\n",
       "        vertical-align: top;\n",
       "    }\n",
       "\n",
       "    .dataframe thead th {\n",
       "        text-align: right;\n",
       "    }\n",
       "</style>\n",
       "<table border=\"1\" class=\"dataframe\">\n",
       "  <thead>\n",
       "    <tr style=\"text-align: right;\">\n",
       "      <th></th>\n",
       "      <th>precipitacao_mm</th>\n",
       "      <th>consumo_L</th>\n",
       "    </tr>\n",
       "  </thead>\n",
       "  <tbody>\n",
       "    <tr>\n",
       "      <th>precipitacao_mm</th>\n",
       "      <td>1.00</td>\n",
       "      <td>-0.04</td>\n",
       "    </tr>\n",
       "    <tr>\n",
       "      <th>consumo_L</th>\n",
       "      <td>-0.04</td>\n",
       "      <td>1.00</td>\n",
       "    </tr>\n",
       "  </tbody>\n",
       "</table>\n",
       "</div>"
      ],
      "text/plain": [
       "                 precipitacao_mm  consumo_L\n",
       "precipitacao_mm             1.00      -0.04\n",
       "consumo_L                  -0.04       1.00"
      ]
     },
     "execution_count": 145,
     "metadata": {},
     "output_type": "execute_result"
    }
   ],
   "source": [
    "df_consumo_cerveja_limpo[['precipitacao_mm', 'consumo_L']].corr().round(2)"
   ]
  },
  {
   "cell_type": "markdown",
   "id": "rotary-directory",
   "metadata": {},
   "source": [
    "A correlação entre as variáveis se aproximam muito de 0 indicando que não há ligação direta entre as variáveis, ou seja, a chuva não influência na quantidade de cerveja consumida entre as pessoas."
   ]
  },
  {
   "cell_type": "markdown",
   "id": "reverse-fluid",
   "metadata": {},
   "source": [
    "## Correlação Entre Temperatura média e Consumo de Cerveja"
   ]
  },
  {
   "cell_type": "code",
   "execution_count": 55,
   "id": "irish-party",
   "metadata": {},
   "outputs": [
    {
     "data": {
      "text/html": [
       "<div>\n",
       "<style scoped>\n",
       "    .dataframe tbody tr th:only-of-type {\n",
       "        vertical-align: middle;\n",
       "    }\n",
       "\n",
       "    .dataframe tbody tr th {\n",
       "        vertical-align: top;\n",
       "    }\n",
       "\n",
       "    .dataframe thead th {\n",
       "        text-align: right;\n",
       "    }\n",
       "</style>\n",
       "<table border=\"1\" class=\"dataframe\">\n",
       "  <thead>\n",
       "    <tr style=\"text-align: right;\">\n",
       "      <th></th>\n",
       "      <th>temp_media_c</th>\n",
       "      <th>consumo_L</th>\n",
       "    </tr>\n",
       "  </thead>\n",
       "  <tbody>\n",
       "    <tr>\n",
       "      <th>temp_media_c</th>\n",
       "      <td>1.00</td>\n",
       "      <td>0.26</td>\n",
       "    </tr>\n",
       "    <tr>\n",
       "      <th>consumo_L</th>\n",
       "      <td>0.26</td>\n",
       "      <td>1.00</td>\n",
       "    </tr>\n",
       "  </tbody>\n",
       "</table>\n",
       "</div>"
      ],
      "text/plain": [
       "              temp_media_c  consumo_L\n",
       "temp_media_c          1.00       0.26\n",
       "consumo_L             0.26       1.00"
      ]
     },
     "execution_count": 55,
     "metadata": {},
     "output_type": "execute_result"
    }
   ],
   "source": [
    "df_consumo_cerveja_limpo[['temp_media_c', 'consumo_L']].corr().round(2)"
   ]
  },
  {
   "cell_type": "markdown",
   "id": "ongoing-rebound",
   "metadata": {},
   "source": [
    "Como na análise da precipitação com o consumo de cerveja, o coeficiente de correlação não indica de forma clara que a temperatura do dia influencia no consumo de cerveja.\n",
    "\n",
    "Agora, vou observar a média ponderada de litros de cerveja consumidos pela temperatuda média do dia"
   ]
  },
  {
   "cell_type": "code",
   "execution_count": 220,
   "id": "ambient-physiology",
   "metadata": {},
   "outputs": [
    {
     "data": {
      "text/html": [
       "<div>\n",
       "<style scoped>\n",
       "    .dataframe tbody tr th:only-of-type {\n",
       "        vertical-align: middle;\n",
       "    }\n",
       "\n",
       "    .dataframe tbody tr th {\n",
       "        vertical-align: top;\n",
       "    }\n",
       "\n",
       "    .dataframe thead th {\n",
       "        text-align: right;\n",
       "    }\n",
       "</style>\n",
       "<table border=\"1\" class=\"dataframe\">\n",
       "  <thead>\n",
       "    <tr style=\"text-align: right;\">\n",
       "      <th></th>\n",
       "      <th>data</th>\n",
       "      <th>temp_media_c</th>\n",
       "      <th>consumo_L</th>\n",
       "    </tr>\n",
       "  </thead>\n",
       "  <tbody>\n",
       "    <tr>\n",
       "      <th>0</th>\n",
       "      <td>2015-01-01</td>\n",
       "      <td>27</td>\n",
       "      <td>25461</td>\n",
       "    </tr>\n",
       "    <tr>\n",
       "      <th>1</th>\n",
       "      <td>2015-01-02</td>\n",
       "      <td>27</td>\n",
       "      <td>28972</td>\n",
       "    </tr>\n",
       "    <tr>\n",
       "      <th>2</th>\n",
       "      <td>2015-01-03</td>\n",
       "      <td>25</td>\n",
       "      <td>30814</td>\n",
       "    </tr>\n",
       "    <tr>\n",
       "      <th>3</th>\n",
       "      <td>2015-01-04</td>\n",
       "      <td>24</td>\n",
       "      <td>29799</td>\n",
       "    </tr>\n",
       "    <tr>\n",
       "      <th>4</th>\n",
       "      <td>2015-01-05</td>\n",
       "      <td>24</td>\n",
       "      <td>289</td>\n",
       "    </tr>\n",
       "  </tbody>\n",
       "</table>\n",
       "</div>"
      ],
      "text/plain": [
       "         data  temp_media_c  consumo_L\n",
       "0  2015-01-01            27      25461\n",
       "1  2015-01-02            27      28972\n",
       "2  2015-01-03            25      30814\n",
       "3  2015-01-04            24      29799\n",
       "4  2015-01-05            24        289"
      ]
     },
     "execution_count": 220,
     "metadata": {},
     "output_type": "execute_result"
    }
   ],
   "source": [
    "df_aux = df_consumo_cerveja_limpo[['data', 'temp_media_c', 'consumo_L']].copy()\n",
    "df_aux.temp_media_c = df_aux.temp_media_c.round(0).astype(int)\n",
    "df_aux.consumo_L = df_aux.consumo_L.astype(int)\n",
    "df_aux.head()"
   ]
  },
  {
   "cell_type": "markdown",
   "id": "acquired-thirty",
   "metadata": {},
   "source": [
    "Extraindo a quantidade de amostrar por temperatura media"
   ]
  },
  {
   "cell_type": "code",
   "execution_count": 219,
   "id": "understood-chance",
   "metadata": {},
   "outputs": [
    {
     "data": {
      "text/html": [
       "<div>\n",
       "<style scoped>\n",
       "    .dataframe tbody tr th:only-of-type {\n",
       "        vertical-align: middle;\n",
       "    }\n",
       "\n",
       "    .dataframe tbody tr th {\n",
       "        vertical-align: top;\n",
       "    }\n",
       "\n",
       "    .dataframe thead th {\n",
       "        text-align: right;\n",
       "    }\n",
       "</style>\n",
       "<table border=\"1\" class=\"dataframe\">\n",
       "  <thead>\n",
       "    <tr style=\"text-align: right;\">\n",
       "      <th></th>\n",
       "      <th>qtd_amostras</th>\n",
       "    </tr>\n",
       "    <tr>\n",
       "      <th>temp_media_c</th>\n",
       "      <th></th>\n",
       "    </tr>\n",
       "  </thead>\n",
       "  <tbody>\n",
       "    <tr>\n",
       "      <th>13</th>\n",
       "      <td>1</td>\n",
       "    </tr>\n",
       "    <tr>\n",
       "      <th>14</th>\n",
       "      <td>2</td>\n",
       "    </tr>\n",
       "    <tr>\n",
       "      <th>15</th>\n",
       "      <td>9</td>\n",
       "    </tr>\n",
       "    <tr>\n",
       "      <th>16</th>\n",
       "      <td>19</td>\n",
       "    </tr>\n",
       "    <tr>\n",
       "      <th>17</th>\n",
       "      <td>26</td>\n",
       "    </tr>\n",
       "  </tbody>\n",
       "</table>\n",
       "</div>"
      ],
      "text/plain": [
       "              qtd_amostras\n",
       "temp_media_c              \n",
       "13                       1\n",
       "14                       2\n",
       "15                       9\n",
       "16                      19\n",
       "17                      26"
      ]
     },
     "execution_count": 219,
     "metadata": {},
     "output_type": "execute_result"
    }
   ],
   "source": [
    "df_aux_qtd_amostras = df_aux.groupby('temp_media_c').agg({'data':'count'}).rename(columns={'data':'qtd_amostras'})\n",
    "df_aux_qtd_amostras.head()"
   ]
  },
  {
   "cell_type": "markdown",
   "id": "sound-reminder",
   "metadata": {},
   "source": [
    "Somando o total litros consumidos por grau de temperatura"
   ]
  },
  {
   "cell_type": "code",
   "execution_count": 218,
   "id": "given-advertising",
   "metadata": {},
   "outputs": [
    {
     "data": {
      "text/html": [
       "<div>\n",
       "<style scoped>\n",
       "    .dataframe tbody tr th:only-of-type {\n",
       "        vertical-align: middle;\n",
       "    }\n",
       "\n",
       "    .dataframe tbody tr th {\n",
       "        vertical-align: top;\n",
       "    }\n",
       "\n",
       "    .dataframe thead th {\n",
       "        text-align: right;\n",
       "    }\n",
       "</style>\n",
       "<table border=\"1\" class=\"dataframe\">\n",
       "  <thead>\n",
       "    <tr style=\"text-align: right;\">\n",
       "      <th></th>\n",
       "      <th>consumo_L</th>\n",
       "    </tr>\n",
       "    <tr>\n",
       "      <th>temp_media_c</th>\n",
       "      <th></th>\n",
       "    </tr>\n",
       "  </thead>\n",
       "  <tbody>\n",
       "    <tr>\n",
       "      <th>13</th>\n",
       "      <td>21294</td>\n",
       "    </tr>\n",
       "    <tr>\n",
       "      <th>14</th>\n",
       "      <td>43066</td>\n",
       "    </tr>\n",
       "    <tr>\n",
       "      <th>15</th>\n",
       "      <td>167463</td>\n",
       "    </tr>\n",
       "    <tr>\n",
       "      <th>16</th>\n",
       "      <td>368444</td>\n",
       "    </tr>\n",
       "    <tr>\n",
       "      <th>17</th>\n",
       "      <td>527896</td>\n",
       "    </tr>\n",
       "  </tbody>\n",
       "</table>\n",
       "</div>"
      ],
      "text/plain": [
       "              consumo_L\n",
       "temp_media_c           \n",
       "13                21294\n",
       "14                43066\n",
       "15               167463\n",
       "16               368444\n",
       "17               527896"
      ]
     },
     "execution_count": 218,
     "metadata": {},
     "output_type": "execute_result"
    }
   ],
   "source": [
    "df_sum_by_temp_media = df_aux.groupby('temp_media_c').sum('consumo_L')\n",
    "df_sum_by_temp_media.head()"
   ]
  },
  {
   "cell_type": "markdown",
   "id": "dynamic-people",
   "metadata": {},
   "source": [
    "Fazendo o merge da quantidade de amostras pelo total da soma de litros consumidos e criação da tabela com a média ponderada."
   ]
  },
  {
   "cell_type": "code",
   "execution_count": 239,
   "id": "removable-holder",
   "metadata": {},
   "outputs": [
    {
     "data": {
      "text/html": [
       "<div>\n",
       "<style scoped>\n",
       "    .dataframe tbody tr th:only-of-type {\n",
       "        vertical-align: middle;\n",
       "    }\n",
       "\n",
       "    .dataframe tbody tr th {\n",
       "        vertical-align: top;\n",
       "    }\n",
       "\n",
       "    .dataframe thead th {\n",
       "        text-align: right;\n",
       "    }\n",
       "</style>\n",
       "<table border=\"1\" class=\"dataframe\">\n",
       "  <thead>\n",
       "    <tr style=\"text-align: right;\">\n",
       "      <th></th>\n",
       "      <th>temp_media_c</th>\n",
       "      <th>consumo_medio_L</th>\n",
       "    </tr>\n",
       "  </thead>\n",
       "  <tbody>\n",
       "    <tr>\n",
       "      <th>0</th>\n",
       "      <td>13</td>\n",
       "      <td>21294</td>\n",
       "    </tr>\n",
       "    <tr>\n",
       "      <th>1</th>\n",
       "      <td>14</td>\n",
       "      <td>21533</td>\n",
       "    </tr>\n",
       "    <tr>\n",
       "      <th>2</th>\n",
       "      <td>15</td>\n",
       "      <td>18607</td>\n",
       "    </tr>\n",
       "    <tr>\n",
       "      <th>3</th>\n",
       "      <td>16</td>\n",
       "      <td>19392</td>\n",
       "    </tr>\n",
       "    <tr>\n",
       "      <th>4</th>\n",
       "      <td>17</td>\n",
       "      <td>20304</td>\n",
       "    </tr>\n",
       "    <tr>\n",
       "      <th>5</th>\n",
       "      <td>18</td>\n",
       "      <td>19828</td>\n",
       "    </tr>\n",
       "    <tr>\n",
       "      <th>6</th>\n",
       "      <td>19</td>\n",
       "      <td>22275</td>\n",
       "    </tr>\n",
       "    <tr>\n",
       "      <th>7</th>\n",
       "      <td>20</td>\n",
       "      <td>21634</td>\n",
       "    </tr>\n",
       "    <tr>\n",
       "      <th>8</th>\n",
       "      <td>21</td>\n",
       "      <td>22219</td>\n",
       "    </tr>\n",
       "    <tr>\n",
       "      <th>9</th>\n",
       "      <td>22</td>\n",
       "      <td>22820</td>\n",
       "    </tr>\n",
       "    <tr>\n",
       "      <th>10</th>\n",
       "      <td>23</td>\n",
       "      <td>25125</td>\n",
       "    </tr>\n",
       "    <tr>\n",
       "      <th>11</th>\n",
       "      <td>24</td>\n",
       "      <td>25698</td>\n",
       "    </tr>\n",
       "    <tr>\n",
       "      <th>12</th>\n",
       "      <td>25</td>\n",
       "      <td>26404</td>\n",
       "    </tr>\n",
       "    <tr>\n",
       "      <th>13</th>\n",
       "      <td>26</td>\n",
       "      <td>24484</td>\n",
       "    </tr>\n",
       "    <tr>\n",
       "      <th>14</th>\n",
       "      <td>27</td>\n",
       "      <td>25902</td>\n",
       "    </tr>\n",
       "    <tr>\n",
       "      <th>15</th>\n",
       "      <td>28</td>\n",
       "      <td>30680</td>\n",
       "    </tr>\n",
       "    <tr>\n",
       "      <th>16</th>\n",
       "      <td>29</td>\n",
       "      <td>3769</td>\n",
       "    </tr>\n",
       "  </tbody>\n",
       "</table>\n",
       "</div>"
      ],
      "text/plain": [
       "    temp_media_c  consumo_medio_L\n",
       "0             13            21294\n",
       "1             14            21533\n",
       "2             15            18607\n",
       "3             16            19392\n",
       "4             17            20304\n",
       "5             18            19828\n",
       "6             19            22275\n",
       "7             20            21634\n",
       "8             21            22219\n",
       "9             22            22820\n",
       "10            23            25125\n",
       "11            24            25698\n",
       "12            25            26404\n",
       "13            26            24484\n",
       "14            27            25902\n",
       "15            28            30680\n",
       "16            29             3769"
      ]
     },
     "execution_count": 239,
     "metadata": {},
     "output_type": "execute_result"
    }
   ],
   "source": [
    "df_merged = df_aux_qtd_amostras.merge(df_sum_by_temp_media, on='temp_media_c').reset_index()\n",
    "df_merged['consumo_medio_L'] = (df_merged['consumo_L'] / df_merged['qtd_amostras']).round(0).astype(int)\n",
    "df_merged = df_merged[['temp_media_c', 'consumo_medio_L']]\n",
    "df_merged"
   ]
  },
  {
   "cell_type": "markdown",
   "id": "harmful-afternoon",
   "metadata": {},
   "source": [
    "A temperatura de 29ºC aparenta ser um outlier."
   ]
  },
  {
   "cell_type": "code",
   "execution_count": 240,
   "id": "foster-radius",
   "metadata": {},
   "outputs": [],
   "source": [
    "df_merged.drop(index=16, inplace=True)"
   ]
  },
  {
   "cell_type": "code",
   "execution_count": 241,
   "id": "destroyed-individual",
   "metadata": {},
   "outputs": [
    {
     "data": {
      "text/plain": [
       "Text(0.5, 1.0, 'Consumo médio ponderado de Cerveja em Litros por Temperatura Média')"
      ]
     },
     "execution_count": 241,
     "metadata": {},
     "output_type": "execute_result"
    },
    {
     "data": {
      "image/png": "[encoded data removed]",
      "text/plain": [
       "<Figure size 1152x432 with 1 Axes>"
      ]
     },
     "metadata": {
      "needs_background": "light"
     },
     "output_type": "display_data"
    }
   ],
   "source": [
    "plt.figure(figsize=(16, 6))\n",
    "ax = sns.lineplot(data=df_merged, x='temp_media_c', y='consumo_medio_L')\n",
    "ax.set_xlabel('')\n",
    "ax.set_ylabel('')\n",
    "\n",
    "ax.set_yticks(np.arange(15000, 32000, 1000, dtype=object))\n",
    "ax.set_yticklabels([label + 'k' for label in list(map(str, np.arange(15, 32, 1, dtype=object)))])\n",
    "    \n",
    "ax.set_xticks(np.arange(13, 31, 2, dtype=object))\n",
    "ax.set_xticklabels([label + 'ºC' for label in list(map(str, np.arange(13, 31, 2, dtype=object)))])\n",
    "\n",
    "plt.title('Consumo médio ponderado de Cerveja em Litros por Temperatura Média')"
   ]
  },
  {
   "cell_type": "markdown",
   "id": "rough-petroleum",
   "metadata": {},
   "source": [
    "Ao visualizar a média ponderada de litros pela média de temperatura de forma gráfica notamos que o consumo de alcool aumenta de acordo com a temperatura, indicando que há uma relação positiva entre esses dados. "
   ]
  },
  {
   "cell_type": "markdown",
   "id": "objective-mattress",
   "metadata": {},
   "source": [
    "## Correlação entre variação de temperatura em consumo de cerveja"
   ]
  },
  {
   "cell_type": "code",
   "execution_count": 243,
   "id": "closed-bargain",
   "metadata": {},
   "outputs": [
    {
     "data": {
      "text/html": [
       "<div>\n",
       "<style scoped>\n",
       "    .dataframe tbody tr th:only-of-type {\n",
       "        vertical-align: middle;\n",
       "    }\n",
       "\n",
       "    .dataframe tbody tr th {\n",
       "        vertical-align: top;\n",
       "    }\n",
       "\n",
       "    .dataframe thead th {\n",
       "        text-align: right;\n",
       "    }\n",
       "</style>\n",
       "<table border=\"1\" class=\"dataframe\">\n",
       "  <thead>\n",
       "    <tr style=\"text-align: right;\">\n",
       "      <th></th>\n",
       "      <th>temp_max_c</th>\n",
       "      <th>temp_min_c</th>\n",
       "      <th>variacao_temp</th>\n",
       "    </tr>\n",
       "  </thead>\n",
       "  <tbody>\n",
       "    <tr>\n",
       "      <th>0</th>\n",
       "      <td>32.5</td>\n",
       "      <td>23.9</td>\n",
       "      <td>9.0</td>\n",
       "    </tr>\n",
       "    <tr>\n",
       "      <th>1</th>\n",
       "      <td>33.5</td>\n",
       "      <td>24.5</td>\n",
       "      <td>9.0</td>\n",
       "    </tr>\n",
       "    <tr>\n",
       "      <th>2</th>\n",
       "      <td>29.9</td>\n",
       "      <td>22.4</td>\n",
       "      <td>8.0</td>\n",
       "    </tr>\n",
       "    <tr>\n",
       "      <th>3</th>\n",
       "      <td>28.6</td>\n",
       "      <td>21.5</td>\n",
       "      <td>7.0</td>\n",
       "    </tr>\n",
       "    <tr>\n",
       "      <th>4</th>\n",
       "      <td>28.3</td>\n",
       "      <td>21.0</td>\n",
       "      <td>7.0</td>\n",
       "    </tr>\n",
       "  </tbody>\n",
       "</table>\n",
       "</div>"
      ],
      "text/plain": [
       "   temp_max_c  temp_min_c  variacao_temp\n",
       "0        32.5        23.9            9.0\n",
       "1        33.5        24.5            9.0\n",
       "2        29.9        22.4            8.0\n",
       "3        28.6        21.5            7.0\n",
       "4        28.3        21.0            7.0"
      ]
     },
     "execution_count": 243,
     "metadata": {},
     "output_type": "execute_result"
    }
   ],
   "source": [
    "df_aux = df_consumo_cerveja_limpo.copy()\n",
    "df_aux['variacao_temp'] = (df_aux.temp_max_c - df_aux.temp_min_c).round(0)\n",
    "df_aux[['temp_max_c', 'temp_min_c', 'variacao_temp']].head()"
   ]
  },
  {
   "cell_type": "markdown",
   "id": "eleven-portugal",
   "metadata": {},
   "source": [
    "Aplicação do pipeline feito para calcular média ponderada de consumo de cerveja por temperatura média levando em consideração a variação de temperatura"
   ]
  },
  {
   "cell_type": "code",
   "execution_count": 245,
   "id": "corrected-electronics",
   "metadata": {},
   "outputs": [
    {
     "data": {
      "text/html": [
       "<div>\n",
       "<style scoped>\n",
       "    .dataframe tbody tr th:only-of-type {\n",
       "        vertical-align: middle;\n",
       "    }\n",
       "\n",
       "    .dataframe tbody tr th {\n",
       "        vertical-align: top;\n",
       "    }\n",
       "\n",
       "    .dataframe thead th {\n",
       "        text-align: right;\n",
       "    }\n",
       "</style>\n",
       "<table border=\"1\" class=\"dataframe\">\n",
       "  <thead>\n",
       "    <tr style=\"text-align: right;\">\n",
       "      <th></th>\n",
       "      <th>variacao_temp</th>\n",
       "      <th>consumo_medio_L</th>\n",
       "    </tr>\n",
       "  </thead>\n",
       "  <tbody>\n",
       "    <tr>\n",
       "      <th>0</th>\n",
       "      <td>2.0</td>\n",
       "      <td>20106</td>\n",
       "    </tr>\n",
       "    <tr>\n",
       "      <th>1</th>\n",
       "      <td>3.0</td>\n",
       "      <td>15539</td>\n",
       "    </tr>\n",
       "    <tr>\n",
       "      <th>2</th>\n",
       "      <td>4.0</td>\n",
       "      <td>20118</td>\n",
       "    </tr>\n",
       "    <tr>\n",
       "      <th>3</th>\n",
       "      <td>5.0</td>\n",
       "      <td>19518</td>\n",
       "    </tr>\n",
       "    <tr>\n",
       "      <th>4</th>\n",
       "      <td>6.0</td>\n",
       "      <td>21554</td>\n",
       "    </tr>\n",
       "    <tr>\n",
       "      <th>5</th>\n",
       "      <td>7.0</td>\n",
       "      <td>20211</td>\n",
       "    </tr>\n",
       "    <tr>\n",
       "      <th>6</th>\n",
       "      <td>8.0</td>\n",
       "      <td>22044</td>\n",
       "    </tr>\n",
       "    <tr>\n",
       "      <th>7</th>\n",
       "      <td>9.0</td>\n",
       "      <td>22502</td>\n",
       "    </tr>\n",
       "    <tr>\n",
       "      <th>8</th>\n",
       "      <td>10.0</td>\n",
       "      <td>23696</td>\n",
       "    </tr>\n",
       "    <tr>\n",
       "      <th>9</th>\n",
       "      <td>11.0</td>\n",
       "      <td>26750</td>\n",
       "    </tr>\n",
       "    <tr>\n",
       "      <th>10</th>\n",
       "      <td>12.0</td>\n",
       "      <td>25025</td>\n",
       "    </tr>\n",
       "    <tr>\n",
       "      <th>11</th>\n",
       "      <td>13.0</td>\n",
       "      <td>23402</td>\n",
       "    </tr>\n",
       "    <tr>\n",
       "      <th>12</th>\n",
       "      <td>14.0</td>\n",
       "      <td>22828</td>\n",
       "    </tr>\n",
       "    <tr>\n",
       "      <th>13</th>\n",
       "      <td>15.0</td>\n",
       "      <td>28585</td>\n",
       "    </tr>\n",
       "    <tr>\n",
       "      <th>14</th>\n",
       "      <td>16.0</td>\n",
       "      <td>29831</td>\n",
       "    </tr>\n",
       "    <tr>\n",
       "      <th>15</th>\n",
       "      <td>17.0</td>\n",
       "      <td>33095</td>\n",
       "    </tr>\n",
       "    <tr>\n",
       "      <th>16</th>\n",
       "      <td>18.0</td>\n",
       "      <td>29852</td>\n",
       "    </tr>\n",
       "  </tbody>\n",
       "</table>\n",
       "</div>"
      ],
      "text/plain": [
       "    variacao_temp  consumo_medio_L\n",
       "0             2.0            20106\n",
       "1             3.0            15539\n",
       "2             4.0            20118\n",
       "3             5.0            19518\n",
       "4             6.0            21554\n",
       "5             7.0            20211\n",
       "6             8.0            22044\n",
       "7             9.0            22502\n",
       "8            10.0            23696\n",
       "9            11.0            26750\n",
       "10           12.0            25025\n",
       "11           13.0            23402\n",
       "12           14.0            22828\n",
       "13           15.0            28585\n",
       "14           16.0            29831\n",
       "15           17.0            33095\n",
       "16           18.0            29852"
      ]
     },
     "execution_count": 245,
     "metadata": {},
     "output_type": "execute_result"
    }
   ],
   "source": [
    "df_aux_qtd_amostras = df_aux.groupby('variacao_temp').agg({'data':'count'}).rename(columns={'data':'qtd_amostras'})\n",
    "\n",
    "df_sum_by_variacao_temp = df_aux.groupby('variacao_temp').sum('consumo_L')\n",
    "\n",
    "df_merged = df_aux_qtd_amostras.merge(df_sum_by_variacao_temp, on='variacao_temp').reset_index()\n",
    "df_merged['consumo_medio_L'] = (df_merged['consumo_L'] / df_merged['qtd_amostras']).round(0).astype(int)\n",
    "df_merged = df_merged[['variacao_temp', 'consumo_medio_L']]\n",
    "df_merged"
   ]
  },
  {
   "cell_type": "code",
   "execution_count": 250,
   "id": "suitable-palace",
   "metadata": {},
   "outputs": [
    {
     "data": {
      "text/plain": [
       "Text(0.5, 1.0, 'Consumo médio de Cerveja em Litros por Variação de Temperatura')"
      ]
     },
     "execution_count": 250,
     "metadata": {},
     "output_type": "execute_result"
    },
    {
     "data": {
      "image/png": "[encoded data removed]",
      "text/plain": [
       "<Figure size 1152x432 with 1 Axes>"
      ]
     },
     "metadata": {
      "needs_background": "light"
     },
     "output_type": "display_data"
    }
   ],
   "source": [
    "plt.figure(figsize=(16, 6))\n",
    "ax = sns.lineplot(data=df_merged, x='variacao_temp', y='consumo_medio_L')\n",
    "ax.set_xlabel('')\n",
    "ax.set_ylabel('')\n",
    "\n",
    "ax.set_yticks(np.arange(15000, 35000, 2000, dtype=object))\n",
    "ax.set_yticklabels([label + 'k' for label in list(map(str, np.arange(15, 35, 2, dtype=object)))])\n",
    "    \n",
    "ax.set_xticks(np.arange(2, 19, 2, dtype=object))\n",
    "ax.set_xticklabels([label + 'ºC' for label in list(map(str, np.arange(2, 19, 2, dtype=object)))])\n",
    "\n",
    "plt.title('Consumo médio de Cerveja em Litros por Variação de Temperatura')"
   ]
  },
  {
   "cell_type": "markdown",
   "id": "announced-collect",
   "metadata": {},
   "source": [
    "Assim como o padrão observado durante a visualização da média ponderada de litros pela média de temperatura notamos que o consumo de alcool aumenta de acordo com a variação."
   ]
  },
  {
   "cell_type": "markdown",
   "id": "literary-jerusalem",
   "metadata": {},
   "source": [
    "## Relação Entre Consumo de Cerveja e Finais de Semana"
   ]
  },
  {
   "cell_type": "code",
   "execution_count": 56,
   "id": "hydraulic-control",
   "metadata": {},
   "outputs": [
    {
     "data": {
      "text/html": [
       "<div>\n",
       "<style scoped>\n",
       "    .dataframe tbody tr th:only-of-type {\n",
       "        vertical-align: middle;\n",
       "    }\n",
       "\n",
       "    .dataframe tbody tr th {\n",
       "        vertical-align: top;\n",
       "    }\n",
       "\n",
       "    .dataframe thead th {\n",
       "        text-align: right;\n",
       "    }\n",
       "</style>\n",
       "<table border=\"1\" class=\"dataframe\">\n",
       "  <thead>\n",
       "    <tr style=\"text-align: right;\">\n",
       "      <th></th>\n",
       "      <th>consumo_L</th>\n",
       "    </tr>\n",
       "    <tr>\n",
       "      <th>fds</th>\n",
       "      <th></th>\n",
       "    </tr>\n",
       "  </thead>\n",
       "  <tbody>\n",
       "    <tr>\n",
       "      <th>0</th>\n",
       "      <td>21883.46</td>\n",
       "    </tr>\n",
       "    <tr>\n",
       "      <th>1</th>\n",
       "      <td>25572.64</td>\n",
       "    </tr>\n",
       "  </tbody>\n",
       "</table>\n",
       "</div>"
      ],
      "text/plain": [
       "     consumo_L\n",
       "fds           \n",
       "0     21883.46\n",
       "1     25572.64"
      ]
     },
     "execution_count": 56,
     "metadata": {},
     "output_type": "execute_result"
    }
   ],
   "source": [
    "df_consumo_cerveja_limpo[['fds', 'consumo_L']].groupby('fds').agg({'consumo_L':'mean'}).round(2)"
   ]
  },
  {
   "cell_type": "markdown",
   "id": "expressed-supervisor",
   "metadata": {},
   "source": [
    "Há um maior consumo de cerveja nos fins de semana."
   ]
  },
  {
   "cell_type": "markdown",
   "id": "northern-taxation",
   "metadata": {},
   "source": [
    "# Aplicação do Modelo de Regressão Linear"
   ]
  },
  {
   "cell_type": "markdown",
   "id": "decimal-paragraph",
   "metadata": {},
   "source": [
    "O objetivo do modelo será predizer o consumo de litros de cerveja partindo de informações sobre flag de final de semana, temperatura média, variação de temperatura, precipitacao e dia da semana."
   ]
  },
  {
   "cell_type": "code",
   "execution_count": 264,
   "id": "objective-watts",
   "metadata": {},
   "outputs": [
    {
     "data": {
      "text/html": [
       "<div>\n",
       "<style scoped>\n",
       "    .dataframe tbody tr th:only-of-type {\n",
       "        vertical-align: middle;\n",
       "    }\n",
       "\n",
       "    .dataframe tbody tr th {\n",
       "        vertical-align: top;\n",
       "    }\n",
       "\n",
       "    .dataframe thead th {\n",
       "        text-align: right;\n",
       "    }\n",
       "</style>\n",
       "<table border=\"1\" class=\"dataframe\">\n",
       "  <thead>\n",
       "    <tr style=\"text-align: right;\">\n",
       "      <th></th>\n",
       "      <th>data</th>\n",
       "      <th>dia_semana</th>\n",
       "      <th>mes</th>\n",
       "      <th>fds</th>\n",
       "      <th>temp_media_c</th>\n",
       "      <th>temp_min_c</th>\n",
       "      <th>temp_max_c</th>\n",
       "      <th>precipitacao_mm</th>\n",
       "      <th>consumo_L</th>\n",
       "    </tr>\n",
       "  </thead>\n",
       "  <tbody>\n",
       "    <tr>\n",
       "      <th>0</th>\n",
       "      <td>2015-01-01</td>\n",
       "      <td>quinta-feira</td>\n",
       "      <td>janeiro</td>\n",
       "      <td>0</td>\n",
       "      <td>27.30</td>\n",
       "      <td>23.9</td>\n",
       "      <td>32.5</td>\n",
       "      <td>0.0</td>\n",
       "      <td>25461</td>\n",
       "    </tr>\n",
       "    <tr>\n",
       "      <th>1</th>\n",
       "      <td>2015-01-02</td>\n",
       "      <td>sexta-feira</td>\n",
       "      <td>janeiro</td>\n",
       "      <td>0</td>\n",
       "      <td>27.02</td>\n",
       "      <td>24.5</td>\n",
       "      <td>33.5</td>\n",
       "      <td>0.0</td>\n",
       "      <td>28972</td>\n",
       "    </tr>\n",
       "    <tr>\n",
       "      <th>2</th>\n",
       "      <td>2015-01-03</td>\n",
       "      <td>sabado</td>\n",
       "      <td>janeiro</td>\n",
       "      <td>1</td>\n",
       "      <td>24.82</td>\n",
       "      <td>22.4</td>\n",
       "      <td>29.9</td>\n",
       "      <td>0.0</td>\n",
       "      <td>30814</td>\n",
       "    </tr>\n",
       "    <tr>\n",
       "      <th>3</th>\n",
       "      <td>2015-01-04</td>\n",
       "      <td>domingo</td>\n",
       "      <td>janeiro</td>\n",
       "      <td>1</td>\n",
       "      <td>23.98</td>\n",
       "      <td>21.5</td>\n",
       "      <td>28.6</td>\n",
       "      <td>1.2</td>\n",
       "      <td>29799</td>\n",
       "    </tr>\n",
       "    <tr>\n",
       "      <th>4</th>\n",
       "      <td>2015-01-05</td>\n",
       "      <td>segunda-feira</td>\n",
       "      <td>janeiro</td>\n",
       "      <td>0</td>\n",
       "      <td>23.82</td>\n",
       "      <td>21.0</td>\n",
       "      <td>28.3</td>\n",
       "      <td>0.0</td>\n",
       "      <td>289</td>\n",
       "    </tr>\n",
       "  </tbody>\n",
       "</table>\n",
       "</div>"
      ],
      "text/plain": [
       "         data     dia_semana      mes fds  temp_media_c  temp_min_c  \\\n",
       "0  2015-01-01   quinta-feira  janeiro   0         27.30        23.9   \n",
       "1  2015-01-02    sexta-feira  janeiro   0         27.02        24.5   \n",
       "2  2015-01-03         sabado  janeiro   1         24.82        22.4   \n",
       "3  2015-01-04        domingo  janeiro   1         23.98        21.5   \n",
       "4  2015-01-05  segunda-feira  janeiro   0         23.82        21.0   \n",
       "\n",
       "   temp_max_c  precipitacao_mm  consumo_L  \n",
       "0        32.5              0.0      25461  \n",
       "1        33.5              0.0      28972  \n",
       "2        29.9              0.0      30814  \n",
       "3        28.6              1.2      29799  \n",
       "4        28.3              0.0        289  "
      ]
     },
     "execution_count": 264,
     "metadata": {},
     "output_type": "execute_result"
    }
   ],
   "source": [
    "df_consumo_cerveja_limpo.head()"
   ]
  },
  {
   "cell_type": "markdown",
   "id": "balanced-faith",
   "metadata": {},
   "source": [
    "### Dummy Variable"
   ]
  },
  {
   "cell_type": "markdown",
   "id": "renewable-lambda",
   "metadata": {},
   "source": [
    "Pirmeiro passo é transformar a variável de dia da semana em variáveis dummy e removendo uma coluna devido ao dummy variable trap"
   ]
  },
  {
   "cell_type": "code",
   "execution_count": 266,
   "id": "intellectual-technician",
   "metadata": {},
   "outputs": [
    {
     "data": {
      "text/html": [
       "<div>\n",
       "<style scoped>\n",
       "    .dataframe tbody tr th:only-of-type {\n",
       "        vertical-align: middle;\n",
       "    }\n",
       "\n",
       "    .dataframe tbody tr th {\n",
       "        vertical-align: top;\n",
       "    }\n",
       "\n",
       "    .dataframe thead th {\n",
       "        text-align: right;\n",
       "    }\n",
       "</style>\n",
       "<table border=\"1\" class=\"dataframe\">\n",
       "  <thead>\n",
       "    <tr style=\"text-align: right;\">\n",
       "      <th></th>\n",
       "      <th>data</th>\n",
       "      <th>mes</th>\n",
       "      <th>fds</th>\n",
       "      <th>temp_media_c</th>\n",
       "      <th>temp_min_c</th>\n",
       "      <th>temp_max_c</th>\n",
       "      <th>precipitacao_mm</th>\n",
       "      <th>consumo_L</th>\n",
       "      <th>dia_semana_domingo</th>\n",
       "      <th>dia_semana_quarta-feira</th>\n",
       "      <th>dia_semana_quinta-feira</th>\n",
       "      <th>dia_semana_sabado</th>\n",
       "      <th>dia_semana_segunda-feira</th>\n",
       "      <th>dia_semana_sexta-feira</th>\n",
       "      <th>dia_semana_terça-feira</th>\n",
       "    </tr>\n",
       "  </thead>\n",
       "  <tbody>\n",
       "    <tr>\n",
       "      <th>0</th>\n",
       "      <td>2015-01-01</td>\n",
       "      <td>janeiro</td>\n",
       "      <td>0</td>\n",
       "      <td>27.30</td>\n",
       "      <td>23.9</td>\n",
       "      <td>32.5</td>\n",
       "      <td>0.0</td>\n",
       "      <td>25461</td>\n",
       "      <td>0</td>\n",
       "      <td>0</td>\n",
       "      <td>1</td>\n",
       "      <td>0</td>\n",
       "      <td>0</td>\n",
       "      <td>0</td>\n",
       "      <td>0</td>\n",
       "    </tr>\n",
       "    <tr>\n",
       "      <th>1</th>\n",
       "      <td>2015-01-02</td>\n",
       "      <td>janeiro</td>\n",
       "      <td>0</td>\n",
       "      <td>27.02</td>\n",
       "      <td>24.5</td>\n",
       "      <td>33.5</td>\n",
       "      <td>0.0</td>\n",
       "      <td>28972</td>\n",
       "      <td>0</td>\n",
       "      <td>0</td>\n",
       "      <td>0</td>\n",
       "      <td>0</td>\n",
       "      <td>0</td>\n",
       "      <td>1</td>\n",
       "      <td>0</td>\n",
       "    </tr>\n",
       "    <tr>\n",
       "      <th>2</th>\n",
       "      <td>2015-01-03</td>\n",
       "      <td>janeiro</td>\n",
       "      <td>1</td>\n",
       "      <td>24.82</td>\n",
       "      <td>22.4</td>\n",
       "      <td>29.9</td>\n",
       "      <td>0.0</td>\n",
       "      <td>30814</td>\n",
       "      <td>0</td>\n",
       "      <td>0</td>\n",
       "      <td>0</td>\n",
       "      <td>1</td>\n",
       "      <td>0</td>\n",
       "      <td>0</td>\n",
       "      <td>0</td>\n",
       "    </tr>\n",
       "    <tr>\n",
       "      <th>3</th>\n",
       "      <td>2015-01-04</td>\n",
       "      <td>janeiro</td>\n",
       "      <td>1</td>\n",
       "      <td>23.98</td>\n",
       "      <td>21.5</td>\n",
       "      <td>28.6</td>\n",
       "      <td>1.2</td>\n",
       "      <td>29799</td>\n",
       "      <td>1</td>\n",
       "      <td>0</td>\n",
       "      <td>0</td>\n",
       "      <td>0</td>\n",
       "      <td>0</td>\n",
       "      <td>0</td>\n",
       "      <td>0</td>\n",
       "    </tr>\n",
       "    <tr>\n",
       "      <th>4</th>\n",
       "      <td>2015-01-05</td>\n",
       "      <td>janeiro</td>\n",
       "      <td>0</td>\n",
       "      <td>23.82</td>\n",
       "      <td>21.0</td>\n",
       "      <td>28.3</td>\n",
       "      <td>0.0</td>\n",
       "      <td>289</td>\n",
       "      <td>0</td>\n",
       "      <td>0</td>\n",
       "      <td>0</td>\n",
       "      <td>0</td>\n",
       "      <td>1</td>\n",
       "      <td>0</td>\n",
       "      <td>0</td>\n",
       "    </tr>\n",
       "  </tbody>\n",
       "</table>\n",
       "</div>"
      ],
      "text/plain": [
       "         data      mes fds  temp_media_c  temp_min_c  temp_max_c  \\\n",
       "0  2015-01-01  janeiro   0         27.30        23.9        32.5   \n",
       "1  2015-01-02  janeiro   0         27.02        24.5        33.5   \n",
       "2  2015-01-03  janeiro   1         24.82        22.4        29.9   \n",
       "3  2015-01-04  janeiro   1         23.98        21.5        28.6   \n",
       "4  2015-01-05  janeiro   0         23.82        21.0        28.3   \n",
       "\n",
       "   precipitacao_mm  consumo_L  dia_semana_domingo  dia_semana_quarta-feira  \\\n",
       "0              0.0      25461                   0                        0   \n",
       "1              0.0      28972                   0                        0   \n",
       "2              0.0      30814                   0                        0   \n",
       "3              1.2      29799                   1                        0   \n",
       "4              0.0        289                   0                        0   \n",
       "\n",
       "   dia_semana_quinta-feira  dia_semana_sabado  dia_semana_segunda-feira  \\\n",
       "0                        1                  0                         0   \n",
       "1                        0                  0                         0   \n",
       "2                        0                  1                         0   \n",
       "3                        0                  0                         0   \n",
       "4                        0                  0                         1   \n",
       "\n",
       "   dia_semana_sexta-feira  dia_semana_terça-feira  \n",
       "0                       0                       0  \n",
       "1                       1                       0  \n",
       "2                       0                       0  \n",
       "3                       0                       0  \n",
       "4                       0                       0  "
      ]
     },
     "execution_count": 266,
     "metadata": {},
     "output_type": "execute_result"
    }
   ],
   "source": [
    "df_limpo_dia_semana_dummy = pd.get_dummies(data=df_consumo_cerveja_limpo, columns=['dia_semana'])\n",
    "df_limpo_dia_semana_dummy.drop(columns=['dia_semana_segunda-feira'])\n",
    "df_limpo_dia_semana_dummy.head()"
   ]
  },
  {
   "cell_type": "code",
   "execution_count": 267,
   "id": "prostate-owner",
   "metadata": {},
   "outputs": [
    {
     "data": {
      "text/plain": [
       "Index(['data', 'mes', 'fds', 'temp_media_c', 'temp_min_c', 'temp_max_c',\n",
       "       'precipitacao_mm', 'consumo_L', 'dia_semana_domingo',\n",
       "       'dia_semana_quarta-feira', 'dia_semana_quinta-feira',\n",
       "       'dia_semana_sabado', 'dia_semana_segunda-feira',\n",
       "       'dia_semana_sexta-feira', 'dia_semana_terça-feira'],\n",
       "      dtype='object')"
      ]
     },
     "execution_count": 267,
     "metadata": {},
     "output_type": "execute_result"
    }
   ],
   "source": [
    "df_limpo_dia_semana_dummy.columns"
   ]
  },
  {
   "cell_type": "code",
   "execution_count": 268,
   "id": "cosmetic-phone",
   "metadata": {},
   "outputs": [
    {
     "data": {
      "text/html": [
       "<div>\n",
       "<style scoped>\n",
       "    .dataframe tbody tr th:only-of-type {\n",
       "        vertical-align: middle;\n",
       "    }\n",
       "\n",
       "    .dataframe tbody tr th {\n",
       "        vertical-align: top;\n",
       "    }\n",
       "\n",
       "    .dataframe thead th {\n",
       "        text-align: right;\n",
       "    }\n",
       "</style>\n",
       "<table border=\"1\" class=\"dataframe\">\n",
       "  <thead>\n",
       "    <tr style=\"text-align: right;\">\n",
       "      <th></th>\n",
       "      <th>fds</th>\n",
       "      <th>temp_media_c</th>\n",
       "      <th>precipitacao_mm</th>\n",
       "      <th>dia_semana_domingo</th>\n",
       "      <th>dia_semana_quarta-feira</th>\n",
       "      <th>dia_semana_quinta-feira</th>\n",
       "      <th>dia_semana_sabado</th>\n",
       "      <th>dia_semana_segunda-feira</th>\n",
       "      <th>dia_semana_sexta-feira</th>\n",
       "      <th>dia_semana_terça-feira</th>\n",
       "      <th>variacao_temp</th>\n",
       "    </tr>\n",
       "  </thead>\n",
       "  <tbody>\n",
       "    <tr>\n",
       "      <th>0</th>\n",
       "      <td>0</td>\n",
       "      <td>27.30</td>\n",
       "      <td>0.0</td>\n",
       "      <td>0</td>\n",
       "      <td>0</td>\n",
       "      <td>1</td>\n",
       "      <td>0</td>\n",
       "      <td>0</td>\n",
       "      <td>0</td>\n",
       "      <td>0</td>\n",
       "      <td>8.6</td>\n",
       "    </tr>\n",
       "    <tr>\n",
       "      <th>1</th>\n",
       "      <td>0</td>\n",
       "      <td>27.02</td>\n",
       "      <td>0.0</td>\n",
       "      <td>0</td>\n",
       "      <td>0</td>\n",
       "      <td>0</td>\n",
       "      <td>0</td>\n",
       "      <td>0</td>\n",
       "      <td>1</td>\n",
       "      <td>0</td>\n",
       "      <td>9.0</td>\n",
       "    </tr>\n",
       "    <tr>\n",
       "      <th>2</th>\n",
       "      <td>1</td>\n",
       "      <td>24.82</td>\n",
       "      <td>0.0</td>\n",
       "      <td>0</td>\n",
       "      <td>0</td>\n",
       "      <td>0</td>\n",
       "      <td>1</td>\n",
       "      <td>0</td>\n",
       "      <td>0</td>\n",
       "      <td>0</td>\n",
       "      <td>7.5</td>\n",
       "    </tr>\n",
       "    <tr>\n",
       "      <th>3</th>\n",
       "      <td>1</td>\n",
       "      <td>23.98</td>\n",
       "      <td>1.2</td>\n",
       "      <td>1</td>\n",
       "      <td>0</td>\n",
       "      <td>0</td>\n",
       "      <td>0</td>\n",
       "      <td>0</td>\n",
       "      <td>0</td>\n",
       "      <td>0</td>\n",
       "      <td>7.1</td>\n",
       "    </tr>\n",
       "    <tr>\n",
       "      <th>4</th>\n",
       "      <td>0</td>\n",
       "      <td>23.82</td>\n",
       "      <td>0.0</td>\n",
       "      <td>0</td>\n",
       "      <td>0</td>\n",
       "      <td>0</td>\n",
       "      <td>0</td>\n",
       "      <td>1</td>\n",
       "      <td>0</td>\n",
       "      <td>0</td>\n",
       "      <td>7.3</td>\n",
       "    </tr>\n",
       "    <tr>\n",
       "      <th>...</th>\n",
       "      <td>...</td>\n",
       "      <td>...</td>\n",
       "      <td>...</td>\n",
       "      <td>...</td>\n",
       "      <td>...</td>\n",
       "      <td>...</td>\n",
       "      <td>...</td>\n",
       "      <td>...</td>\n",
       "      <td>...</td>\n",
       "      <td>...</td>\n",
       "      <td>...</td>\n",
       "    </tr>\n",
       "    <tr>\n",
       "      <th>360</th>\n",
       "      <td>1</td>\n",
       "      <td>24.00</td>\n",
       "      <td>13.6</td>\n",
       "      <td>1</td>\n",
       "      <td>0</td>\n",
       "      <td>0</td>\n",
       "      <td>0</td>\n",
       "      <td>0</td>\n",
       "      <td>0</td>\n",
       "      <td>0</td>\n",
       "      <td>7.1</td>\n",
       "    </tr>\n",
       "    <tr>\n",
       "      <th>361</th>\n",
       "      <td>0</td>\n",
       "      <td>22.64</td>\n",
       "      <td>0.0</td>\n",
       "      <td>0</td>\n",
       "      <td>0</td>\n",
       "      <td>0</td>\n",
       "      <td>0</td>\n",
       "      <td>1</td>\n",
       "      <td>0</td>\n",
       "      <td>0</td>\n",
       "      <td>5.6</td>\n",
       "    </tr>\n",
       "    <tr>\n",
       "      <th>362</th>\n",
       "      <td>0</td>\n",
       "      <td>21.68</td>\n",
       "      <td>10.3</td>\n",
       "      <td>0</td>\n",
       "      <td>0</td>\n",
       "      <td>0</td>\n",
       "      <td>0</td>\n",
       "      <td>0</td>\n",
       "      <td>0</td>\n",
       "      <td>1</td>\n",
       "      <td>3.8</td>\n",
       "    </tr>\n",
       "    <tr>\n",
       "      <th>363</th>\n",
       "      <td>0</td>\n",
       "      <td>21.38</td>\n",
       "      <td>6.3</td>\n",
       "      <td>0</td>\n",
       "      <td>1</td>\n",
       "      <td>0</td>\n",
       "      <td>0</td>\n",
       "      <td>0</td>\n",
       "      <td>0</td>\n",
       "      <td>0</td>\n",
       "      <td>3.1</td>\n",
       "    </tr>\n",
       "    <tr>\n",
       "      <th>364</th>\n",
       "      <td>0</td>\n",
       "      <td>24.76</td>\n",
       "      <td>0.0</td>\n",
       "      <td>0</td>\n",
       "      <td>0</td>\n",
       "      <td>1</td>\n",
       "      <td>0</td>\n",
       "      <td>0</td>\n",
       "      <td>0</td>\n",
       "      <td>0</td>\n",
       "      <td>8.8</td>\n",
       "    </tr>\n",
       "  </tbody>\n",
       "</table>\n",
       "<p>365 rows × 11 columns</p>\n",
       "</div>"
      ],
      "text/plain": [
       "    fds  temp_media_c  precipitacao_mm  dia_semana_domingo  \\\n",
       "0     0         27.30              0.0                   0   \n",
       "1     0         27.02              0.0                   0   \n",
       "2     1         24.82              0.0                   0   \n",
       "3     1         23.98              1.2                   1   \n",
       "4     0         23.82              0.0                   0   \n",
       "..   ..           ...              ...                 ...   \n",
       "360   1         24.00             13.6                   1   \n",
       "361   0         22.64              0.0                   0   \n",
       "362   0         21.68             10.3                   0   \n",
       "363   0         21.38              6.3                   0   \n",
       "364   0         24.76              0.0                   0   \n",
       "\n",
       "     dia_semana_quarta-feira  dia_semana_quinta-feira  dia_semana_sabado  \\\n",
       "0                          0                        1                  0   \n",
       "1                          0                        0                  0   \n",
       "2                          0                        0                  1   \n",
       "3                          0                        0                  0   \n",
       "4                          0                        0                  0   \n",
       "..                       ...                      ...                ...   \n",
       "360                        0                        0                  0   \n",
       "361                        0                        0                  0   \n",
       "362                        0                        0                  0   \n",
       "363                        1                        0                  0   \n",
       "364                        0                        1                  0   \n",
       "\n",
       "     dia_semana_segunda-feira  dia_semana_sexta-feira  dia_semana_terça-feira  \\\n",
       "0                           0                       0                       0   \n",
       "1                           0                       1                       0   \n",
       "2                           0                       0                       0   \n",
       "3                           0                       0                       0   \n",
       "4                           1                       0                       0   \n",
       "..                        ...                     ...                     ...   \n",
       "360                         0                       0                       0   \n",
       "361                         1                       0                       0   \n",
       "362                         0                       0                       1   \n",
       "363                         0                       0                       0   \n",
       "364                         0                       0                       0   \n",
       "\n",
       "     variacao_temp  \n",
       "0              8.6  \n",
       "1              9.0  \n",
       "2              7.5  \n",
       "3              7.1  \n",
       "4              7.3  \n",
       "..             ...  \n",
       "360            7.1  \n",
       "361            5.6  \n",
       "362            3.8  \n",
       "363            3.1  \n",
       "364            8.8  \n",
       "\n",
       "[365 rows x 11 columns]"
      ]
     },
     "execution_count": 268,
     "metadata": {},
     "output_type": "execute_result"
    }
   ],
   "source": [
    "X = df_limpo_dia_semana_dummy[['fds', 'temp_media_c', 'precipitacao_mm', 'dia_semana_domingo', 'dia_semana_quarta-feira', \n",
    "                               'dia_semana_quinta-feira', 'dia_semana_sabado', 'dia_semana_segunda-feira',\n",
    "                               'dia_semana_sexta-feira', 'dia_semana_terça-feira']].copy()\n",
    "\n",
    "X['variacao_temp'] = (df_consumo_cerveja_limpo.temp_max_c - df_consumo_cerveja_limpo.temp_min_c).round(2)\n",
    "X"
   ]
  },
  {
   "cell_type": "markdown",
   "id": "swedish-withdrawal",
   "metadata": {},
   "source": [
    "### Selecionando variável dependente"
   ]
  },
  {
   "cell_type": "code",
   "execution_count": 271,
   "id": "extra-acoustic",
   "metadata": {},
   "outputs": [
    {
     "data": {
      "text/plain": [
       "0      25461\n",
       "1      28972\n",
       "2      30814\n",
       "3      29799\n",
       "4        289\n",
       "       ...  \n",
       "360    32307\n",
       "361    26095\n",
       "362    22309\n",
       "363    20467\n",
       "364    22446\n",
       "Name: consumo_L, Length: 365, dtype: int64"
      ]
     },
     "execution_count": 271,
     "metadata": {},
     "output_type": "execute_result"
    }
   ],
   "source": [
    "y = df_consumo_cerveja_limpo['consumo_L']\n",
    "y"
   ]
  },
  {
   "cell_type": "markdown",
   "id": "patient-jonathan",
   "metadata": {},
   "source": [
    "### Divisão em treino e teste"
   ]
  },
  {
   "cell_type": "code",
   "execution_count": 286,
   "id": "married-coffee",
   "metadata": {},
   "outputs": [
    {
     "data": {
      "text/html": [
       "<div>\n",
       "<style scoped>\n",
       "    .dataframe tbody tr th:only-of-type {\n",
       "        vertical-align: middle;\n",
       "    }\n",
       "\n",
       "    .dataframe tbody tr th {\n",
       "        vertical-align: top;\n",
       "    }\n",
       "\n",
       "    .dataframe thead th {\n",
       "        text-align: right;\n",
       "    }\n",
       "</style>\n",
       "<table border=\"1\" class=\"dataframe\">\n",
       "  <thead>\n",
       "    <tr style=\"text-align: right;\">\n",
       "      <th></th>\n",
       "      <th>total</th>\n",
       "      <th>treino</th>\n",
       "      <th>teste</th>\n",
       "      <th>colunas</th>\n",
       "    </tr>\n",
       "    <tr>\n",
       "      <th>grupos</th>\n",
       "      <th></th>\n",
       "      <th></th>\n",
       "      <th></th>\n",
       "      <th></th>\n",
       "    </tr>\n",
       "  </thead>\n",
       "  <tbody>\n",
       "    <tr>\n",
       "      <th>X - dados</th>\n",
       "      <td>365</td>\n",
       "      <td>273</td>\n",
       "      <td>92</td>\n",
       "      <td>11</td>\n",
       "    </tr>\n",
       "    <tr>\n",
       "      <th>y - label</th>\n",
       "      <td>365</td>\n",
       "      <td>273</td>\n",
       "      <td>92</td>\n",
       "      <td>1</td>\n",
       "    </tr>\n",
       "  </tbody>\n",
       "</table>\n",
       "</div>"
      ],
      "text/plain": [
       "           total  treino  teste  colunas\n",
       "grupos                                  \n",
       "X - dados    365     273     92       11\n",
       "y - label    365     273     92        1"
      ]
     },
     "execution_count": 286,
     "metadata": {},
     "output_type": "execute_result"
    }
   ],
   "source": [
    "X_train, X_test, y_train, y_test = train_test_split(X, y, test_size=0.2, random_state=0)\n",
    "\n",
    "transformer = Normalizer().fit(X)\n",
    "X_normalized = transformer.transform(X)\n",
    "\n",
    "X_train, X_test, y_train, y_test = train_test_split(X_normalized, y,\n",
    "                                                        test_size = 0.25,\n",
    "                                                        random_state = 13)\n",
    "\n",
    "df_informativo_separacao = pd.DataFrame({\n",
    "    'grupos'  : ['X - dados','y - label'],\n",
    "    'total'   : [X_normalized.shape[0], y.shape[0]],\n",
    "    'treino'  : [X_train.shape[0], y_train.shape[0]],\n",
    "    'teste'   : [X_test.shape[0], y_test.shape[0]],\n",
    "    'colunas' : [X.shape[1], 1]\n",
    "}).set_index('grupos')\n",
    "\n",
    "df_informativo_separacao"
   ]
  },
  {
   "cell_type": "markdown",
   "id": "prime-oracle",
   "metadata": {},
   "source": [
    "### Treino do modelo"
   ]
  },
  {
   "cell_type": "code",
   "execution_count": 287,
   "id": "mounted-slovak",
   "metadata": {},
   "outputs": [
    {
     "data": {
      "text/plain": [
       "LinearRegression()"
      ]
     },
     "execution_count": 287,
     "metadata": {},
     "output_type": "execute_result"
    }
   ],
   "source": [
    "regressor = LinearRegression()\n",
    "regressor.fit(X_train, y_train)"
   ]
  },
  {
   "cell_type": "code",
   "execution_count": 288,
   "id": "endangered-station",
   "metadata": {},
   "outputs": [
    {
     "name": "stdout",
     "output_type": "stream",
     "text": [
      "R² = 0.20401210243934187\n"
     ]
    }
   ],
   "source": [
    "print(f'R² = {regressor.score(X_train, y_train)}')"
   ]
  }
 ],
 "metadata": {
  "kernelspec": {
   "display_name": "Python 3",
   "language": "python",
   "name": "python3"
  },
  "language_info": {
   "codemirror_mode": {
    "name": "ipython",
    "version": 3
   },
   "file_extension": ".py",
   "mimetype": "text/x-python",
   "name": "python",
   "nbconvert_exporter": "python",
   "pygments_lexer": "ipython3",
   "version": "3.8.5"
  }
 },
 "nbformat": 4,
 "nbformat_minor": 5
}
