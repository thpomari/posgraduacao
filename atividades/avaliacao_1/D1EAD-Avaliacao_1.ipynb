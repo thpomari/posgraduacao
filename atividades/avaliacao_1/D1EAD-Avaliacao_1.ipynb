{
 "cells": [
  {
   "cell_type": "markdown",
   "id": "expressed-party",
   "metadata": {},
   "source": [
    "# Avaliação 1"
   ]
  },
  {
   "cell_type": "markdown",
   "id": "backed-scale",
   "metadata": {},
   "source": [
    "## Descrição da base de dados escolhida:"
   ]
  },
  {
   "cell_type": "markdown",
   "id": "continuous-warrant",
   "metadata": {},
   "source": [
    "### O que signigica cada linha de cada arquivo?\n",
    "$R:$ "
   ]
  },
  {
   "cell_type": "markdown",
   "id": "wooden-contract",
   "metadata": {},
   "source": [
    "### Quais são os principais atributos (colunas) e seus tipos?\n",
    "$R:$ "
   ]
  },
  {
   "cell_type": "markdown",
   "id": "prescription-frederick",
   "metadata": {},
   "source": [
    "## Descrição da base de dados escolhida:"
   ]
  },
  {
   "cell_type": "markdown",
   "id": "multiple-vulnerability",
   "metadata": {},
   "source": [
    "### Teve dificuldades para preparar o dataset para uso? (nomes ruins para colunas, arquivos dos datasets não possuíam boa organização?)\n",
    "$R:$ "
   ]
  },
  {
   "cell_type": "markdown",
   "id": "interstate-rental",
   "metadata": {},
   "source": [
    "### Aplicou algum pré-processamento nos dados?\n",
    "$R:$ Sim, para a Pergunta 1 da Seção de Análise Exploratória "
   ]
  },
  {
   "cell_type": "markdown",
   "id": "level-merchandise",
   "metadata": {},
   "source": [
    "\n",
    "\n",
    "\n",
    "## Análise Exploratória"
   ]
  },
  {
   "cell_type": "code",
   "execution_count": 1,
   "id": "collaborative-frank",
   "metadata": {},
   "outputs": [],
   "source": [
    "# Carregando bibliotecas\n",
    "import pandas as pd\n",
    "import os "
   ]
  },
  {
   "cell_type": "markdown",
   "id": "bridal-laser",
   "metadata": {},
   "source": [
    "### Loading MovieLens DFs"
   ]
  },
  {
   "cell_type": "code",
   "execution_count": 2,
   "id": "beautiful-queensland",
   "metadata": {},
   "outputs": [],
   "source": [
    "# Getting current working directory\n",
    "main_path = os.getcwd()\n",
    "\n",
    "# Building file paths \n",
    "path_movielens_movies = main_path + '/movielens/movies.csv'\n",
    "path_movielens_ratings = main_path + '/movielens/ratings.csv'\n",
    "path_movielens_tags = main_path + '/movielens/tags.csv'\n",
    "\n",
    "# Loading files into DFs\n",
    "df_movies = pd.read_csv(path_movielens_movies)\n",
    "df_ratings = pd.read_csv(path_movielens_ratings)\n",
    "df_tags = pd.read_csv(path_movielens_tags)"
   ]
  },
  {
   "cell_type": "markdown",
   "id": "hungry-bankruptcy",
   "metadata": {},
   "source": [
    "### Checking DFs"
   ]
  },
  {
   "cell_type": "code",
   "execution_count": 3,
   "id": "noted-springfield",
   "metadata": {},
   "outputs": [
    {
     "data": {
      "text/html": [
       "<div>\n",
       "<style scoped>\n",
       "    .dataframe tbody tr th:only-of-type {\n",
       "        vertical-align: middle;\n",
       "    }\n",
       "\n",
       "    .dataframe tbody tr th {\n",
       "        vertical-align: top;\n",
       "    }\n",
       "\n",
       "    .dataframe thead th {\n",
       "        text-align: right;\n",
       "    }\n",
       "</style>\n",
       "<table border=\"1\" class=\"dataframe\">\n",
       "  <thead>\n",
       "    <tr style=\"text-align: right;\">\n",
       "      <th></th>\n",
       "      <th>movieId</th>\n",
       "      <th>title</th>\n",
       "      <th>genres</th>\n",
       "    </tr>\n",
       "  </thead>\n",
       "  <tbody>\n",
       "    <tr>\n",
       "      <th>0</th>\n",
       "      <td>1</td>\n",
       "      <td>Toy Story (1995)</td>\n",
       "      <td>Adventure|Animation|Children|Comedy|Fantasy</td>\n",
       "    </tr>\n",
       "    <tr>\n",
       "      <th>1</th>\n",
       "      <td>2</td>\n",
       "      <td>Jumanji (1995)</td>\n",
       "      <td>Adventure|Children|Fantasy</td>\n",
       "    </tr>\n",
       "    <tr>\n",
       "      <th>2</th>\n",
       "      <td>3</td>\n",
       "      <td>Grumpier Old Men (1995)</td>\n",
       "      <td>Comedy|Romance</td>\n",
       "    </tr>\n",
       "    <tr>\n",
       "      <th>3</th>\n",
       "      <td>4</td>\n",
       "      <td>Waiting to Exhale (1995)</td>\n",
       "      <td>Comedy|Drama|Romance</td>\n",
       "    </tr>\n",
       "    <tr>\n",
       "      <th>4</th>\n",
       "      <td>5</td>\n",
       "      <td>Father of the Bride Part II (1995)</td>\n",
       "      <td>Comedy</td>\n",
       "    </tr>\n",
       "  </tbody>\n",
       "</table>\n",
       "</div>"
      ],
      "text/plain": [
       "   movieId                               title  \\\n",
       "0        1                    Toy Story (1995)   \n",
       "1        2                      Jumanji (1995)   \n",
       "2        3             Grumpier Old Men (1995)   \n",
       "3        4            Waiting to Exhale (1995)   \n",
       "4        5  Father of the Bride Part II (1995)   \n",
       "\n",
       "                                        genres  \n",
       "0  Adventure|Animation|Children|Comedy|Fantasy  \n",
       "1                   Adventure|Children|Fantasy  \n",
       "2                               Comedy|Romance  \n",
       "3                         Comedy|Drama|Romance  \n",
       "4                                       Comedy  "
      ]
     },
     "execution_count": 3,
     "metadata": {},
     "output_type": "execute_result"
    }
   ],
   "source": [
    "df_movies.head()"
   ]
  },
  {
   "cell_type": "code",
   "execution_count": 4,
   "id": "yellow-locator",
   "metadata": {},
   "outputs": [
    {
     "data": {
      "text/html": [
       "<div>\n",
       "<style scoped>\n",
       "    .dataframe tbody tr th:only-of-type {\n",
       "        vertical-align: middle;\n",
       "    }\n",
       "\n",
       "    .dataframe tbody tr th {\n",
       "        vertical-align: top;\n",
       "    }\n",
       "\n",
       "    .dataframe thead th {\n",
       "        text-align: right;\n",
       "    }\n",
       "</style>\n",
       "<table border=\"1\" class=\"dataframe\">\n",
       "  <thead>\n",
       "    <tr style=\"text-align: right;\">\n",
       "      <th></th>\n",
       "      <th>userId</th>\n",
       "      <th>movieId</th>\n",
       "      <th>rating</th>\n",
       "      <th>timestamp</th>\n",
       "    </tr>\n",
       "  </thead>\n",
       "  <tbody>\n",
       "    <tr>\n",
       "      <th>0</th>\n",
       "      <td>1</td>\n",
       "      <td>1</td>\n",
       "      <td>4.0</td>\n",
       "      <td>964982703</td>\n",
       "    </tr>\n",
       "    <tr>\n",
       "      <th>1</th>\n",
       "      <td>1</td>\n",
       "      <td>3</td>\n",
       "      <td>4.0</td>\n",
       "      <td>964981247</td>\n",
       "    </tr>\n",
       "    <tr>\n",
       "      <th>2</th>\n",
       "      <td>1</td>\n",
       "      <td>6</td>\n",
       "      <td>4.0</td>\n",
       "      <td>964982224</td>\n",
       "    </tr>\n",
       "    <tr>\n",
       "      <th>3</th>\n",
       "      <td>1</td>\n",
       "      <td>47</td>\n",
       "      <td>5.0</td>\n",
       "      <td>964983815</td>\n",
       "    </tr>\n",
       "    <tr>\n",
       "      <th>4</th>\n",
       "      <td>1</td>\n",
       "      <td>50</td>\n",
       "      <td>5.0</td>\n",
       "      <td>964982931</td>\n",
       "    </tr>\n",
       "  </tbody>\n",
       "</table>\n",
       "</div>"
      ],
      "text/plain": [
       "   userId  movieId  rating  timestamp\n",
       "0       1        1     4.0  964982703\n",
       "1       1        3     4.0  964981247\n",
       "2       1        6     4.0  964982224\n",
       "3       1       47     5.0  964983815\n",
       "4       1       50     5.0  964982931"
      ]
     },
     "execution_count": 4,
     "metadata": {},
     "output_type": "execute_result"
    }
   ],
   "source": [
    "df_ratings.head()"
   ]
  },
  {
   "cell_type": "code",
   "execution_count": 5,
   "id": "dated-honor",
   "metadata": {},
   "outputs": [
    {
     "data": {
      "text/html": [
       "<div>\n",
       "<style scoped>\n",
       "    .dataframe tbody tr th:only-of-type {\n",
       "        vertical-align: middle;\n",
       "    }\n",
       "\n",
       "    .dataframe tbody tr th {\n",
       "        vertical-align: top;\n",
       "    }\n",
       "\n",
       "    .dataframe thead th {\n",
       "        text-align: right;\n",
       "    }\n",
       "</style>\n",
       "<table border=\"1\" class=\"dataframe\">\n",
       "  <thead>\n",
       "    <tr style=\"text-align: right;\">\n",
       "      <th></th>\n",
       "      <th>userId</th>\n",
       "      <th>movieId</th>\n",
       "      <th>tag</th>\n",
       "      <th>timestamp</th>\n",
       "    </tr>\n",
       "  </thead>\n",
       "  <tbody>\n",
       "    <tr>\n",
       "      <th>0</th>\n",
       "      <td>2</td>\n",
       "      <td>60756</td>\n",
       "      <td>funny</td>\n",
       "      <td>1445714994</td>\n",
       "    </tr>\n",
       "    <tr>\n",
       "      <th>1</th>\n",
       "      <td>2</td>\n",
       "      <td>60756</td>\n",
       "      <td>Highly quotable</td>\n",
       "      <td>1445714996</td>\n",
       "    </tr>\n",
       "    <tr>\n",
       "      <th>2</th>\n",
       "      <td>2</td>\n",
       "      <td>60756</td>\n",
       "      <td>will ferrell</td>\n",
       "      <td>1445714992</td>\n",
       "    </tr>\n",
       "    <tr>\n",
       "      <th>3</th>\n",
       "      <td>2</td>\n",
       "      <td>89774</td>\n",
       "      <td>Boxing story</td>\n",
       "      <td>1445715207</td>\n",
       "    </tr>\n",
       "    <tr>\n",
       "      <th>4</th>\n",
       "      <td>2</td>\n",
       "      <td>89774</td>\n",
       "      <td>MMA</td>\n",
       "      <td>1445715200</td>\n",
       "    </tr>\n",
       "  </tbody>\n",
       "</table>\n",
       "</div>"
      ],
      "text/plain": [
       "   userId  movieId              tag   timestamp\n",
       "0       2    60756            funny  1445714994\n",
       "1       2    60756  Highly quotable  1445714996\n",
       "2       2    60756     will ferrell  1445714992\n",
       "3       2    89774     Boxing story  1445715207\n",
       "4       2    89774              MMA  1445715200"
      ]
     },
     "execution_count": 5,
     "metadata": {},
     "output_type": "execute_result"
    }
   ],
   "source": [
    "df_tags.head()"
   ]
  },
  {
   "cell_type": "markdown",
   "id": "rotary-married",
   "metadata": {},
   "source": [
    "### Pergunta 1 – Existe alguma correlação entre o ano de lançamento do filme e sua avaliação média (média de ratings)?"
   ]
  },
  {
   "cell_type": "markdown",
   "id": "industrial-rhythm",
   "metadata": {},
   "source": [
    "#### Pre processing"
   ]
  },
  {
   "cell_type": "code",
   "execution_count": 6,
   "id": "refined-consideration",
   "metadata": {
    "scrolled": true
   },
   "outputs": [
    {
     "name": "stdout",
     "output_type": "stream",
     "text": [
      " Raw Title: Corner Gas: The Movie (2014)\n",
      "Movie Year: 2014\n",
      "\n",
      " Raw Title: Jimmy Carr: Telling Jokes (2009)\n",
      "Movie Year: 2009\n",
      "\n",
      " Raw Title: Before the Devil Knows You're Dead (2007)\n",
      "Movie Year: 2007\n",
      "\n",
      " Raw Title: Duel in the Sun (1946)\n",
      "Movie Year: 1946\n",
      "\n",
      " Raw Title: When a Stranger Calls (2006)\n",
      "Movie Year: 2006\n",
      "\n"
     ]
    }
   ],
   "source": [
    "# Testing regex logic to get year \n",
    "import re\n",
    "\n",
    "def get_year_from_raw_title(raw_title):\n",
    "    regex_exp = re.compile('\\((....)\\)')\n",
    "    try:\n",
    "        return int(re.sub('[()]', '', re.search(regex_exp, raw_title).group()))\n",
    "    except: \n",
    "        return None\n",
    "\n",
    "movie_list_for_test = list(df_movies.sample(n=5).title)\n",
    "\n",
    "for movie in movie_list_for_test:\n",
    "    print(f\" Raw Title: {movie}\\nMovie Year: {get_year_from_raw_title(movie)}\\n\")"
   ]
  },
  {
   "cell_type": "code",
   "execution_count": 7,
   "id": "stock-pantyhose",
   "metadata": {
    "scrolled": true
   },
   "outputs": [
    {
     "name": "stdout",
     "output_type": "stream",
     "text": [
      "Old Title: MirrorMask (2005)\n",
      "New Title: MirrorMask \n",
      "\n",
      "Old Title: Friendly Persuasion (1956)\n",
      "New Title: Friendly Persuasion \n",
      "\n",
      "Old Title: Girl, Interrupted (1999)\n",
      "New Title: Girl, Interrupted \n",
      "\n",
      "Old Title: Giant (1956)\n",
      "New Title: Giant \n",
      "\n",
      "Old Title: Singin' in the Rain (1952)\n",
      "New Title: Singin' in the Rain \n",
      "\n"
     ]
    }
   ],
   "source": [
    "# Testing regex logic to remove year from title \n",
    "\n",
    "def remove_year_from_raw_title(raw_title):\n",
    "    regex_exp = re.compile('\\((....)\\)')\n",
    "    try:\n",
    "        title = re.sub(regex_exp, '', raw_title)\n",
    "    except: \n",
    "        return raw_title\n",
    "    return title\n",
    "\n",
    "movie_list_for_test = list(df_movies.sample(n=5).title)\n",
    "\n",
    "for movie in movie_list_for_test:\n",
    "    print(f\"Old Title: {movie}\\nNew Title: {remove_year_from_raw_title(movie)}\\n\")"
   ]
  },
  {
   "cell_type": "code",
   "execution_count": 8,
   "id": "binary-animal",
   "metadata": {},
   "outputs": [
    {
     "data": {
      "text/html": [
       "<div>\n",
       "<style scoped>\n",
       "    .dataframe tbody tr th:only-of-type {\n",
       "        vertical-align: middle;\n",
       "    }\n",
       "\n",
       "    .dataframe tbody tr th {\n",
       "        vertical-align: top;\n",
       "    }\n",
       "\n",
       "    .dataframe thead th {\n",
       "        text-align: right;\n",
       "    }\n",
       "</style>\n",
       "<table border=\"1\" class=\"dataframe\">\n",
       "  <thead>\n",
       "    <tr style=\"text-align: right;\">\n",
       "      <th></th>\n",
       "      <th>movieId</th>\n",
       "      <th>title</th>\n",
       "      <th>year</th>\n",
       "    </tr>\n",
       "  </thead>\n",
       "  <tbody>\n",
       "    <tr>\n",
       "      <th>0</th>\n",
       "      <td>1</td>\n",
       "      <td>Toy Story</td>\n",
       "      <td>1995.0</td>\n",
       "    </tr>\n",
       "    <tr>\n",
       "      <th>1</th>\n",
       "      <td>2</td>\n",
       "      <td>Jumanji</td>\n",
       "      <td>1995.0</td>\n",
       "    </tr>\n",
       "    <tr>\n",
       "      <th>2</th>\n",
       "      <td>3</td>\n",
       "      <td>Grumpier Old Men</td>\n",
       "      <td>1995.0</td>\n",
       "    </tr>\n",
       "    <tr>\n",
       "      <th>3</th>\n",
       "      <td>4</td>\n",
       "      <td>Waiting to Exhale</td>\n",
       "      <td>1995.0</td>\n",
       "    </tr>\n",
       "    <tr>\n",
       "      <th>4</th>\n",
       "      <td>5</td>\n",
       "      <td>Father of the Bride Part II</td>\n",
       "      <td>1995.0</td>\n",
       "    </tr>\n",
       "  </tbody>\n",
       "</table>\n",
       "</div>"
      ],
      "text/plain": [
       "   movieId                         title    year\n",
       "0        1                    Toy Story   1995.0\n",
       "1        2                      Jumanji   1995.0\n",
       "2        3             Grumpier Old Men   1995.0\n",
       "3        4            Waiting to Exhale   1995.0\n",
       "4        5  Father of the Bride Part II   1995.0"
      ]
     },
     "execution_count": 8,
     "metadata": {},
     "output_type": "execute_result"
    }
   ],
   "source": [
    "# Pre Procesing Data\n",
    "# Creating 'year' column and adjusting the title - Movie DF\n",
    "\n",
    "# Extracting Years\n",
    "years = []\n",
    "for title in df_movies['title']:\n",
    "    years.append(get_year_from_raw_title(title))\n",
    "\n",
    "# Removing year from title\n",
    "titles = []\n",
    "for title in df_movies['title']:\n",
    "    titles.append(remove_year_from_raw_title(title))\n",
    "\n",
    "# Creating new DF with title normalized and 'year' column\n",
    "df_movies_title_normalized_year_column = df_movies[['movieId','title']]\n",
    "df_movies_title_normalized_year_column['year'] = years\n",
    "df_movies_title_normalized_year_column['title'] = titles\n",
    "df_movies_title_normalized_year_column.head()"
   ]
  },
  {
   "cell_type": "code",
   "execution_count": 9,
   "id": "antique-graphic",
   "metadata": {},
   "outputs": [
    {
     "data": {
      "text/html": [
       "<div>\n",
       "<style scoped>\n",
       "    .dataframe tbody tr th:only-of-type {\n",
       "        vertical-align: middle;\n",
       "    }\n",
       "\n",
       "    .dataframe tbody tr th {\n",
       "        vertical-align: top;\n",
       "    }\n",
       "\n",
       "    .dataframe thead th {\n",
       "        text-align: right;\n",
       "    }\n",
       "</style>\n",
       "<table border=\"1\" class=\"dataframe\">\n",
       "  <thead>\n",
       "    <tr style=\"text-align: right;\">\n",
       "      <th></th>\n",
       "      <th>rating</th>\n",
       "    </tr>\n",
       "    <tr>\n",
       "      <th>movieId</th>\n",
       "      <th></th>\n",
       "    </tr>\n",
       "  </thead>\n",
       "  <tbody>\n",
       "    <tr>\n",
       "      <th>1</th>\n",
       "      <td>3.92</td>\n",
       "    </tr>\n",
       "    <tr>\n",
       "      <th>2</th>\n",
       "      <td>3.43</td>\n",
       "    </tr>\n",
       "    <tr>\n",
       "      <th>3</th>\n",
       "      <td>3.26</td>\n",
       "    </tr>\n",
       "    <tr>\n",
       "      <th>4</th>\n",
       "      <td>2.36</td>\n",
       "    </tr>\n",
       "    <tr>\n",
       "      <th>5</th>\n",
       "      <td>3.07</td>\n",
       "    </tr>\n",
       "  </tbody>\n",
       "</table>\n",
       "</div>"
      ],
      "text/plain": [
       "         rating\n",
       "movieId        \n",
       "1          3.92\n",
       "2          3.43\n",
       "3          3.26\n",
       "4          2.36\n",
       "5          3.07"
      ]
     },
     "execution_count": 9,
     "metadata": {},
     "output_type": "execute_result"
    }
   ],
   "source": [
    "# AVG Rate\n",
    "\n",
    "df_ratings_groupby_movieId_with_mean_rating = df_ratings.groupby('movieId').mean()[['rating']].round(2)\n",
    "df_ratings_groupby_movieId_with_mean_rating.head()"
   ]
  },
  {
   "cell_type": "markdown",
   "id": "statistical-power",
   "metadata": {},
   "source": [
    "#### Cálculo"
   ]
  },
  {
   "cell_type": "code",
   "execution_count": 10,
   "id": "honest-argentina",
   "metadata": {},
   "outputs": [
    {
     "name": "stdout",
     "output_type": "stream",
     "text": [
      "Correlation Coefficient: -0.11\n"
     ]
    }
   ],
   "source": [
    "# Merging rating DF with Title and Year DF\n",
    "\n",
    "df_movie_ratings_merged = pd.merge(df_ratings_groupby_movieId_with_mean_rating, df_movies_title_normalized_year_column, how = 'inner', on = 'movieId')\n",
    "\n",
    "correlation = df_movie_ratings_merged['rating'].corr(df_movie_ratings_merged['year'])\n",
    "print(f'Correlation Coefficient: {round(correlation, 2)}')"
   ]
  },
  {
   "cell_type": "markdown",
   "id": "waiting-delicious",
   "metadata": {},
   "source": [
    "$R:$ Coeficiente de correlação: -0.11. Há pouco indício de correlação"
   ]
  },
  {
   "cell_type": "markdown",
   "id": "complicated-gossip",
   "metadata": {},
   "source": [
    "### Pergunta 2 – Qual o grupo mais disperso, o de usuários que avaliaram ou o de usuários que rotularam filmes?"
   ]
  },
  {
   "cell_type": "code",
   "execution_count": 11,
   "id": "exciting-understanding",
   "metadata": {},
   "outputs": [],
   "source": [
    "import seaborn as sns\n",
    "import matplotlib.pyplot as plt\n",
    "import numpy as np\n",
    "%matplotlib inline"
   ]
  },
  {
   "cell_type": "markdown",
   "id": "talented-drunk",
   "metadata": {},
   "source": [
    "#### Analisando a base de Ratings"
   ]
  },
  {
   "cell_type": "code",
   "execution_count": 12,
   "id": "metric-baking",
   "metadata": {
    "scrolled": true
   },
   "outputs": [
    {
     "name": "stdout",
     "output_type": "stream",
     "text": [
      "<class 'pandas.core.frame.DataFrame'>\n",
      "RangeIndex: 100836 entries, 0 to 100835\n",
      "Data columns (total 4 columns):\n",
      " #   Column     Non-Null Count   Dtype  \n",
      "---  ------     --------------   -----  \n",
      " 0   userId     100836 non-null  int64  \n",
      " 1   movieId    100836 non-null  int64  \n",
      " 2   rating     100836 non-null  float64\n",
      " 3   timestamp  100836 non-null  int64  \n",
      "dtypes: float64(1), int64(3)\n",
      "memory usage: 3.1 MB\n"
     ]
    },
    {
     "data": {
      "text/html": [
       "<div>\n",
       "<style scoped>\n",
       "    .dataframe tbody tr th:only-of-type {\n",
       "        vertical-align: middle;\n",
       "    }\n",
       "\n",
       "    .dataframe tbody tr th {\n",
       "        vertical-align: top;\n",
       "    }\n",
       "\n",
       "    .dataframe thead th {\n",
       "        text-align: right;\n",
       "    }\n",
       "</style>\n",
       "<table border=\"1\" class=\"dataframe\">\n",
       "  <thead>\n",
       "    <tr style=\"text-align: right;\">\n",
       "      <th></th>\n",
       "      <th>userId</th>\n",
       "      <th>movieId</th>\n",
       "      <th>rating</th>\n",
       "      <th>timestamp</th>\n",
       "    </tr>\n",
       "  </thead>\n",
       "  <tbody>\n",
       "    <tr>\n",
       "      <th>0</th>\n",
       "      <td>1</td>\n",
       "      <td>1</td>\n",
       "      <td>4.0</td>\n",
       "      <td>964982703</td>\n",
       "    </tr>\n",
       "    <tr>\n",
       "      <th>1</th>\n",
       "      <td>1</td>\n",
       "      <td>3</td>\n",
       "      <td>4.0</td>\n",
       "      <td>964981247</td>\n",
       "    </tr>\n",
       "    <tr>\n",
       "      <th>2</th>\n",
       "      <td>1</td>\n",
       "      <td>6</td>\n",
       "      <td>4.0</td>\n",
       "      <td>964982224</td>\n",
       "    </tr>\n",
       "    <tr>\n",
       "      <th>3</th>\n",
       "      <td>1</td>\n",
       "      <td>47</td>\n",
       "      <td>5.0</td>\n",
       "      <td>964983815</td>\n",
       "    </tr>\n",
       "    <tr>\n",
       "      <th>4</th>\n",
       "      <td>1</td>\n",
       "      <td>50</td>\n",
       "      <td>5.0</td>\n",
       "      <td>964982931</td>\n",
       "    </tr>\n",
       "  </tbody>\n",
       "</table>\n",
       "</div>"
      ],
      "text/plain": [
       "   userId  movieId  rating  timestamp\n",
       "0       1        1     4.0  964982703\n",
       "1       1        3     4.0  964981247\n",
       "2       1        6     4.0  964982224\n",
       "3       1       47     5.0  964983815\n",
       "4       1       50     5.0  964982931"
      ]
     },
     "execution_count": 12,
     "metadata": {},
     "output_type": "execute_result"
    }
   ],
   "source": [
    "# Olhando os dados novamente\n",
    "df_ratings.info()\n",
    "df_ratings.head()"
   ]
  },
  {
   "cell_type": "code",
   "execution_count": 15,
   "id": "unlikely-milan",
   "metadata": {},
   "outputs": [
    {
     "data": {
      "text/html": [
       "<div>\n",
       "<style scoped>\n",
       "    .dataframe tbody tr th:only-of-type {\n",
       "        vertical-align: middle;\n",
       "    }\n",
       "\n",
       "    .dataframe tbody tr th {\n",
       "        vertical-align: top;\n",
       "    }\n",
       "\n",
       "    .dataframe thead th {\n",
       "        text-align: right;\n",
       "    }\n",
       "</style>\n",
       "<table border=\"1\" class=\"dataframe\">\n",
       "  <thead>\n",
       "    <tr style=\"text-align: right;\">\n",
       "      <th></th>\n",
       "      <th>userId</th>\n",
       "      <th>ratedMovies</th>\n",
       "    </tr>\n",
       "  </thead>\n",
       "  <tbody>\n",
       "    <tr>\n",
       "      <th>0</th>\n",
       "      <td>414</td>\n",
       "      <td>2698</td>\n",
       "    </tr>\n",
       "    <tr>\n",
       "      <th>1</th>\n",
       "      <td>599</td>\n",
       "      <td>2478</td>\n",
       "    </tr>\n",
       "    <tr>\n",
       "      <th>2</th>\n",
       "      <td>474</td>\n",
       "      <td>2108</td>\n",
       "    </tr>\n",
       "    <tr>\n",
       "      <th>3</th>\n",
       "      <td>448</td>\n",
       "      <td>1864</td>\n",
       "    </tr>\n",
       "    <tr>\n",
       "      <th>4</th>\n",
       "      <td>274</td>\n",
       "      <td>1346</td>\n",
       "    </tr>\n",
       "  </tbody>\n",
       "</table>\n",
       "</div>"
      ],
      "text/plain": [
       "   userId  ratedMovies\n",
       "0     414         2698\n",
       "1     599         2478\n",
       "2     474         2108\n",
       "3     448         1864\n",
       "4     274         1346"
      ]
     },
     "execution_count": 15,
     "metadata": {},
     "output_type": "execute_result"
    }
   ],
   "source": [
    "# Contando a quantos filmes cada usuário avaliou para checar sua a diferença da média com mediana e o desvio padrão.\n",
    "df_ratings_rate_count_by_userid = df_ratings.value_counts('userId').to_frame().reset_index()\n",
    "df_ratings_rate_count_by_userid.columns =  ['userId','ratedMovies']\n",
    "df_ratings_rate_count_by_userid.head()\n",
    "\n",
    "# min max scaler"
   ]
  },
  {
   "cell_type": "code",
   "execution_count": 17,
   "id": "optical-blair",
   "metadata": {},
   "outputs": [
    {
     "data": {
      "text/plain": [
       "count     610.000000\n",
       "mean      165.304918\n",
       "std       269.480584\n",
       "min        20.000000\n",
       "25%        35.000000\n",
       "50%        70.500000\n",
       "75%       168.000000\n",
       "max      2698.000000\n",
       "Name: ratedMovies, dtype: float64"
      ]
     },
     "execution_count": 17,
     "metadata": {},
     "output_type": "execute_result"
    }
   ],
   "source": [
    "user_rate_count_rate_stats = df_ratings_rate_count_by_userid.ratedMovies.describe()\n",
    "user_rate_count_rate_stats"
   ]
  },
  {
   "cell_type": "code",
   "execution_count": 18,
   "id": "framed-mountain",
   "metadata": {},
   "outputs": [
    {
     "data": {
      "text/plain": [
       "Text(0.5, 0, 'Quantidade de Classificações de Filmes por Usuário')"
      ]
     },
     "execution_count": 18,
     "metadata": {},
     "output_type": "execute_result"
    },
    {
     "data": {
      "image/png": "[encoded data removed]",
      "text/plain": [
       "<Figure size 1080x360 with 1 Axes>"
      ]
     },
     "metadata": {
      "needs_background": "light"
     },
     "output_type": "display_data"
    }
   ],
   "source": [
    "# Avaliação visual dos quartis para entender a distribuição do dado.\n",
    "plt.figure(figsize=(15, 5))\n",
    "fig = sns.boxplot(x=df_ratings_rate_count_by_userid['ratedMovies'], showfliers=False)\n",
    "plt.xlabel(\"Quantidade de Classificações de Filmes por Usuário\")\n"
   ]
  },
  {
   "cell_type": "code",
   "execution_count": 31,
   "id": "dominant-hudson",
   "metadata": {},
   "outputs": [
    {
     "data": {
      "text/plain": [
       "Text(0.5, 0, 'Quantidade de Classificações de Filmes por Usuário')"
      ]
     },
     "execution_count": 31,
     "metadata": {},
     "output_type": "execute_result"
    },
    {
     "data": {
      "image/png": "[encoded data removed]",
      "text/plain": [
       "<Figure size 1080x360 with 1 Axes>"
      ]
     },
     "metadata": {
      "needs_background": "light"
     },
     "output_type": "display_data"
    }
   ],
   "source": [
    "# Avaliação visual dos quartis para entender a distribuição do dado.\n",
    "plt.figure(figsize=(15, 5))\n",
    "fig = sns.histplot(data=df_ratings_rate_count_by_userid, x='ratedMovies')\n",
    "plt.xlabel(\"Quantidade de Classificações de Filmes por Usuário\")\n"
   ]
  },
  {
   "cell_type": "markdown",
   "id": "classified-ratio",
   "metadata": {},
   "source": [
    "#### Analisando a base de Tags"
   ]
  },
  {
   "cell_type": "code",
   "execution_count": 15,
   "id": "optional-accident",
   "metadata": {},
   "outputs": [
    {
     "name": "stdout",
     "output_type": "stream",
     "text": [
      "<class 'pandas.core.frame.DataFrame'>\n",
      "RangeIndex: 3683 entries, 0 to 3682\n",
      "Data columns (total 4 columns):\n",
      " #   Column     Non-Null Count  Dtype \n",
      "---  ------     --------------  ----- \n",
      " 0   userId     3683 non-null   int64 \n",
      " 1   movieId    3683 non-null   int64 \n",
      " 2   tag        3683 non-null   object\n",
      " 3   timestamp  3683 non-null   int64 \n",
      "dtypes: int64(3), object(1)\n",
      "memory usage: 115.2+ KB\n"
     ]
    },
    {
     "data": {
      "text/html": [
       "<div>\n",
       "<style scoped>\n",
       "    .dataframe tbody tr th:only-of-type {\n",
       "        vertical-align: middle;\n",
       "    }\n",
       "\n",
       "    .dataframe tbody tr th {\n",
       "        vertical-align: top;\n",
       "    }\n",
       "\n",
       "    .dataframe thead th {\n",
       "        text-align: right;\n",
       "    }\n",
       "</style>\n",
       "<table border=\"1\" class=\"dataframe\">\n",
       "  <thead>\n",
       "    <tr style=\"text-align: right;\">\n",
       "      <th></th>\n",
       "      <th>userId</th>\n",
       "      <th>movieId</th>\n",
       "      <th>tag</th>\n",
       "      <th>timestamp</th>\n",
       "    </tr>\n",
       "  </thead>\n",
       "  <tbody>\n",
       "    <tr>\n",
       "      <th>0</th>\n",
       "      <td>2</td>\n",
       "      <td>60756</td>\n",
       "      <td>funny</td>\n",
       "      <td>1445714994</td>\n",
       "    </tr>\n",
       "    <tr>\n",
       "      <th>1</th>\n",
       "      <td>2</td>\n",
       "      <td>60756</td>\n",
       "      <td>Highly quotable</td>\n",
       "      <td>1445714996</td>\n",
       "    </tr>\n",
       "    <tr>\n",
       "      <th>2</th>\n",
       "      <td>2</td>\n",
       "      <td>60756</td>\n",
       "      <td>will ferrell</td>\n",
       "      <td>1445714992</td>\n",
       "    </tr>\n",
       "    <tr>\n",
       "      <th>3</th>\n",
       "      <td>2</td>\n",
       "      <td>89774</td>\n",
       "      <td>Boxing story</td>\n",
       "      <td>1445715207</td>\n",
       "    </tr>\n",
       "    <tr>\n",
       "      <th>4</th>\n",
       "      <td>2</td>\n",
       "      <td>89774</td>\n",
       "      <td>MMA</td>\n",
       "      <td>1445715200</td>\n",
       "    </tr>\n",
       "  </tbody>\n",
       "</table>\n",
       "</div>"
      ],
      "text/plain": [
       "   userId  movieId              tag   timestamp\n",
       "0       2    60756            funny  1445714994\n",
       "1       2    60756  Highly quotable  1445714996\n",
       "2       2    60756     will ferrell  1445714992\n",
       "3       2    89774     Boxing story  1445715207\n",
       "4       2    89774              MMA  1445715200"
      ]
     },
     "execution_count": 15,
     "metadata": {},
     "output_type": "execute_result"
    }
   ],
   "source": [
    "# Olhando a base de tags\n",
    "df_tags.info()\n",
    "df_tags.head()"
   ]
  },
  {
   "cell_type": "code",
   "execution_count": 32,
   "id": "bacterial-emergency",
   "metadata": {},
   "outputs": [
    {
     "data": {
      "text/html": [
       "<div>\n",
       "<style scoped>\n",
       "    .dataframe tbody tr th:only-of-type {\n",
       "        vertical-align: middle;\n",
       "    }\n",
       "\n",
       "    .dataframe tbody tr th {\n",
       "        vertical-align: top;\n",
       "    }\n",
       "\n",
       "    .dataframe thead th {\n",
       "        text-align: right;\n",
       "    }\n",
       "</style>\n",
       "<table border=\"1\" class=\"dataframe\">\n",
       "  <thead>\n",
       "    <tr style=\"text-align: right;\">\n",
       "      <th></th>\n",
       "      <th>userId</th>\n",
       "      <th>taggedMovies</th>\n",
       "    </tr>\n",
       "  </thead>\n",
       "  <tbody>\n",
       "    <tr>\n",
       "      <th>0</th>\n",
       "      <td>474</td>\n",
       "      <td>1507</td>\n",
       "    </tr>\n",
       "    <tr>\n",
       "      <th>1</th>\n",
       "      <td>567</td>\n",
       "      <td>432</td>\n",
       "    </tr>\n",
       "    <tr>\n",
       "      <th>2</th>\n",
       "      <td>62</td>\n",
       "      <td>370</td>\n",
       "    </tr>\n",
       "    <tr>\n",
       "      <th>3</th>\n",
       "      <td>599</td>\n",
       "      <td>323</td>\n",
       "    </tr>\n",
       "    <tr>\n",
       "      <th>4</th>\n",
       "      <td>477</td>\n",
       "      <td>280</td>\n",
       "    </tr>\n",
       "  </tbody>\n",
       "</table>\n",
       "</div>"
      ],
      "text/plain": [
       "   userId  taggedMovies\n",
       "0     474          1507\n",
       "1     567           432\n",
       "2      62           370\n",
       "3     599           323\n",
       "4     477           280"
      ]
     },
     "execution_count": 32,
     "metadata": {},
     "output_type": "execute_result"
    }
   ],
   "source": [
    "# Contando a quantos filmes cada usuário avaliou para checar sua a diferença da média com mediana e o desvio padrão.\n",
    "df_tag_count_by_userid = df_tags.value_counts('userId').to_frame().reset_index()\n",
    "df_tag_count_by_userid.columns =  ['userId','taggedMovies']\n",
    "df_tag_count_by_userid.head()"
   ]
  },
  {
   "cell_type": "code",
   "execution_count": 34,
   "id": "political-still",
   "metadata": {},
   "outputs": [
    {
     "data": {
      "text/plain": [
       "count      58.000000\n",
       "mean       63.500000\n",
       "std       215.118103\n",
       "min         1.000000\n",
       "25%         2.250000\n",
       "50%         4.000000\n",
       "75%        13.000000\n",
       "max      1507.000000\n",
       "Name: taggedMovies, dtype: float64"
      ]
     },
     "execution_count": 34,
     "metadata": {},
     "output_type": "execute_result"
    }
   ],
   "source": [
    "df_tag_count_by_userid.taggedMovies.describe()"
   ]
  },
  {
   "cell_type": "code",
   "execution_count": 41,
   "id": "signal-popularity",
   "metadata": {
    "scrolled": true
   },
   "outputs": [
    {
     "data": {
      "text/plain": [
       "Text(0.5, 0, 'Quantidade de Avaliações a Filmes por Usuário')"
      ]
     },
     "execution_count": 41,
     "metadata": {},
     "output_type": "execute_result"
    },
    {
     "data": {
      "image/png": "[encoded data removed]",
      "text/plain": [
       "<Figure size 1080x360 with 1 Axes>"
      ]
     },
     "metadata": {
      "needs_background": "light"
     },
     "output_type": "display_data"
    }
   ],
   "source": [
    "# Avaliação visual dos quartis para entender a distribuição do dado.\n",
    "plt.figure(figsize=(15, 5))\n",
    "sns.boxplot(x=df_tag_count_by_userid['taggedMovies'], showfliers=False)\n",
    "plt.xlabel(\"Quantidade de Avaliações a Filmes por Usuário\")"
   ]
  },
  {
   "cell_type": "code",
   "execution_count": 115,
   "id": "younger-syracuse",
   "metadata": {},
   "outputs": [
    {
     "data": {
      "text/plain": [
       "<AxesSubplot:xlabel='ratedMovies', ylabel='Count'>"
      ]
     },
     "execution_count": 115,
     "metadata": {},
     "output_type": "execute_result"
    },
    {
     "data": {
      "image/png": "[encoded data removed]",
      "text/plain": [
       "<Figure size 1440x360 with 4 Axes>"
      ]
     },
     "metadata": {
      "needs_background": "light"
     },
     "output_type": "display_data"
    }
   ],
   "source": [
    "fig, axs = plt.subplots(ncols=2,nrows=2, figsize=(20,5))\n",
    "sns.boxplot(x=['taggedMovies'], showfliers=False, ax=axs[0,1])\n",
    "sns.histplot(data=df_tag_count_by_userid, x='taggedMovies', ax=axs[0,0])\n",
    "sns.boxplot(x=df_ratings_rate_count_by_userid[''ratedMovies''], showfliers=False, ax=axs[1,1])\n",
    "sns.histplot(data=df_ratings_rate_count_by_userid, x='ratedMovies', ax=axs[1,0])"
   ]
  },
  {
   "cell_type": "code",
   "execution_count": 151,
   "id": "worst-tanzania",
   "metadata": {},
   "outputs": [
    {
     "data": {
      "text/plain": [
       "count    58.000000\n",
       "mean      0.041501\n",
       "std       0.142841\n",
       "min       0.000000\n",
       "25%       0.000830\n",
       "50%       0.001992\n",
       "75%       0.007968\n",
       "max       1.000000\n",
       "Name: taggedMovies, dtype: float64"
      ]
     },
     "execution_count": 151,
     "metadata": {},
     "output_type": "execute_result"
    }
   ],
   "source": [
    "from sklearn import preprocessing\n",
    "\n",
    "\n",
    "normalized_taggedMovies=(df_tag_count_by_userid.taggedMovies-df_tag_count_by_userid.taggedMovies.min())/(df_tag_count_by_userid.taggedMovies.max()-df_tag_count_by_userid.taggedMovies.min())\n",
    "\n",
    "df_tag_count_by_userid_normalized = df_tag_count_by_userid\n",
    "df_tag_count_by_userid_normalized.taggedMovies = normalized_taggedMovies\n",
    "\n",
    "df_tag_count_by_userid_normalized.head()\n",
    "df_tag_count_by_userid_normalized.taggedMovies.describe()\n",
    "# ax = sns.boxplot(x=df_tag_count_by_userid_normalized['taggedMovies'], showfliers=False)"
   ]
  },
  {
   "cell_type": "markdown",
   "id": "bored-completion",
   "metadata": {},
   "source": [
    "$R:$ O grupo mais disperso é o de usuários que rotularam filmes."
   ]
  },
  {
   "cell_type": "markdown",
   "id": "crucial-arctic",
   "metadata": {},
   "source": [
    "### Pergunta 3 – Qual a categoria rotulada mais frequente?"
   ]
  },
  {
   "cell_type": "code",
   "execution_count": 165,
   "id": "severe-fifteen",
   "metadata": {},
   "outputs": [
    {
     "data": {
      "text/html": [
       "<div>\n",
       "<style scoped>\n",
       "    .dataframe tbody tr th:only-of-type {\n",
       "        vertical-align: middle;\n",
       "    }\n",
       "\n",
       "    .dataframe tbody tr th {\n",
       "        vertical-align: top;\n",
       "    }\n",
       "\n",
       "    .dataframe thead th {\n",
       "        text-align: right;\n",
       "    }\n",
       "</style>\n",
       "<table border=\"1\" class=\"dataframe\">\n",
       "  <thead>\n",
       "    <tr style=\"text-align: right;\">\n",
       "      <th></th>\n",
       "      <th>movieId</th>\n",
       "      <th>title</th>\n",
       "      <th>genres</th>\n",
       "    </tr>\n",
       "  </thead>\n",
       "  <tbody>\n",
       "    <tr>\n",
       "      <th>0</th>\n",
       "      <td>1</td>\n",
       "      <td>Toy Story (1995)</td>\n",
       "      <td>Adventure|Animation|Children|Comedy|Fantasy</td>\n",
       "    </tr>\n",
       "  </tbody>\n",
       "</table>\n",
       "</div>"
      ],
      "text/plain": [
       "   movieId             title                                       genres\n",
       "0        1  Toy Story (1995)  Adventure|Animation|Children|Comedy|Fantasy"
      ]
     },
     "execution_count": 165,
     "metadata": {},
     "output_type": "execute_result"
    }
   ],
   "source": [
    "df_movies.head(n=1)"
   ]
  },
  {
   "cell_type": "code",
   "execution_count": 166,
   "id": "demographic-panic",
   "metadata": {},
   "outputs": [
    {
     "data": {
      "text/html": [
       "<div>\n",
       "<style scoped>\n",
       "    .dataframe tbody tr th:only-of-type {\n",
       "        vertical-align: middle;\n",
       "    }\n",
       "\n",
       "    .dataframe tbody tr th {\n",
       "        vertical-align: top;\n",
       "    }\n",
       "\n",
       "    .dataframe thead th {\n",
       "        text-align: right;\n",
       "    }\n",
       "</style>\n",
       "<table border=\"1\" class=\"dataframe\">\n",
       "  <thead>\n",
       "    <tr style=\"text-align: right;\">\n",
       "      <th></th>\n",
       "      <th>index</th>\n",
       "      <th>movieId</th>\n",
       "      <th>title</th>\n",
       "      <th>genres</th>\n",
       "    </tr>\n",
       "  </thead>\n",
       "  <tbody>\n",
       "    <tr>\n",
       "      <th>0</th>\n",
       "      <td>0</td>\n",
       "      <td>1</td>\n",
       "      <td>Toy Story (1995)</td>\n",
       "      <td>Adventure</td>\n",
       "    </tr>\n",
       "    <tr>\n",
       "      <th>1</th>\n",
       "      <td>0</td>\n",
       "      <td>1</td>\n",
       "      <td>Toy Story (1995)</td>\n",
       "      <td>Animation</td>\n",
       "    </tr>\n",
       "    <tr>\n",
       "      <th>2</th>\n",
       "      <td>0</td>\n",
       "      <td>1</td>\n",
       "      <td>Toy Story (1995)</td>\n",
       "      <td>Children</td>\n",
       "    </tr>\n",
       "    <tr>\n",
       "      <th>3</th>\n",
       "      <td>0</td>\n",
       "      <td>1</td>\n",
       "      <td>Toy Story (1995)</td>\n",
       "      <td>Comedy</td>\n",
       "    </tr>\n",
       "    <tr>\n",
       "      <th>4</th>\n",
       "      <td>0</td>\n",
       "      <td>1</td>\n",
       "      <td>Toy Story (1995)</td>\n",
       "      <td>Fantasy</td>\n",
       "    </tr>\n",
       "  </tbody>\n",
       "</table>\n",
       "</div>"
      ],
      "text/plain": [
       "   index  movieId             title     genres\n",
       "0      0        1  Toy Story (1995)  Adventure\n",
       "1      0        1  Toy Story (1995)  Animation\n",
       "2      0        1  Toy Story (1995)   Children\n",
       "3      0        1  Toy Story (1995)     Comedy\n",
       "4      0        1  Toy Story (1995)    Fantasy"
      ]
     },
     "execution_count": 166,
     "metadata": {},
     "output_type": "execute_result"
    }
   ],
   "source": [
    "df_movies_genres_splitted = df_movies.copy()\n",
    "df_movies_genres_splitted['genres'] = df_movies_genres_splitted['genres'].str.split(\"|\")\n",
    "df_movies_genres_exploded = df_movies_genres_splitted.explode('genres').reset_index()\n",
    "df_movies_genres_exploded.query('movieId == 1')"
   ]
  },
  {
   "cell_type": "code",
   "execution_count": 169,
   "id": "tribal-pantyhose",
   "metadata": {},
   "outputs": [
    {
     "data": {
      "text/plain": [
       "genres\n",
       "Drama       4361\n",
       "Comedy      3756\n",
       "Thriller    1894\n",
       "Action      1828\n",
       "Romance     1596\n",
       "Name: frequency, dtype: int64"
      ]
     },
     "execution_count": 169,
     "metadata": {},
     "output_type": "execute_result"
    }
   ],
   "source": [
    "df_movies_exploded_groupby_genres = df_movies_genres_exploded.groupby('genres').count().rename(columns={\"index\": \"frequency\"})\n",
    "df_movies_exploded_groupby_genres['frequency'].sort_values(ascending=False).head()"
   ]
  },
  {
   "cell_type": "markdown",
   "id": "bulgarian-client",
   "metadata": {},
   "source": [
    "$R:$ A categoria rotulada com maior frequência é 'Drama' com 4361 filmes"
   ]
  },
  {
   "cell_type": "markdown",
   "id": "editorial-maine",
   "metadata": {},
   "source": [
    "### Pergunta 4 – Como estão distribuídas as avaliações ao longo do tempo?"
   ]
  },
  {
   "cell_type": "markdown",
   "id": "obvious-example",
   "metadata": {},
   "source": [
    "### Pergunta 5 – Qual é a correlação do ano do filme com as avaliações?"
   ]
  },
  {
   "cell_type": "markdown",
   "id": "loose-clinic",
   "metadata": {},
   "source": [
    "### Pergunta 6 – Qual o mês do ano com maior quantidade de avaliações?"
   ]
  },
  {
   "cell_type": "markdown",
   "id": "thorough-transport",
   "metadata": {},
   "source": [
    "### Pergunta 7 – Quais são os gêneros favoritos? (avaliacao vs genres)"
   ]
  },
  {
   "cell_type": "markdown",
   "id": "dimensional-voltage",
   "metadata": {},
   "source": [
    "### Pergunta 8 –  "
   ]
  },
  {
   "cell_type": "markdown",
   "id": "hybrid-princeton",
   "metadata": {},
   "source": [
    "### Pergunta 9 –  "
   ]
  },
  {
   "cell_type": "markdown",
   "id": "sexual-nitrogen",
   "metadata": {},
   "source": [
    "### Pergunta 10 – "
   ]
  }
 ],
 "metadata": {
  "kernelspec": {
   "display_name": "Python 3",
   "language": "python",
   "name": "python3"
  },
  "language_info": {
   "codemirror_mode": {
    "name": "ipython",
    "version": 3
   },
   "file_extension": ".py",
   "mimetype": "text/x-python",
   "name": "python",
   "nbconvert_exporter": "python",
   "pygments_lexer": "ipython3",
   "version": "3.8.5"
  }
 },
 "nbformat": 4,
 "nbformat_minor": 5
}
